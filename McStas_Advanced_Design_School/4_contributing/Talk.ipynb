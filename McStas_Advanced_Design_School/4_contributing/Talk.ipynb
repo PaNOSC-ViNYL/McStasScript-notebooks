{
 "cells": [
  {
   "cell_type": "markdown",
   "id": "relevant-pendant",
   "metadata": {
    "slideshow": {
     "slide_type": "slide"
    }
   },
   "source": [
    "# Contributing to software projects\n",
    "All software we have discussed this school is open source, meaning you can find it and read it.\n",
    "\n",
    "It is often hosted on github, one of my projects use an ESS gitlab.\n",
    "\n",
    "[https://github.com/PaNOSC-ViNYL/McStasScript](https://github.com/PaNOSC-ViNYL/McStasScript)\n",
    "\n",
    "[https://github.com/McStasMcXtrace/McCode](https://github.com/McStasMcXtrace/McCode) (Union components in mcstas- comps/union and mcstas-comps/share)\n",
    "\n",
    "[https://git.esss.dk/highness/guide_bot](https://git.esss.dk/highness/guide_bot)"
   ]
  },
  {
   "cell_type": "markdown",
   "id": "organized-haiti",
   "metadata": {
    "slideshow": {
     "slide_type": "slide"
    }
   },
   "source": [
    "## Quick git tutorial\n",
    "git is a piece of software that keeps track of changes to a project. Its the standard for how software is built. With git you can:\n",
    "\n",
    "- Keep a history of the project\n",
    "- Revert to an earlier stage if something went wrong\n",
    "- Be multiple people working on a project\n",
    "- Create alternative versions of the project called branches\n",
    "- Merge these branches back to the main version\n",
    "\n",
    "github is a webpage that hosts git repositories, but git is the software you have on your computer to use it. There are other hosting solutions than github."
   ]
  },
  {
   "cell_type": "markdown",
   "id": "activated-cleaning",
   "metadata": {
    "slideshow": {
     "slide_type": "slide"
    }
   },
   "source": [
    "### Downloading a project\n",
    "- Find the project online\n",
    "- Open a terminal and navigate to the folder you wish to download the project to\n",
    "- git clone PROJECT_URL\n",
    "\n",
    "If you intend to work on a project, you can install it from source to see the changes \"live\" instead of installing again every time you changed something.\n",
    "\n",
    "```\n",
    "git clone https://github.com/PaNOSC-ViNYL/McStasScript.git\n",
    "cd McStasScript\n",
    "pip install -r requirements.txt\n",
    "pip install -e .\n",
    "```"
   ]
  },
  {
   "cell_type": "markdown",
   "id": "meaningful-relation",
   "metadata": {
    "slideshow": {
     "slide_type": "slide"
    }
   },
   "source": [
    "![alt](figures/powerpoint_figures/Slide1.png)"
   ]
  },
  {
   "cell_type": "markdown",
   "id": "killing-brief",
   "metadata": {
    "slideshow": {
     "slide_type": "subslide"
    }
   },
   "source": [
    "![alt](figures/powerpoint_figures/Slide2.png)"
   ]
  },
  {
   "cell_type": "markdown",
   "id": "employed-relation",
   "metadata": {
    "slideshow": {
     "slide_type": "slide"
    }
   },
   "source": [
    "![alt](figures/powerpoint_figures/Slide3.png)"
   ]
  },
  {
   "cell_type": "markdown",
   "id": "preceding-framework",
   "metadata": {
    "slideshow": {
     "slide_type": "slide"
    }
   },
   "source": [
    "![alt](figures/powerpoint_figures/Slide4.png)"
   ]
  },
  {
   "cell_type": "markdown",
   "id": "arranged-wheat",
   "metadata": {
    "slideshow": {
     "slide_type": "slide"
    }
   },
   "source": [
    "## Testing\n",
    "Modern software have test suites. These are a number of small pieces of code that run some feature of the project and ensures the expected result is obtained.\n",
    "\n",
    "### Types of tests\n",
    "- Unit tests\n",
    "- Integration tests\n",
    "\n",
    "### Test tools\n",
    "- pytest\n",
    "- unittest"
   ]
  },
  {
   "cell_type": "markdown",
   "id": "computational-ordinance",
   "metadata": {
    "slideshow": {
     "slide_type": "slide"
    }
   },
   "source": [
    "## Code review\n",
    "When a pull request is made, it is good practice for the maintainer of the project to review it. Even the maintainer of the package can have their pull requests reviewed, but in scientific software this is often skipped.\n",
    "\n",
    "Code review is a lot like getting a paper reviewed, an iterative process. Github has great tools for this."
   ]
  },
  {
   "cell_type": "markdown",
   "id": "honey-arthritis",
   "metadata": {
    "slideshow": {
     "slide_type": "slide"
    }
   },
   "source": [
    "# Contributing to projects covered by this school\n",
    "In this section we will look at each of the projects in this school and discuss what would be easy to contribute and what would be more difficult."
   ]
  },
  {
   "cell_type": "markdown",
   "id": "dominican-vision",
   "metadata": {
    "slideshow": {
     "slide_type": "slide"
    }
   },
   "source": [
    "## McStasScript\n",
    "Written in python and uses classes, need to understand object oriented programming.\n",
    "\n",
    "Easy to contribute:\n",
    "- Tool similar to cryostat tool\n",
    "- Plotting features\n",
    "- Documentation\n",
    "\n",
    "More difficult:\n",
    "- Further error checking on instrument object\n",
    "- New mode for add_component that take for example ms.Guide_gravity"
   ]
  },
  {
   "cell_type": "markdown",
   "id": "developmental-vertical",
   "metadata": {
    "slideshow": {
     "slide_type": "slide"
    }
   },
   "source": [
    "## Union\n",
    "Written in C as part of McStas package, need to know the C language.\n",
    "\n",
    "### Easy to contribute:\n",
    "- Logger\n",
    "- Abs_logger\n",
    "- Conditional\n",
    "\n",
    "Have to copy the original file and add the new to a database in Union_functions.c under share.\n",
    "\n",
    "### Relatively easy to contribute:\n",
    "- Process component\n",
    "\n",
    "As above, but there are a few additional settings, for example set if isotropic or not.\n",
    "\n",
    "### Requires a lot of code:\n",
    "- Geometry components\n",
    "\n",
    "### Difficult:\n",
    "- Changes to overall logic in Master\n",
    "- Adding new type of component class (surface effects)\n",
    "\n"
   ]
  },
  {
   "cell_type": "markdown",
   "id": "settled-matter",
   "metadata": {
    "slideshow": {
     "slide_type": "slide"
    }
   },
   "source": [
    "## guide_bot\n",
    "Written in python and uses classes, need to understand object oriented programming.\n",
    "\n",
    "Easy to contribute:\n",
    "- Element\n",
    "- Target\n",
    "- Source\n",
    "\n",
    "Add the file and add it to a registry such as \\_\\_init\\_\\_.py and geometry_registry.py\n",
    "\n",
    "More difficult:\n",
    "- Plotting changes\n",
    "- Widget interfaces\n",
    "\n",
    "Difficult\n",
    "- Multiple line of sight sections\n",
    "- Coating optimization"
   ]
  },
  {
   "cell_type": "markdown",
   "id": "invalid-audio",
   "metadata": {
    "slideshow": {
     "slide_type": "slide"
    }
   },
   "source": [
    "# Exercise\n"
   ]
  },
  {
   "cell_type": "markdown",
   "id": "speaking-medicare",
   "metadata": {},
   "source": []
  },
  {
   "cell_type": "markdown",
   "id": "medieval-investigation",
   "metadata": {
    "slideshow": {
     "slide_type": "slide"
    }
   },
   "source": []
  },
  {
   "cell_type": "markdown",
   "id": "environmental-romantic",
   "metadata": {
    "slideshow": {
     "slide_type": "slide"
    }
   },
   "source": []
  }
 ],
 "metadata": {
  "celltoolbar": "Slideshow",
  "kernelspec": {
   "display_name": "Python 3",
   "language": "python",
   "name": "python3"
  },
  "language_info": {
   "codemirror_mode": {
    "name": "ipython",
    "version": 3
   },
   "file_extension": ".py",
   "mimetype": "text/x-python",
   "name": "python",
   "nbconvert_exporter": "python",
   "pygments_lexer": "ipython3",
   "version": "3.8.8"
  }
 },
 "nbformat": 4,
 "nbformat_minor": 5
}
