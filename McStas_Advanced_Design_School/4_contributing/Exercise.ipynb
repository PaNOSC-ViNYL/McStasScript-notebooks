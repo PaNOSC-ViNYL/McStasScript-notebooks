{
 "cells": [
  {
   "cell_type": "markdown",
   "id": "alert-mechanism",
   "metadata": {},
   "source": [
    "# Contributing exercise\n",
    "In this exercise you will consider a contribution to either McStasScript, the Union components or guide_bot.\n",
    "\n",
    "Their repositories are online in the following places:\n",
    "\n",
    "[https://github.com/PaNOSC-ViNYL/McStasScript](https://github.com/PaNOSC-ViNYL/McStasScript)\n",
    "\n",
    "[https://github.com/McStasMcXtrace/McCode](https://github.com/McStasMcXtrace/McCode) (Union components in mcstas- comps/union and mcstas-comps/share)\n",
    "\n",
    "[https://git.esss.dk/highness/guide_bot](https://git.esss.dk/highness/guide_bot)\n",
    "\n",
    "## Get an idea\n",
    "First find something you would change or add to the software, it does not have to be a large thing."
   ]
  },
  {
   "cell_type": "markdown",
   "id": "studied-stability",
   "metadata": {},
   "source": [
    "_Type your notes here!_"
   ]
  },
  {
   "cell_type": "markdown",
   "id": "removed-romantic",
   "metadata": {},
   "source": [
    "### Where to change\n",
    "Consider where in the code changes need to happen. Write a list of the files that should change and include new files that should be added."
   ]
  },
  {
   "cell_type": "markdown",
   "id": "norman-sense",
   "metadata": {},
   "source": [
    "_Type your notes here!_"
   ]
  },
  {
   "cell_type": "markdown",
   "id": "every-lingerie",
   "metadata": {},
   "source": [
    "### What to change\n",
    "Describe what should change in each of the files on your list"
   ]
  },
  {
   "cell_type": "markdown",
   "id": "chief-intranet",
   "metadata": {},
   "source": [
    "_Type your notes here!_"
   ]
  },
  {
   "cell_type": "markdown",
   "id": "under-drunk",
   "metadata": {},
   "source": [
    "### How to test\n",
    "Describe how you would test the code to ensure it works as you intended"
   ]
  },
  {
   "cell_type": "markdown",
   "id": "polyphonic-miami",
   "metadata": {},
   "source": [
    "_Type your notes here!_"
   ]
  },
  {
   "cell_type": "markdown",
   "id": "tropical-defendant",
   "metadata": {},
   "source": [
    "### How to document\n",
    "Describe what additions to the documentation or school would be required to make people aware of the change"
   ]
  },
  {
   "cell_type": "markdown",
   "id": "ranking-confusion",
   "metadata": {},
   "source": [
    "_Type your notes here!_"
   ]
  }
 ],
 "metadata": {
  "kernelspec": {
   "display_name": "Python 3",
   "language": "python",
   "name": "python3"
  },
  "language_info": {
   "codemirror_mode": {
    "name": "ipython",
    "version": 3
   },
   "file_extension": ".py",
   "mimetype": "text/x-python",
   "name": "python",
   "nbconvert_exporter": "python",
   "pygments_lexer": "ipython3",
   "version": "3.8.8"
  }
 },
 "nbformat": 4,
 "nbformat_minor": 5
}
