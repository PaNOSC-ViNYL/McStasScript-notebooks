{
 "cells": [
  {
   "cell_type": "markdown",
   "id": "architectural-clearance",
   "metadata": {},
   "source": [
    "# Exercise on materials in Union\n",
    "In this exercise we will focus on creation of materials with the Union components. A material describes both scattering and absorption physics, but has no geometrical shape. They will be applied to geometries in order to attribute the material properties to that geometry, but since materials can become complex, it is easier from an interface stand point to define the desired materials first and then define the system geometry.\n",
    "\n",
    "A material will always have an absorption cross section defined using the penetration depth with units [1/m]. In addition, a material can have any number of scattering processes such as incoherent scattering, single crystal scattering and the like. First each of the desired scattering processes are defined, and next they are assembled into a material.\n",
    "\n",
    "We start the quiz with a few questions on processes and materials."
   ]
  },
  {
   "cell_type": "code",
   "execution_count": null,
   "id": "boxed-garage",
   "metadata": {},
   "outputs": [],
   "source": [
    "import load_quiz\n",
    "quiz = load_quiz.exercise_1()"
   ]
  },
  {
   "cell_type": "markdown",
   "id": "crucial-arnold",
   "metadata": {},
   "source": [
    "### Question 1\n",
    "What does a process component do?\n",
    "\n",
    "- A: Describes a number of scattering mechanisms\n",
    "- B: Describes a physical process\n",
    "- C: Describes absorption"
   ]
  },
  {
   "cell_type": "code",
   "execution_count": null,
   "id": "biological-accident",
   "metadata": {},
   "outputs": [],
   "source": [
    "quiz.question_1(\"B\")"
   ]
  },
  {
   "cell_type": "markdown",
   "id": "broken-trick",
   "metadata": {},
   "source": [
    "Which of the following statements about a Union material is true? (created by Union_make_material)\n",
    "\n",
    "- A: A material connects any single process to a absorption description\n",
    "- B: Materials are not user defined\n",
    "- C: A material collects a number of processes and absorption description\n",
    "- D: The position and rotation of material components are important"
   ]
  },
  {
   "cell_type": "code",
   "execution_count": null,
   "id": "useful-bailey",
   "metadata": {},
   "outputs": [],
   "source": [
    "quiz.question_2(\"B\")"
   ]
  },
  {
   "cell_type": "markdown",
   "id": "mechanical-slope",
   "metadata": {},
   "source": [
    "## Create aluminium powder\n",
    "Now its time to begin using process and material components."
   ]
  },
  {
   "cell_type": "code",
   "execution_count": null,
   "id": "shared-oxide",
   "metadata": {},
   "outputs": [],
   "source": [
    "import mcstasscript as ms"
   ]
  },
  {
   "cell_type": "code",
   "execution_count": null,
   "id": "oriented-dream",
   "metadata": {},
   "outputs": [],
   "source": [
    "instrument = ms.McStas_instr(\"exercise_1\", input_path=\"run_folder\")\n",
    "instrument.settings(output_path=\"data_folder/exercise_1\")\n",
    "\n",
    " # Necessary to start with init in current version of Union in McStas 3.X\n",
    "init =instrument.add_component(\"init\", \"Union_init\")"
   ]
  },
  {
   "cell_type": "markdown",
   "id": "parental-diana",
   "metadata": {},
   "source": [
    "### Question 3\n",
    "Add an incoherent process describing aluminium.\n",
    "- cross section of 4*0.0082 barns per unit cell\n",
    "- unit cell volume of 66.4 Å^3"
   ]
  },
  {
   "cell_type": "code",
   "execution_count": null,
   "id": "comic-niger",
   "metadata": {},
   "outputs": [],
   "source": [
    "# Your code here\n",
    "Al_inc = instrument.add_component(\"Al_inc\", \"Incoherent_process\")\n",
    "Al_inc.sigma = 4*0.0082 # 4 atoms per unit cell\n",
    "Al_inc.unit_cell_volume = 66.4"
   ]
  },
  {
   "cell_type": "code",
   "execution_count": null,
   "id": "hairy-matrix",
   "metadata": {},
   "outputs": [],
   "source": [
    "quiz.question_3(instrument)"
   ]
  },
  {
   "cell_type": "markdown",
   "id": "varying-transcript",
   "metadata": {},
   "source": [
    "### Question 4\n",
    "Add a powder process corresponding to aluminium.\n",
    "- the McStas installation contains the datafile Al.laz"
   ]
  },
  {
   "cell_type": "code",
   "execution_count": null,
   "id": "graphic-indie",
   "metadata": {},
   "outputs": [],
   "source": [
    "# Your code here\n",
    "Al_pow = instrument.add_component(\"Al_pow\", \"Powder_process\")\n",
    "Al_pow.reflections = '\"Al.laz\"'"
   ]
  },
  {
   "cell_type": "code",
   "execution_count": null,
   "id": "variable-coating",
   "metadata": {},
   "outputs": [],
   "source": [
    "quiz.question_4(instrument)"
   ]
  },
  {
   "cell_type": "markdown",
   "id": "transsexual-contamination",
   "metadata": {},
   "source": [
    "### Look at diagram\n",
    "Take a moment to look at the diagram of the instrument, it shows that the two process components are used in the material component."
   ]
  },
  {
   "cell_type": "code",
   "execution_count": null,
   "id": "different-humanity",
   "metadata": {},
   "outputs": [],
   "source": [
    "instrument.show_diagram()"
   ]
  },
  {
   "cell_type": "markdown",
   "id": "patient-captain",
   "metadata": {},
   "source": [
    "### Question 5\n",
    "Create an aluminium material called Al from the two defined processes.\n",
    "- The inverse penetration depth for absorption of Al is $100 \\cdot 4 \\cdot 0.231$ barns $/66.4$ Å$^3$ [1/m]\n",
    "\n",
    "The factor of 100 is from barns [m^2 E-28] $\\cdot$ Å$^3$ [m^3 E-30]=[m E-2]"
   ]
  },
  {
   "cell_type": "code",
   "execution_count": null,
   "id": "private-hudson",
   "metadata": {},
   "outputs": [],
   "source": [
    "# Your code here\n",
    "Al = instrument.add_component(\"Al\", \"Union_make_material\")\n",
    "Al.process_string = '\"Al_inc,Al_pow\"'\n",
    "Al.my_absorption = 100*4*0.231/66.4"
   ]
  },
  {
   "cell_type": "code",
   "execution_count": null,
   "id": "accomplished-forwarding",
   "metadata": {},
   "outputs": [],
   "source": [
    "quiz.question_5(instrument)"
   ]
  },
  {
   "cell_type": "markdown",
   "id": "biological-touch",
   "metadata": {},
   "source": [
    "## Advantages of this syntax\n",
    "It might seem like a lot of code to define simple aluminium, though it is very powerful syntax as one can assemble the necessary sample through the small process pieces. Understanding this system makes it easy to make for example a twinned single crystal or add inelastic scattering onto an elastic single crystal description. A simple thing that was very difficult before the Union components was making a mixture of two powders, lets try to do so in the next questions.\n",
    "\n",
    "Every process component has a parameter called *packing_factor* that can control how tightly it is packed by multiplying that factor onto all scattering cross sections. For the exercise we will mix gold and copper and use a parameter to control the fraction of gold."
   ]
  },
  {
   "cell_type": "code",
   "execution_count": null,
   "id": "according-graph",
   "metadata": {},
   "outputs": [],
   "source": [
    "instrument.add_parameter(\"Au_fraction\", value=0.3, comment=\"Fraction of Au in Au/Cu mixture\")\n",
    "instrument.add_declare_var(\"double\", \"Cu_fraction\")\n",
    "instrument.append_initialize(\"Cu_fraction = 1 - Au_fraction;\")"
   ]
  },
  {
   "cell_type": "markdown",
   "id": "imperial-samba",
   "metadata": {},
   "source": [
    "### Question 6\n",
    "Make an incoherent and a powder process for gold called \"Au_inc\" and \"Au_pow\" with the following properties\n",
    "- 4 atoms per unit cell\n",
    "- incoherent sigma: 0.43 barns\n",
    "- unit cell volume: 67.86 AA^3\n",
    "- reflections \"Au.laz\"\n",
    "- packing factor Au_fraction"
   ]
  },
  {
   "cell_type": "code",
   "execution_count": null,
   "id": "sustained-growth",
   "metadata": {},
   "outputs": [],
   "source": [
    "Au_inc = instrument.add_component(\"Au_inc\", \"Incoherent_process\")\n",
    "Au_inc.sigma = 4*0.43 # 4 atoms per unit cell\n",
    "Au_inc.unit_cell_volume = 67.86\n",
    "Au_inc.packing_factor = \"Au_fraction\"\n",
    "\n",
    "Au_pow = instrument.add_component(\"Au_pow\", \"Powder_process\")\n",
    "Au_pow.reflections = '\"Au.laz\"'\n",
    "Au_pow.packing_factor = \"Au_fraction\""
   ]
  },
  {
   "cell_type": "code",
   "execution_count": null,
   "id": "daily-pulse",
   "metadata": {},
   "outputs": [],
   "source": [
    "quiz.question_6(instrument)"
   ]
  },
  {
   "cell_type": "markdown",
   "id": "chubby-minneapolis",
   "metadata": {},
   "source": [
    "### Question 7\n",
    "Make an incoherent and a powder process for copper called \"Cu_inc\" and \"Cu_pow\" respectively with the following properties\n",
    "- 4 atoms per unit cell\n",
    "- incoherent sigma 0.55 barns\n",
    "- unit cell volume 47.24 AA^3\n",
    "- reflections \"Cu.laz\"\n",
    "- packing factor Cu_fraction"
   ]
  },
  {
   "cell_type": "code",
   "execution_count": null,
   "id": "satisfied-blade",
   "metadata": {},
   "outputs": [],
   "source": [
    "Cu_inc = instrument.add_component(\"Cu_inc\", \"Incoherent_process\")\n",
    "Cu_inc.sigma = 4*0.55 # 4 atoms per unit cell\n",
    "Cu_inc.unit_cell_volume = 47.24\n",
    "Cu_inc.packing_factor = \"Cu_fraction\"\n",
    "\n",
    "Cu_pow = instrument.add_component(\"Cu_pow\", \"Powder_process\")\n",
    "Cu_pow.reflections = '\"Cu.laz\"'\n",
    "Cu_pow.packing_factor = \"Cu_fraction\""
   ]
  },
  {
   "cell_type": "code",
   "execution_count": null,
   "id": "reliable-differential",
   "metadata": {},
   "outputs": [],
   "source": [
    "quiz.question_7(instrument)"
   ]
  },
  {
   "cell_type": "markdown",
   "id": "residential-appliance",
   "metadata": {},
   "source": [
    "### Question 8\n",
    "The mix has the sum of the absorption of each part weighted with the fraction. The absorption cross sections are quite different:\n",
    "- Gold: 98.65 barns\n",
    "- Copper: 3.78 barns \n",
    "\n",
    "The material only lacks the appropriate process string to complete it."
   ]
  },
  {
   "cell_type": "code",
   "execution_count": null,
   "id": "satellite-knock",
   "metadata": {},
   "outputs": [],
   "source": [
    "mix = instrument.add_component(\"gold_and_copper_mix\", \"Union_make_material\")\n",
    "mix.process_string='\"Au_inc,Au_pow,Cu_inc,Cu_pow\"'\n",
    "mix.my_absorption = \"Au_fraction*100*4.0*98.65/67.86 + Cu_fraction*100*4.0*3.78/47.24\""
   ]
  },
  {
   "cell_type": "code",
   "execution_count": null,
   "id": "electrical-belarus",
   "metadata": {},
   "outputs": [],
   "source": [
    "quiz.question_8(instrument)"
   ]
  },
  {
   "cell_type": "markdown",
   "id": "treated-stupid",
   "metadata": {},
   "source": [
    "## Using the material in an instrument\n",
    "This exercise is about the materials, so a simple powder diffractometer is supplied which uses the \"gold_and_copper_mix\" material for its sample."
   ]
  },
  {
   "cell_type": "code",
   "execution_count": null,
   "id": "civilian-laptop",
   "metadata": {},
   "outputs": [],
   "source": [
    "source = instrument.add_component(\"source\", \"Source_simple\")\n",
    "source.set_parameters(radius=0.02, dist=6, focus_xw=0.02, focus_yh=0.02, flux=1E8)\n",
    "source.lambda0 = instrument.add_parameter(\"double\", \"wavelength\", value=1.2,\n",
    "                                          comment=\"[AA]  Mean wavelength of neutrons\")\n",
    "source.dlambda = instrument.add_parameter(\"double\", \"d_wavelength\", value=0.01,\n",
    "                                          comment=\"[AA]  Wavelength spread of neutrons\")\n",
    "\n",
    "sample = instrument.add_component(\"sample\", \"Union_cylinder\")\n",
    "sample.set_parameters(yheight=0.02, radius=0.008,\n",
    "                      material_string='\"gold_and_copper_mix\"', priority=1)\n",
    "sample.set_AT(5.5, RELATIVE=source)\n",
    "\n",
    "instrument.add_component(\"master\", \"Union_master\")\n",
    "instrument.add_component(\"stop\", \"Union_stop\")\n",
    "\n",
    "banana = instrument.add_component(\"banana\", \"Monitor_nD\", RELATIVE=sample)\n",
    "banana.xwidth = 2.0\n",
    "banana.yheight = 0.3\n",
    "banana.restore_neutron = 1\n",
    "banana.filename = '\"banana.dat\"'\n",
    "banana.options = '\"theta limits=[5 175] bins=341, banana\"'\n",
    "\n",
    "psd = instrument.add_component(\"psd_lin\", \"PSDlin_monitor\")\n",
    "psd.set_parameters(nbins=100, xwidth=0.02, yheight=0.02, filename='\"PSD.dat\"')\n",
    "psd.set_AT(6, RELATIVE=source)\n",
    "\n",
    "trans = instrument.add_component(\"transmission\", \"L_monitor\")\n",
    "trans.set_parameters(nL=100, xwidth=0.02, yheight=0.02,\n",
    "                     Lmin=\"wavelength-d_wavelength\", Lmax=\"wavelength+d_wavelength\",\n",
    "                     filename='\"transmission.dat\"')\n",
    "trans.set_AT(0, RELATIVE=psd)"
   ]
  },
  {
   "cell_type": "markdown",
   "id": "everyday-processor",
   "metadata": {},
   "source": [
    "### Check diagram\n",
    "With the diagram we can see how this Union system is connected."
   ]
  },
  {
   "cell_type": "code",
   "execution_count": null,
   "id": "vocal-essex",
   "metadata": {},
   "outputs": [],
   "source": [
    "instrument.show_diagram()"
   ]
  },
  {
   "cell_type": "markdown",
   "id": "balanced-pursuit",
   "metadata": {},
   "source": [
    "## Run instrument\n",
    "We can use the widget interface to run the instrument and see how the resulting powder pattern changes with the composition of the mixture. You can also look for Bragg edges in the wavelength resolved transmission data."
   ]
  },
  {
   "cell_type": "code",
   "execution_count": null,
   "id": "passive-sentence",
   "metadata": {},
   "outputs": [],
   "source": [
    "import mcstasscript.jb_interface as ms_widget\n",
    "%matplotlib widget"
   ]
  },
  {
   "cell_type": "code",
   "execution_count": null,
   "id": "clean-brazil",
   "metadata": {},
   "outputs": [],
   "source": [
    "ms_widget.show(instrument)"
   ]
  },
  {
   "cell_type": "code",
   "execution_count": null,
   "id": "comic-waste",
   "metadata": {},
   "outputs": [],
   "source": []
  }
 ],
 "metadata": {
  "kernelspec": {
   "display_name": "Python 3",
   "language": "python",
   "name": "python3"
  },
  "language_info": {
   "codemirror_mode": {
    "name": "ipython",
    "version": 3
   },
   "file_extension": ".py",
   "mimetype": "text/x-python",
   "name": "python",
   "nbconvert_exporter": "python",
   "pygments_lexer": "ipython3",
   "version": "3.8.8"
  }
 },
 "nbformat": 4,
 "nbformat_minor": 5
}
