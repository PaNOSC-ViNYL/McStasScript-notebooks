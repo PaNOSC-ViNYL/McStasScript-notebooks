{
 "cells": [
  {
   "cell_type": "markdown",
   "id": "embedded-interpretation",
   "metadata": {
    "slideshow": {
     "slide_type": "slide"
    }
   },
   "source": [
    "# Advanced options in Geometry components\n",
    "\n",
    "This presentation details some advanced features available in the geometry components!"
   ]
  },
  {
   "cell_type": "markdown",
   "id": "romance-republic",
   "metadata": {
    "slideshow": {
     "slide_type": "slide"
    }
   },
   "source": [
    "## Masks\n",
    "Masks are geometry components where the *mask_string* parameter is used to target another geometry and mask it. "
   ]
  },
  {
   "cell_type": "markdown",
   "id": "atmospheric-transsexual",
   "metadata": {},
   "source": [
    "![alt](figures/power_point_figures/Slide6.png)"
   ]
  },
  {
   "cell_type": "markdown",
   "id": "remarkable-alarm",
   "metadata": {
    "slideshow": {
     "slide_type": "slide"
    }
   },
   "source": [
    "### Example\n",
    "Example to show the syntax of adding a mask. Comprehensive tutorial [here](https://mads-bertelsen.github.io/tutorial/Union_tutorial_5_masks.html#)."
   ]
  },
  {
   "cell_type": "code",
   "execution_count": null,
   "id": "rocky-electricity",
   "metadata": {},
   "outputs": [],
   "source": [
    "import mcstasscript as ms\n",
    "instrument = ms.McStas_instr(\"python_tutorial\", input_path=\"run_folder\")\n",
    "\n",
    "box = instrument.add_component(\"box\", \"Union_box\")\n",
    "box.set_parameters(xwidth=0.2, yheight=0.1, zdepth=0.2, priority=10, material_string='\"Vacuum\"')\n",
    "\n",
    "# Cut the corners by using an identical box rotated 45 deg around y\n",
    "box_mask = instrument.add_component(\"box_mask\", \"Union_box\")\n",
    "box_mask.set_AT([0,0,0], RELATIVE=box)\n",
    "box_mask.set_ROTATED([0,45,0], RELATIVE=box)\n",
    "box.set_parameters(xwidth=0.2, yheight=0.11, zdepth=0.2, priority=50, mask_string='\"box\"')"
   ]
  },
  {
   "cell_type": "code",
   "execution_count": null,
   "id": "dirty-pitch",
   "metadata": {},
   "outputs": [],
   "source": [
    "instrument.show_diagram()"
   ]
  },
  {
   "cell_type": "markdown",
   "id": "natural-export",
   "metadata": {
    "slideshow": {
     "slide_type": "slide"
    }
   },
   "source": [
    "### Properties of masks\n",
    "- Use mask_string to select which geometries this mask should mask (can be several)\n",
    "- Priority needs to be set, but isn't important\n",
    "\n",
    "They are very important when making windows in cryostats!"
   ]
  },
  {
   "cell_type": "markdown",
   "id": "seventh-budapest",
   "metadata": {
    "slideshow": {
     "slide_type": "slide"
    }
   },
   "source": [
    "## Mask modes\n",
    "You can specify whether a masked geometry is only simulated inside *any* or *all* masks."
   ]
  },
  {
   "cell_type": "markdown",
   "id": "authentic-switch",
   "metadata": {
    "slideshow": {
     "slide_type": "-"
    }
   },
   "source": [
    "![alt](figures/power_point_figures/Slide7.png)"
   ]
  },
  {
   "cell_type": "markdown",
   "id": "killing-sodium",
   "metadata": {
    "slideshow": {
     "slide_type": "slide"
    }
   },
   "source": [
    "## Exit geometry\n",
    "To make an Exit geometry, provide \"Exit\" as the material_string. Exit geometries kicks the ray out of the Union master as soon as the ray *enters* such a geometry."
   ]
  },
  {
   "cell_type": "markdown",
   "id": "alien-shaft",
   "metadata": {},
   "source": [
    "![alt](figures/power_point_figures/Slide8.png)"
   ]
  },
  {
   "cell_type": "markdown",
   "id": "greek-staff",
   "metadata": {
    "slideshow": {
     "slide_type": "slide"
    }
   },
   "source": [
    "## Having an external component in a Union system\n",
    "If one puts an exit geometry around an external component, then one could let the ray out of the master and into an external component! Then how do we get the ray back into the Union system when it leaves?"
   ]
  },
  {
   "cell_type": "markdown",
   "id": "theoretical-oregon",
   "metadata": {
    "slideshow": {
     "slide_type": "slide"
    }
   },
   "source": [
    "## The number_of_activations parameter on geometries\n",
    "Each Union geometry component is simulated in the next N Union master components, where N is the number_of_activations. The default is 1."
   ]
  },
  {
   "cell_type": "markdown",
   "id": "found-adapter",
   "metadata": {},
   "source": [
    "![alt](figures/power_point_figures/Slide9.png)"
   ]
  },
  {
   "cell_type": "markdown",
   "id": "concrete-finance",
   "metadata": {
    "slideshow": {
     "slide_type": "slide"
    }
   },
   "source": [
    "## Tutorial\n",
    "The documentation has a comprehensive tutorial on this Comprehensive tutorial [here](https://mads-bertelsen.github.io/tutorial/Union_tutorial_6_Exit_and_number_of_activations.html)."
   ]
  },
  {
   "cell_type": "markdown",
   "id": "adjacent-majority",
   "metadata": {
    "slideshow": {
     "slide_type": "slide"
    }
   },
   "source": [
    "## Summary\n",
    "Geometry components have a few advanced features which one should be aware of\n",
    "- Can be used as masks, one mask can cover multiple an one geometry can be masked by multiple geometries\n",
    "- Setting the material_string to \"Exit\" gives it Exit geometry status\n",
    "- The number_of_activations parameter sets how many of the next Union masters the geometry is simulated in"
   ]
  },
  {
   "cell_type": "markdown",
   "id": "specific-allocation",
   "metadata": {
    "slideshow": {
     "slide_type": "slide"
    }
   },
   "source": [
    "## Quiz and exercise\n",
    "We end the day with a quiz on these concepts."
   ]
  },
  {
   "cell_type": "code",
   "execution_count": null,
   "id": "known-election",
   "metadata": {},
   "outputs": [],
   "source": []
  }
 ],
 "metadata": {
  "celltoolbar": "Slideshow",
  "kernelspec": {
   "display_name": "Python 3",
   "language": "python",
   "name": "python3"
  },
  "language_info": {
   "codemirror_mode": {
    "name": "ipython",
    "version": 3
   },
   "file_extension": ".py",
   "mimetype": "text/x-python",
   "name": "python",
   "nbconvert_exporter": "python",
   "pygments_lexer": "ipython3",
   "version": "3.8.8"
  }
 },
 "nbformat": 4,
 "nbformat_minor": 5
}
