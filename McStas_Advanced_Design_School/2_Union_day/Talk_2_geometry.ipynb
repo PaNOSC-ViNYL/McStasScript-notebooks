{
 "cells": [
  {
   "cell_type": "markdown",
   "id": "embedded-interpretation",
   "metadata": {
    "slideshow": {
     "slide_type": "slide"
    }
   },
   "source": [
    "# Geometry in McStas Union components\n",
    "Now we know how to describe physics with Union components, it is time to learn about the geometry.\n"
   ]
  },
  {
   "cell_type": "markdown",
   "id": "derived-encyclopedia",
   "metadata": {
    "slideshow": {
     "slide_type": "slide"
    }
   },
   "source": [
    "## Union components: Distributed responsibility"
   ]
  },
  {
   "cell_type": "markdown",
   "id": "continued-level",
   "metadata": {},
   "source": [
    "![alt](figures/power_point_figures/Slide02.png)"
   ]
  },
  {
   "cell_type": "markdown",
   "id": "completed-converter",
   "metadata": {
    "slideshow": {
     "slide_type": "slide"
    }
   },
   "source": [
    "### Aluminium and diamond from last lecture"
   ]
  },
  {
   "cell_type": "code",
   "execution_count": null,
   "id": "outside-river",
   "metadata": {
    "slideshow": {
     "slide_type": "-"
    }
   },
   "outputs": [],
   "source": [
    "import mcstasscript as ms\n",
    "\n",
    "instrument = ms.McStas_instr(\"Union_demo\")\n",
    "\n",
    "instrument.add_component(\"init\", \"Union_init\")\n",
    "\n",
    "Al_incoherent = instrument.add_component(\"Al_incoherent\", \"Incoherent_process\")\n",
    "Al_incoherent.set_parameters(sigma=4*0.0082, unit_cell_volume=66.4)\n",
    "\n",
    "Al_powder = instrument.add_component(\"Al_powder\", \"Powder_process\")\n",
    "Al_powder.reflections = '\"Al.laz\"'\n",
    "\n",
    "Al = instrument.add_component(\"Al\", \"Union_make_material\")\n",
    "Al.process_string = '\"Al_incoherent,Al_powder\"'\n",
    "Al.my_absorption = 100*4*0.231/66.4\n",
    "\n",
    "process = instrument.add_component(\"diamond_incoherent\", \"Incoherent_process\")\n",
    "process.set_parameters(sigma=8*0.001, unit_cell_volume=45.39)\n",
    "\n",
    "crystal_process = instrument.add_component(\"diamond_crystal\", \"Single_crystal_process\")\n",
    "crystal_process.set_parameters(mosaic=20, reflections='\"C_diamond.lau\"',\n",
    "                               ax=3.567, by=3.567, cz=3.567,)\n",
    "\n",
    "diamond = instrument.add_component(\"diamond\", \"Union_make_material\")\n",
    "diamond.process_string = '\"diamond_incoherent,diamond_crystal\"'\n",
    "diamond.my_absorption = 100*8*0.0035/45.39\n",
    "\n",
    "instrument.show_diagram()"
   ]
  },
  {
   "cell_type": "markdown",
   "id": "helpful-wales",
   "metadata": {
    "slideshow": {
     "slide_type": "slide"
    }
   },
   "source": [
    "## Geometry\n",
    "Geometry components are placed in space and describe some geometry, they use a material definition to inherit their physical properties.\n",
    "\n",
    "| Geometry                | Description                                 | Contributor     |\n",
    "| :---                    |    :----                                    |    :----        |\n",
    "| Union_sphere            | Sphere                                      | Mads Bertelsen  |\n",
    "| Union_cylinder          | Finite cylinder                             | Mads Bertelsen  |\n",
    "| Union_box               | Box similar to a guide element              | Mads Bertelsen  |\n",
    "| Union_cone              | Capped cone                                 | Martin Olsen    |\n",
    "| Union_mesh              | Concave stl file (only works alone)         | Martin Olsen    |\n"
   ]
  },
  {
   "cell_type": "markdown",
   "id": "capital-consciousness",
   "metadata": {
    "slideshow": {
     "slide_type": "slide"
    }
   },
   "source": [
    "### Geometry example\n",
    "Lets make a diamond sphere"
   ]
  },
  {
   "cell_type": "code",
   "execution_count": null,
   "id": "removable-harvest",
   "metadata": {},
   "outputs": [],
   "source": [
    "sphere = instrument.add_component(\"sphere\", \"Union_sphere\")\n",
    "sphere.radius = 0.01\n",
    "sphere.material_string = '\"diamond\"'\n",
    "sphere.set_AT([0, 0, 1])\n",
    "\n",
    "instrument.show_diagram()"
   ]
  },
  {
   "cell_type": "code",
   "execution_count": null,
   "id": "mechanical-married",
   "metadata": {},
   "outputs": [],
   "source": [
    "print(sphere)"
   ]
  },
  {
   "cell_type": "markdown",
   "id": "aboriginal-sarah",
   "metadata": {
    "slideshow": {
     "slide_type": "slide"
    }
   },
   "source": [
    "## Vacuum\n",
    "If you want to create a geometry without any scattering or absorption, you can use the material \"Vacuum\" which is just an empty material that is already defined. No need to create your own."
   ]
  },
  {
   "cell_type": "markdown",
   "id": "subject-caribbean",
   "metadata": {
    "slideshow": {
     "slide_type": "slide"
    }
   },
   "source": [
    "### Geometry priority\n",
    "Priority is a required parameter that handles how geometries overlap. Any point in space corresponds to one material, so when a point is in two or more geometries, the material with the highest priority is used."
   ]
  },
  {
   "cell_type": "code",
   "execution_count": null,
   "id": "south-islam",
   "metadata": {
    "scrolled": false
   },
   "outputs": [],
   "source": [
    "%matplotlib widget\n",
    "import geometry_example\n",
    "geometry_example.show()"
   ]
  },
  {
   "cell_type": "markdown",
   "id": "amended-survivor",
   "metadata": {
    "slideshow": {
     "slide_type": "slide"
    }
   },
   "source": [
    "### Adding am aluminium shell around our diamond sphere"
   ]
  },
  {
   "cell_type": "code",
   "execution_count": null,
   "id": "operating-acquisition",
   "metadata": {},
   "outputs": [],
   "source": [
    "sphere.priority = 10\n",
    "\n",
    "shell = instrument.add_component(\"shell\", \"Union_cylinder\")\n",
    "shell.set_parameters(radius=0.05, yheight=0.12,\n",
    "                     material_string = '\"Al\"', priority=3,\n",
    "                     p_interact=0.2)\n",
    "shell.set_AT(0, RELATIVE=sphere)\n",
    "\n",
    "shell_vacuum = instrument.add_component(\"shell_vacuum\", \"Union_cylinder\")\n",
    "shell_vacuum.set_parameters(radius=shell.radius - 0.01, yheight=shell.yheight - 0.01,\n",
    "                            material_string = '\"Vacuum\"', priority=5)\n",
    "shell_vacuum.set_AT([0, 0, 0], RELATIVE=shell)"
   ]
  },
  {
   "cell_type": "markdown",
   "id": "impossible-creator",
   "metadata": {
    "slideshow": {
     "slide_type": "slide"
    }
   },
   "source": [
    "![alt](figures/power_point_figures/Slide05.png)"
   ]
  },
  {
   "cell_type": "markdown",
   "id": "extra-decade",
   "metadata": {
    "slideshow": {
     "slide_type": "slide"
    }
   },
   "source": [
    "## Master component\n",
    "There are four different types of Union components that must be present in an instrument to perform a simulation:\n",
    "\n",
    "- process components\n",
    "- make_material component\n",
    "- geometry components\n",
    "- master\n",
    "\n",
    "The *Union_master* component contains the engine that actually performs the simulation. It is the location of the Union master that decides where in the sequence of McStas components the Union system is simulated."
   ]
  },
  {
   "cell_type": "markdown",
   "id": "outer-internet",
   "metadata": {
    "slideshow": {
     "slide_type": "slide"
    }
   },
   "source": [
    "![alt](figures/power_point_figures/Slide04.png)"
   ]
  },
  {
   "cell_type": "markdown",
   "id": "threatened-flower",
   "metadata": {
    "slideshow": {
     "slide_type": "slide"
    }
   },
   "source": [
    "![alt](figures/power_point_figures/Slide10.png)"
   ]
  },
  {
   "cell_type": "markdown",
   "id": "extended-district",
   "metadata": {
    "slideshow": {
     "slide_type": "slide"
    }
   },
   "source": [
    "### Optimization\n",
    "The geometry is analyzed and the transport network is optimized, here is a simplified view."
   ]
  },
  {
   "cell_type": "markdown",
   "id": "legitimate-japanese",
   "metadata": {},
   "source": [
    "![alt](figures/power_point_figures/Slide11.png)"
   ]
  },
  {
   "cell_type": "markdown",
   "id": "ordered-welding",
   "metadata": {
    "slideshow": {
     "slide_type": "slide"
    }
   },
   "source": [
    "### Networks for actual systems\n",
    "Here is the network for a cryostat simulation, saves a lot of intersection checks!"
   ]
  },
  {
   "cell_type": "markdown",
   "id": "republican-baseline",
   "metadata": {},
   "source": [
    "![alt](figures/power_point_figures/Slide12.png)"
   ]
  },
  {
   "cell_type": "markdown",
   "id": "interior-robertson",
   "metadata": {
    "slideshow": {
     "slide_type": "slide"
    }
   },
   "source": [
    "## Back to building our example\n",
    "Since the master component will perform the simulation in the McStas component sequence, lets place a source before the master."
   ]
  },
  {
   "cell_type": "code",
   "execution_count": null,
   "id": "constant-receipt",
   "metadata": {},
   "outputs": [],
   "source": [
    "source = instrument.add_component(\"source\", \"Source_div\")\n",
    "source.set_parameters(focus_aw=0.3, focus_ah=0.3,\n",
    "                      xwidth=0.005, yheight=0.005,\n",
    "                      flux=1E12)\n",
    "source.set_AT(-1, RELATIVE=sphere)\n",
    "\n",
    "source.lambda0 = instrument.add_parameter(\"wavelength\", value=5.0,\n",
    "                                          comment=\"Wavelength in [Ang]\")\n",
    "source.dlambda = instrument.add_parameter(\"wavelength_half_width\", value=4.5,\n",
    "                                          comment=\"Wavelength half width in [Ang]\")"
   ]
  },
  {
   "cell_type": "markdown",
   "id": "acute-estonia",
   "metadata": {
    "slideshow": {
     "slide_type": "slide"
    }
   },
   "source": [
    "## Place a master\n",
    "The master performs a full multiple scattering simulation of all geometries defined before it.\n",
    "\n",
    "It is possible to have several masters in an instrument, the second would simulate the geometries defined between the two masters.\n",
    "\n",
    "In McStas 3.X it is also necessary to include a Union_init and Union_stop component before/after any Union components. "
   ]
  },
  {
   "cell_type": "code",
   "execution_count": null,
   "id": "moved-asthma",
   "metadata": {},
   "outputs": [],
   "source": [
    "master = instrument.add_component(\"master\", \"Union_master\")\n",
    "stop = instrument.add_component(\"stop\", \"Union_stop\")"
   ]
  },
  {
   "cell_type": "code",
   "execution_count": null,
   "id": "ignored-admission",
   "metadata": {
    "scrolled": true
   },
   "outputs": [],
   "source": [
    "instrument.show_diagram()"
   ]
  },
  {
   "cell_type": "markdown",
   "id": "compliant-citation",
   "metadata": {
    "slideshow": {
     "slide_type": "slide"
    }
   },
   "source": [
    "### Visualizing the instrument\n",
    "The Master component is required to draw the Union system."
   ]
  },
  {
   "cell_type": "code",
   "execution_count": null,
   "id": "dominican-waters",
   "metadata": {},
   "outputs": [],
   "source": [
    "instrument.show_instrument(width=800, height=600)"
   ]
  },
  {
   "cell_type": "markdown",
   "id": "applicable-charter",
   "metadata": {
    "slideshow": {
     "slide_type": "slide"
    }
   },
   "source": [
    "### Adding a few monitors"
   ]
  },
  {
   "cell_type": "code",
   "execution_count": null,
   "id": "raised-deficit",
   "metadata": {},
   "outputs": [],
   "source": [
    "L_monitor = instrument.add_component(\"L_monitor\", \"L_monitor\")\n",
    "L_monitor.set_AT(0.3, RELATIVE=sphere)\n",
    "L_monitor.set_parameters(xwidth=0.8, yheight=0.8,\n",
    "                         Lmin=\"wavelength - wavelength_half_width\",\n",
    "                         Lmax=\"wavelength + wavelength_half_width\",\n",
    "                         nL=300, filename='\"l_mon.dat\"', restore_neutron=1)\n",
    "\n",
    "banana_detector = instrument.add_component(\"banana_detector\", \"Monitor_nD\")\n",
    "banana_detector.set_RELATIVE(sphere)\n",
    "banana_detector.set_parameters(xwidth = 0.12, yheight = 0.2, filename='\"banana.dat\"', restore_neutron=1,\n",
    "                               options='\"banana, theta limits=[-180,180] bins=361\"')\n",
    "\n",
    "banana_detector = instrument.add_component(\"banana_detector_tof\", \"Monitor_nD\")\n",
    "banana_detector.set_RELATIVE(sphere)\n",
    "banana_detector.set_parameters(xwidth = 0.12, yheight = 0.2, filename='\"banana_tof.dat\"', restore_neutron=1,\n",
    "                               options='\"banana, theta limits=[-180,180] bins=361, t limits=[0.0004 0.00085] bins=500\"')"
   ]
  },
  {
   "cell_type": "code",
   "execution_count": null,
   "id": "worse-dayton",
   "metadata": {
    "slideshow": {
     "slide_type": "slide"
    }
   },
   "outputs": [],
   "source": [
    "import mcstasscript.jb_interface as ms_widget\n",
    "%matplotlib widget\n",
    "ms_widget.show(instrument)"
   ]
  },
  {
   "cell_type": "markdown",
   "id": "subtle-remove",
   "metadata": {
    "slideshow": {
     "slide_type": "slide"
    }
   },
   "source": [
    "### Example of system simulated with Union components"
   ]
  },
  {
   "cell_type": "markdown",
   "id": "consecutive-garden",
   "metadata": {
    "slideshow": {
     "slide_type": "-"
    }
   },
   "source": [
    "![alt](figures/cryostat_geometry.png)"
   ]
  },
  {
   "cell_type": "markdown",
   "id": "synthetic-curve",
   "metadata": {
    "slideshow": {
     "slide_type": "slide"
    }
   },
   "source": [
    "## Cryostat tool\n",
    "McStasScript has a cryostat tool, there is a demo next to the McStas Advanced Design School."
   ]
  },
  {
   "cell_type": "code",
   "execution_count": null,
   "id": "vulnerable-halifax",
   "metadata": {},
   "outputs": [],
   "source": [
    "instrument = ms.McStas_instr(\"cryostat_demo\", input_path=\"run_folder\")\n",
    "instrument.add_component(\"init\", \"Union_init\")\n",
    "\n",
    "orange_cryostat = ms.Cryostat(\"orange\", instrument)\n",
    "orange_cryostat.set_AT([0, 0 ,1])\n",
    "\n",
    "orange_cryostat.add_layer(inner_radius=70E-3/2, outer_radius=75E-3/2,\n",
    "                          origin_to_top=200E-3, top_thickness=-1E-3,\n",
    "                          origin_to_bottom=83E-3, bottom_thickness=5E-3,\n",
    "                          p_interact=0.2)\n",
    "\n",
    "orange_cryostat.add_layer(inner_radius=80E-3/2, outer_radius=81E-3/2,\n",
    "                          origin_to_bottom=90E-3, bottom_thickness=2E-3, \n",
    "                          origin_to_top=240E-3, top_thickness=-1E-3,\n",
    "                          material=\"Al\", p_interact=0.2)\n",
    "\n",
    "orange_cryostat.add_layer(inner_radius=95E-3/2, outer_radius=99.5E-3/2,\n",
    "                          origin_to_bottom=93E-3, bottom_thickness=6E-3,\n",
    "                          origin_to_top=225E-3, top_thickness=9E-3, p_interact=0.2)\n",
    "\n",
    "orange_cryostat.build(include_master=True)\n",
    "\n",
    "stop = instrument.add_component(\"stop\", \"Union_stop\")"
   ]
  },
  {
   "cell_type": "markdown",
   "id": "military-respect",
   "metadata": {
    "slideshow": {
     "slide_type": "slide"
    }
   },
   "source": [
    "### Showing simple cryostat"
   ]
  },
  {
   "cell_type": "code",
   "execution_count": null,
   "id": "trained-general",
   "metadata": {
    "slideshow": {
     "slide_type": "-"
    }
   },
   "outputs": [],
   "source": [
    "instrument.show_instrument()"
   ]
  },
  {
   "cell_type": "markdown",
   "id": "matched-encoding",
   "metadata": {
    "slideshow": {
     "slide_type": "slide"
    }
   },
   "source": [
    "### Parameters common to all geometry components\n",
    "Some parameters all geometry components share.\n",
    "\n",
    "| Parameter name   | Description                                             | Default  |\n",
    "| :---             |    :----                                                | :----    |\n",
    "| material_string  | String matching chosen material description             |          |\n",
    "| priority         | Priority of geometry, controlling overlap material      |          |\n",
    "| visualize        | Select if geometry should be drawn                      |  1       |\n",
    "| p_interact       | Probability for scattering for any pass through of ray  |  0       |\n",
    "| focus parameters | Normal focusing parameters, rarely used but available   |          |\n",
    "| mask_string      | Use of geometry as mask, discussed in next presentation |          |\n",
    "| mask_mode        | Use of geometry as mask, discussed in next presentation |          |\n",
    "| number_of_activations | Advanced feature, discussed in next presentation   |  1       |"
   ]
  },
  {
   "cell_type": "markdown",
   "id": "adjacent-majority",
   "metadata": {
    "slideshow": {
     "slide_type": "slide"
    }
   },
   "source": [
    "## Conclusion\n",
    "- Geometry components are used to describe the geometry of the system\n",
    "- Geometry components are given properties by assigning a material\n",
    "- The simulations happens in the master, and simulates all geometries"
   ]
  },
  {
   "cell_type": "markdown",
   "id": "specific-allocation",
   "metadata": {
    "slideshow": {
     "slide_type": "slide"
    }
   },
   "source": [
    "## Quiz and exercise\n",
    "It is time for the second exercise that concerns geometry!"
   ]
  }
 ],
 "metadata": {
  "celltoolbar": "Slideshow",
  "kernelspec": {
   "display_name": "Python 3",
   "language": "python",
   "name": "python3"
  },
  "language_info": {
   "codemirror_mode": {
    "name": "ipython",
    "version": 3
   },
   "file_extension": ".py",
   "mimetype": "text/x-python",
   "name": "python",
   "nbconvert_exporter": "python",
   "pygments_lexer": "ipython3",
   "version": "3.8.8"
  }
 },
 "nbformat": 4,
 "nbformat_minor": 5
}
