{
 "cells": [
  {
   "cell_type": "markdown",
   "id": "embedded-interpretation",
   "metadata": {
    "slideshow": {
     "slide_type": "slide"
    }
   },
   "source": [
    "# Visualizing scattering in Union components\n",
    "\n",
    "Similar to absorption loggers we have regular loggers! These record scattered intensity, and have a few more options, hence we started with the simpler absorption loggers. This presentation is about loggers."
   ]
  },
  {
   "cell_type": "markdown",
   "id": "brief-huntington",
   "metadata": {
    "slideshow": {
     "slide_type": "slide"
    }
   },
   "source": [
    "## Union in the instrument\n",
    "Since everything happens in the Union master component, we can't insert monitors between the geometries."
   ]
  },
  {
   "cell_type": "markdown",
   "id": "outer-internet",
   "metadata": {
    "slideshow": {
     "slide_type": "slide"
    }
   },
   "source": [
    "![alt](figures/power_point_figures/Slide04.png)"
   ]
  },
  {
   "cell_type": "markdown",
   "id": "interior-biotechnology",
   "metadata": {
    "slideshow": {
     "slide_type": "slide"
    }
   },
   "source": [
    "## Complexity from scattering and geometry\n",
    "We want to understand how the complex results arise from the relatively simple geometry and rules of scattering."
   ]
  },
  {
   "cell_type": "markdown",
   "id": "consecutive-garden",
   "metadata": {
    "slideshow": {
     "slide_type": "-"
    }
   },
   "source": [
    "![alt](figures/cryostat_geometry.png)"
   ]
  },
  {
   "cell_type": "markdown",
   "id": "consistent-celtic",
   "metadata": {
    "slideshow": {
     "slide_type": "slide"
    }
   },
   "source": [
    "## Remember our system\n",
    "Here is an overview of the system we built in the last session"
   ]
  },
  {
   "cell_type": "markdown",
   "id": "impossible-creator",
   "metadata": {
    "slideshow": {
     "slide_type": "-"
    }
   },
   "source": [
    "![alt](figures/power_point_figures/Slide05.png)"
   ]
  },
  {
   "cell_type": "code",
   "execution_count": null,
   "id": "electoral-customer",
   "metadata": {
    "slideshow": {
     "slide_type": "slide"
    }
   },
   "outputs": [],
   "source": [
    "import mcstasscript as ms\n",
    "instrument = ms.McStas_instr(\"Union_demo\", input_path=\"run_folder\")\n",
    "instrument.settings(output_path=\"data_folder/union_demo\")\n",
    "\n",
    "instrument.add_component(\"init\", \"Union_init\")\n",
    "\n",
    "Al_incoherent = instrument.add_component(\"Al_incoherent\", \"Incoherent_process\")\n",
    "Al_incoherent.set_parameters(sigma=4*0.0082, unit_cell_volume=66.4)\n",
    "\n",
    "Al_powder = instrument.add_component(\"Al_powder\", \"Powder_process\")\n",
    "Al_powder.reflections = '\"Al.laz\"'\n",
    "\n",
    "Al = instrument.add_component(\"Al\", \"Union_make_material\")\n",
    "Al.process_string = '\"Al_incoherent,Al_powder\"'\n",
    "Al.my_absorption = 100*4*0.231/66.4\n",
    "\n",
    "process = instrument.add_component(\"diamond_incoherent\", \"Incoherent_process\")\n",
    "process.set_parameters(sigma=8*0.001, unit_cell_volume=45.39)\n",
    "\n",
    "instrument.add_parameter(\"diamond_phi\", value=0, comment=\"Rotation of diamond lattice around z [deg]\")\n",
    "crystal_process = instrument.add_component(\"diamond_crystal\", \"Single_crystal_process\")\n",
    "crystal_process.set_parameters(mosaic=20, reflections='\"C_diamond.lau\"',\n",
    "                               ax=3.567, by=3.567, cz=3.567,)\n",
    "crystal_process.set_ROTATED([0, 0, \"diamond_phi\"])\n",
    "\n",
    "diamond = instrument.add_component(\"diamond\", \"Union_make_material\")\n",
    "diamond.process_string = '\"diamond_incoherent,diamond_crystal\"'\n",
    "diamond.my_absorption = 100*8*0.0035/45.39\n",
    "\n",
    "sample_position = instrument.add_component(\"sample_position\", \"Arm\")\n",
    "sample_position.set_AT([0,0,1])\n",
    "\n",
    "instrument.add_parameter(\"A3\", value=0, comment=\"Rotation of sphere around y [deg]\")\n",
    "sphere = instrument.add_component(\"sphere\", \"Union_sphere\")\n",
    "sphere.radius = 0.01\n",
    "sphere.material_string = '\"diamond\"'\n",
    "sphere.priority = 10\n",
    "sphere.set_AT(0, RELATIVE=sample_position)\n",
    "sphere.set_ROTATED([0, \"A3\", 0], RELATIVE=sample_position)\n",
    "\n",
    "shell = instrument.add_component(\"shell\", \"Union_cylinder\")\n",
    "shell.set_parameters(radius=0.05, yheight=0.12,\n",
    "                     material_string = '\"Al\"', priority=3,\n",
    "                     p_interact=0.2)\n",
    "shell.set_AT(0, RELATIVE=sample_position)\n",
    "\n",
    "shell_vacuum = instrument.add_component(\"shell_vacuum\", \"Union_cylinder\")\n",
    "shell_vacuum.set_parameters(radius=shell.radius - 0.01, yheight=shell.yheight - 0.01,\n",
    "                            material_string = '\"Vacuum\"', priority=5)\n",
    "shell_vacuum.set_AT([0, 0, 0], RELATIVE=sample_position)\n",
    "\n",
    "source = instrument.add_component(\"source\", \"Source_div\")\n",
    "source.set_parameters(focus_aw=0.3, focus_ah=0.3,\n",
    "                      xwidth=0.005, yheight=0.005,\n",
    "                      flux=1E12)\n",
    "source.set_AT(-1, RELATIVE=sample_position)\n",
    "\n",
    "source.lambda0 = instrument.add_parameter(\"wavelength\", value=5.0,\n",
    "                                          comment=\"Wavelength in [Ang]\")\n",
    "source.dlambda = instrument.add_parameter(\"wavelength_half_width\", value=4.5,\n",
    "                                          comment=\"Wavelength half width in [Ang]\")\n",
    "\n",
    "master = instrument.add_component(\"master\", \"Union_master\")\n",
    "stop = instrument.add_component(\"stop\", \"Union_stop\")"
   ]
  },
  {
   "cell_type": "markdown",
   "id": "interior-mexico",
   "metadata": {
    "slideshow": {
     "slide_type": "slide"
    }
   },
   "source": [
    "## Logger components\n",
    "Logger components record something whenever a scattering event occurs in the simulated Union system. Like absorption loggers there are a variety of loggers available and it requires little effort to add a new logger.\n",
    "\n",
    "| Logger component           | Dimensions                            |\n",
    "| :---                       |    :----                              |\n",
    "| Union_logger_1D            | time, magnitude of scattering vector  |\n",
    "| Union_logger_2DQ           | 2D scattering vector                  |\n",
    "| Union_logger_2D_kf         | 2D final wavevector                   |\n",
    "| Union_logger_2D_kf_time    | 2D final wavevector and time          |\n",
    "| Union_logger_2D_space      | 2D space                              |\n",
    "| Union_logger_2D_space_time | 2D space and time                     |\n",
    "| Union_logger_3D_space      | 3D space                              |"
   ]
  },
  {
   "cell_type": "markdown",
   "id": "miniature-mobility",
   "metadata": {
    "slideshow": {
     "slide_type": "slide"
    }
   },
   "source": [
    "### Common inputs on all loggers\n",
    "Some inputs are common for all Union logger components.\n",
    "\n",
    "| Parameter                  | Explanation                                                  |\n",
    "| :---                       |    :----                                                     |\n",
    "| target_geometry            | Only record for given list of geometries                     |\n",
    "| target_process             | Further select processes (only if geometry selected)              |\n",
    "| order_total                | Record only the n'th scattering of rays                      |\n",
    "| order_volume               | Record only the n'th scattering in the same geometry         |\n",
    "| order_volume_process       | Record only the n'th scattering in same geometry and process |"
   ]
  },
  {
   "cell_type": "markdown",
   "id": "naked-novelty",
   "metadata": {
    "slideshow": {
     "slide_type": "slide"
    }
   },
   "source": [
    "### Model of the BIFROST collimation + filter using Union_logger_2D_space\n",
    "![alt](figures/BIFROST_filter.png)"
   ]
  },
  {
   "cell_type": "markdown",
   "id": "latin-watson",
   "metadata": {
    "slideshow": {
     "slide_type": "slide"
    }
   },
   "source": [
    "### Adding a few logger components to our example\n",
    "Back to our example with the diamond sphere within the aluminium shell."
   ]
  },
  {
   "cell_type": "code",
   "execution_count": null,
   "id": "foreign-creature",
   "metadata": {},
   "outputs": [],
   "source": [
    "logger_time = instrument.add_component(\"logger_time_all\", \"Union_logger_1D\", before=master)\n",
    "logger_time.set_parameters(min_value=0, max_value=0.003, n1=600, filename='\"scattering_time.dat\"')\n",
    "\n",
    "logger_time = instrument.add_component(\"logger_time_shell\", \"Union_logger_1D\", before=master)\n",
    "logger_time.set_parameters(min_value=0, max_value=0.003, n1=600, filename='\"scattering_time_shell.dat\"',\n",
    "                           target_geometry='\"shell\"')\n",
    "\n",
    "logger_zx = instrument.add_component(\"logger_space_zx\", \"Union_logger_2D_space\",\n",
    "                                     before=master, RELATIVE=sample_position)\n",
    "logger_zx.set_parameters(D_direction_1='\"z\"', D1_min=-0.07, D1_max=0.07, n1=300,\n",
    "                         D_direction_2='\"x\"', D2_min=-0.07, D2_max=0.07, n2=300,\n",
    "                         filename='\"logger_zx.dat\"')\n",
    "\n",
    "logger_zx = instrument.add_component(\"logger_space_zx_1\", \"Union_logger_2D_space\",\n",
    "                                     before=master, RELATIVE=sample_position)\n",
    "logger_zx.set_parameters(D_direction_1='\"z\"', D1_min=-0.07, D1_max=0.07, n1=300,\n",
    "                         D_direction_2='\"x\"', D2_min=-0.07, D2_max=0.07, n2=300,\n",
    "                         filename='\"logger_zx_1.dat\"', order_total=1)\n",
    "\n",
    "logger_zx = instrument.add_component(\"logger_space_zx_2\", \"Union_logger_2D_space\",\n",
    "                                     before=master, RELATIVE=sample_position)\n",
    "logger_zx.set_parameters(D_direction_1='\"z\"', D1_min=-0.07, D1_max=0.07, n1=300,\n",
    "                         D_direction_2='\"x\"', D2_min=-0.07, D2_max=0.07, n2=300,\n",
    "                         filename='\"logger_zx_2.dat\"', order_total=2)"
   ]
  },
  {
   "cell_type": "markdown",
   "id": "three-battery",
   "metadata": {
    "slideshow": {
     "slide_type": "slide"
    }
   },
   "source": [
    "### Adding a few more logger components to our example"
   ]
  },
  {
   "cell_type": "code",
   "execution_count": null,
   "id": "overhead-dollar",
   "metadata": {
    "slideshow": {
     "slide_type": "-"
    }
   },
   "outputs": [],
   "source": [
    "logger_zy = instrument.add_component(\"logger_space_zy\", \"Union_logger_2D_space\",\n",
    "                                     before=master, RELATIVE=sample_position)\n",
    "logger_zy.set_parameters(D_direction_1='\"z\"', D1_min=-0.07, D1_max=0.07, n1=300,\n",
    "                         D_direction_2='\"y\"', D2_min=-0.07, D2_max=0.07, n2=300,\n",
    "                         filename='\"logger_zy.dat\"')\n",
    "\n",
    "logger_xy = instrument.add_component(\"logger_space_xy\", \"Union_logger_2D_space\",\n",
    "                                     before=master, RELATIVE=sample_position)\n",
    "logger_xy.set_parameters(D_direction_1='\"x\"', D1_min=-0.06, D1_max=0.07, n1=300,\n",
    "                         D_direction_2='\"y\"', D2_min=-0.07, D2_max=0.07, n2=300,\n",
    "                         filename='\"logger_xy.dat\"') \n",
    "\n",
    "logger_2DQ = instrument.add_component(\"logger_2DQ\", \"Union_logger_2DQ\", before=master)\n",
    "logger_2DQ.set_parameters(Q_direction_1 = '\"z\"', Q1_min = -8.0, Q1_max = 8.0, n1 = 500,\n",
    "                         Q_direction_2 = '\"x\"', Q2_min = -8.0, Q2_max = 8.0, n2 = 500,\n",
    "                         filename = '\"logger_2DQ.dat\"')"
   ]
  },
  {
   "cell_type": "markdown",
   "id": "engaging-serve",
   "metadata": {},
   "source": [
    "### And the normal monitors"
   ]
  },
  {
   "cell_type": "code",
   "execution_count": null,
   "id": "respiratory-monster",
   "metadata": {},
   "outputs": [],
   "source": [
    "instrument.add_declare_var(\"double\", \"t_min\")\n",
    "instrument.add_declare_var(\"double\", \"t_max\")\n",
    "\n",
    "instrument.append_initialize(\"t_min = (wavelength - wavelength_half_width)*(1.0 - 0.18 + 0.5)/(K2V*2*PI);\")\n",
    "instrument.append_initialize(\"t_max = (wavelength + wavelength_half_width)*(1.0 + 0.28 + 0.5)/(K2V*2*PI);\")\n",
    "\n",
    "instrument.add_declare_var(\"char\", \"options\", array=256)\n",
    "instrument.append_initialize('sprintf(options,\"banana, theta limits=[-180,180] bins=180, t limits=[%g %g] bins=300\",t_min,t_max);')\n",
    "\n",
    "banana_detector = instrument.add_component(\"banana_tof_detector\", \"Monitor_nD\")\n",
    "banana_detector.set_RELATIVE(sample_position)\n",
    "banana_detector.xwidth = 1\n",
    "banana_detector.yheight = 0.2\n",
    "banana_detector.restore_neutron = 1\n",
    "options = \"options\"\n",
    "banana_detector.options = options\n",
    "banana_detector.filename = '\"tof_b.dat\"'\n",
    "\n",
    "banana_detector = instrument.add_component(\"banana_detector\", \"Monitor_nD\")\n",
    "banana_detector.set_RELATIVE(sample_position)\n",
    "banana_detector.set_parameters(xwidth = 1.0, yheight = 0.2, filename='\"banana.dat\"', restore_neutron=1,\n",
    "                               options='\"banana, theta limits=[-180,180] bins=180\"')\n",
    "\n",
    "L_monitor = instrument.add_component(\"L_monitor\", \"L_monitor\")\n",
    "L_monitor.set_AT(0.3, RELATIVE=sample_position)\n",
    "L_monitor.set_parameters(xwidth=0.3, yheight=0.3,\n",
    "                         Lmin=\"wavelength - wavelength_half_width\",\n",
    "                         Lmax=\"wavelength + wavelength_half_width\",\n",
    "                         nL=300, filename='\"l_mon.dat\"', restore_neutron=1)"
   ]
  },
  {
   "cell_type": "markdown",
   "id": "scenic-turkey",
   "metadata": {
    "slideshow": {
     "slide_type": "slide"
    }
   },
   "source": [
    "## Running the simulation"
   ]
  },
  {
   "cell_type": "code",
   "execution_count": null,
   "id": "medieval-tournament",
   "metadata": {},
   "outputs": [],
   "source": [
    "import mcstasscript.jb_interface as ms_widget\n",
    "%matplotlib widget\n",
    "ms_widget.show(instrument)"
   ]
  },
  {
   "cell_type": "markdown",
   "id": "basic-departure",
   "metadata": {},
   "source": [
    "## Using target_process\n",
    "The 2DQ logger had a lot of information, lets split it into its different parts. This could also be further done with scattering order. "
   ]
  },
  {
   "cell_type": "code",
   "execution_count": null,
   "id": "aboriginal-bulgaria",
   "metadata": {},
   "outputs": [],
   "source": [
    "logger_2DQ = instrument.copy_component(\"logger_2DQ_shell\", \"logger_2DQ\", before=master)\n",
    "logger_2DQ.set_parameters(filename = '\"logger_2DQ_Al.dat\"', target_geometry='\"shell\"')\n",
    "\n",
    "logger_2DQ = instrument.copy_component(\"logger_2DQ_Al_inc\", \"logger_2DQ\", before=master)\n",
    "logger_2DQ.set_parameters(filename = '\"logger_2DQ_Al_inc.dat\"', target_geometry='\"shell\"',\n",
    "                          target_process='\"Al_incoherent\"')\n",
    "\n",
    "logger_2DQ = instrument.copy_component(\"logger_2DQ_Al_pow\", \"logger_2DQ\", before=master)\n",
    "logger_2DQ.set_parameters(filename = '\"logger_2DQ_Al_pw.dat\"', target_geometry='\"shell\"',\n",
    "                          target_process='\"Al_powder\"')\n",
    "\n",
    "logger_2DQ = instrument.copy_component(\"logger_2DQ_Diamond\", \"logger_2DQ\", before=master)\n",
    "logger_2DQ.set_parameters(filename = '\"logger_2DQ_Diamond.dat\"', target_geometry='\"sphere\"')\n",
    "\n",
    "logger_2DQ = instrument.copy_component(\"logger_2DQ_Diamond_inc\", \"logger_2DQ\", before=master)\n",
    "logger_2DQ.set_parameters(filename = '\"logger_2DQ_Diamond_inc.dat\"', target_geometry='\"sphere\"',\n",
    "                          target_process='\"diamond_incoherent\"')\n",
    "\n",
    "logger_2DQ = instrument.copy_component(\"logger_2DQ_Diamond_single\", \"logger_2DQ\", before=master)\n",
    "logger_2DQ.set_parameters(filename = '\"logger_2DQ_Diamond_single.dat\"', target_geometry='\"sphere\"',\n",
    "                          target_process='\"diamond_crystal\"')"
   ]
  },
  {
   "cell_type": "markdown",
   "id": "adolescent-purple",
   "metadata": {
    "slideshow": {
     "slide_type": "slide"
    }
   },
   "source": [
    "### Run the instrument again"
   ]
  },
  {
   "cell_type": "code",
   "execution_count": null,
   "id": "dedicated-parliament",
   "metadata": {},
   "outputs": [],
   "source": [
    "ms_widget.show(instrument)"
   ]
  },
  {
   "cell_type": "markdown",
   "id": "protecting-discussion",
   "metadata": {
    "slideshow": {
     "slide_type": "slide"
    }
   },
   "source": [
    "### Making an animation from time logger "
   ]
  },
  {
   "cell_type": "code",
   "execution_count": null,
   "id": "hybrid-advocacy",
   "metadata": {
    "scrolled": true
   },
   "outputs": [],
   "source": [
    "instrument.add_declare_var(\"double\", \"t_min_system\")\n",
    "instrument.add_declare_var(\"double\", \"t_max_system\")\n",
    "instrument.append_initialize(\"t_min_system = (wavelength - wavelength_half_width)*(1.0 - 0.071)/(K2V*2*PI);\")\n",
    "instrument.append_initialize(\"t_max_system = (wavelength + wavelength_half_width)*(1.0 + 0.28)/(K2V*2*PI);\")\n",
    "\n",
    "logger_zy = instrument.add_component(\"logger_2D_space_time\", \"Union_logger_2D_space_time\",\n",
    "                                     before=master, RELATIVE=sphere)\n",
    "logger_zy.set_parameters(D_direction_1='\"z\"', D1_min=-0.07, D1_max=0.07, n1=300,\n",
    "                         D_direction_2='\"y\"', D2_min=-0.07, D2_max=0.07, n2=300,\n",
    "                         time_bins=70, time_min=\"t_min_system\", time_max=\"t_max_system\",\n",
    "                         filename='\"logger_zy_time.dat\"')\n",
    "\n",
    "instrument.set_parameters(wavelength=2.38, wavelength_half_width=0.03)\n",
    "instrument.settings(ncount=5E7, mpi=6, force_compile=True)\n",
    "data = instrument.backengine()"
   ]
  },
  {
   "cell_type": "markdown",
   "id": "blocked-buffer",
   "metadata": {
    "slideshow": {
     "slide_type": "slide"
    }
   },
   "source": [
    "### Plot the result\n",
    "McStasScript has a convenient function for making animations!"
   ]
  },
  {
   "cell_type": "code",
   "execution_count": null,
   "id": "specified-independence",
   "metadata": {
    "scrolled": false,
    "slideshow": {
     "slide_type": "slide"
    }
   },
   "outputs": [],
   "source": [
    "ani_data = ms.name_search(\"logger_2D_space_time\", data)\n",
    "    \n",
    "ms.make_animation(ani_data, filename=\"animation_demo\", fps=3,\n",
    "                  log=True, colormap=\"hot\", orders_of_mag=6, figsize=(8, 5))"
   ]
  },
  {
   "cell_type": "markdown",
   "id": "geographic-plastic",
   "metadata": {
    "slideshow": {
     "slide_type": "slide"
    }
   },
   "source": [
    "### Cryostat simulation\n",
    "More detailed simulation with higher ncount performed on cluster\n",
    "<table><tr>\n",
    "<td> <img src=\"figures/cryostat_geometry.png\" alt=\"Cryostat sketch and data\" style=\"width: 600px;\"/> </td>\n",
    "<td> <img src=\"figures/output.gif\" alt=\"Cryostat animation\" style=\"width: 900px;\"/> </td>\n",
    "</tr></table>"
   ]
  },
  {
   "cell_type": "markdown",
   "id": "bound-certificate",
   "metadata": {
    "slideshow": {
     "slide_type": "slide"
    }
   },
   "source": [
    "### Pressure cell with 2 diamonds and powder sample\n",
    "Tof pulse around diamond bragg peak\n",
    "![alt](figures/anvil_bragg.gif)"
   ]
  },
  {
   "cell_type": "markdown",
   "id": "enclosed-coupon",
   "metadata": {
    "slideshow": {
     "slide_type": "slide"
    }
   },
   "source": [
    "### Simulated detector signal when rotating one of the diamonds\n",
    "![alt](figures/full_rotation_movie_2.gif)"
   ]
  },
  {
   "cell_type": "markdown",
   "id": "analyzed-amsterdam",
   "metadata": {
    "slideshow": {
     "slide_type": "slide"
    }
   },
   "source": [
    "# Union overview so far\n",
    "Now we have learnt about 7 classes of Union components!\n",
    "\n",
    "| Component class         | Links to                       | Purpose                                    |\n",
    "| :---                    |    :----                       |    :----                                   |\n",
    "| Process components      |                                | Describe scattering process                |\n",
    "| Union_make_material     | List of process components     | Collect process and absorption to material |\n",
    "| Geometry components     | Material definition            | Place a geometry with selected material    |\n",
    "| Logger components       | Optionally geometry / process  | Record scattering in Union system          |\n",
    "| Abs_logger components   | Optionally geometry / process  | Record absorption in Union system          |\n",
    "| Union_master            | Geometries (automatic linking) | Simulation engine                          |\n",
    "| Union_init / Union_stop |                                | Needed in McStas 3.X at start / end        |\n",
    "\n"
   ]
  },
  {
   "cell_type": "markdown",
   "id": "adjacent-majority",
   "metadata": {
    "slideshow": {
     "slide_type": "slide"
    }
   },
   "source": [
    "## Summary\n",
    "Loggers help us understand what goes on during the simulation of a Union system\n",
    "- They record information at points of scattering\n",
    "- Can select to only record for given list of geometries\n",
    "- Can select to only record for given list of processes within those geometries\n",
    "- Can select certain order as well"
   ]
  },
  {
   "cell_type": "markdown",
   "id": "specific-allocation",
   "metadata": {
    "slideshow": {
     "slide_type": "slide"
    }
   },
   "source": [
    "## Quiz and exercise\n",
    "It is time for exercise 5 where the cryostat tool in McStasScript is used to provide an interesting sample environment for a single crystal sample."
   ]
  }
 ],
 "metadata": {
  "celltoolbar": "Slideshow",
  "kernelspec": {
   "display_name": "Python 3",
   "language": "python",
   "name": "python3"
  },
  "language_info": {
   "codemirror_mode": {
    "name": "ipython",
    "version": 3
   },
   "file_extension": ".py",
   "mimetype": "text/x-python",
   "name": "python",
   "nbconvert_exporter": "python",
   "pygments_lexer": "ipython3",
   "version": "3.8.8"
  }
 },
 "nbformat": 4,
 "nbformat_minor": 5
}
