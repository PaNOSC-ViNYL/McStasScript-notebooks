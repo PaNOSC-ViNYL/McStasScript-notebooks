{
 "cells": [
  {
   "cell_type": "markdown",
   "id": "beautiful-summit",
   "metadata": {},
   "source": [
    "# Quiz on advanced concepts\n",
    "This notebook contains questions on advanced concepts for the Union components, namely masks, exit geometries and the number_of_activations parameter."
   ]
  },
  {
   "cell_type": "code",
   "execution_count": 1,
   "id": "applicable-destination",
   "metadata": {},
   "outputs": [],
   "source": [
    "import load_quiz\n",
    "quiz = load_quiz.exercise_3()"
   ]
  },
  {
   "cell_type": "markdown",
   "id": "intended-rouge",
   "metadata": {},
   "source": [
    "## Masks"
   ]
  },
  {
   "cell_type": "markdown",
   "id": "cooked-printing",
   "metadata": {},
   "source": [
    "### Question 1\n",
    "What does a mask do?\n",
    "\n",
    "- A: Limits the volume where specified geometry component(s) is simulated to the volume of the mask\n",
    "- B: Remove the volume of the mask from specified geometry component(s)\n",
    "- C: Limit the volume where any geometry components is simulated to the volume of the mask"
   ]
  },
  {
   "cell_type": "code",
   "execution_count": 2,
   "id": "alpine-longitude",
   "metadata": {},
   "outputs": [
    {
     "name": "stdout",
     "output_type": "stream",
     "text": [
      "\u001b[1m\u001b[92mCorrect!\u001b[0m\u001b[0m\n",
      "Yes, the mask removes everything outside of itself for the specified geometries.\n"
     ]
    }
   ],
   "source": [
    "quiz.question_1()"
   ]
  },
  {
   "cell_type": "markdown",
   "id": "final-handling",
   "metadata": {},
   "source": [
    "### Question 2\n",
    "Can a mask target more than one geometry component?\n",
    "- A: No\n",
    "- B: Yes"
   ]
  },
  {
   "cell_type": "code",
   "execution_count": 3,
   "id": "accurate-honey",
   "metadata": {},
   "outputs": [
    {
     "name": "stdout",
     "output_type": "stream",
     "text": [
      "\u001b[1m\u001b[92mCorrect!\u001b[0m\u001b[0m\n",
      "Yes, just use a comma separated list in the mask_string\n"
     ]
    }
   ],
   "source": [
    "quiz.question_2()"
   ]
  },
  {
   "cell_type": "markdown",
   "id": "unlike-minnesota",
   "metadata": {},
   "source": [
    "### Question 3\n",
    "How do you add a mask?\n",
    "- A: Use the specialized mask components\n",
    "- B: Use a geometry component with the mask_string parameter\n",
    "- C: Enter \"mask\" in the material_string of a geometry component"
   ]
  },
  {
   "cell_type": "code",
   "execution_count": 4,
   "id": "parliamentary-obligation",
   "metadata": {},
   "outputs": [
    {
     "name": "stdout",
     "output_type": "stream",
     "text": [
      "\u001b[1m\u001b[92mCorrect!\u001b[0m\u001b[0m\n",
      "Yes, the geometry components can act as masks\n"
     ]
    }
   ],
   "source": [
    "quiz.question_3()"
   ]
  },
  {
   "cell_type": "markdown",
   "id": "hearing-building",
   "metadata": {},
   "source": [
    "### Question 4\n",
    "What is the difference between mask mode \"any\" and \"all\"?\n",
    "\n",
    "- A: Whether all masks or just any mask have to cover a region of the masked geometry for it to be simulated\n",
    "- B: Whether a mask will mask all other geometries or just its target\n",
    "- C: Whether the entire masked geometry have to be contained or just part of it"
   ]
  },
  {
   "cell_type": "code",
   "execution_count": 5,
   "id": "fundamental-marketplace",
   "metadata": {},
   "outputs": [
    {
     "name": "stdout",
     "output_type": "stream",
     "text": [
      "\u001b[1m\u001b[92mCorrect!\u001b[0m\u001b[0m\n",
      "Yes, it only matters when multiple masks cover a geometry.\n"
     ]
    }
   ],
   "source": [
    "quiz.question_4()"
   ]
  },
  {
   "cell_type": "markdown",
   "id": "measured-grass",
   "metadata": {},
   "source": [
    "## Exit volumes and number of activations\n"
   ]
  },
  {
   "cell_type": "markdown",
   "id": "roman-swaziland",
   "metadata": {},
   "source": [
    "### Question 5\n",
    "What does an exit volume do?\n",
    "- A: Releases the ray from the union master once a ray leaves an exit geometry\n",
    "- B: Releases the ray from the union master once a ray enters an exit geometry"
   ]
  },
  {
   "cell_type": "code",
   "execution_count": 6,
   "id": "later-ensemble",
   "metadata": {},
   "outputs": [
    {
     "name": "stdout",
     "output_type": "stream",
     "text": [
      "\u001b[1m\u001b[92mCorrect!\u001b[0m\u001b[0m\n",
      "Yes, the Union_master simulation stops when a ray enters an Exit geometry.\n"
     ]
    }
   ],
   "source": [
    "quiz.question_5()"
   ]
  },
  {
   "cell_type": "markdown",
   "id": "honest-premium",
   "metadata": {},
   "source": [
    "### Question 6\n",
    "What situations can exit volumes be helpful?\n",
    "- A: Want to use a non Union component within a Union system\n",
    "- B: Want to jump between Union masters"
   ]
  },
  {
   "cell_type": "code",
   "execution_count": 7,
   "id": "earlier-struggle",
   "metadata": {},
   "outputs": [
    {
     "name": "stdout",
     "output_type": "stream",
     "text": [
      "\u001b[1m\u001b[92mCorrect!\u001b[0m\u001b[0m\n",
      "Yes, an Exit geometry in combination with number_of_activations can achieve\n",
      "this!\n"
     ]
    }
   ],
   "source": [
    "quiz.question_6()"
   ]
  },
  {
   "cell_type": "markdown",
   "id": "stylish-player",
   "metadata": {},
   "source": [
    "### Question 7\n",
    "What type of Union component have the number_of_activations parameter?\n",
    "- A: Process components\n",
    "- B: Material components\n",
    "- C: Geometry components\n",
    "- D: Master components"
   ]
  },
  {
   "cell_type": "code",
   "execution_count": 8,
   "id": "lonely-nomination",
   "metadata": {},
   "outputs": [
    {
     "name": "stdout",
     "output_type": "stream",
     "text": [
      "\u001b[1m\u001b[92mCorrect!\u001b[0m\u001b[0m\n",
      "Yes, geometry components always have that parameter\n"
     ]
    }
   ],
   "source": [
    "quiz.question_7()"
   ]
  },
  {
   "cell_type": "markdown",
   "id": "senior-journalist",
   "metadata": {},
   "source": [
    "### Question 8\n",
    "What does the number_of_activations parameter do?\n",
    "- A: Sets the number of Union master components that will use this component\n",
    "- B: Sets how many copies of this component should be simulated in next master"
   ]
  },
  {
   "cell_type": "code",
   "execution_count": 9,
   "id": "classical-diving",
   "metadata": {},
   "outputs": [
    {
     "name": "stdout",
     "output_type": "stream",
     "text": [
      "\u001b[1m\u001b[92mCorrect!\u001b[0m\u001b[0m\n",
      "Yes, each subsequent master subtracts one from number_of_activations, and the\n",
      "geometry is simulated until it reaches 0.\n"
     ]
    }
   ],
   "source": [
    "quiz.question_8(\"A\")"
   ]
  },
  {
   "cell_type": "markdown",
   "id": "proud-connecticut",
   "metadata": {},
   "source": [
    "### Question 9\n",
    "What is the default for number_of_activations?"
   ]
  },
  {
   "cell_type": "code",
   "execution_count": 10,
   "id": "northern-fishing",
   "metadata": {},
   "outputs": [
    {
     "name": "stdout",
     "output_type": "stream",
     "text": [
      "\u001b[1m\u001b[92mCorrect!\u001b[0m\u001b[0m\n"
     ]
    }
   ],
   "source": [
    "quiz.question_9(1)"
   ]
  },
  {
   "cell_type": "markdown",
   "id": "complete-cooling",
   "metadata": {},
   "source": [
    "### Question 10\n",
    "When would one use the number_of_activations?\n",
    "- A: When having an external component in a Union system\n",
    "- B: When wanting to disable a geometry like a WHEN statement\n",
    "- C: When it is necessary to simulate the same geometry in multiple masters"
   ]
  },
  {
   "cell_type": "code",
   "execution_count": 11,
   "id": "silver-footwear",
   "metadata": {},
   "outputs": [
    {
     "name": "stdout",
     "output_type": "stream",
     "text": [
      "\u001b[1m\u001b[92mCorrect!\u001b[0m\u001b[0m\n",
      "Yes, in conjunction with an Exit geometry and an additional Union_master\n",
      "\u001b[1m\u001b[92mCorrect!\u001b[0m\u001b[0m\n",
      "Yes, setting number_of_activations to 0 disables the geometry component\n",
      "\u001b[1m\u001b[92mCorrect!\u001b[0m\u001b[0m\n",
      "Yes, the number_of_activation describes how many masters it will be simulated in\n"
     ]
    }
   ],
   "source": [
    "quiz.question_10([\"A\", \"B\", \"C\"])"
   ]
  }
 ],
 "metadata": {
  "kernelspec": {
   "display_name": "Python 3",
   "language": "python",
   "name": "python3"
  },
  "language_info": {
   "codemirror_mode": {
    "name": "ipython",
    "version": 3
   },
   "file_extension": ".py",
   "mimetype": "text/x-python",
   "name": "python",
   "nbconvert_exporter": "python",
   "pygments_lexer": "ipython3",
   "version": "3.8.8"
  }
 },
 "nbformat": 4,
 "nbformat_minor": 5
}
