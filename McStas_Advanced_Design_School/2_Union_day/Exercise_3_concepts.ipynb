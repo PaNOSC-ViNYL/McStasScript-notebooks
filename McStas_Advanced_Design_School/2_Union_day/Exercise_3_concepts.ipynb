{
 "cells": [
  {
   "cell_type": "markdown",
   "id": "beautiful-summit",
   "metadata": {},
   "source": [
    "# Quiz on advanced concepts\n",
    "This notebook contains questions on advanced concepts for the Union components, namely masks, exit geometries and the number_of_activations parameter."
   ]
  },
  {
   "cell_type": "code",
   "execution_count": null,
   "id": "structural-sleeve",
   "metadata": {},
   "outputs": [],
   "source": [
    "import load_quiz\n",
    "quiz = load_quiz.exercise_3()"
   ]
  },
  {
   "cell_type": "markdown",
   "id": "intended-rouge",
   "metadata": {},
   "source": [
    "## Masks"
   ]
  },
  {
   "cell_type": "markdown",
   "id": "cooked-printing",
   "metadata": {},
   "source": [
    "### Question 1\n",
    "What does a mask do?\n",
    "\n",
    "- A: Limits the volume where specified geometry component(s) is simulated to the volume of the mask\n",
    "- B: Remove the volume of the mask from specified geometry component(s)\n",
    "- C: Limit the volume where any geometry components is simulated to the volume of the mask"
   ]
  },
  {
   "cell_type": "code",
   "execution_count": null,
   "id": "alpine-longitude",
   "metadata": {},
   "outputs": [],
   "source": [
    "quiz.question_1()"
   ]
  },
  {
   "cell_type": "markdown",
   "id": "final-handling",
   "metadata": {},
   "source": [
    "### Question 2\n",
    "Can a mask target more than one geometry component?\n",
    "- A: No\n",
    "- B: Yes"
   ]
  },
  {
   "cell_type": "code",
   "execution_count": null,
   "id": "accurate-honey",
   "metadata": {},
   "outputs": [],
   "source": [
    "quiz.question_2()"
   ]
  },
  {
   "cell_type": "markdown",
   "id": "unlike-minnesota",
   "metadata": {},
   "source": [
    "### Question 3\n",
    "How do you add a mask?\n",
    "- A: Use the specialized mask components\n",
    "- B: Use a geometry component with the mask_string parameter\n",
    "- C: Enter \"mask\" in the material_string of a geometry component"
   ]
  },
  {
   "cell_type": "code",
   "execution_count": null,
   "id": "parliamentary-obligation",
   "metadata": {},
   "outputs": [],
   "source": [
    "quiz.question_3()"
   ]
  },
  {
   "cell_type": "markdown",
   "id": "hearing-building",
   "metadata": {},
   "source": [
    "### Question 4\n",
    "What is the difference between mask mode \"any\" and \"all\"?\n",
    "\n",
    "- A: Whether all masks or just any mask have to cover a region of the masked geometry for it to be simulated\n",
    "- B: Whether a mask will mask all other geometries or just its target\n",
    "- C: Whether the entire masked geometry have to be contained or just part of it"
   ]
  },
  {
   "cell_type": "code",
   "execution_count": null,
   "id": "fundamental-marketplace",
   "metadata": {},
   "outputs": [],
   "source": [
    "quiz.question_4()"
   ]
  },
  {
   "cell_type": "markdown",
   "id": "measured-grass",
   "metadata": {},
   "source": [
    "## Exit volumes and number of activations\n"
   ]
  },
  {
   "cell_type": "markdown",
   "id": "roman-swaziland",
   "metadata": {},
   "source": [
    "### Question 5\n",
    "What does an exit volume do?\n",
    "- A: Releases the ray from the union master once a ray leaves an exit geometry\n",
    "- B: Releases the ray from the union master once a ray enters an exit geometry"
   ]
  },
  {
   "cell_type": "code",
   "execution_count": null,
   "id": "later-ensemble",
   "metadata": {},
   "outputs": [],
   "source": [
    "quiz.question_5()"
   ]
  },
  {
   "cell_type": "markdown",
   "id": "honest-premium",
   "metadata": {},
   "source": [
    "### Question 6\n",
    "What situations can exit volumes be helpful?\n",
    "- A: Want to use a non Union component within a Union system\n",
    "- B: Want to jump between Union masters"
   ]
  },
  {
   "cell_type": "code",
   "execution_count": null,
   "id": "earlier-struggle",
   "metadata": {},
   "outputs": [],
   "source": [
    "quiz.question_6()"
   ]
  },
  {
   "cell_type": "markdown",
   "id": "stylish-player",
   "metadata": {},
   "source": [
    "### Question 7\n",
    "What type of Union component have the number_of_activations parameter?\n",
    "- A: Process components\n",
    "- B: Material components\n",
    "- C: Geometry components\n",
    "- D: Master components"
   ]
  },
  {
   "cell_type": "code",
   "execution_count": null,
   "id": "lonely-nomination",
   "metadata": {},
   "outputs": [],
   "source": [
    "quiz.question_7()"
   ]
  },
  {
   "cell_type": "markdown",
   "id": "senior-journalist",
   "metadata": {},
   "source": [
    "### Question 8\n",
    "What does the number_of_activations parameter do?\n",
    "- A: Sets the number of Union master components that will use this component\n",
    "- B: Sets how many copies of this component should be simulated in next master"
   ]
  },
  {
   "cell_type": "code",
   "execution_count": null,
   "id": "classical-diving",
   "metadata": {},
   "outputs": [],
   "source": [
    "quiz.question_8()"
   ]
  },
  {
   "cell_type": "markdown",
   "id": "proud-connecticut",
   "metadata": {},
   "source": [
    "### Question 9\n",
    "What is the default for number_of_activations?"
   ]
  },
  {
   "cell_type": "code",
   "execution_count": null,
   "id": "northern-fishing",
   "metadata": {},
   "outputs": [],
   "source": [
    "quiz.question_9()"
   ]
  },
  {
   "cell_type": "markdown",
   "id": "complete-cooling",
   "metadata": {},
   "source": [
    "### Question 10\n",
    "When would one use the number_of_activations?\n",
    "- A: When having an external component in a Union system\n",
    "- B: When wanting to disable a geometry like a WHEN statement\n",
    "- C: When it is necessary to simulate the same geometry in multiple masters"
   ]
  },
  {
   "cell_type": "code",
   "execution_count": null,
   "id": "silver-footwear",
   "metadata": {},
   "outputs": [],
   "source": [
    "quiz.question_10()"
   ]
  }
 ],
 "metadata": {
  "kernelspec": {
   "display_name": "Python 3",
   "language": "python",
   "name": "python3"
  },
  "language_info": {
   "codemirror_mode": {
    "name": "ipython",
    "version": 3
   },
   "file_extension": ".py",
   "mimetype": "text/x-python",
   "name": "python",
   "nbconvert_exporter": "python",
   "pygments_lexer": "ipython3",
   "version": "3.8.8"
  }
 },
 "nbformat": 4,
 "nbformat_minor": 5
}
