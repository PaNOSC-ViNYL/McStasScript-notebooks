{
 "cells": [
  {
   "cell_type": "markdown",
   "id": "embedded-interpretation",
   "metadata": {
    "slideshow": {
     "slide_type": "slide"
    }
   },
   "source": [
    "# McStas Union components\n",
    "\n",
    "The McStas Union components is a collection of McStas components that work together to simulate complex systems with scattering in volumes.\n",
    "\n",
    "Developed by Mads Bertelsen during PhD at University of Copenhagen and development has continued at ESS DMSC."
   ]
  },
  {
   "cell_type": "markdown",
   "id": "advised-revision",
   "metadata": {
    "slideshow": {
     "slide_type": "slide"
    }
   },
   "source": [
    "![alt](figures/power_point_figures/Slide1.png)"
   ]
  },
  {
   "cell_type": "markdown",
   "id": "derived-encyclopedia",
   "metadata": {
    "slideshow": {
     "slide_type": "slide"
    }
   },
   "source": [
    "## Union components: Distributed responsibility"
   ]
  },
  {
   "cell_type": "markdown",
   "id": "continued-level",
   "metadata": {},
   "source": [
    "![alt](figures/power_point_figures/Slide2.png)"
   ]
  },
  {
   "cell_type": "markdown",
   "id": "shaped-gregory",
   "metadata": {
    "slideshow": {
     "slide_type": "slide"
    }
   },
   "source": [
    "## Physics\n",
    "Introduction to process components and *Union_make_material*."
   ]
  },
  {
   "cell_type": "code",
   "execution_count": 1,
   "id": "talented-poverty",
   "metadata": {
    "scrolled": false
   },
   "outputs": [
    {
     "data": {
      "application/vnd.jupyter.widget-view+json": {
       "model_id": "43cf5d4b118f4a3c8b33833be8bdc0ac",
       "version_major": 2,
       "version_minor": 0
      },
      "text/plain": [
       "Canvas(toolbar=Toolbar(toolitems=[('Home', 'Reset original view', 'home', 'home'), ('Back', 'Back to previous …"
      ]
     },
     "metadata": {},
     "output_type": "display_data"
    },
    {
     "data": {
      "application/vnd.jupyter.widget-view+json": {
       "model_id": "52dbf8349a6d461da287217f1235648a",
       "version_major": 2,
       "version_minor": 0
      },
      "text/plain": [
       "Canvas(toolbar=Toolbar(toolitems=[('Home', 'Reset original view', 'home', 'home'), ('Back', 'Back to previous …"
      ]
     },
     "metadata": {},
     "output_type": "display_data"
    }
   ],
   "source": [
    "import mcstasscript as ms\n",
    "%matplotlib widget\n",
    "instrument = ms.McStas_instr(\"Union_demo\")\n",
    "\n",
    "incoherent = instrument.add_component(\"incoherent\", \"Incoherent_process\")\n",
    "incoherent.sigma = 2.5\n",
    "incoherent.unit_cell_volume = 13.8\n",
    "\n",
    "inc_material = instrument.add_component(\"inc_material\", \"Union_make_material\")\n",
    "inc_material.my_absorption = 1.2\n",
    "inc_material.process_string = '\"incoherent\"'\n",
    "\n",
    "instrument.show_diagram()"
   ]
  },
  {
   "cell_type": "markdown",
   "id": "declared-statement",
   "metadata": {},
   "source": [
    "Absorption cross section given as inverse penetration depth $\\mu$ from $I(z) = e^{-\\mu z}$. Unit of 1/m."
   ]
  },
  {
   "cell_type": "markdown",
   "id": "completed-converter",
   "metadata": {
    "slideshow": {
     "slide_type": "slide"
    }
   },
   "source": [
    "### Aluminium description\n",
    "Fully modular system, can include as many processes in a material as desired."
   ]
  },
  {
   "cell_type": "code",
   "execution_count": 2,
   "id": "outside-river",
   "metadata": {
    "slideshow": {
     "slide_type": "-"
    }
   },
   "outputs": [
    {
     "data": {
      "application/vnd.jupyter.widget-view+json": {
       "model_id": "7d02b521407a44ef944a487780aafdee",
       "version_major": 2,
       "version_minor": 0
      },
      "text/plain": [
       "Canvas(toolbar=Toolbar(toolitems=[('Home', 'Reset original view', 'home', 'home'), ('Back', 'Back to previous …"
      ]
     },
     "metadata": {},
     "output_type": "display_data"
    },
    {
     "data": {
      "application/vnd.jupyter.widget-view+json": {
       "model_id": "f35f899d1f4e439abf9df65596383b67",
       "version_major": 2,
       "version_minor": 0
      },
      "text/plain": [
       "Canvas(toolbar=Toolbar(toolitems=[('Home', 'Reset original view', 'home', 'home'), ('Back', 'Back to previous …"
      ]
     },
     "metadata": {},
     "output_type": "display_data"
    }
   ],
   "source": [
    "instrument = ms.McStas_instr(\"Union_demo\")\n",
    "\n",
    "Al_incoherent = instrument.add_component(\"Al_incoherent\", \"Incoherent_process\")\n",
    "Al_incoherent.set_parameters(sigma=4*0.0082, unit_cell_volume=66.4)\n",
    "\n",
    "Al_powder = instrument.add_component(\"Al_powder\", \"Powder_process\")\n",
    "Al_powder.reflections = '\"Al.laz\"'\n",
    "\n",
    "Al = instrument.add_component(\"Al\", \"Union_make_material\")\n",
    "Al.process_string = '\"Al_incoherent,Al_powder\"'\n",
    "Al.my_absorption = 100*4*0.231/66.4 \n",
    "\n",
    "instrument.show_diagram()"
   ]
  },
  {
   "cell_type": "markdown",
   "id": "future-blowing",
   "metadata": {
    "slideshow": {
     "slide_type": "slide"
    }
   },
   "source": [
    "### Single crystal description\n",
    "No limits on the number of user defined materials either, now we have aluminium powder and diamond crystal."
   ]
  },
  {
   "cell_type": "code",
   "execution_count": 3,
   "id": "american-punch",
   "metadata": {},
   "outputs": [
    {
     "data": {
      "application/vnd.jupyter.widget-view+json": {
       "model_id": "62ccbb51f59a46e9aec9b61316ebc68f",
       "version_major": 2,
       "version_minor": 0
      },
      "text/plain": [
       "Canvas(toolbar=Toolbar(toolitems=[('Home', 'Reset original view', 'home', 'home'), ('Back', 'Back to previous …"
      ]
     },
     "metadata": {},
     "output_type": "display_data"
    },
    {
     "data": {
      "application/vnd.jupyter.widget-view+json": {
       "model_id": "5574ca4291f94b3b811f5aa97ca0beda",
       "version_major": 2,
       "version_minor": 0
      },
      "text/plain": [
       "Canvas(toolbar=Toolbar(toolitems=[('Home', 'Reset original view', 'home', 'home'), ('Back', 'Back to previous …"
      ]
     },
     "metadata": {},
     "output_type": "display_data"
    }
   ],
   "source": [
    "process = instrument.add_component(\"diamond_incoherent\", \"Incoherent_process\")\n",
    "process.set_parameters(sigma=8*0.001, unit_cell_volume=45.39)\n",
    "\n",
    "crystal_process = instrument.add_component(\"diamond_crystal\", \"Single_crystal_process\")\n",
    "crystal_process.set_parameters(mosaic=20, reflections='\"C_diamond.lau\"',\n",
    "                               ax=3.567, by=3.567, cz=3.567,)\n",
    "\n",
    "diamond = instrument.add_component(\"diamond\", \"Union_make_material\")\n",
    "diamond.process_string = '\"diamond_incoherent,diamond_crystal\"'\n",
    "diamond.my_absorption = 100*8*0.0035/45.39\n",
    "\n",
    "instrument.show_diagram()"
   ]
  },
  {
   "cell_type": "markdown",
   "id": "executed-folks",
   "metadata": {
    "slideshow": {
     "slide_type": "slide"
    }
   },
   "source": [
    "## Overview of process components\n",
    "A process just needs to describe the probability for scattering and handle the scattering event. Here are the currently available processes.\n",
    "\n",
    "| Process                 | Description                                 | Contributor                 |\n",
    "| :---                    |    :----                                    |    :----                    |\n",
    "| Incoherent_process      | Isotropic incoherent                        | From McStas Incoherent      |\n",
    "| Powder_process          | Powder Bragg                                | From McStas PowderN         |\n",
    "| Single_crystal_process  | Single crystal Bragg                        | From McStas Single_crystal  |\n",
    "| Phonon_simple_process   | Phonon on fcc lattice                       | From McStas Phonon_simple   |\n",
    "| NCrystal_process        | NCrystal import                             | From McStas NCrystal_sample |\n",
    "| AF_HB_1D_process        | Antiferromagnetic 1D heisenberg spin chain  | Mads Bertelsen              |\n",
    "| Texture_process         | Textured powder                             | Victor Laliena              |\n",
    "| IncoherentPhonon_process| Phonon powder                               | Victor Laliena              |\n",
    "\n",
    "It is even possible to add several instances of the same process to a material, for example to create twinned crystals, each with a phonon process oriented to that lattice."
   ]
  },
  {
   "cell_type": "markdown",
   "id": "wrapped-accordance",
   "metadata": {
    "slideshow": {
     "slide_type": "slide"
    }
   },
   "source": [
    "## NCrystal\n",
    "Physics scattering kernel project https://github.com/mctools/ncrystal\n",
    "\n",
    "Supports some inelastic gas scattering, along with temperature and gas pressure, even air with user specified humidity. Also supports PG single crystal.\n",
    "\n",
    "McStasScript has a tool for creating Union materials from NCrystal input. Requires a recent version of NCrystal.\n",
    "\n",
    "```\n",
    "from mcstasscript.tools.ncrystal_union import add_ncrystal_union_material\n",
    "instrument = ms.McStas_instr(\"NCrystal_demo\", input_path=\"run_folder\")\n",
    "add_ncrystal_union_material(instrument, \"He\", \"He_Gas_STP.ncmat;density=0.178577kgm3\")\n",
    "```"
   ]
  },
  {
   "cell_type": "markdown",
   "id": "consecutive-resolution",
   "metadata": {
    "slideshow": {
     "slide_type": "slide"
    }
   },
   "source": [
    "## Parameters common to all process components\n",
    "\n",
    "| Parameter name   | Description                                         | Default  |\n",
    "| :---             |    :----                                            | :----    |\n",
    "| packing_factor   | Factor multiplied onto its scattering cross section |  1       |\n",
    "| interact_fraction| Probability for selecting this process              | -1       |\n",
    "\n",
    "If there are N processes in a material, it is allowed to do the following:\n",
    "- Leave interact_fraction as default for all N processes\n",
    "- Set interact_fraction for all N processes such that it sums to 1\n",
    "- Set interact_fraction for N - 1 process such that they sum to less than one, the last one will get the rest"
   ]
  },
  {
   "cell_type": "markdown",
   "id": "specific-allocation",
   "metadata": {
    "slideshow": {
     "slide_type": "slide"
    }
   },
   "source": [
    "## Quiz and exercise\n",
    "Now you are ready for Exercise_1_materials which concerns process components and Union materials."
   ]
  }
 ],
 "metadata": {
  "celltoolbar": "Slideshow",
  "kernelspec": {
   "display_name": "Python 3",
   "language": "python",
   "name": "python3"
  },
  "language_info": {
   "codemirror_mode": {
    "name": "ipython",
    "version": 3
   },
   "file_extension": ".py",
   "mimetype": "text/x-python",
   "name": "python",
   "nbconvert_exporter": "python",
   "pygments_lexer": "ipython3",
   "version": "3.8.8"
  }
 },
 "nbformat": 4,
 "nbformat_minor": 5
}
