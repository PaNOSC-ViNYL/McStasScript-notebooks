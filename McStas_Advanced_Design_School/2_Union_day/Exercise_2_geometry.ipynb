{
 "cells": [
  {
   "cell_type": "markdown",
   "id": "agricultural-denial",
   "metadata": {},
   "source": [
    "# Exercise on geometry in Union\n",
    "When using the Union components, physics and geometry are separated into different components. The physics are described with process components which are collected into material definitions. This exercise focuses on the geometry aspect and will teach you how to build complex geometries from the simple shapes available. First a few questions to get started."
   ]
  },
  {
   "cell_type": "code",
   "execution_count": null,
   "id": "rural-trading",
   "metadata": {},
   "outputs": [],
   "source": [
    "import load_quiz\n",
    "quiz = load_quiz.exercise_2()"
   ]
  },
  {
   "cell_type": "markdown",
   "id": "wired-tractor",
   "metadata": {},
   "source": [
    "### Question 1\n",
    "\n",
    "Which statement about geometry components below is true?\n",
    "\n",
    "- A: Geometry components can take multiple material definitions\n",
    "- B: Geometry components are optional for running a Union simulation\n",
    "- C: The position and rotation of geometry components are important\n",
    "- D: The geometry component performs the simulation"
   ]
  },
  {
   "cell_type": "code",
   "execution_count": null,
   "id": "downtown-yemen",
   "metadata": {},
   "outputs": [],
   "source": [
    "quiz.question_1()"
   ]
  },
  {
   "cell_type": "markdown",
   "id": "liberal-scanner",
   "metadata": {},
   "source": [
    "### Question 2\n",
    "\n",
    "Does the placement of the geometry components in the instrument file matter?\n",
    "\n",
    "- A: Not at all, they can be wherever in the instrument\n",
    "- B: Slightly, they have to be after their material and before their master\n",
    "- C: Yes, the rays will interact with them in the given order"
   ]
  },
  {
   "cell_type": "code",
   "execution_count": null,
   "id": "likely-brooks",
   "metadata": {},
   "outputs": [],
   "source": [
    "quiz.question_2()"
   ]
  },
  {
   "cell_type": "markdown",
   "id": "rural-thirty",
   "metadata": {},
   "source": [
    "### Question 3\n",
    "\n",
    "What is the purpose of the priority parameter?\n",
    "\n",
    "- A: To select which of two overlapping geometries to simulate in overlapping region\n",
    "- B: To select how important a geometry is and assign statistics accordingly\n",
    "- C: To hide a geometry component when drawing the instrument\n",
    "- D: To disable or enable a geometry"
   ]
  },
  {
   "cell_type": "code",
   "execution_count": null,
   "id": "heavy-insured",
   "metadata": {},
   "outputs": [],
   "source": [
    "quiz.question_3()"
   ]
  },
  {
   "cell_type": "markdown",
   "id": "italic-injury",
   "metadata": {},
   "source": [
    "## Build an imaging subject\n",
    "The exercise provides a simple imaging instrument with a few material definitions, and you will build the geometry to be imaged. First we load McStasScript and setup an instrument!"
   ]
  },
  {
   "cell_type": "code",
   "execution_count": null,
   "id": "educated-trail",
   "metadata": {},
   "outputs": [],
   "source": [
    "import mcstasscript as ms\n",
    "\n",
    "instrument = ms.McStas_instr(\"exercise_2\", input_path=\"run_folder\")\n",
    "instrument.settings(output_path=\"data_folder/exercise_2\")\n",
    "\n",
    "# Necessary for current version of Union in McStas 3.X\n",
    "init = instrument.add_component(\"init\", \"Union_init\")"
   ]
  },
  {
   "cell_type": "markdown",
   "id": "interstate-slide",
   "metadata": {},
   "source": [
    "## Imaging instrument\n",
    "Here the simple imaging instrument is added with two different materials, Aluminium and SiO2 (quartz)."
   ]
  },
  {
   "cell_type": "code",
   "execution_count": null,
   "id": "fallen-colombia",
   "metadata": {},
   "outputs": [],
   "source": [
    "Al_inc = instrument.add_component(\"Al_inc\", \"Incoherent_process\")\n",
    "Al_inc.sigma = 4*0.0082 # 4 atoms per unit cell\n",
    "Al_inc.unit_cell_volume = 66.4\n",
    "\n",
    "Al_pow = instrument.add_component(\"Al_pow\", \"Powder_process\")\n",
    "Al_pow.reflections = '\"Al.laz\"'\n",
    "\n",
    "Al = instrument.add_component(\"Al\", \"Union_make_material\")\n",
    "Al.process_string = '\"Al_inc,Al_pow\"'\n",
    "Al.my_absorption = 100*4*0.231/66.4 # barns [m^2 E-28]*Å^3 [m^3 E-30]=[m E-2]\n",
    "\n",
    "SiO2_inc = instrument.add_component(\"SiO2_inc\", \"Incoherent_process\")\n",
    "SiO2_inc.sigma = 3*0.0056 # 4 atoms per unit cell\n",
    "SiO2_inc.unit_cell_volume = 112.35\n",
    "\n",
    "SiO2_pow = instrument.add_component(\"SiO2_pow\", \"Powder_process\")\n",
    "SiO2_pow.reflections = '\"SiO2_quartza.laz\"'\n",
    "\n",
    "SiO2 = instrument.add_component(\"SiO2\", \"Union_make_material\")\n",
    "SiO2.process_string = '\"SiO2_inc,SiO2_pow\"'\n",
    "SiO2.my_absorption = 100*3*0.1714/112.35 # barns [m^2 E-28]*Å^3 [m^3 E-30]=[m E-2]\n",
    "\n",
    "source = instrument.add_component(\"source\", \"Source_simple\")\n",
    "source.set_parameters(radius=0.01, focus_xw=0.2, focus_yh=0.2, dist=10, flux=1E9)\n",
    "instrument.add_parameter(\"double\", \"wavelength\", value=6.0, comment=\"[AA]  Mean wavelength of neutrons\")\n",
    "instrument.add_parameter(\"double\", \"d_wavelength\", value=3.0, comment=\"[AA]  Wavelength spread of neutrons\")\n",
    "source.lambda0 = \"wavelength\"\n",
    "source.dlambda = \"d_wavelength\"\n",
    "\n",
    "sample_rotation = instrument.add_parameter(\"sample_rotation\", value=0, comment=\"Rotation of sample [deg]\")\n",
    "sample_position = instrument.add_component(\"sample_position\", \"Arm\")\n",
    "sample_position.set_AT(9.5, RELATIVE=source)\n",
    "sample_position.set_ROTATED([0, sample_rotation, 0], RELATIVE=source)\n",
    "\n",
    "PSD = instrument.add_component(\"detector\", \"PSD_monitor\")\n",
    "PSD.set_parameters(xwidth=0.2, yheight=0.2, filename='\"PSD.dat\"', nx=250, ny=250)\n",
    "PSD.set_AT(10, RELATIVE=source)"
   ]
  },
  {
   "cell_type": "markdown",
   "id": "durable-application",
   "metadata": {},
   "source": [
    "### Question 4 - Add a box\n",
    "The imaging instrument includes the sample position and the detector, we will place our union geometry components and the master between these. First add a Union_box at the sample position with the following properties:\n",
    "- Width of 16 cm\n",
    "- Height of 9 cm\n",
    "- Depth of 7 cm\n",
    "- Material Al"
   ]
  },
  {
   "cell_type": "code",
   "execution_count": null,
   "id": "unique-recall",
   "metadata": {},
   "outputs": [],
   "source": [
    "# Your code here"
   ]
  },
  {
   "cell_type": "code",
   "execution_count": null,
   "id": "durable-silly",
   "metadata": {},
   "outputs": [],
   "source": [
    "quiz.question_4(instrument)"
   ]
  },
  {
   "cell_type": "markdown",
   "id": "amazing-framing",
   "metadata": {},
   "source": [
    "### Question 5\n",
    "Add a Union_master component after the box."
   ]
  },
  {
   "cell_type": "code",
   "execution_count": null,
   "id": "beneficial-pepper",
   "metadata": {},
   "outputs": [],
   "source": [
    "# Your code here"
   ]
  },
  {
   "cell_type": "code",
   "execution_count": null,
   "id": "romance-priority",
   "metadata": {},
   "outputs": [],
   "source": [
    "quiz.question_5(instrument)"
   ]
  },
  {
   "cell_type": "markdown",
   "id": "dimensional-trigger",
   "metadata": {},
   "source": [
    "### Question 6\n",
    "In the current version of the Union components on McStas 3.X it is necessary to add a Union_stop component after all Union components, add one to the end of the instrument."
   ]
  },
  {
   "cell_type": "code",
   "execution_count": null,
   "id": "earned-julian",
   "metadata": {},
   "outputs": [],
   "source": [
    "# Your code here"
   ]
  },
  {
   "cell_type": "code",
   "execution_count": null,
   "id": "vertical-hours",
   "metadata": {},
   "outputs": [],
   "source": [
    "quiz.question_6(instrument)"
   ]
  },
  {
   "cell_type": "markdown",
   "id": "physical-portrait",
   "metadata": {},
   "source": [
    "### Check the diagram"
   ]
  },
  {
   "cell_type": "code",
   "execution_count": null,
   "id": "satellite-fellow",
   "metadata": {},
   "outputs": [],
   "source": [
    "instrument.show_diagram()"
   ]
  },
  {
   "cell_type": "markdown",
   "id": "minor-values",
   "metadata": {},
   "source": [
    "### Run the simulation\n",
    "Now all the required pieces are added to the instrument, processes assembled into materials, a geometry and a master component."
   ]
  },
  {
   "cell_type": "code",
   "execution_count": null,
   "id": "boring-walter",
   "metadata": {},
   "outputs": [],
   "source": [
    "import mcstasscript.jb_interface as ms_widget\n",
    "%matplotlib widget"
   ]
  },
  {
   "cell_type": "code",
   "execution_count": null,
   "id": "insured-german",
   "metadata": {},
   "outputs": [],
   "source": [
    "ms_widget.show(instrument)"
   ]
  },
  {
   "cell_type": "markdown",
   "id": "talented-dining",
   "metadata": {},
   "source": [
    "### Question 7 - Hollow out the box\n",
    "Now we will use the ability of geometry components to overlap to create a opening in the top of the box. Add a second box called \"box_vacuum\" before the master component. The width and depth should be smaller such that the wall thickness of the hollow box is 1 cm. The bottom should also be 1 cm, place the box_vacuum relative to the box such that this is the case."
   ]
  },
  {
   "cell_type": "code",
   "execution_count": null,
   "id": "touched-transcription",
   "metadata": {},
   "outputs": [],
   "source": [
    "# Your code here"
   ]
  },
  {
   "cell_type": "code",
   "execution_count": null,
   "id": "elder-windows",
   "metadata": {},
   "outputs": [],
   "source": [
    "quiz.question_7(instrument)"
   ]
  },
  {
   "cell_type": "markdown",
   "id": "civilian-eagle",
   "metadata": {},
   "source": [
    "### Run the experiment again\n",
    "You can now see the effect of the hollowed out box by running the simulation."
   ]
  },
  {
   "cell_type": "code",
   "execution_count": null,
   "id": "digital-sydney",
   "metadata": {},
   "outputs": [],
   "source": [
    "ms_widget.show(instrument)"
   ]
  },
  {
   "cell_type": "markdown",
   "id": "nearby-emphasis",
   "metadata": {},
   "source": [
    "### Question 8 - Add a few marbles\n",
    "Add a few marbles to you box, these should be Union_sphere components placed relative to \"box_vacuum\" and be inside the hollow part of the box. Have your marbles use the \"SiO2\" material definition."
   ]
  },
  {
   "cell_type": "code",
   "execution_count": null,
   "id": "desperate-investing",
   "metadata": {},
   "outputs": [],
   "source": [
    "# Your code here"
   ]
  },
  {
   "cell_type": "code",
   "execution_count": null,
   "id": "wicked-shadow",
   "metadata": {},
   "outputs": [],
   "source": [
    "quiz.question_8(instrument)"
   ]
  },
  {
   "cell_type": "markdown",
   "id": "fewer-description",
   "metadata": {},
   "source": [
    "### Run the experiment again\n",
    "You should now be able to see your marbles in the box!"
   ]
  },
  {
   "cell_type": "code",
   "execution_count": null,
   "id": "indonesian-genius",
   "metadata": {},
   "outputs": [],
   "source": [
    "ms_widget.show(instrument)"
   ]
  },
  {
   "cell_type": "markdown",
   "id": "superior-harbor",
   "metadata": {},
   "source": [
    "### Question 9\n",
    "Does the simulation allow a ray to scatter in all the marbles?\n",
    "\n",
    "- A: Yes, and the box too\n",
    "- B: No, the ray can only scatter in one of the geometries"
   ]
  },
  {
   "cell_type": "code",
   "execution_count": null,
   "id": "arctic-system",
   "metadata": {},
   "outputs": [],
   "source": [
    "quiz.question_9()"
   ]
  },
  {
   "cell_type": "markdown",
   "id": "experienced-fancy",
   "metadata": {},
   "source": [
    "### Bonus\n",
    "If you have more time, add more geometries to the box, such as the Union_cylinder or Union_cone. "
   ]
  },
  {
   "cell_type": "code",
   "execution_count": null,
   "id": "medium-technician",
   "metadata": {},
   "outputs": [],
   "source": []
  },
  {
   "cell_type": "code",
   "execution_count": null,
   "id": "preceding-cradle",
   "metadata": {},
   "outputs": [],
   "source": []
  },
  {
   "cell_type": "code",
   "execution_count": null,
   "id": "better-rabbit",
   "metadata": {},
   "outputs": [],
   "source": []
  },
  {
   "cell_type": "code",
   "execution_count": null,
   "id": "stretch-charlotte",
   "metadata": {},
   "outputs": [],
   "source": []
  }
 ],
 "metadata": {
  "kernelspec": {
   "display_name": "Python 3",
   "language": "python",
   "name": "python3"
  },
  "language_info": {
   "codemirror_mode": {
    "name": "ipython",
    "version": 3
   },
   "file_extension": ".py",
   "mimetype": "text/x-python",
   "name": "python",
   "nbconvert_exporter": "python",
   "pygments_lexer": "ipython3",
   "version": "3.8.8"
  }
 },
 "nbformat": 4,
 "nbformat_minor": 5
}
