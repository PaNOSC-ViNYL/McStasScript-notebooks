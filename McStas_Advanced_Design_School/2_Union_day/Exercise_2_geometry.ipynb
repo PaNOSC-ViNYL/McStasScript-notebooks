{
 "cells": [
  {
   "cell_type": "markdown",
   "id": "agricultural-denial",
   "metadata": {},
   "source": [
    "# Exercise on geometry in Union\n",
    "When using the Union components, physics and geometry are separated into different components. The physics are described with process components which are collected into material definitions. This exercise focuses on the geometry aspect and will teach you how to build complex geometries from the simple shapes available. First a few questions to get started."
   ]
  },
  {
   "cell_type": "code",
   "execution_count": 1,
   "id": "rural-trading",
   "metadata": {},
   "outputs": [],
   "source": [
    "import load_quiz\n",
    "quiz = load_quiz.exercise_2()"
   ]
  },
  {
   "cell_type": "markdown",
   "id": "controlled-lawrence",
   "metadata": {},
   "source": [
    "### Question 1\n",
    "\n",
    "Which statement about geometry components below is true?\n",
    "\n",
    "- A: Geometry components can take multiple material definitions\n",
    "- B: Geometry components are optional for running a Union simulation\n",
    "- C: The position and rotation of geometry components are important\n",
    "- D: The geometry component performs the simulation"
   ]
  },
  {
   "cell_type": "code",
   "execution_count": 2,
   "id": "liberal-retailer",
   "metadata": {},
   "outputs": [
    {
     "name": "stdout",
     "output_type": "stream",
     "text": [
      "\u001b[1m\u001b[92mCorrect!\u001b[0m\u001b[0m\n",
      "Yes, the geometry component describes something physical which is placed in\n",
      "space.\n"
     ]
    }
   ],
   "source": [
    "quiz.question_1()"
   ]
  },
  {
   "cell_type": "markdown",
   "id": "exterior-cream",
   "metadata": {},
   "source": [
    "### Question 2\n",
    "\n",
    "Does the placement of the geometry components in the instrument file matter?\n",
    "\n",
    "- A: Not at all, they can be wherever in the instrument\n",
    "- B: Slightly, they have to be after their material and before their master\n",
    "- C: Yes, the rays will interact with them in the given order"
   ]
  },
  {
   "cell_type": "code",
   "execution_count": 3,
   "id": "governmental-valuation",
   "metadata": {},
   "outputs": [
    {
     "name": "stdout",
     "output_type": "stream",
     "text": [
      "\u001b[1m\u001b[92mCorrect!\u001b[0m\u001b[0m\n",
      "Yes, but their order does not matter, they will all be simulated.\n"
     ]
    }
   ],
   "source": [
    "quiz.question_2()"
   ]
  },
  {
   "cell_type": "markdown",
   "id": "alive-simpson",
   "metadata": {},
   "source": [
    "### Question 3\n",
    "\n",
    "What is the purpose of the priority parameter?\n",
    "\n",
    "- A: To select which of two overlapping geometries to simulate in overlapping region\n",
    "- B: To select how important a geometry is and assign statistics accordingly\n",
    "- C: To hide a geometry component when drawing the instrument\n",
    "- D: To disable or enable a geometry"
   ]
  },
  {
   "cell_type": "code",
   "execution_count": 4,
   "id": "intimate-surgeon",
   "metadata": {},
   "outputs": [
    {
     "name": "stdout",
     "output_type": "stream",
     "text": [
      "\u001b[1m\u001b[92mCorrect!\u001b[0m\u001b[0m\n",
      "Yes, the one with highest priority is simulated in the overlapping region\n"
     ]
    }
   ],
   "source": [
    "quiz.question_3()"
   ]
  },
  {
   "cell_type": "markdown",
   "id": "meaningful-filename",
   "metadata": {},
   "source": [
    "## Build an imaging subject\n",
    "The exercise provides a simple imaging instrument with a few material definitions, and you will build the geometry to be imaged. First we load McStasScript and setup an instrument!"
   ]
  },
  {
   "cell_type": "code",
   "execution_count": 5,
   "id": "educated-trail",
   "metadata": {},
   "outputs": [],
   "source": [
    "import mcstasscript as ms\n",
    "\n",
    "instrument = ms.McStas_instr(\"exercise_2\", input_path=\"run_folder\")\n",
    "instrument.settings(output_path=\"data_folder/exercise_2\")\n",
    "\n",
    "# Necessary for current version of Union in McStas 3.X\n",
    "init = instrument.add_component(\"init\", \"Union_init\")"
   ]
  },
  {
   "cell_type": "markdown",
   "id": "interstate-slide",
   "metadata": {},
   "source": [
    "## Imaging instrument\n",
    "Here the simple imaging instrument is added with two different materials, Aluminium and SiO2 (quartz)."
   ]
  },
  {
   "cell_type": "code",
   "execution_count": 6,
   "id": "fallen-colombia",
   "metadata": {},
   "outputs": [],
   "source": [
    "Al_inc = instrument.add_component(\"Al_inc\", \"Incoherent_process\")\n",
    "Al_inc.sigma = 4*0.0082 # 4 atoms per unit cell\n",
    "Al_inc.unit_cell_volume = 66.4\n",
    "\n",
    "Al_pow = instrument.add_component(\"Al_pow\", \"Powder_process\")\n",
    "Al_pow.reflections = '\"Al.laz\"'\n",
    "\n",
    "Al = instrument.add_component(\"Al\", \"Union_make_material\")\n",
    "Al.process_string = '\"Al_inc,Al_pow\"'\n",
    "Al.my_absorption = 100*4*0.231/66.4 # barns [m^2 E-28]*Å^3 [m^3 E-30]=[m E-2]\n",
    "\n",
    "SiO2_inc = instrument.add_component(\"SiO2_inc\", \"Incoherent_process\")\n",
    "SiO2_inc.sigma = 3*0.0056 # 4 atoms per unit cell\n",
    "SiO2_inc.unit_cell_volume = 112.35\n",
    "\n",
    "SiO2_pow = instrument.add_component(\"SiO2_pow\", \"Powder_process\")\n",
    "SiO2_pow.reflections = '\"SiO2_quartza.laz\"'\n",
    "\n",
    "SiO2 = instrument.add_component(\"SiO2\", \"Union_make_material\")\n",
    "SiO2.process_string = '\"SiO2_inc,SiO2_pow\"'\n",
    "SiO2.my_absorption = 100*3*0.1714/112.35 # barns [m^2 E-28]*Å^3 [m^3 E-30]=[m E-2]\n",
    "\n",
    "source = instrument.add_component(\"source\", \"Source_simple\")\n",
    "source.set_parameters(radius=0.01, focus_xw=0.2, focus_yh=0.2, dist=10, flux=1E9)\n",
    "instrument.add_parameter(\"double\", \"wavelength\", value=6.0, comment=\"[AA]  Mean wavelength of neutrons\")\n",
    "instrument.add_parameter(\"double\", \"d_wavelength\", value=3.0, comment=\"[AA]  Wavelength spread of neutrons\")\n",
    "source.lambda0 = \"wavelength\"\n",
    "source.dlambda = \"d_wavelength\"\n",
    "\n",
    "sample_rotation = instrument.add_parameter(\"sample_rotation\", value=0, comment=\"Rotation of sample [deg]\")\n",
    "sample_position = instrument.add_component(\"sample_position\", \"Arm\")\n",
    "sample_position.set_AT(9.5, RELATIVE=source)\n",
    "sample_position.set_ROTATED([0, sample_rotation, 0], RELATIVE=source)\n",
    "\n",
    "PSD = instrument.add_component(\"detector\", \"PSD_monitor\")\n",
    "PSD.set_parameters(xwidth=0.2, yheight=0.2, filename='\"PSD.dat\"', nx=250, ny=250)\n",
    "PSD.set_AT(10, RELATIVE=source)"
   ]
  },
  {
   "cell_type": "markdown",
   "id": "durable-application",
   "metadata": {},
   "source": [
    "### Question 4 - Add a box\n",
    "The imaging instrument includes the sample position and the detector, we will place our union geometry components and the master between these. First add a Union_box at the sample position with the following properties:\n",
    "- Width of 16 cm\n",
    "- Height of 9 cm\n",
    "- Depth of 7 cm\n",
    "- Material Al"
   ]
  },
  {
   "cell_type": "code",
   "execution_count": 7,
   "id": "unique-recall",
   "metadata": {},
   "outputs": [],
   "source": [
    "# Your code here"
   ]
  },
  {
   "cell_type": "code",
   "execution_count": 8,
   "id": "durable-silly",
   "metadata": {},
   "outputs": [
    {
     "name": "stdout",
     "output_type": "stream",
     "text": [
      "\u001b[1m\u001b[92mCorrect!\u001b[0m\u001b[0m\n",
      "The Union_box component was found with the right properties\n"
     ]
    }
   ],
   "source": [
    "quiz.question_4(instrument)"
   ]
  },
  {
   "cell_type": "markdown",
   "id": "amazing-framing",
   "metadata": {},
   "source": [
    "### Question 5\n",
    "Add a Union_master component after the box."
   ]
  },
  {
   "cell_type": "code",
   "execution_count": 9,
   "id": "nervous-milwaukee",
   "metadata": {},
   "outputs": [],
   "source": [
    "# Your code here"
   ]
  },
  {
   "cell_type": "code",
   "execution_count": 10,
   "id": "operating-truck",
   "metadata": {},
   "outputs": [
    {
     "name": "stdout",
     "output_type": "stream",
     "text": [
      "\u001b[1m\u001b[92mCorrect!\u001b[0m\u001b[0m\n",
      "The Union_master component was found with the right properties\n"
     ]
    }
   ],
   "source": [
    "quiz.question_5(instrument)"
   ]
  },
  {
   "cell_type": "markdown",
   "id": "super-warner",
   "metadata": {},
   "source": [
    "### Question 6\n",
    "In the current version of the Union components on McStas 3.X it is necessary to add a Union_stop component after all Union components, add one to the end of the instrument."
   ]
  },
  {
   "cell_type": "code",
   "execution_count": 11,
   "id": "earned-julian",
   "metadata": {},
   "outputs": [],
   "source": [
    "# Your code here"
   ]
  },
  {
   "cell_type": "code",
   "execution_count": 12,
   "id": "another-election",
   "metadata": {},
   "outputs": [
    {
     "name": "stdout",
     "output_type": "stream",
     "text": [
      "\u001b[1m\u001b[92mCorrect!\u001b[0m\u001b[0m\n",
      "The Union_stop component was found with the right properties\n"
     ]
    }
   ],
   "source": [
    "quiz.question_6(instrument)"
   ]
  },
  {
   "cell_type": "markdown",
   "id": "processed-making",
   "metadata": {},
   "source": [
    "### Check the diagram"
   ]
  },
  {
   "cell_type": "code",
   "execution_count": 13,
   "id": "satellite-fellow",
   "metadata": {},
   "outputs": [
    {
     "data": {
      "image/png": "[encoded data removed]",
      "text/plain": [
       "<Figure size 446.4x129.6 with 1 Axes>"
      ]
     },
     "metadata": {},
     "output_type": "display_data"
    },
    {
     "data": {
      "image/png": "[encoded data removed]",
      "text/plain": [
       "<Figure size 453.6x403.2 with 1 Axes>"
      ]
     },
     "metadata": {
      "needs_background": "light"
     },
     "output_type": "display_data"
    }
   ],
   "source": [
    "instrument.show_diagram()"
   ]
  },
  {
   "cell_type": "markdown",
   "id": "molecular-stream",
   "metadata": {},
   "source": [
    "### Run the simulation\n",
    "Now all the required pieces are added to the instrument, processes assembled into materials, a geometry and a master component."
   ]
  },
  {
   "cell_type": "code",
   "execution_count": 14,
   "id": "boring-walter",
   "metadata": {},
   "outputs": [],
   "source": [
    "import mcstasscript.jb_interface as ms_widget\n",
    "%matplotlib widget"
   ]
  },
  {
   "cell_type": "code",
   "execution_count": 15,
   "id": "insured-german",
   "metadata": {},
   "outputs": [
    {
     "data": {
      "application/vnd.jupyter.widget-view+json": {
       "model_id": "8013d74d8d084d75b60f555384aa3f3e",
       "version_major": 2,
       "version_minor": 0
      },
      "text/plain": [
       "VBox(children=(VBox(children=(HBox(children=(Label(value='wavelength', layout=Layout(height='32px', width='15%…"
      ]
     },
     "metadata": {},
     "output_type": "display_data"
    }
   ],
   "source": [
    "ms_widget.show(instrument)"
   ]
  },
  {
   "cell_type": "markdown",
   "id": "talented-dining",
   "metadata": {},
   "source": [
    "### Question 7 - Hollow out the box\n",
    "Now we will use the ability of geometry components to overlap to create a opening in the top of the box. Add a second box called \"box_vacuum\" before the master component. The width and depth should be smaller such that the wall thickness of the hollow box is 1 cm. The bottom should also be 1 cm, place the box_vacuum relative to the box such that this is the case."
   ]
  },
  {
   "cell_type": "code",
   "execution_count": 16,
   "id": "touched-transcription",
   "metadata": {},
   "outputs": [],
   "source": [
    "# Your code here"
   ]
  },
  {
   "cell_type": "code",
   "execution_count": 17,
   "id": "elder-windows",
   "metadata": {},
   "outputs": [
    {
     "name": "stdout",
     "output_type": "stream",
     "text": [
      "\u001b[1m\u001b[92mCorrect!\u001b[0m\u001b[0m\n",
      "The Union_box component was found with the right properties\n",
      "\u001b[1m\u001b[92mCorrect!\u001b[0m\u001b[0m\n",
      "The box_vacuum was added correctly and hollows out the box!\n"
     ]
    }
   ],
   "source": [
    "quiz.question_7(instrument)"
   ]
  },
  {
   "cell_type": "markdown",
   "id": "guided-planning",
   "metadata": {},
   "source": [
    "### Run the experiment again\n",
    "You can now see the effect of the hollowed out box by running the simulation."
   ]
  },
  {
   "cell_type": "code",
   "execution_count": 18,
   "id": "digital-sydney",
   "metadata": {},
   "outputs": [
    {
     "data": {
      "application/vnd.jupyter.widget-view+json": {
       "model_id": "b37b295485cc4f46bcf65df8c01258a7",
       "version_major": 2,
       "version_minor": 0
      },
      "text/plain": [
       "VBox(children=(VBox(children=(HBox(children=(Label(value='wavelength', layout=Layout(height='32px', width='15%…"
      ]
     },
     "metadata": {},
     "output_type": "display_data"
    }
   ],
   "source": [
    "ms_widget.show(instrument)"
   ]
  },
  {
   "cell_type": "markdown",
   "id": "nearby-emphasis",
   "metadata": {},
   "source": [
    "### Question 8 - Add a few marbles\n",
    "Add a few marbles to you box, these should be Union_sphere components placed relative to \"box_vacuum\" and be inside the hollow part of the box. Have your marbles use the \"SiO2\" material definition."
   ]
  },
  {
   "cell_type": "code",
   "execution_count": 20,
   "id": "desperate-investing",
   "metadata": {},
   "outputs": [],
   "source": [
    "# Your code here"
   ]
  },
  {
   "cell_type": "code",
   "execution_count": 21,
   "id": "wicked-shadow",
   "metadata": {},
   "outputs": [
    {
     "name": "stdout",
     "output_type": "stream",
     "text": [
      "\u001b[1m\u001b[92mCorrect!\u001b[0m\u001b[0m\n",
      "Found 3 marbles with appropriate properties, great! You still have all your\n",
      "marbles!\n"
     ]
    }
   ],
   "source": [
    "quiz.question_8(instrument)"
   ]
  },
  {
   "cell_type": "markdown",
   "id": "green-legislature",
   "metadata": {},
   "source": [
    "### Run the experiment again\n",
    "You should now be able to see your marbles in the box!"
   ]
  },
  {
   "cell_type": "code",
   "execution_count": 22,
   "id": "indonesian-genius",
   "metadata": {},
   "outputs": [
    {
     "data": {
      "application/vnd.jupyter.widget-view+json": {
       "model_id": "bf9f43c9404e417998b4bf470778e60c",
       "version_major": 2,
       "version_minor": 0
      },
      "text/plain": [
       "VBox(children=(VBox(children=(HBox(children=(Label(value='wavelength', layout=Layout(height='32px', width='15%…"
      ]
     },
     "metadata": {},
     "output_type": "display_data"
    }
   ],
   "source": [
    "ms_widget.show(instrument)"
   ]
  },
  {
   "cell_type": "markdown",
   "id": "secondary-version",
   "metadata": {},
   "source": [
    "### Question 9\n",
    "Does the simulation allow a ray to scatter in all the marbles?\n",
    "\n",
    "- A: Yes, and the box too\n",
    "- B: No, the ray can only scatter in one of the geometries"
   ]
  },
  {
   "cell_type": "code",
   "execution_count": 23,
   "id": "sunrise-neighbor",
   "metadata": {},
   "outputs": [
    {
     "name": "stdout",
     "output_type": "stream",
     "text": [
      "\u001b[1m\u001b[92mCorrect!\u001b[0m\u001b[0m\n",
      "Yes, multiple scattering between all geometries is always simulated with Union\n",
      "components\n"
     ]
    }
   ],
   "source": [
    "quiz.question_9()"
   ]
  },
  {
   "cell_type": "markdown",
   "id": "patent-beatles",
   "metadata": {},
   "source": [
    "### Bonus\n",
    "If you have more time, add more geometries to the box, such as the Union_cylinder or Union_cone. "
   ]
  },
  {
   "cell_type": "code",
   "execution_count": null,
   "id": "electrical-qatar",
   "metadata": {},
   "outputs": [],
   "source": []
  },
  {
   "cell_type": "code",
   "execution_count": null,
   "id": "cleared-hollywood",
   "metadata": {},
   "outputs": [],
   "source": []
  },
  {
   "cell_type": "code",
   "execution_count": null,
   "id": "prospective-effort",
   "metadata": {},
   "outputs": [],
   "source": []
  },
  {
   "cell_type": "code",
   "execution_count": null,
   "id": "skilled-palestinian",
   "metadata": {},
   "outputs": [],
   "source": []
  }
 ],
 "metadata": {
  "kernelspec": {
   "display_name": "Python 3",
   "language": "python",
   "name": "python3"
  },
  "language_info": {
   "codemirror_mode": {
    "name": "ipython",
    "version": 3
   },
   "file_extension": ".py",
   "mimetype": "text/x-python",
   "name": "python",
   "nbconvert_exporter": "python",
   "pygments_lexer": "ipython3",
   "version": "3.8.8"
  }
 },
 "nbformat": 4,
 "nbformat_minor": 5
}
