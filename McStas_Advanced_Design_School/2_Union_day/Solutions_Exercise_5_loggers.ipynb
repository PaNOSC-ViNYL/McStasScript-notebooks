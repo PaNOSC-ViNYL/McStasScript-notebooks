{
 "cells": [
  {
   "cell_type": "markdown",
   "id": "accomplished-chest",
   "metadata": {},
   "source": [
    "# Loggers in Union components\n",
    "It is possible to record absorption that occurs within a Union system by using absorption loggers. There are several different absorption loggers that behave in similar ways. In this exercise you will get an instrument with a union system and will add absorption loggers to see where absorption happens in the system and to build a detector."
   ]
  },
  {
   "cell_type": "code",
   "execution_count": null,
   "id": "dramatic-mongolia",
   "metadata": {},
   "outputs": [],
   "source": [
    "import mcstasscript as ms\n",
    "import load_quiz"
   ]
  },
  {
   "cell_type": "code",
   "execution_count": null,
   "id": "therapeutic-george",
   "metadata": {},
   "outputs": [],
   "source": [
    "instrument = ms.McStas_instr(\"exercise_4\", input_path=\"run_folder\")\n",
    "instrument.settings(output_path=\"data_folder/exercise_4\")\n",
    "\n",
    "instrument.add_component(\"init\", \"Union_init\") # Necessary for current version of Union in McStas 3.X\n",
    "\n",
    "quiz = load_quiz.exercise_5()"
   ]
  },
  {
   "cell_type": "code",
   "execution_count": null,
   "id": "smart-solution",
   "metadata": {},
   "outputs": [],
   "source": [
    "# Set up Al material with incoherent and powder\n",
    "Al_incoherent = instrument.add_component(\"Al_incoherent\", \"Incoherent_process\")\n",
    "Al_incoherent.sigma = \"4*0.0082\"\n",
    "Al_incoherent.packing_factor = 1\n",
    "Al_incoherent.unit_cell_volume = 66.4\n",
    "\n",
    "Al_powder = instrument.add_component(\"Al_powder\", \"Powder_process\")\n",
    "Al_powder.reflections = \"\\\"Al.laz\\\"\"\n",
    "\n",
    "Al = instrument.add_component(\"Al\", \"Union_make_material\")\n",
    "Al.process_string = '\"Al_incoherent,Al_powder\"'\n",
    "Al.my_absorption = \"100*4*0.231/66.4\"\n",
    "\n",
    "# Set up YBaCuO with incoherent and single crystal\n",
    "YBaCuO_incoherent = instrument.add_component(\"YBaCuO_incoherent\", \"Incoherent_process\")\n",
    "YBaCuO_incoherent.sigma = 2.105\n",
    "YBaCuO_incoherent.unit_cell_volume = 173.28\n",
    "\n",
    "YBaCuO_crystal = instrument.add_component(\"YBaCuO_crystal\", \"Single_crystal_process\")\n",
    "YBaCuO_crystal.set_parameters(\n",
    "{\"ax\" : 3.816, \"ay\" : 0, \"az\" : 0,\n",
    " \"bx\" : 0, \"by\" : 3.886, \"bz\" : 0,\n",
    " \"cx\" : 0, \"cy\" : 0, \"cz\" : 11.677,\n",
    " \"delta_d_d\" : 5E-4, \"mosaic\" : 30, \"barns\" : 1,\n",
    " \"reflections\" : '\"YBaCuO.lau\"'})\n",
    "\n",
    "YBaCuO = instrument.add_component(\"YBaCuO\", \"Union_make_material\")\n",
    "YBaCuO.process_string = '\"YBaCuO_incoherent,YBaCuO_crystal\"'\n",
    "YBaCuO.my_absorption = 100*14.82/173.28\n",
    "\n",
    "src = instrument.add_component(\"source\", \"Source_div\")\n",
    "src.xwidth = 0.01\n",
    "src.yheight = 0.035\n",
    "src.focus_aw = 0.01\n",
    "src.focus_ah = 0.01\n",
    "src.flux = 1E13\n",
    "instrument.add_parameter(\"double\", \"wavelength\", value=4.0, comment=\"[AA]  Mean wavelength of neutrons\")\n",
    "instrument.add_parameter(\"double\", \"d_wavelength\", value=0.001, comment=\"[AA]  Wavelength spread of neutrons\")\n",
    "src.lambda0 = \"wavelength\"\n",
    "src.dlambda = \"d_wavelength\"\n",
    "\n",
    "\n",
    "# At a reference point to build the cryostat around\n",
    "cryostat_center = instrument.add_component(\"cryostat_center\", \"Arm\")\n",
    "cryostat_center.set_AT([0, 0, 1], RELATIVE=src)\n",
    "\n",
    "# Parameter for controlling sample rotation\n",
    "A3_angle = instrument.add_parameter(\"A3_angle\", value=30.99)\n",
    "\n",
    "sample = instrument.add_component(\"sample\", \"Union_box\")\n",
    "sample.set_AT([0, 0, 0], RELATIVE=cryostat_center)\n",
    "sample.set_ROTATED([0, A3_angle, 0], RELATIVE=cryostat_center)\n",
    "sample.xwidth = 0.012\n",
    "sample.yheight = 0.032\n",
    "sample.zdepth = 0.009\n",
    "sample.material_string = '\"YBaCuO\"'\n",
    "sample.priority = 200\n",
    "\n",
    "# Adding cryostat using the cryostat tool\n",
    "orange_cryostat = ms.Cryostat(\"orange\", instrument, max_priority=100)\n",
    "orange_cryostat.set_AT(0, cryostat_center)\n",
    "\n",
    "orange_cryostat.add_layer(inner_radius=70E-3/2, outer_radius=75E-3/2,\n",
    "                          origin_to_top=160-3, top_thickness=-1E-3,\n",
    "                          origin_to_bottom=40E-3, bottom_thickness=5E-3,\n",
    "                          p_interact=0.2)\n",
    "\n",
    "orange_cryostat.add_layer(inner_radius=120E-3/2, outer_radius=125E-3/2,\n",
    "                          origin_to_top=190E-3, top_thickness=22E-3,\n",
    "                          origin_to_bottom=80E-3, bottom_thickness=31E-3,\n",
    "                          p_interact=0.2)\n",
    "\n",
    "orange_cryostat.build(include_master=True)\n",
    "master = instrument.get_component(\"orange_master\") # grab master object\n",
    "\n",
    "instrument.add_declare_var(\"double\", \"t_min\")\n",
    "instrument.add_declare_var(\"double\", \"t_max\")\n",
    "\n",
    "instrument.append_initialize(\"t_min = (wavelength - d_wavelength)*(1.0 - 0.18 + 0.5)/(K2V*2*PI);\")\n",
    "instrument.append_initialize(\"t_max = (wavelength + d_wavelength)*(1.0 + 0.28 + 0.5)/(K2V*2*PI);\")\n",
    "instrument.add_declare_var(\"char\", \"options\", array=256)\n",
    "instrument.append_initialize('sprintf(options,\"banana, theta limits=[-180,180] bins=180, t limits=[%g %g] bins=300\",t_min,t_max);')\n",
    "\n",
    "banana_detector = instrument.add_component(\"banana_tof_detector\", \"Monitor_nD\")\n",
    "banana_detector.set_RELATIVE(cryostat_center)\n",
    "banana_detector.xwidth = 1\n",
    "banana_detector.yheight = 0.2\n",
    "banana_detector.restore_neutron = 1\n",
    "options = \"options\"\n",
    "banana_detector.options = options\n",
    "banana_detector.filename = '\"tof_b.dat\"'\n",
    "\n",
    "banana_detector = instrument.add_component(\"banana_detector\", \"Monitor_nD\")\n",
    "banana_detector.set_RELATIVE(cryostat_center)\n",
    "banana_detector.set_parameters(xwidth = 1.0, yheight = 0.2, filename='\"banana.dat\"', restore_neutron=1,\n",
    "                               options='\"banana, theta limits=[-180,180] bins=180\"')\n",
    "\n",
    "L_monitor = instrument.add_component(\"L_monitor\", \"L_monitor\")\n",
    "L_monitor.set_AT(0.3, RELATIVE=cryostat_center)\n",
    "L_monitor.set_parameters(xwidth=0.3, yheight=0.3,\n",
    "                         Lmin=\"wavelength - d_wavelength\",\n",
    "                         Lmax=\"wavelength + d_wavelength\",\n",
    "                         nL=300, filename='\"l_mon.dat\"', restore_neutron=1)\n",
    "\n",
    "stop = instrument.add_component(\"stop\", \"Union_stop\")"
   ]
  },
  {
   "cell_type": "code",
   "execution_count": null,
   "id": "aggregate-correction",
   "metadata": {},
   "outputs": [],
   "source": [
    "instrument.show_diagram()"
   ]
  },
  {
   "cell_type": "markdown",
   "id": "appreciated-communications",
   "metadata": {},
   "source": [
    "### Question 1\n",
    "Add a logger that records scattering projected onto a 2D plane, the component is called \"Union_logger_2D_space\". Place it before the master and have it record the z x plane. It should look at an area of +/- 7 cm in each direction with 200 bins. Provide a reasonable filename and place it such that it views the center of the cryostat."
   ]
  },
  {
   "cell_type": "code",
   "execution_count": null,
   "id": "joined-pennsylvania",
   "metadata": {},
   "outputs": [],
   "source": [
    "# Your code here\n",
    "logger_zx = instrument.add_component(\"logger_zx\", \"Union_logger_2D_space\", before=master)\n",
    "logger_zx.set_parameters(D_direction_1='\"z\"', D1_min=-0.07, D1_max=0.07, n1=200,\n",
    "                         D_direction_2='\"x\"', D2_min=-0.07, D2_max=0.07, n2=200,\n",
    "                         filename='\"logger_zx.dat\"')\n",
    "logger_zx.set_AT(0, cryostat_center)"
   ]
  },
  {
   "cell_type": "code",
   "execution_count": null,
   "id": "reverse-attribute",
   "metadata": {},
   "outputs": [],
   "source": [
    "quiz.question_1(instrument)"
   ]
  },
  {
   "cell_type": "markdown",
   "id": "becoming-hindu",
   "metadata": {},
   "source": [
    "### Question 2\n",
    "Add a similar logger, but in the zy plane instead of zx. In ther vertical direction this should go from - 10 cm to 20 cm."
   ]
  },
  {
   "cell_type": "code",
   "execution_count": null,
   "id": "chinese-indonesia",
   "metadata": {},
   "outputs": [],
   "source": [
    "logger_zy = instrument.add_component(\"logger_zy\", \"Union_logger_2D_space\", before=master)\n",
    "logger_zy.set_parameters(D_direction_1='\"z\"', D1_min=-0.07, D1_max=0.07, n1=200,\n",
    "                       D_direction_2='\"y\"', D2_min=-0.1, D2_max=0.2, n2=200,\n",
    "                       filename='\"logger_zy.dat\"')\n",
    "logger_zy.set_AT(0, cryostat_center)"
   ]
  },
  {
   "cell_type": "code",
   "execution_count": null,
   "id": "sophisticated-guidance",
   "metadata": {},
   "outputs": [],
   "source": [
    "quiz.question_2(instrument)"
   ]
  },
  {
   "cell_type": "markdown",
   "id": "grateful-madrid",
   "metadata": {},
   "source": [
    "### Question 3\n",
    "Add a Union_logger_2DQ component to investigate the scattering in the zx plane of the system. It should have limits +/- 3.3 Å$^{-1}$ and 200 bins in each direction."
   ]
  },
  {
   "cell_type": "code",
   "execution_count": null,
   "id": "pointed-context",
   "metadata": {},
   "outputs": [],
   "source": [
    "logger_2DQ = instrument.add_component(\"logger_2DQ\", \"Union_logger_2DQ\", before=master)\n",
    "logger_2DQ.set_parameters(Q_direction_1 = '\"z\"', Q1_min = -3.3, Q1_max = 3.3, n1 = 200,\n",
    "                          Q_direction_2 = '\"x\"', Q2_min = -3.3, Q2_max = 3.3, n2 = 200,\n",
    "                          filename = '\"logger_2DQ_zx.dat\"')"
   ]
  },
  {
   "cell_type": "code",
   "execution_count": null,
   "id": "stock-witch",
   "metadata": {},
   "outputs": [],
   "source": [
    "quiz.question_3(instrument)"
   ]
  },
  {
   "cell_type": "markdown",
   "id": "expressed-operation",
   "metadata": {},
   "source": [
    "## Run the simulation\n",
    "Time to run the simulation, but first we should consider at what settings.\n",
    "\n",
    "Our YBaCuO sample has the 010 axis along the z axis and have 010 allowed with d = 3.8843. Here we calculate the necessary rotation of the crystal for satisfying the Bragg condition."
   ]
  },
  {
   "cell_type": "code",
   "execution_count": null,
   "id": "liked-chancellor",
   "metadata": {},
   "outputs": [],
   "source": [
    "%matplotlib widget\n",
    "import mcstasscript.jb_interface as ms_widget"
   ]
  },
  {
   "cell_type": "code",
   "execution_count": null,
   "id": "acquired-kinase",
   "metadata": {},
   "outputs": [],
   "source": [
    "import math\n",
    "wavelength = 5.0\n",
    "theta = 180/3.14159*math.asin(wavelength/2.0/3.8843)\n",
    "print(\"theta = \", theta, \" at wavelength = \", wavelength)"
   ]
  },
  {
   "cell_type": "markdown",
   "id": "academic-charlotte",
   "metadata": {},
   "source": [
    "Use the simple math blog above to select appropriate parameters for the simulation. The log plot option with limited orders of magnitude really helps reveal detail in the plots."
   ]
  },
  {
   "cell_type": "code",
   "execution_count": null,
   "id": "searching-simon",
   "metadata": {},
   "outputs": [],
   "source": [
    "ms_widget.show(instrument)"
   ]
  },
  {
   "cell_type": "markdown",
   "id": "right-diamond",
   "metadata": {},
   "source": [
    "### Question 4\n",
    "Run a simulation with 1E7 rays at Bragg condition for the 010 reflection at a wavelength of 4 Å  and 5 Å. Look at the background visible on banana_tof_detector / banana_detector for both. Which of these have the most background?\n",
    "\n",
    "- A: The simulation at $\\lambda=4$Å\n",
    "- B: The simulation at $\\lambda=5$Å"
   ]
  },
  {
   "cell_type": "code",
   "execution_count": null,
   "id": "atmospheric-office",
   "metadata": {},
   "outputs": [],
   "source": [
    "quiz.question_4(\"A\")"
   ]
  },
  {
   "cell_type": "markdown",
   "id": "technical-trader",
   "metadata": {},
   "source": [
    "### Question 5\n",
    "Look at the logger results at the two wavelengths, what clue do they give of the big difference between the background at the two energies?\n",
    "\n",
    "- A: Additional scattering from the Sample in the form of incoherent scattering\n",
    "- B: Additional scattering from the Sample in the form of single crystal scattering\n",
    "- C: Additional scattering from the Cryostat in the form of incoherent scattering\n",
    "- D: Additional scattering from the Cryostat in the form of powder scattering"
   ]
  },
  {
   "cell_type": "code",
   "execution_count": null,
   "id": "narrative-waste",
   "metadata": {},
   "outputs": [],
   "source": [
    "quiz.question_5(\"D\")"
   ]
  },
  {
   "cell_type": "markdown",
   "id": "greek-enemy",
   "metadata": {},
   "source": [
    "## Investigate deeper\n",
    "Though the current loggers gave a lot of information about the system, we can investigate further. The next few questions will modify the current loggers and add additional to help clarify what is really happening in the system."
   ]
  },
  {
   "cell_type": "markdown",
   "id": "equal-significance",
   "metadata": {},
   "source": [
    "### Question 6\n",
    "All our loggers contain all scattering orders. To view the different orders of scattering we can either add copies of all the loggers with the order_total parameter set or we can add a control parameter. Here we define a control parameter. It is your task to apply it to the three defined loggers in the system."
   ]
  },
  {
   "cell_type": "code",
   "execution_count": null,
   "id": "subtle-service",
   "metadata": {},
   "outputs": [],
   "source": [
    "order_total_par = instrument.add_parameter(\"order_total\", value=0, comment=\"Scattering order recorded by loggers, 0 for all\")"
   ]
  },
  {
   "cell_type": "code",
   "execution_count": null,
   "id": "attended-lexington",
   "metadata": {},
   "outputs": [],
   "source": [
    "logger_zx.order_total = order_total_par\n",
    "logger_zy.order_total = \"order_total\" # Alternative allowed syntax\n",
    "logger_2DQ.order_total = order_total_par"
   ]
  },
  {
   "cell_type": "code",
   "execution_count": null,
   "id": "dental-carpet",
   "metadata": {},
   "outputs": [],
   "source": [
    "quiz.question_6(instrument)"
   ]
  },
  {
   "cell_type": "markdown",
   "id": "demonstrated-kidney",
   "metadata": {},
   "source": [
    "### Add more loggers\n",
    "To confirm our suspicion we add additional loggers that record scattering from the sample and cryostat respectively. "
   ]
  },
  {
   "cell_type": "markdown",
   "id": "successful-overview",
   "metadata": {},
   "source": [
    "### Question 7\n",
    "Lets examine the scattering in the sample and shell independently. First add a Union_logger_2DQ similar to the one added in question 3, but that targets the sample with target_geometry. Include the order_total parameter."
   ]
  },
  {
   "cell_type": "code",
   "execution_count": null,
   "id": "exotic-swedish",
   "metadata": {},
   "outputs": [],
   "source": [
    "logger_2DQ = instrument.add_component(\"logger_2DQ_sample\", \"Union_logger_2DQ\", before=master)\n",
    "logger_2DQ.set_parameters(Q_direction_1 = '\"z\"', Q1_min=-3.3, Q1_max=3.3, n1=200,\n",
    "                          Q_direction_2 = '\"x\"', Q2_min=-3.3, Q2_max=3.3, n2=200,\n",
    "                          filename = '\"logger_2DQ_sample_zx.dat\"',\n",
    "                          order_total=order_total_par, target_geometry='\"sample\"')"
   ]
  },
  {
   "cell_type": "code",
   "execution_count": null,
   "id": "lesser-convention",
   "metadata": {},
   "outputs": [],
   "source": [
    "quiz.question_7(instrument)"
   ]
  },
  {
   "cell_type": "markdown",
   "id": "personalized-bailey",
   "metadata": {},
   "source": [
    "### Question 8\n",
    "Now add a similar logger that targets the two cryostat geometries. Include the order_total parameter."
   ]
  },
  {
   "cell_type": "code",
   "execution_count": null,
   "id": "introductory-edition",
   "metadata": {},
   "outputs": [],
   "source": [
    "logger_2DQ = instrument.add_component(\"logger_2DQ_cryo\", \"Union_logger_2DQ\", before=master)\n",
    "logger_2DQ.set_parameters(Q_direction_1 = '\"z\"', Q1_min=-3.3, Q1_max=3.3, n1=200,\n",
    "                          Q_direction_2 = '\"x\"', Q2_min=-3.3, Q2_max=3.3, n2=200,\n",
    "                          filename = '\"logger_2DQ_cryo_zx.dat\"', order_total=order_total_par, \n",
    "                          target_geometry='\"orange_layer_0_layer,orange_layer_1_layer\"')"
   ]
  },
  {
   "cell_type": "code",
   "execution_count": null,
   "id": "younger-tumor",
   "metadata": {},
   "outputs": [],
   "source": [
    "quiz.question_8(instrument)"
   ]
  },
  {
   "cell_type": "markdown",
   "id": "reported-therapy",
   "metadata": {},
   "source": [
    "## Run the simulation with new loggers\n",
    "Use the log plot option with limited orders of magnitude to see detail in the plots. If your system supports it, use mpi equal to the number of cores in your computer to speed up the simulation."
   ]
  },
  {
   "cell_type": "code",
   "execution_count": null,
   "id": "environmental-maldives",
   "metadata": {},
   "outputs": [],
   "source": [
    "wavelength = 5.0\n",
    "theta = 180/3.14159*math.asin(wavelength/2.0/3.8843)\n",
    "print(\"theta = \", theta, \" at wavelength = \", wavelength)"
   ]
  },
  {
   "cell_type": "code",
   "execution_count": null,
   "id": "female-knight",
   "metadata": {},
   "outputs": [],
   "source": [
    "ms_widget.show(instrument)"
   ]
  },
  {
   "cell_type": "markdown",
   "id": "annual-appeal",
   "metadata": {},
   "source": [
    "### Question 9\n",
    "Run the simulation with a wavelength of 4 Å and order_total=1. Look at the logger showing scattering in the cryostat. What are the two vertical lines?\n",
    "\n",
    "- A: First order incoherent scattering in cryostat\n",
    "- B: First order powder scattering in cryostat\n",
    "- C: First order single crystal scattering in the sample\n",
    "- D: Second order incoherent scattering in cryostat\n",
    "- E: Second order powder scattering in cryostat\n",
    "- F: Second order single crystal scattering in the sample"
   ]
  },
  {
   "cell_type": "code",
   "execution_count": null,
   "id": "acting-wells",
   "metadata": {},
   "outputs": [],
   "source": [
    "quiz.question_9(\"B\")"
   ]
  },
  {
   "cell_type": "markdown",
   "id": "tropical-tension",
   "metadata": {},
   "source": [
    "### Question 10\n",
    "Run the simulation in the Bragg condition with a wavelength of 4 Å and the order_total parameter of 1 to see the first order of scattering. Find the Bragg peak on the 2D scattering vector logger (only a single pixel). Where is it located?\n",
    "\n",
    "- A: $Q_z$=  0.49 Å$^{-1}$, $Q_x$ =  0.00 Å$^{-1}$\n",
    "- B: $Q_z$= -0.24 Å$^{-1}$, $Q_x$ = -1.02 Å$^{-1}$\n",
    "- C: $Q_z$=  0.88 Å$^{-1}$, $Q_x$ = -1.40 Å$^{-1}$\n",
    "- D: $Q_z$=  1.21 Å$^{-1}$, $Q_x$ =  0.48 Å$^{-1}$"
   ]
  },
  {
   "cell_type": "code",
   "execution_count": null,
   "id": "official-trail",
   "metadata": {},
   "outputs": [],
   "source": [
    "quiz.question_10(\"C\")"
   ]
  },
  {
   "cell_type": "markdown",
   "id": "received-honor",
   "metadata": {},
   "source": [
    "### Question 11\n",
    "Run the simulation in the Bragg condition with a wavelength of 4 Å and the order_total parameter of 0 to see all  orders of scattering. On the 2D Q logger we 4 lines, two at constant $Q_z$ and two at an angle. We wish to understand the two at an angle. Use the parameters available and the loggers looking at only sample / cryostat to find the origin of the two lines by running additional simulations.\n",
    "\n",
    "- A: First order scattering in sample\n",
    "- B: First order scattering in cryostat\n",
    "- C: Second order scattering in sample (2 scattering events in sample)\n",
    "- D: Second order scattering in cryostat (2 scattering events in cryostat)\n",
    "- E: Second order scattering in sample (first cryostat, then sample)\n",
    "- F: Second order scattering in cryostat (first sample, then cryostat)"
   ]
  },
  {
   "cell_type": "code",
   "execution_count": null,
   "id": "funny-chuck",
   "metadata": {},
   "outputs": [],
   "source": [
    "quiz.question_11(\"F\")"
   ]
  },
  {
   "cell_type": "markdown",
   "id": "blessed-isaac",
   "metadata": {},
   "source": [
    "### Question 12\n",
    "In the logger 2D Q recording scattering at all orders we see some broad lines across the narrow lines. Look at these at different values of order_total. What are these?\n",
    "\n",
    "- A: Powder scattering from a ray that scattered from the sample at previous scattering\n",
    "- B: Incoherent scattering from a ray that scattered from the sample at previous scattering\n",
    "- C: Powder scattering from a ray that scattered from the cryostat at previous scattering\n",
    "- D: Incoherent scattering from a ray that scattered from the cryostat at previous scattering"
   ]
  },
  {
   "cell_type": "code",
   "execution_count": null,
   "id": "published-minutes",
   "metadata": {},
   "outputs": [],
   "source": [
    "quiz.question_12(\"C\")"
   ]
  }
 ],
 "metadata": {
  "kernelspec": {
   "display_name": "Python 3",
   "language": "python",
   "name": "python3"
  },
  "language_info": {
   "codemirror_mode": {
    "name": "ipython",
    "version": 3
   },
   "file_extension": ".py",
   "mimetype": "text/x-python",
   "name": "python",
   "nbconvert_exporter": "python",
   "pygments_lexer": "ipython3",
   "version": "3.8.8"
  }
 },
 "nbformat": 4,
 "nbformat_minor": 5
}
