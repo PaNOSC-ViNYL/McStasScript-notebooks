{
 "cells": [
  {
   "cell_type": "markdown",
   "id": "embedded-interpretation",
   "metadata": {
    "slideshow": {
     "slide_type": "slide"
    }
   },
   "source": [
    "# McStas Absorption logger components\n",
    "We have now seen how the McStas Union components provide a powerful engine for simulation of complex physics and geometry. \n",
    "\n",
    "| Component class         | Links to                       | Purpose                                    |\n",
    "| :---                    |    :----                       |    :----                                   |\n",
    "| Process components      |                                | Describe scattering process                |\n",
    "| Union_make_material     | List of process components     | Collect process and absorption to material |\n",
    "| Geometry components     | Material definition            | Place a geometry with selected material    |\n",
    "| Union_master            | Geometries (automatic linking) | Simulation engine                          |\n",
    "| Union_init / Union_stop |                                | Needed in McStas 3.X at start / end        |\n",
    "\n",
    "The complexity of the results can however make it difficult to understand the results. This presentation introduces the concept of a absorption logger component which will help us understand!"
   ]
  },
  {
   "cell_type": "markdown",
   "id": "antique-influence",
   "metadata": {
    "slideshow": {
     "slide_type": "slide"
    }
   },
   "source": [
    "### Why we can't use regular monitors\n",
    "We can't use regular monitors as the entire simulation happens in a single component, the master."
   ]
  },
  {
   "cell_type": "markdown",
   "id": "asian-nursery",
   "metadata": {
    "slideshow": {
     "slide_type": "-"
    }
   },
   "source": [
    "![alt](figures/power_point_figures/Slide04.png)"
   ]
  },
  {
   "cell_type": "markdown",
   "id": "greatest-tablet",
   "metadata": {
    "slideshow": {
     "slide_type": "slide"
    }
   },
   "source": [
    "## Absorption loggers\n",
    "Absorption loggers are a class of Union components, meaning they all behave in a similar way. Whenever a ray is propagated within a volume with a absorption cross section, the Union master reduces the ray weight accordingly. The absorption logger component get the state of the ray at randomly sampled absorption points on the rays path.\n",
    "\n",
    "Absorption loggers record that information in some way, and differ in what kind of information is stored. It is fairly easy to contribute such a component if what you would like to record is not yet present.\n",
    "\n",
    "| Abs_logger component                    | Dimensions                                |\n",
    "| :---                                    |    :----                                  |\n",
    "| Union_abs_logger_1D_space               | 1D space                                  |\n",
    "| Union_abs_logger_1D_space_event         | 2D space in event format                  |\n",
    "| Union_abs_logger_1D_space_tof           | 1D space and time                         |\n",
    "| Union_abs_logger_1D_space_tof_to_lambda | 1D space and time converted to wavelength |\n",
    "| Union_abs_logger_2D_space               | 2D space                                  |\n",
    "| Union_abs_logger_event                  | Events  (position, velocity, weight)      |"
   ]
  },
  {
   "cell_type": "markdown",
   "id": "existing-empty",
   "metadata": {
    "slideshow": {
     "slide_type": "slide"
    }
   },
   "source": [
    "## Our example with a diamond sphere in a aluminium shell"
   ]
  },
  {
   "cell_type": "code",
   "execution_count": 1,
   "id": "fancy-alarm",
   "metadata": {},
   "outputs": [
    {
     "name": "stdout",
     "output_type": "stream",
     "text": [
      "The following components are found in the work_directory / input_path:\n",
      "     Union_sphere.comp\n",
      "     Texture_process.comp\n",
      "     Union_cone.comp\n",
      "     Union_stop.comp\n",
      "     Union_box.comp\n",
      "     Single_crystal_process.comp\n",
      "     Union_abs_logger_2D_space.comp\n",
      "     Union_logger_2D_kf.comp\n",
      "     Union_init.comp\n",
      "     Template_process.comp\n",
      "     PhononSimple_process.comp\n",
      "     Union_conditional_standard.comp\n",
      "     Union_abs_logger_1D_space.comp\n",
      "     Union_abs_logger_event.comp\n",
      "     Union_abs_logger_1D_space_event.comp\n",
      "     Non_process.comp\n",
      "     Union_abs_logger_1D_space_tof.comp\n",
      "     Union_logger_2D_space.comp\n",
      "     Union_conditional_PSD.comp\n",
      "     Union_master.comp\n",
      "     AF_HB_1D_process.comp\n",
      "     Union_logger_2D_kf_time.comp\n",
      "     Union_master_GPU.comp\n",
      "     Union_cylinder.comp\n",
      "     Union_abs_logger_1D_space_tof_to_lambda.comp\n",
      "     Powder_process.comp\n",
      "     Union_make_material.comp\n",
      "     Incoherent_process.comp\n",
      "     Union_logger_1D.comp\n",
      "     Union_logger_3D_space.comp\n",
      "     IncoherentPhonon_process.comp\n",
      "     Union_logger_2DQ.comp\n",
      "     Union_mesh.comp\n",
      "     Union_logger_2D_space_time.comp\n",
      "These definitions will be used instead of the installed versions.\n"
     ]
    }
   ],
   "source": [
    "import mcstasscript as ms\n",
    "instrument = ms.McStas_instr(\"Union_demo\", input_path=\"run_folder\")\n",
    "instrument.settings(output_path=\"data_folder/union_demo\")\n",
    "\n",
    "instrument.add_component(\"init\", \"Union_init\")\n",
    "\n",
    "Al_incoherent = instrument.add_component(\"Al_incoherent\", \"Incoherent_process\")\n",
    "Al_incoherent.set_parameters(sigma=4*0.0082, unit_cell_volume=66.4)\n",
    "\n",
    "Al_powder = instrument.add_component(\"Al_powder\", \"Powder_process\")\n",
    "Al_powder.reflections = '\"Al.laz\"'\n",
    "\n",
    "Al = instrument.add_component(\"Al\", \"Union_make_material\")\n",
    "Al.process_string = '\"Al_incoherent,Al_powder\"'\n",
    "Al.my_absorption = 100*4*0.231/66.4\n",
    "\n",
    "process = instrument.add_component(\"diamond_incoherent\", \"Incoherent_process\")\n",
    "process.set_parameters(sigma=8*0.001, unit_cell_volume=45.39)\n",
    "\n",
    "instrument.add_parameter(\"diamond_phi\", value=0, comment=\"Rotation of diamond lattice around z [deg]\")\n",
    "crystal_process = instrument.add_component(\"diamond_crystal\", \"Single_crystal_process\")\n",
    "crystal_process.set_parameters(mosaic=20, reflections='\"C_diamond.lau\"',\n",
    "                               ax=3.567, by=3.567, cz=3.567,)\n",
    "crystal_process.set_ROTATED([0, 0, \"diamond_phi\"])\n",
    "\n",
    "\n",
    "diamond = instrument.add_component(\"diamond\", \"Union_make_material\")\n",
    "diamond.process_string = '\"diamond_incoherent,diamond_crystal\"'\n",
    "diamond.my_absorption = 100*8*0.0035/45.39\n",
    "\n",
    "\n",
    "sample_position = instrument.add_component(\"sample_position\", \"Arm\")\n",
    "sample_position.set_AT([0,0,1])\n",
    "\n",
    "instrument.add_parameter(\"A3\", value=0, comment=\"Rotation of sphere around y [deg]\")\n",
    "sphere = instrument.add_component(\"sphere\", \"Union_sphere\")\n",
    "sphere.radius = 0.01\n",
    "sphere.material_string = '\"diamond\"'\n",
    "sphere.priority = 10\n",
    "sphere.set_AT(0, RELATIVE=sample_position)\n",
    "sphere.set_ROTATED([0, \"A3\", 0], RELATIVE=sample_position)\n",
    "\n",
    "shell = instrument.add_component(\"shell\", \"Union_cylinder\")\n",
    "shell.set_parameters(radius=0.05, yheight=0.12,\n",
    "                     material_string = '\"Al\"', priority=3,\n",
    "                     p_interact=0.2)\n",
    "shell.set_AT(0, RELATIVE=sample_position)\n",
    "\n",
    "shell_vacuum = instrument.add_component(\"shell_vacuum\", \"Union_cylinder\")\n",
    "shell_vacuum.set_parameters(radius=shell.radius - 0.01, yheight=shell.yheight - 0.01,\n",
    "                            material_string = '\"Vacuum\"', priority=5)\n",
    "shell_vacuum.set_AT([0, 0, 0], RELATIVE=sample_position)\n",
    "\n",
    "source = instrument.add_component(\"source\", \"Source_div\")\n",
    "source.set_parameters(focus_aw=0.3, focus_ah=0.3,\n",
    "                      xwidth=0.005, yheight=0.005,\n",
    "                      flux=1E12)\n",
    "source.set_AT(-1, RELATIVE=sample_position)\n",
    "\n",
    "source.lambda0 = instrument.add_parameter(\"wavelength\", value=5.0,\n",
    "                                          comment=\"Wavelength in [Ang]\")\n",
    "source.dlambda = instrument.add_parameter(\"wavelength_half_width\", value=4.5,\n",
    "                                          comment=\"Wavelength half width in [Ang]\")\n",
    "\n",
    "master = instrument.add_component(\"master\", \"Union_master\", RELATIVE=sample_position)\n",
    "stop = instrument.add_component(\"stop\", \"Union_stop\")"
   ]
  },
  {
   "cell_type": "markdown",
   "id": "american-terrace",
   "metadata": {
    "slideshow": {
     "slide_type": "slide"
    }
   },
   "source": [
    "## Add an absorption logger\n",
    "Abs loggers need to be placed in space as that will be their coordinate system for observing absorption. "
   ]
  },
  {
   "cell_type": "code",
   "execution_count": 2,
   "id": "nuclear-tanzania",
   "metadata": {},
   "outputs": [],
   "source": [
    "abs_logger_zx = instrument.add_component(\"abs_logger_space_zx\", \"Union_abs_logger_2D_space\", before=master)\n",
    "abs_logger_zx.set_AT(0, RELATIVE=sample_position)\n",
    "abs_logger_zx.set_parameters(D_direction_1='\"z\"', D1_min=-0.06, D1_max=0.06, n1=300,\n",
    "                             D_direction_2='\"x\"', D2_min=-0.06, D2_max=0.06, n2=300,\n",
    "                             filename='\"abs_logger_zx.dat\"')"
   ]
  },
  {
   "cell_type": "code",
   "execution_count": 3,
   "id": "compound-operation",
   "metadata": {},
   "outputs": [
    {
     "name": "stdout",
     "output_type": "stream",
     "text": [
      "COMPONENT abs_logger_space_zx = Union_abs_logger_2D_space(\n",
      "  \u001b[1mD_direction_1\u001b[0m = \u001b[1m\u001b[92m\"z\"\u001b[0m\u001b[0m, // [string]\n",
      "  \u001b[1mD1_min\u001b[0m = \u001b[1m\u001b[92m-0.06\u001b[0m\u001b[0m, // [m]\n",
      "  \u001b[1mD1_max\u001b[0m = \u001b[1m\u001b[92m0.06\u001b[0m\u001b[0m, // [m]\n",
      "  \u001b[1mn1\u001b[0m = \u001b[1m\u001b[92m300\u001b[0m\u001b[0m, // [1]\n",
      "  \u001b[1mD_direction_2\u001b[0m = \u001b[1m\u001b[92m\"x\"\u001b[0m\u001b[0m, // [string]\n",
      "  \u001b[1mD2_min\u001b[0m = \u001b[1m\u001b[92m-0.06\u001b[0m\u001b[0m, // [m]\n",
      "  \u001b[1mD2_max\u001b[0m = \u001b[1m\u001b[92m0.06\u001b[0m\u001b[0m, // [m]\n",
      "  \u001b[1mn2\u001b[0m = \u001b[1m\u001b[92m300\u001b[0m\u001b[0m, // [1]\n",
      "  \u001b[1mfilename\u001b[0m = \u001b[1m\u001b[92m\"abs_logger_zx.dat\"\u001b[0m\u001b[0m // [string]\n",
      ")\n",
      "AT (0, 0, 0) RELATIVE sample_position\n"
     ]
    }
   ],
   "source": [
    "print(abs_logger_zx)"
   ]
  },
  {
   "cell_type": "markdown",
   "id": "separated-czech",
   "metadata": {
    "slideshow": {
     "slide_type": "slide"
    }
   },
   "source": [
    "### Add absorption loggers for zy and xy plane as well"
   ]
  },
  {
   "cell_type": "code",
   "execution_count": 4,
   "id": "english-halifax",
   "metadata": {},
   "outputs": [],
   "source": [
    "abs_logger_zy = instrument.add_component(\"abs_logger_space_zy\", \"Union_abs_logger_2D_space\", before=master)\n",
    "abs_logger_zy.set_AT(0, RELATIVE=sample_position)\n",
    "abs_logger_zy.set_parameters(D_direction_1='\"z\"', D1_min=-0.06, D1_max=0.06, n1=300,\n",
    "                             D_direction_2='\"y\"', D2_min=-0.07, D2_max=0.07, n2=300,\n",
    "                             filename='\"abs_logger_zy.dat\"')\n",
    "\n",
    "abs_logger_xy = instrument.add_component(\"abs_logger_space_xy\", \"Union_abs_logger_2D_space\", before=master)\n",
    "abs_logger_xy.set_AT(0, RELATIVE=sample_position)\n",
    "abs_logger_xy.set_parameters(D_direction_1='\"x\"', D1_min=-0.06, D1_max=0.06, n1=300,\n",
    "                             D_direction_2='\"y\"', D2_min=-0.07, D2_max=0.07, n2=300,\n",
    "                             filename='\"abs_logger_xy.dat\"')"
   ]
  },
  {
   "cell_type": "markdown",
   "id": "hybrid-frequency",
   "metadata": {
    "slideshow": {
     "slide_type": "slide"
    }
   },
   "source": [
    "## Add some normal monitors"
   ]
  },
  {
   "cell_type": "code",
   "execution_count": 5,
   "id": "inappropriate-label",
   "metadata": {},
   "outputs": [],
   "source": [
    "instrument.add_declare_var(\"double\", \"t_min\")\n",
    "instrument.add_declare_var(\"double\", \"t_max\")\n",
    "\n",
    "instrument.append_initialize(\"t_min = (wavelength - wavelength_half_width)*(1.0 - 0.18 + 0.5)/(K2V*2*PI);\")\n",
    "instrument.append_initialize(\"t_max = (wavelength + wavelength_half_width)*(1.0 + 0.28 + 0.5)/(K2V*2*PI);\")\n",
    "\n",
    "instrument.add_declare_var(\"char\", \"options\", array=256)\n",
    "instrument.append_initialize('sprintf(options,\"banana, theta limits=[-180,180] bins=180, t limits=[%g %g] bins=300\",t_min,t_max);')\n",
    "\n",
    "banana_detector = instrument.add_component(\"banana_tof_detector\", \"Monitor_nD\")\n",
    "banana_detector.set_RELATIVE(sample_position)\n",
    "banana_detector.xwidth = 1\n",
    "banana_detector.yheight = 0.2\n",
    "banana_detector.restore_neutron = 1\n",
    "options = \"options\"\n",
    "banana_detector.options = options\n",
    "banana_detector.filename = '\"tof_b.dat\"'\n",
    "\n",
    "banana_detector = instrument.add_component(\"banana_detector\", \"Monitor_nD\")\n",
    "banana_detector.set_RELATIVE(sample_position)\n",
    "banana_detector.set_parameters(xwidth = 1.0, yheight = 0.2, filename='\"banana.dat\"', restore_neutron=1,\n",
    "                               options='\"banana, theta limits=[-180,180] bins=180\"')\n",
    "\n",
    "L_monitor = instrument.add_component(\"L_monitor\", \"L_monitor\")\n",
    "L_monitor.set_AT(0.3, RELATIVE=sample_position)\n",
    "L_monitor.set_parameters(xwidth=0.3, yheight=0.3,\n",
    "                         Lmin=\"wavelength - wavelength_half_width\",\n",
    "                         Lmax=\"wavelength + wavelength_half_width\",\n",
    "                         nL=300, filename='\"l_mon.dat\"', restore_neutron=1)"
   ]
  },
  {
   "cell_type": "markdown",
   "id": "guilty-advertising",
   "metadata": {
    "slideshow": {
     "slide_type": "slide"
    }
   },
   "source": [
    "## Run a simulation with our absorption loggers"
   ]
  },
  {
   "cell_type": "code",
   "execution_count": 6,
   "id": "comprehensive-johns",
   "metadata": {},
   "outputs": [
    {
     "data": {
      "application/vnd.jupyter.widget-view+json": {
       "model_id": "19fe5bbc9c5d4c79863a669f97e0c0aa",
       "version_major": 2,
       "version_minor": 0
      },
      "text/plain": [
       "VBox(children=(VBox(children=(HBox(children=(Label(value='diamond_phi', layout=Layout(height='32px', width='15…"
      ]
     },
     "metadata": {},
     "output_type": "display_data"
    }
   ],
   "source": [
    "import mcstasscript.jb_interface as ms_widget\n",
    "%matplotlib widget\n",
    "ms_widget.show(instrument)"
   ]
  },
  {
   "cell_type": "markdown",
   "id": "alive-voice",
   "metadata": {
    "slideshow": {
     "slide_type": "slide"
    }
   },
   "source": [
    "# Lessons learnt from simulation\n",
    "- Absorption loggers can provide insight into what happens in a Union simulation\n",
    "- Multiple scattering very wavelength dependent\n",
    "- There is still much to understand"
   ]
  },
  {
   "cell_type": "markdown",
   "id": "exterior-option",
   "metadata": {
    "slideshow": {
     "slide_type": "slide"
    }
   },
   "source": [
    "## Parameters in a absorption logger\n",
    "Lets look at the parameters available in a absorption logger\n",
    "\n",
    "- order_total: Show only rays that have scattered this number of times\n",
    "- order_volume: Show only rays that have scattered this number of times in certain geometry\n",
    "- target_geometry: Only show absorption in this (these) geometries"
   ]
  },
  {
   "cell_type": "code",
   "execution_count": 7,
   "id": "renewable-latest",
   "metadata": {},
   "outputs": [
    {
     "name": "stdout",
     "output_type": "stream",
     "text": [
      " ___ Help Union_abs_logger_2D_space _________________________________________________\n",
      "|\u001b[1moptional parameter\u001b[0m|\u001b[1m\u001b[4mrequired parameter\u001b[0m\u001b[0m|\u001b[1m\u001b[94mdefault value\u001b[0m\u001b[0m|\u001b[1m\u001b[92muser specified value\u001b[0m\u001b[0m|\n",
      "\u001b[1mtarget_geometry\u001b[0m = \u001b[1m\u001b[94m\"NULL\"\u001b[0m\u001b[0m [string] // Comma separated list of geometry names \n",
      "                                     that will be logged, leave empty for all \n",
      "                                     volumes (even not defined yet) \n",
      "\u001b[1mD_direction_1\u001b[0m = \u001b[1m\u001b[92m\"z\"\u001b[0m\u001b[0m [string] // Direction for first axis (\"x\", \"y\" or \"z\")\n",
      "\u001b[1mD1_min\u001b[0m = \u001b[1m\u001b[92m-0.06\u001b[0m\u001b[0m [m] // Histogram boundary, min position value for first axis\n",
      "\u001b[1mD1_max\u001b[0m = \u001b[1m\u001b[92m0.06\u001b[0m\u001b[0m [m] // Histogram boundary, max position value for first axis\n",
      "\u001b[1mn1\u001b[0m = \u001b[1m\u001b[92m300\u001b[0m\u001b[0m [1] // Number of bins for first axis\n",
      "\u001b[1mD_direction_2\u001b[0m = \u001b[1m\u001b[92m\"x\"\u001b[0m\u001b[0m [string] // Direction for second axis (\"x\", \"y\" or \"z\")\n",
      "\u001b[1mD2_min\u001b[0m = \u001b[1m\u001b[92m-0.06\u001b[0m\u001b[0m [m] // Histogram boundary, min position value for second axis\n",
      "\u001b[1mD2_max\u001b[0m = \u001b[1m\u001b[92m0.06\u001b[0m\u001b[0m [m] // Histogram boundary, max position value for second axis\n",
      "\u001b[1mn2\u001b[0m = \u001b[1m\u001b[92m300\u001b[0m\u001b[0m [1] // Number of bins for second axis\n",
      "\u001b[1mfilename\u001b[0m = \u001b[1m\u001b[92m\"abs_logger_zx.dat\"\u001b[0m\u001b[0m [string] // Filename of produced data file\n",
      "\u001b[1morder_total\u001b[0m = \u001b[1m\u001b[94m-1.0\u001b[0m\u001b[0m [1] // Only log rays that have scattered n times, -1 for all \n",
      "                          orders \n",
      "\u001b[1morder_volume\u001b[0m = \u001b[1m\u001b[94m-1.0\u001b[0m\u001b[0m [1] // Only log rays that have scattered n times in the \n",
      "                           same geometry, -1 for all orders \n",
      "\u001b[1mlogger_conditional_extend_index\u001b[0m = \u001b[1m\u001b[94m-1.0\u001b[0m\u001b[0m [1] // If a conditional is used with \n",
      "                                              this logger, the result of each \n",
      "                                              conditional calculation can be made \n",
      "                                              available in extend as a array called \n",
      "                                              \"logger_conditional_extend\", and one \n",
      "                                              would then access \n",
      "                                              logger_conditional_extend[n] if \n",
      "                                              logger_conditional_extend_index is \n",
      "                                              set to n \n",
      "\u001b[1minit\u001b[0m = \u001b[1m\u001b[94m\"init\"\u001b[0m\u001b[0m [string] // Name of Union_init component (typically \"init\", \n",
      "                          default) \n",
      "-------------------------------------------------------------------------------------\n"
     ]
    }
   ],
   "source": [
    "abs_logger_zx.show_parameters()"
   ]
  },
  {
   "cell_type": "markdown",
   "id": "bigger-argument",
   "metadata": {
    "slideshow": {
     "slide_type": "slide"
    }
   },
   "source": [
    "## Add more abs loggers with these features\n",
    "Could be a good place to use copy component."
   ]
  },
  {
   "cell_type": "code",
   "execution_count": 8,
   "id": "adjusted-laugh",
   "metadata": {},
   "outputs": [],
   "source": [
    "abs_logger_zy = instrument.add_component(\"abs_logger_space_zy_order_0\", \"Union_abs_logger_2D_space\", before=master)\n",
    "abs_logger_zy.set_AT(0, RELATIVE=sample_position)\n",
    "abs_logger_zy.set_parameters(D_direction_1='\"z\"', D1_min=-0.06, D1_max=0.06, n1=300,\n",
    "                             D_direction_2='\"y\"', D2_min=-0.07, D2_max=0.07, n2=300,\n",
    "                             filename='\"abs_logger_zy_order_0.dat\"', order_total=0)\n",
    "\n",
    "abs_logger_zy = instrument.add_component(\"abs_logger_space_zy_order_1\", \"Union_abs_logger_2D_space\", before=master)\n",
    "abs_logger_zy.set_AT(0, RELATIVE=sample_position)\n",
    "abs_logger_zy.set_parameters(D_direction_1='\"z\"', D1_min=-0.06, D1_max=0.06, n1=300,\n",
    "                             D_direction_2='\"y\"', D2_min=-0.07, D2_max=0.07, n2=300,\n",
    "                             filename='\"abs_logger_zy_order_1.dat\"', order_total=1)\n",
    "\n",
    "abs_logger_zy = instrument.add_component(\"abs_logger_space_zy_order_2\", \"Union_abs_logger_2D_space\", before=master)\n",
    "abs_logger_zy.set_AT(0, RELATIVE=sample_position)\n",
    "abs_logger_zy.set_parameters(D_direction_1='\"z\"', D1_min=-0.06, D1_max=0.06, n1=300,\n",
    "                             D_direction_2='\"y\"', D2_min=-0.07, D2_max=0.07, n2=300,\n",
    "                             filename='\"abs_logger_zy_order_2.dat\"', order_total=2)\n",
    "\n",
    "abs_logger_zy = instrument.add_component(\"abs_logger_space_zy_shell\", \"Union_abs_logger_2D_space\", before=master)\n",
    "abs_logger_zy.set_AT(0, RELATIVE=sample_position)\n",
    "abs_logger_zy.set_parameters(D_direction_1='\"z\"', D1_min=-0.06, D1_max=0.06, n1=300,\n",
    "                             D_direction_2='\"y\"', D2_min=-0.07, D2_max=0.07, n2=300,\n",
    "                             filename='\"abs_logger_zy_shell.dat\"',\n",
    "                             target_geometry='\"shell\"')\n",
    "\n",
    "abs_logger_zy = instrument.add_component(\"abs_logger_space_zy_sample\", \"Union_abs_logger_2D_space\", before=master)\n",
    "abs_logger_zy.set_AT(0, RELATIVE=sample_position)\n",
    "abs_logger_zy.set_parameters(D_direction_1='\"z\"', D1_min=-0.06, D1_max=0.06, n1=300,\n",
    "                             D_direction_2='\"y\"', D2_min=-0.07, D2_max=0.07, n2=300,\n",
    "                             filename='\"abs_logger_zy_sample.dat\"',\n",
    "                             target_geometry='\"sphere\"')"
   ]
  },
  {
   "cell_type": "markdown",
   "id": "raised-industry",
   "metadata": {
    "slideshow": {
     "slide_type": "slide"
    }
   },
   "source": [
    "### Run simulation again"
   ]
  },
  {
   "cell_type": "code",
   "execution_count": 9,
   "id": "vocational-fortune",
   "metadata": {
    "slideshow": {
     "slide_type": "-"
    }
   },
   "outputs": [
    {
     "data": {
      "application/vnd.jupyter.widget-view+json": {
       "model_id": "229d10e83d464a18b8a92234d749d9f7",
       "version_major": 2,
       "version_minor": 0
      },
      "text/plain": [
       "VBox(children=(VBox(children=(HBox(children=(Label(value='diamond_phi', layout=Layout(height='32px', width='15…"
      ]
     },
     "metadata": {},
     "output_type": "display_data"
    }
   ],
   "source": [
    "ms_widget.show(instrument)"
   ]
  },
  {
   "cell_type": "markdown",
   "id": "administrative-walter",
   "metadata": {
    "slideshow": {
     "slide_type": "slide"
    }
   },
   "source": [
    "# Using absorption loggers to simulate detectors\n",
    "One of the main purposes of absorption loggers is to simulate detectors!\n",
    "\n",
    "- Aluminium shell\n",
    "- He3 internal gas\n",
    "- Absorption logger on He3 gas\n",
    "- Maybe wire and other details!\n",
    "\n",
    "| Abs_logger component                    | Dimensions                                |\n",
    "| :---                                    |    :----                                  |\n",
    "| Union_abs_logger_1D_space               | 1D space                                  |\n",
    "| Union_abs_logger_1D_space_event         | 2D space in event format                  |\n",
    "| Union_abs_logger_1D_space_tof           | 1D space and time                         |\n",
    "| Union_abs_logger_1D_space_tof_to_lambda | 1D space and time converted to wavelength |\n",
    "| Union_abs_logger_2D_space               | 2D space                                  |\n",
    "| Union_abs_logger_event                  | Events  (position, velocity, weight)      |"
   ]
  },
  {
   "cell_type": "markdown",
   "id": "cheap-natural",
   "metadata": {
    "slideshow": {
     "slide_type": "slide"
    }
   },
   "source": [
    "![alt](figures/power_point_figures/Slide03.png)"
   ]
  },
  {
   "cell_type": "markdown",
   "id": "disciplinary-screen",
   "metadata": {},
   "source": [
    "### Simple model of He3 detector tube\n",
    "<table><tr>\n",
    "<td> <img src=\"figures/power_point_figures/Slide3.png\" alt=\"Detector sketch\" style=\"width: 500px;\"/> </td>\n",
    "<td> <img src=\"figures/output_absorption_point.gif\" alt=\"Animation\" style=\"width: 900px;\"/> </td>\n",
    "</tr></table>"
   ]
  },
  {
   "cell_type": "markdown",
   "id": "analyzed-amsterdam",
   "metadata": {
    "slideshow": {
     "slide_type": "slide"
    }
   },
   "source": [
    "# Union overview so far\n",
    "We now have 6 different classes of Union components!\n",
    "\n",
    "| Component class         | Links to                       | Purpose                                    |\n",
    "| :---                    |    :----                       |    :----                                   |\n",
    "| Process components      |                                | Describe scattering process                |\n",
    "| Union_make_material     | List of process components     | Collect process and absorption to material |\n",
    "| Geometry components     | Material definition            | Place a geometry with selected material    |\n",
    "| Abs_logger components   | Optionally geometry / process  | Record absorption in Union system          |\n",
    "| Union_master            | Geometries (automatic linking) | Simulation engine                          |\n",
    "| Union_init / Union_stop |                                | Needed in McStas 3.X at start / end        |\n",
    "\n"
   ]
  },
  {
   "cell_type": "markdown",
   "id": "specific-allocation",
   "metadata": {
    "slideshow": {
     "slide_type": "slide"
    }
   },
   "source": [
    "## Quiz and exercise\n",
    "The next quiz is exercise 4 which concerns a simple SANS instrument with a He3 detector built with Union components."
   ]
  },
  {
   "cell_type": "code",
   "execution_count": null,
   "id": "smooth-worcester",
   "metadata": {},
   "outputs": [],
   "source": []
  }
 ],
 "metadata": {
  "celltoolbar": "Slideshow",
  "kernelspec": {
   "display_name": "Python 3",
   "language": "python",
   "name": "python3"
  },
  "language_info": {
   "codemirror_mode": {
    "name": "ipython",
    "version": 3
   },
   "file_extension": ".py",
   "mimetype": "text/x-python",
   "name": "python",
   "nbconvert_exporter": "python",
   "pygments_lexer": "ipython3",
   "version": "3.8.8"
  }
 },
 "nbformat": 4,
 "nbformat_minor": 5
}
