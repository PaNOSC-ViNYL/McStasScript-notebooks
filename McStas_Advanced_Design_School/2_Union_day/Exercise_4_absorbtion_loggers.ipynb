{
 "cells": [
  {
   "cell_type": "markdown",
   "id": "accomplished-chest",
   "metadata": {},
   "source": [
    "# Absorption logging in Union components\n",
    "It is possible to record absorption that occurs within a Union system by using absorption loggers. There are several different absorption loggers that behave in similar ways. Here we will use absorption loggers for two purposes:\n",
    "- Visualize absorption in the system to better understand it\n",
    "- Making a neutron detector to generate realistic data\n",
    "\n",
    "First we set up the quiz and instrument."
   ]
  },
  {
   "cell_type": "code",
   "execution_count": null,
   "id": "dramatic-mongolia",
   "metadata": {},
   "outputs": [],
   "source": [
    "import mcstasscript as ms\n",
    "import load_quiz"
   ]
  },
  {
   "cell_type": "code",
   "execution_count": null,
   "id": "therapeutic-george",
   "metadata": {},
   "outputs": [],
   "source": [
    "instrument = ms.McStas_instr(\"exercise_4\", input_path=\"run_folder\")\n",
    "instrument.settings(output_path=\"data_folder/exercise_4\")\n",
    "\n",
    "instrument.add_component(\"init\", \"Union_init\") # Necessary for current version of Union in McStas 3.X\n",
    "\n",
    "quiz = load_quiz.exercise_4()"
   ]
  },
  {
   "cell_type": "markdown",
   "id": "reported-incidence",
   "metadata": {},
   "source": [
    "## Exercise instrument\n",
    "\n",
    "We will be working with a simple SANS instrument which consists of:\n",
    "- Virtual source that sends neutrons forward with very small angular spread\n",
    "- SANS sample (can be enabled and disabled)\n",
    "- Beamstop (can be enabled and disabled)\n",
    "- Detector position with its distance to sample controlled by parameter\n",
    "- Union system with He3 gas in aluminium tube at detector position with y>0\n",
    "\n",
    "No need to read all the details of the instrument before starting the exercises."
   ]
  },
  {
   "cell_type": "code",
   "execution_count": null,
   "id": "neutral-bailey",
   "metadata": {},
   "outputs": [],
   "source": [
    "src = instrument.add_component(\"source\", \"Source_div\")\n",
    "src.xwidth = 0.01\n",
    "src.yheight = 0.02\n",
    "src.focus_aw = 0.0001\n",
    "src.focus_ah = 0.0001\n",
    "src.flux = 1E13\n",
    "instrument.add_parameter(\"double\", \"wavelength\", value=6.0, comment=\"[AA]  Mean wavelength of neutrons\")\n",
    "instrument.add_parameter(\"double\", \"d_wavelength\", value=3.0, comment=\"[AA]  Wavelength spread of neutrons\")\n",
    "src.lambda0 = \"wavelength\"\n",
    "src.dlambda = \"d_wavelength\"\n",
    "\n",
    "sample_position = instrument.add_component(\"sample_position\", \"Arm\")\n",
    "sample_position.set_AT([0, 0, 1], RELATIVE=src)\n",
    "\n",
    "enable_sample = instrument.add_parameter(\"double\", \"enable_sample\", value=0,\n",
    "                                         comment=\"0 for nothing, 1 for SANS sample\")\n",
    "enable_sample.add_option(0, options_are_legal=True)\n",
    "enable_sample.add_option(1, options_are_legal=True)\n",
    "\n",
    "sample_conventional = instrument.add_component(\"sample_conventional\", \"SANS_spheres2\")\n",
    "sample_conventional.xwidth = 0.02\n",
    "sample_conventional.yheight = 0.02\n",
    "sample_conventional.zthick = 0.001\n",
    "sample_conventional.sc_aim = 0.95\n",
    "sample_conventional.sans_aim = 0.95\n",
    "R_par = instrument.add_parameter(\"double\", \"SANS_R\", value=150.0,\n",
    "                                 comment=\"[AA]  Radius of scattering hard spheres\")\n",
    "sample_conventional.R = R_par\n",
    "sample_conventional.set_WHEN(\"enable_sample == 1\")\n",
    "sample_conventional.set_AT(0, RELATIVE=\"sample_position\")\n",
    "\n",
    "dist = instrument.add_parameter(\"double\", \"detector_distance\", value=3.0,\n",
    "                                comment=\"[m] Sample_detector_distance\")\n",
    "detector_position = instrument.add_component(\"detector_position\", \"Arm\")\n",
    "detector_position.set_AT([0, 0, dist], RELATIVE=sample_position)\n",
    "\n",
    "enable_beamstop = instrument.add_parameter(\"double\", \"enable_beamstop\", value=0,\n",
    "                                           comment=\"0 for nothing, 1 for beamstop\")\n",
    "enable_beamstop.add_option(0, options_are_legal=True)\n",
    "enable_beamstop.add_option(1, options_are_legal=True)\n",
    "\n",
    "beamstop = instrument.add_component(\"beamstop\", \"Beamstop\")\n",
    "beamstop.set_AT(-0.2, detector_position)\n",
    "beamstop.set_WHEN(\"enable_beamstop == 1\")\n",
    "beamstop.set_parameters(xwidth=0.021, yheight=0.021)\n",
    "\n",
    "# Set up Al material with incoherent and powder\n",
    "Al_incoherent = instrument.add_component(\"Al_incoherent\", \"Incoherent_process\")\n",
    "Al_incoherent.sigma = \"4*0.0082\"\n",
    "Al_incoherent.packing_factor = 1\n",
    "Al_incoherent.unit_cell_volume = 66.4\n",
    "\n",
    "Al_powder = instrument.add_component(\"Al_powder\", \"Powder_process\")\n",
    "Al_powder.reflections = \"\\\"Al.laz\\\"\"\n",
    "\n",
    "Al = instrument.add_component(\"Al\", \"Union_make_material\")\n",
    "Al.process_string = '\"Al_incoherent,Al_powder\"'\n",
    "Al.my_absorption = \"100*4*0.231/66.4\"\n",
    "\n",
    "# Set up He3 material with incoherent scattering\n",
    "def mu_gas(sigma, bars, temperature_C):\n",
    "    pressure_Pa = bars*1E5\n",
    "    number_density_mol_per_m3 = pressure_Pa/(8.3145*(temperature_C + 273.15))\n",
    "    number_density_per_m3 = number_density_mol_per_m3*6.022E23\n",
    "    number_density_per_A3 = number_density_per_m3/1E30\n",
    "    return sigma*number_density_per_A3*100\n",
    "\n",
    "He3_pressure_bars = 3\n",
    "He3_temperature_C = 25\n",
    "\n",
    "He3_inc = instrument.add_component(\"He3_inc\", \"Incoherent_process\")\n",
    "He3_inc.sigma = mu_gas(1.6, bars=He3_pressure_bars, temperature_C=He3_temperature_C)\n",
    "He3_inc.unit_cell_volume = 100\n",
    "\n",
    "He3 = instrument.add_component(\"He3\", \"Union_make_material\")\n",
    "He3.process_string = '\"He3_inc\"'\n",
    "He3.my_absorption = mu_gas(5333, bars=He3_pressure_bars, temperature_C=He3_temperature_C)\n",
    "\n",
    "# Create detector casing with gas volume inside\n",
    "casing = instrument.add_component(\"Al_container\", \"Union_cylinder\")\n",
    "casing.set_parameters(yheight=0.5, radius=0.03, p_interact=0.2,\n",
    "                      material_string='\"Al\"', priority=300)\n",
    "casing.set_AT([0, 0.5*casing.yheight, 0], detector_position)\n",
    "\n",
    "He3_gas = instrument.add_component(\"He3_gas\", \"Union_cylinder\")\n",
    "He3_gas.set_AT_RELATIVE(casing)\n",
    "He3_gas.set_parameters(yheight=casing.yheight-0.02, radius=casing.radius-4E-3,\n",
    "                            material_string='\"He3\"', priority=310)\n",
    "\n",
    "# Reference detectors\n",
    "ref = instrument.add_component(\"reference\", \"PSDlin_monitor\", after=beamstop)\n",
    "ref.set_parameters(xwidth=2*He3_gas.radius, yheight=He3_gas.yheight, vertical=1, \n",
    "                   nbins=300, filename='\"reference.dat\"', restore_neutron=1)\n",
    "ref.set_AT([0, 0.5*casing.yheight, 0], RELATIVE=detector_position)\n",
    "\n",
    "# Parmeters for time of flight limits\n",
    "instrument.add_declare_var(\"double\", \"t_min\")\n",
    "instrument.add_declare_var(\"double\", \"t_max\")\n",
    "\n",
    "instrument.append_initialize(\"t_min = (wavelength - d_wavelength)*(1.0 - 0.05 + detector_distance)/(K2V*2*PI);\")\n",
    "instrument.append_initialize(\"t_max = (wavelength + d_wavelength)*(1.0 + 0.2 + detector_distance)/(K2V*2*PI);\")\n",
    "instrument.add_declare_var(\"char\", \"options\", array=256)\n",
    "instrument.append_initialize('sprintf(options,\"square, y bins=200, t limits=[%g %g] bins=300\",t_min,t_max);')\n",
    "\n",
    "ref = instrument.add_component(\"reference_tof\", \"Monitor_nD\", after=beamstop)\n",
    "ref.set_parameters(xwidth=2*He3_gas.radius, yheight=He3_gas.yheight,\n",
    "                   filename='\"reference_tof.dat\"', restore_neutron=1)\n",
    "ref.options = \"options\"\n",
    "ref.set_AT([0, 0.5*casing.yheight, 0], RELATIVE=detector_position)\n"
   ]
  },
  {
   "cell_type": "code",
   "execution_count": null,
   "id": "alive-request",
   "metadata": {},
   "outputs": [],
   "source": [
    "instrument.show_diagram()"
   ]
  },
  {
   "cell_type": "markdown",
   "id": "distinct-intake",
   "metadata": {},
   "source": [
    "### Question 1\n",
    "Add a Union_abs_logger_1D_space component called signal placed relative to the He3_gas component with the same yheight. Set the following parameters:\n",
    "- n: 300 (number of bins)\n",
    "- target_geometry: He3_gas\n",
    "- reasonable filename"
   ]
  },
  {
   "cell_type": "code",
   "execution_count": null,
   "id": "mediterranean-impact",
   "metadata": {},
   "outputs": [],
   "source": [
    "# Your code here"
   ]
  },
  {
   "cell_type": "code",
   "execution_count": null,
   "id": "raised-poverty",
   "metadata": {},
   "outputs": [],
   "source": [
    "quiz.question_1(instrument)"
   ]
  },
  {
   "cell_type": "markdown",
   "id": "everyday-invasion",
   "metadata": {},
   "source": [
    "### Question 2\n",
    "Add a similar logger with time of flight information, this component is called Union_abs_logger_1D_space_tof and should be placed in the same way. Call this component \"signal_tof\". The time of flight limits have been calculated and are stored in the McStas variables t_min and t_max which should be assigned to the proper component parameters.\n",
    "\n",
    "- n: 200 (number of spatial bins)\n",
    "- time_bins: 300 (number of time bins)\n",
    "- time_min: t_min parameter\n",
    "- time_max: t_max parameter\n",
    "- Reasonable filename (different from the first)"
   ]
  },
  {
   "cell_type": "code",
   "execution_count": null,
   "id": "returning-charger",
   "metadata": {},
   "outputs": [],
   "source": [
    "# Your code here"
   ]
  },
  {
   "cell_type": "code",
   "execution_count": null,
   "id": "verbal-courage",
   "metadata": {},
   "outputs": [],
   "source": [
    "quiz.question_2(instrument)"
   ]
  },
  {
   "cell_type": "markdown",
   "id": "cleared-metadata",
   "metadata": {},
   "source": [
    "### Question 3\n",
    "Add a Union_abs_logger_2D_space logger to visualize the absorption location within the system. Place it relative to the He3_gas component and use the following parameters:\n",
    "- D_direction_1: '\"z\"'\n",
    "- D1_min: -4 cm\n",
    "- D1_max: 4 cm\n",
    "- n1: 300\n",
    "- D_direction_2: '\"y\"'\n",
    "- D2_min: -26 cm\n",
    "- D2_max: 26 cm\n",
    "- n2: 300\n",
    "- Reasonable filename (different from the other absorption loggers)"
   ]
  },
  {
   "cell_type": "code",
   "execution_count": null,
   "id": "loved-promise",
   "metadata": {},
   "outputs": [],
   "source": [
    "# Your code here"
   ]
  },
  {
   "cell_type": "code",
   "execution_count": null,
   "id": "disabled-mongolia",
   "metadata": {},
   "outputs": [],
   "source": [
    "\n",
    "quiz.question_3(instrument)"
   ]
  },
  {
   "cell_type": "markdown",
   "id": "atmospheric-differential",
   "metadata": {},
   "source": [
    "## Finishing up the simulation\n",
    "We now add the master and stop component so the Union system is ready for simulation."
   ]
  },
  {
   "cell_type": "code",
   "execution_count": null,
   "id": "circular-usage",
   "metadata": {},
   "outputs": [],
   "source": [
    "master = instrument.add_component(\"master\", \"Union_master\")\n",
    "stop = instrument.add_component(\"stop\", \"Union_stop\")"
   ]
  },
  {
   "cell_type": "markdown",
   "id": "interracial-assignment",
   "metadata": {},
   "source": [
    "# Running the simulation\n",
    "In this case we use a slightly different way to set up the simulation interface that allow us to extract the generated data. In the cell below the interface you can compare the Union detector with the reference, it will grab the last data set simulated with the widget."
   ]
  },
  {
   "cell_type": "code",
   "execution_count": null,
   "id": "coordinate-accessory",
   "metadata": {
    "scrolled": false
   },
   "outputs": [],
   "source": [
    "import mcstasscript.jb_interface as ms_widget\n",
    "%matplotlib widget\n",
    "sim_interface = ms_widget.SimInterface(instrument)\n",
    "sim_interface.show_interface()"
   ]
  },
  {
   "cell_type": "code",
   "execution_count": null,
   "id": "plain-guide",
   "metadata": {},
   "outputs": [],
   "source": [
    "data = sim_interface.get_data()\n",
    "\n",
    "ref = ms.name_search(\"reference\", data)\n",
    "union = ms.name_search(\"signal\", data)\n",
    "\n",
    "import matplotlib.pyplot as plt\n",
    "\n",
    "fig, (ax1, ax2) = plt.subplots(2, gridspec_kw={'height_ratios': [2.5, 1]}, figsize=(8, 6))\n",
    "ax1.errorbar(ref.xaxis, ref.Intensity, yerr=ref.Error, label=\"reference\")\n",
    "ax1.errorbar(union.xaxis, union.Intensity, yerr=union.Error, label=\"Union\")\n",
    "ax1.set_ylabel(union.metadata.ylabel)\n",
    "ax1.set_yscale(\"log\")\n",
    "ax1.legend()\n",
    "\n",
    "ax2.plot(ref.xaxis, [1]*len(ref.xaxis), '--k') # reference line\n",
    "ax2.errorbar(ref.xaxis, union.Intensity/ref.Intensity)\n",
    "ax2.set_yscale(\"log\")\n",
    "ax2.set_ylabel(\"Ratio Union/Ref\")\n",
    "ax2.set_xlabel(union.metadata.xlabel)\n",
    "fig.show()\n",
    "\n",
    "# Compare 2D plots side by side for tof monitors\n",
    "ref_tof = ms.name_search(\"reference_tof\", data)\n",
    "ref_tof.set_title(\"Ref\")\n",
    "union_tof = ms.name_search(\"signal_tof\", data)\n",
    "union_tof.set_title(\"Union\")\n",
    "ms.make_sub_plot([ref_tof, union_tof], figsize=(8, 4), log=True, orders_of_mag=10)"
   ]
  },
  {
   "cell_type": "markdown",
   "id": "hybrid-marshall",
   "metadata": {},
   "source": [
    "### Simulation note\n",
    "These next questions concern results from the simulation, you may need to run with 1E7 to 1E8 rays to see the discussed effects."
   ]
  },
  {
   "cell_type": "markdown",
   "id": "beautiful-winning",
   "metadata": {},
   "source": [
    "### Question 4\n",
    "Run a simulation without the SANS sample and without the beamstop. On the detectors, what is the y value of the direct beam?"
   ]
  },
  {
   "cell_type": "code",
   "execution_count": null,
   "id": "polished-nicaragua",
   "metadata": {},
   "outputs": [],
   "source": [
    "quiz.question_4() # Insert value"
   ]
  },
  {
   "cell_type": "markdown",
   "id": "missing-monday",
   "metadata": {},
   "source": [
    "### Question 5\n",
    "Run the simulation with the SANS sample and without a beamstop. Where is the largest discrepancy between the reference and the Union signal?\n",
    "\n",
    "- A: The bottom of the detector (low y)\n",
    "- B: The center of the detector (0 y)\n",
    "- C: The top of the detector (high y)"
   ]
  },
  {
   "cell_type": "code",
   "execution_count": null,
   "id": "revolutionary-bristol",
   "metadata": {},
   "outputs": [],
   "source": [
    "quiz.question_5()"
   ]
  },
  {
   "cell_type": "markdown",
   "id": "limiting-strategy",
   "metadata": {},
   "source": [
    "### Question 6\n",
    "Why do we see this discrepancy?\n",
    "\n",
    "- A: The Union detector is more efficient than the reference\n",
    "- B: The direct beam hits the detector and scatters into it\n",
    "- C: Scattering of the SANS signal within the detector"
   ]
  },
  {
   "cell_type": "code",
   "execution_count": null,
   "id": "published-minutes",
   "metadata": {},
   "outputs": [],
   "source": [
    "quiz.question_6()"
   ]
  },
  {
   "cell_type": "markdown",
   "id": "incoming-establishment",
   "metadata": {},
   "source": [
    "### Question 7\n",
    "Run the simulation with both the SANS sample and beamstop enabled at high wavelengths (lowest wavelength at 3 or higher). How would you describe the relationship between the reference and Union signal?\n",
    "\n",
    "- A: They agree\n",
    "- B: There is a scaling difference\n",
    "- C: There are large unexpected difference"
   ]
  },
  {
   "cell_type": "code",
   "execution_count": null,
   "id": "right-prerequisite",
   "metadata": {},
   "outputs": [],
   "source": [
    "quiz.question_7()"
   ]
  },
  {
   "cell_type": "markdown",
   "id": "breathing-shirt",
   "metadata": {},
   "source": [
    "### Question 8\n",
    "Run the simulation with both the SANS sample and beamstop enabled at high wavelengths (highest wavelength at 2 or lower). How is the agreement between the reference and Union signal?\n",
    "\n",
    "- A: They agree\n",
    "- B: There is a scaling difference\n",
    "- C: There are large unexpected difference"
   ]
  },
  {
   "cell_type": "code",
   "execution_count": null,
   "id": "appointed-speaker",
   "metadata": {},
   "outputs": [],
   "source": [
    "quiz.question_8()"
   ]
  },
  {
   "cell_type": "markdown",
   "id": "elementary-petite",
   "metadata": {},
   "source": [
    "### Question 9\n",
    "Run the simulation with a very narrow wavelength spread around 6 AA and compare the two tof diagrams.\n",
    "- A: The reference line is broader\n",
    "- B: The union line is broader\n",
    "- C: They are similar\n",
    "- D: The reference data has a lot of background\n",
    "- E: The Union data has a lot of background\n",
    "- F: The Union data has an unexpected feature"
   ]
  },
  {
   "cell_type": "code",
   "execution_count": null,
   "id": "popular-coast",
   "metadata": {},
   "outputs": [],
   "source": [
    "quiz.question_9()"
   ]
  },
  {
   "cell_type": "markdown",
   "id": "fitting-value",
   "metadata": {},
   "source": [
    "### Question 10\n",
    "Run the simulation with a very narrow wavelength spread around 1 AA and compare the two tof diagrams. Increase the detector distance to 10 m to see some more interesting part of the SANS signal at this low wavelength.\n",
    "\n",
    "- A: The reference line is broader\n",
    "- B: The union line is broader\n",
    "- C: They are similar\n",
    "- D: The reference data has a lot of background\n",
    "- E: The Union data has a lot of background\n",
    "- F: The Union data has an unexpected feature"
   ]
  },
  {
   "cell_type": "code",
   "execution_count": null,
   "id": "alternate-garlic",
   "metadata": {},
   "outputs": [],
   "source": [
    "quiz.question_10()"
   ]
  },
  {
   "cell_type": "code",
   "execution_count": null,
   "id": "bacterial-belize",
   "metadata": {},
   "outputs": [],
   "source": []
  }
 ],
 "metadata": {
  "kernelspec": {
   "display_name": "Python 3",
   "language": "python",
   "name": "python3"
  },
  "language_info": {
   "codemirror_mode": {
    "name": "ipython",
    "version": 3
   },
   "file_extension": ".py",
   "mimetype": "text/x-python",
   "name": "python",
   "nbconvert_exporter": "python",
   "pygments_lexer": "ipython3",
   "version": "3.8.8"
  }
 },
 "nbformat": 4,
 "nbformat_minor": 5
}
