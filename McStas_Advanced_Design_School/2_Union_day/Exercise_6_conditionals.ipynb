{
 "cells": [
  {
   "cell_type": "markdown",
   "id": "guided-radar",
   "metadata": {},
   "source": [
    "# Conditionals in Union components\n",
    "Conditional components modify loggers so that they only record rays with certain final states. This exercise lets you revisit the system from the previous exercise, but now armed with a more powerful tool.\n",
    "\n",
    "First a few questions on the conditional components."
   ]
  },
  {
   "cell_type": "code",
   "execution_count": 5,
   "id": "center-doctor",
   "metadata": {},
   "outputs": [],
   "source": [
    "import mcstasscript as ms\n",
    "import load_quiz"
   ]
  },
  {
   "cell_type": "code",
   "execution_count": null,
   "id": "unavailable-reviewer",
   "metadata": {},
   "outputs": [],
   "source": [
    "quiz = load_quiz.exercise_6()"
   ]
  },
  {
   "cell_type": "markdown",
   "id": "intense-might",
   "metadata": {},
   "source": [
    "What is the purpose of a conditional component?\n",
    "\n",
    "- A: A conditional component decides when a geometry is simulated\n",
    "- B: A conditional component can affect exactly one other component\n",
    "- C: A conditional component imposes a condition on logger or abs_logger components\n",
    "- D: A conditional component is required to perform a simulation with Union components"
   ]
  },
  {
   "cell_type": "code",
   "execution_count": null,
   "id": "religious-landscape",
   "metadata": {},
   "outputs": [],
   "source": [
    "quiz.question_1(\"C\")"
   ]
  },
  {
   "cell_type": "markdown",
   "id": "placed-superintendent",
   "metadata": {},
   "source": [
    "Select the true statement about the Union_master component.\n",
    "\n",
    "- A: There can only be one master component in an instrument\n",
    "- B: A Union_master component is required to perform a simulation with Union components\n",
    "- C: All Union components in an instrument file are simulated in one master component\n",
    "- D: The Union_master needs to be placed on a Union geometry"
   ]
  },
  {
   "cell_type": "code",
   "execution_count": null,
   "id": "hairy-gilbert",
   "metadata": {},
   "outputs": [],
   "source": [
    "quiz.question_2(\"B\")"
   ]
  },
  {
   "cell_type": "markdown",
   "id": "chief-strand",
   "metadata": {},
   "source": [
    "## Revisiting exercise 5\n",
    "The next cell contains the same instrument as we worked with in exercise 5.\n",
    "\n",
    "The quiz questions for this section are not yet complete."
   ]
  },
  {
   "cell_type": "code",
   "execution_count": 45,
   "id": "collect-holocaust",
   "metadata": {},
   "outputs": [],
   "source": [
    "instrument = ms.McStas_instr(\"exercise_6\", input_path=\"run_folder\")\n",
    "instrument.settings(output_path=\"data_folder/exercise_6\")\n",
    "\n",
    "instrument.add_component(\"init\", \"Union_init\") # Necessary for current version of Union in McStas 3.X\n",
    "\n",
    "# Set up Al material with incoherent and powder\n",
    "Al_incoherent = instrument.add_component(\"Al_incoherent\", \"Incoherent_process\")\n",
    "Al_incoherent.sigma = \"4*0.0082\"\n",
    "Al_incoherent.packing_factor = 1\n",
    "Al_incoherent.unit_cell_volume = 66.4\n",
    "\n",
    "Al_powder = instrument.add_component(\"Al_powder\", \"Powder_process\")\n",
    "Al_powder.reflections = \"\\\"Al.laz\\\"\"\n",
    "\n",
    "Al = instrument.add_component(\"Al\", \"Union_make_material\")\n",
    "Al.process_string = '\"Al_incoherent,Al_powder\"'\n",
    "Al.my_absorption = \"100*4*0.231/66.4\"\n",
    "\n",
    "# Set up YBaCuO with incoherent and single crystal\n",
    "YBaCuO_incoherent = instrument.add_component(\"YBaCuO_incoherent\", \"Incoherent_process\")\n",
    "YBaCuO_incoherent.sigma = 2.105\n",
    "YBaCuO_incoherent.unit_cell_volume = 173.28\n",
    "\n",
    "YBaCuO_crystal = instrument.add_component(\"YBaCuO_crystal\", \"Single_crystal_process\")\n",
    "YBaCuO_crystal.set_parameters(\n",
    "{\"ax\" : 3.816, \"ay\" : 0, \"az\" : 0,\n",
    " \"bx\" : 0, \"by\" : 3.886, \"bz\" : 0,\n",
    " \"cx\" : 0, \"cy\" : 0, \"cz\" : 11.677,\n",
    " \"delta_d_d\" : 5E-4, \"mosaic\" : 30, \"barns\" : 1,\n",
    " \"reflections\" : '\"YBaCuO.lau\"'})\n",
    "\n",
    "YBaCuO = instrument.add_component(\"YBaCuO\", \"Union_make_material\")\n",
    "YBaCuO.process_string = '\"YBaCuO_incoherent,YBaCuO_crystal\"'\n",
    "YBaCuO.my_absorption = 100*14.82/173.28\n",
    "\n",
    "src = instrument.add_component(\"source\", \"Source_div\")\n",
    "src.xwidth = 0.01\n",
    "src.yheight = 0.035\n",
    "src.focus_aw = 0.01\n",
    "src.focus_ah = 0.01\n",
    "src.flux = 1E13\n",
    "instrument.add_parameter(\"double\", \"wavelength\", value=4.0, comment=\"[AA]  Mean wavelength of neutrons\")\n",
    "instrument.add_parameter(\"double\", \"d_wavelength\", value=0.001, comment=\"[AA]  Wavelength spread of neutrons\")\n",
    "src.lambda0 = \"wavelength\"\n",
    "src.dlambda = \"d_wavelength\"\n",
    "\n",
    "\n",
    "# At a reference point to build the cryostat around\n",
    "cryostat_center = instrument.add_component(\"cryostat_center\", \"Arm\")\n",
    "cryostat_center.set_AT([0, 0, 1], RELATIVE=src)\n",
    "\n",
    "# Parameter for controlling sample rotation\n",
    "A3_angle = instrument.add_parameter(\"A3_angle\", value=30.99)\n",
    "\n",
    "sample = instrument.add_component(\"sample\", \"Union_box\")\n",
    "sample.set_AT([0, 0, 0], RELATIVE=cryostat_center)\n",
    "sample.set_ROTATED([0, A3_angle, 0], RELATIVE=cryostat_center)\n",
    "sample.xwidth = 0.012\n",
    "sample.yheight = 0.032\n",
    "sample.zdepth = 0.009\n",
    "sample.material_string = '\"YBaCuO\"'\n",
    "sample.priority = 200\n",
    "\n",
    "# Adding cryostat using the cryostat tool\n",
    "orange_cryostat = ms.Cryostat(\"orange\", instrument, max_priority=100)\n",
    "orange_cryostat.set_AT(0, cryostat_center)\n",
    "\n",
    "orange_cryostat.add_layer(inner_radius=70E-3/2, outer_radius=75E-3/2,\n",
    "                          origin_to_top=160-3, top_thickness=-1E-3,\n",
    "                          origin_to_bottom=40E-3, bottom_thickness=5E-3,\n",
    "                          p_interact=0.2)\n",
    "\n",
    "orange_cryostat.add_layer(inner_radius=120E-3/2, outer_radius=125E-3/2,\n",
    "                          origin_to_top=190E-3, top_thickness=22E-3,\n",
    "                          origin_to_bottom=80E-3, bottom_thickness=31E-3,\n",
    "                          p_interact=0.2)\n",
    "\n",
    "orange_cryostat.build(include_master=True)\n",
    "master = instrument.get_component(\"orange_master\") # grab master object\n",
    "\n",
    "instrument.add_declare_var(\"double\", \"t_min\")\n",
    "instrument.add_declare_var(\"double\", \"t_max\")\n",
    "\n",
    "instrument.append_initialize(\"t_min = (wavelength - d_wavelength)*(1.0 - 0.18 + 0.5)/(K2V*2*PI);\")\n",
    "instrument.append_initialize(\"t_max = (wavelength + d_wavelength)*(1.0 + 0.28 + 0.5)/(K2V*2*PI);\")\n",
    "instrument.add_declare_var(\"char\", \"options\", array=256)\n",
    "instrument.append_initialize('sprintf(options,\"banana, theta limits=[-180,180] bins=180, t limits=[%g %g] bins=300\",t_min,t_max);')\n",
    "\n",
    "banana_detector = instrument.add_component(\"banana_tof_detector\", \"Monitor_nD\")\n",
    "banana_detector.set_RELATIVE(cryostat_center)\n",
    "banana_detector.xwidth = 1\n",
    "banana_detector.yheight = 0.2\n",
    "banana_detector.restore_neutron = 1\n",
    "options = \"options\"\n",
    "banana_detector.options = options\n",
    "banana_detector.filename = '\"tof_b.dat\"'\n",
    "\n",
    "banana_detector = instrument.add_component(\"banana_detector\", \"Monitor_nD\")\n",
    "banana_detector.set_RELATIVE(cryostat_center)\n",
    "banana_detector.set_parameters(xwidth = 1.0, yheight = 0.2, filename='\"banana.dat\"', restore_neutron=1,\n",
    "                               options='\"banana, theta limits=[-180,180] bins=180\"')\n",
    "\n",
    "L_monitor = instrument.add_component(\"L_monitor\", \"L_monitor\")\n",
    "L_monitor.set_AT(0.3, RELATIVE=cryostat_center)\n",
    "L_monitor.set_parameters(xwidth=0.3, yheight=0.3,\n",
    "                         Lmin=\"wavelength - d_wavelength\",\n",
    "                         Lmax=\"wavelength + d_wavelength\",\n",
    "                         nL=300, filename='\"l_mon.dat\"', restore_neutron=1)\n",
    "\n",
    "stop = instrument.add_component(\"stop\", \"Union_stop\")\n",
    "\n",
    "logger_zx = instrument.add_component(\"logger_zx\", \"Union_logger_2D_space\", before=master)\n",
    "logger_zx.set_parameters(D_direction_1='\"z\"', D1_min=-0.07, D1_max=0.07, n1=200,\n",
    "                         D_direction_2='\"x\"', D2_min=-0.07, D2_max=0.07, n2=200,\n",
    "                         filename='\"logger_zx.dat\"')\n",
    "logger_zx.set_AT(0, cryostat_center)\n",
    "\n",
    "logger_zy = instrument.add_component(\"logger_zy\", \"Union_logger_2D_space\", before=master)\n",
    "logger_zy.set_parameters(D_direction_1='\"z\"', D1_min=-0.07, D1_max=0.07, n1=200,\n",
    "                       D_direction_2='\"y\"', D2_min=-0.1, D2_max=0.2, n2=200,\n",
    "                       filename='\"logger_zy.dat\"')\n",
    "logger_zy.set_AT(0, cryostat_center)\n",
    "\n",
    "logger_2DQ = instrument.add_component(\"logger_2DQ\", \"Union_logger_2DQ\", before=master)\n",
    "logger_2DQ.set_parameters(Q_direction_1 = '\"z\"', Q1_min = -3.3, Q1_max = 3.3, n1 = 200,\n",
    "                          Q_direction_2 = '\"x\"', Q2_min = -3.3, Q2_max = 3.3, n2 = 200,\n",
    "                          filename = '\"logger_2DQ_zx.dat\"')\n",
    "\n",
    "order_total_par = instrument.add_parameter(\"order_total\", value=0, comment=\"Scattering order recorded by loggers, 0 for all\")\n",
    "\n",
    "logger_zx.order_total = order_total_par\n",
    "logger_zy.order_total = \"order_total\" # Alternative allowed syntax\n",
    "logger_2DQ.order_total = order_total_par\n",
    "\n",
    "logger_2DQ = instrument.add_component(\"logger_2DQ_sample\", \"Union_logger_2DQ\", before=master)\n",
    "logger_2DQ.set_parameters(Q_direction_1 = '\"z\"', Q1_min=-3.3, Q1_max=3.3, n1=200,\n",
    "                          Q_direction_2 = '\"x\"', Q2_min=-3.3, Q2_max=3.3, n2=200,\n",
    "                          filename = '\"logger_2DQ_sample_zx.dat\"',\n",
    "                          order_total=order_total_par, target_geometry='\"sample\"')\n",
    "\n",
    "logger_2DQ = instrument.add_component(\"logger_2DQ_cryo\", \"Union_logger_2DQ\", before=master)\n",
    "logger_2DQ.set_parameters(Q_direction_1 = '\"z\"', Q1_min=-3.3, Q1_max=3.3, n1=200,\n",
    "                          Q_direction_2 = '\"x\"', Q2_min=-3.3, Q2_max=3.3, n2=200,\n",
    "                          filename = '\"logger_2DQ_cryo_zx.dat\"', order_total=order_total_par, \n",
    "                          target_geometry='\"orange_layer_0_layer,orange_layer_1_layer\"')"
   ]
  },
  {
   "cell_type": "markdown",
   "id": "persistent-linux",
   "metadata": {},
   "source": [
    "### Question 1\n",
    "Create copies of all loggers with _con added to their name."
   ]
  },
  {
   "cell_type": "code",
   "execution_count": 46,
   "id": "invalid-submission",
   "metadata": {},
   "outputs": [],
   "source": [
    "# Your code here"
   ]
  },
  {
   "cell_type": "markdown",
   "id": "legal-scholarship",
   "metadata": {},
   "source": [
    "### Question 2\n",
    "Add a conditional PSD component and a banana_tof limited to the conditional signal similar to the one in the talk on conditionals."
   ]
  },
  {
   "cell_type": "code",
   "execution_count": 47,
   "id": "horizontal-genius",
   "metadata": {},
   "outputs": [],
   "source": [
    "# Your code here"
   ]
  },
  {
   "cell_type": "markdown",
   "id": "positive-pursuit",
   "metadata": {},
   "source": [
    "### Task 3\n",
    "Run the simulation and investigate the origin of some of the background seen when the crystal is in the Bragg condition for a 4 Å beam with narrow wavelength width."
   ]
  },
  {
   "cell_type": "code",
   "execution_count": 48,
   "id": "returning-tradition",
   "metadata": {},
   "outputs": [
    {
     "name": "stdout",
     "output_type": "stream",
     "text": [
      "theta =  40.062066584385505  at wavelength =  5.0\n"
     ]
    }
   ],
   "source": [
    "import math\n",
    "wavelength = 4.0\n",
    "theta = 180/3.14159*math.asin(wavelength/2.0/3.8843)\n",
    "print(\"theta = \", theta, \" at wavelength = \", wavelength)"
   ]
  },
  {
   "cell_type": "code",
   "execution_count": 49,
   "id": "touched-bidding",
   "metadata": {},
   "outputs": [
    {
     "data": {
      "application/vnd.jupyter.widget-view+json": {
       "model_id": "b8bfc0777d0a4269b3aa0b75ed187f05",
       "version_major": 2,
       "version_minor": 0
      },
      "text/plain": [
       "VBox(children=(VBox(children=(HBox(children=(Label(value='wavelength', layout=Layout(height='32px', width='15%…"
      ]
     },
     "metadata": {},
     "output_type": "display_data"
    },
    {
     "name": "stderr",
     "output_type": "stream",
     "text": [
      "/Users/madsbertelsen/opt/anaconda3/lib/python3.8/site-packages/matplotlib/colorbar.py:316: RuntimeWarning: divide by zero encountered in log10\n",
      "  ticks = ticks[(np.log10(ticks) >= np.log10(vmin) - rtol) &\n",
      "/Users/madsbertelsen/opt/anaconda3/lib/python3.8/site-packages/matplotlib/colorbar.py:317: RuntimeWarning: divide by zero encountered in log10\n",
      "  (np.log10(ticks) <= np.log10(vmax) + rtol)]\n"
     ]
    }
   ],
   "source": [
    "%matplotlib widget\n",
    "import mcstasscript.jb_interface as ms_widget\n",
    "ms_widget.show(instrument)"
   ]
  },
  {
   "cell_type": "code",
   "execution_count": null,
   "id": "valid-twins",
   "metadata": {},
   "outputs": [],
   "source": []
  }
 ],
 "metadata": {
  "kernelspec": {
   "display_name": "Python 3",
   "language": "python",
   "name": "python3"
  },
  "language_info": {
   "codemirror_mode": {
    "name": "ipython",
    "version": 3
   },
   "file_extension": ".py",
   "mimetype": "text/x-python",
   "name": "python",
   "nbconvert_exporter": "python",
   "pygments_lexer": "ipython3",
   "version": "3.8.8"
  }
 },
 "nbformat": 4,
 "nbformat_minor": 5
}
