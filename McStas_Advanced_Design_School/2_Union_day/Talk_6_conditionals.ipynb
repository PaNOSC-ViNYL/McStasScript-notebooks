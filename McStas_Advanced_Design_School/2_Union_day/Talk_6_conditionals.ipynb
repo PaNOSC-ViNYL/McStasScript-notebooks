{
 "cells": [
  {
   "cell_type": "markdown",
   "id": "embedded-interpretation",
   "metadata": {
    "slideshow": {
     "slide_type": "slide"
    }
   },
   "source": [
    "# Conditional components\n",
    "We have seen how loggers and absorption loggers can reveal what is going on during a simulation with the Union components. These results give us some understanding of how the final results came to be so complex, but still it is difficult to connect an individual feature in the results to a cause within the simulated system.\n",
    "\n",
    "The Union components offer a solution to this problem through its last class of components: conditional components. Conditional components are linked to absorption loggers and loggers and make their ability to record data for a given ray conditional. At the end of the simulation of each ray, the conditional component get the state of the ray, and can check if some condition is true or false.\n",
    "\n",
    "This means one can define a conditional component that correspond to an area of our measured data and modify a number of loggers to only show rays that contribute to that data!"
   ]
  },
  {
   "cell_type": "markdown",
   "id": "royal-pierre",
   "metadata": {
    "slideshow": {
     "slide_type": "slide"
    }
   },
   "source": [
    "## The current conditional components\n",
    "These always need to target a logger and will modify when it record data.\n",
    "\n",
    "| Conditional component                   | Condition                                          |\n",
    "| :---                                    |    :----                                           |\n",
    "| Union_conditional_standard              | time, energy and scattering order limits           |\n",
    "| Union_conditional_PSD                   | requires hitting a rectangular area and time limit |"
   ]
  },
  {
   "cell_type": "markdown",
   "id": "shaped-gregory",
   "metadata": {
    "slideshow": {
     "slide_type": "slide"
    }
   },
   "source": [
    "## Our example with diamond sphere in aluminium shell\n",
    "This example includes a number of loggers already."
   ]
  },
  {
   "cell_type": "code",
   "execution_count": null,
   "id": "talented-poverty",
   "metadata": {
    "scrolled": false
   },
   "outputs": [],
   "source": [
    "import mcstasscript as ms\n",
    "instrument = ms.McStas_instr(\"Union_demo\", input_path=\"run_folder\")\n",
    "instrument.settings(output_path=\"data_folder/union_demo\")\n",
    "\n",
    "instrument.add_component(\"init\", \"Union_init\")\n",
    "\n",
    "Al_incoherent = instrument.add_component(\"Al_incoherent\", \"Incoherent_process\")\n",
    "Al_incoherent.set_parameters(sigma=4*0.0082, unit_cell_volume=66.4)\n",
    "\n",
    "Al_powder = instrument.add_component(\"Al_powder\", \"Powder_process\")\n",
    "Al_powder.reflections = '\"Al.laz\"'\n",
    "\n",
    "Al = instrument.add_component(\"Al\", \"Union_make_material\")\n",
    "Al.process_string = '\"Al_incoherent,Al_powder\"'\n",
    "Al.my_absorption = 100*4*0.231/66.4\n",
    "\n",
    "process = instrument.add_component(\"diamond_incoherent\", \"Incoherent_process\")\n",
    "process.set_parameters(sigma=8*0.001, unit_cell_volume=45.39)\n",
    "\n",
    "instrument.add_parameter(\"diamond_phi\", value=0, comment=\"Rotation of diamond lattice around z [deg]\")\n",
    "crystal_process = instrument.add_component(\"diamond_crystal\", \"Single_crystal_process\")\n",
    "crystal_process.set_parameters(mosaic=20, reflections='\"C_diamond.lau\"',\n",
    "                               ax=3.567, by=3.567, cz=3.567,)\n",
    "crystal_process.set_ROTATED([0, 0, \"diamond_phi\"])\n",
    "\n",
    "diamond = instrument.add_component(\"diamond\", \"Union_make_material\")\n",
    "diamond.process_string = '\"diamond_incoherent,diamond_crystal\"'\n",
    "diamond.my_absorption = 100*8*0.0035/45.39\n",
    "\n",
    "sample_position = instrument.add_component(\"sample_position\", \"Arm\")\n",
    "sample_position.set_AT([0,0,1])\n",
    "\n",
    "instrument.add_parameter(\"A3\", value=0, comment=\"Rotation of sphere around y [deg]\")\n",
    "sphere = instrument.add_component(\"sphere\", \"Union_sphere\")\n",
    "sphere.radius = 0.01\n",
    "sphere.material_string = '\"diamond\"'\n",
    "sphere.priority = 10\n",
    "sphere.set_AT(0, RELATIVE=sample_position)\n",
    "sphere.set_ROTATED([0, \"A3\", 0], RELATIVE=sample_position)\n",
    "\n",
    "shell = instrument.add_component(\"shell\", \"Union_cylinder\")\n",
    "shell.set_parameters(radius=0.05, yheight=0.12,\n",
    "                     material_string = '\"Al\"', priority=3,\n",
    "                     p_interact=0.2)\n",
    "shell.set_AT(0, RELATIVE=sample_position)\n",
    "\n",
    "shell_vacuum = instrument.add_component(\"shell_vacuum\", \"Union_cylinder\")\n",
    "shell_vacuum.set_parameters(radius=shell.radius - 0.01, yheight=shell.yheight - 0.01,\n",
    "                            material_string = '\"Vacuum\"', priority=5)\n",
    "shell_vacuum.set_AT([0, 0, 0], RELATIVE=sample_position)\n",
    "\n",
    "source = instrument.add_component(\"source\", \"Source_div\")\n",
    "source.set_parameters(focus_aw=0.3, focus_ah=0.3,\n",
    "                      xwidth=0.005, yheight=0.005,\n",
    "                      flux=1E12)\n",
    "source.set_AT(-1, RELATIVE=sample_position)\n",
    "\n",
    "source.lambda0 = instrument.add_parameter(\"wavelength\", value=5.0,\n",
    "                                          comment=\"Wavelength in [Ang]\")\n",
    "source.dlambda = instrument.add_parameter(\"wavelength_half_width\", value=4.5,\n",
    "                                          comment=\"Wavelength half width in [Ang]\")\n",
    "\n",
    "master = instrument.add_component(\"master\", \"Union_master\")\n",
    "stop = instrument.add_component(\"stop\", \"Union_stop\")\n",
    "\n",
    "logger_time = instrument.add_component(\"logger_time_all\", \"Union_logger_1D\", before=master)\n",
    "logger_time.set_parameters(min_value=0, max_value=0.003, n1=600, filename='\"scattering_time.dat\"')\n",
    "\n",
    "logger_time = instrument.add_component(\"logger_time_shell\", \"Union_logger_1D\", before=master)\n",
    "logger_time.set_parameters(min_value=0, max_value=0.003, n1=600, filename='\"scattering_time_shell.dat\"',\n",
    "                           target_geometry='\"shell\"')\n",
    "\n",
    "logger_zx = instrument.add_component(\"logger_space_zx\", \"Union_logger_2D_space\",\n",
    "                                     before=master, RELATIVE=sample_position)\n",
    "logger_zx.set_parameters(D_direction_1='\"z\"', D1_min=-0.07, D1_max=0.07, n1=300,\n",
    "                         D_direction_2='\"x\"', D2_min=-0.07, D2_max=0.07, n2=300,\n",
    "                         filename='\"logger_zx.dat\"')\n",
    "\n",
    "logger_zx = instrument.add_component(\"logger_space_zx_1\", \"Union_logger_2D_space\",\n",
    "                                     before=master, RELATIVE=sample_position)\n",
    "logger_zx.set_parameters(D_direction_1='\"z\"', D1_min=-0.07, D1_max=0.07, n1=300,\n",
    "                         D_direction_2='\"x\"', D2_min=-0.07, D2_max=0.07, n2=300,\n",
    "                         filename='\"logger_zx_1.dat\"', order_total=1)\n",
    "\n",
    "logger_zx = instrument.add_component(\"logger_space_zx_2\", \"Union_logger_2D_space\",\n",
    "                                     before=master, RELATIVE=sample_position)\n",
    "logger_zx.set_parameters(D_direction_1='\"z\"', D1_min=-0.07, D1_max=0.07, n1=300,\n",
    "                         D_direction_2='\"x\"', D2_min=-0.07, D2_max=0.07, n2=300,\n",
    "                         filename='\"logger_zx_2.dat\"', order_total=2)\n",
    "\n",
    "logger_zy = instrument.add_component(\"logger_space_zy\", \"Union_logger_2D_space\",\n",
    "                                     before=master, RELATIVE=sample_position)\n",
    "logger_zy.set_parameters(D_direction_1='\"z\"', D1_min=-0.07, D1_max=0.07, n1=300,\n",
    "                         D_direction_2='\"y\"', D2_min=-0.07, D2_max=0.07, n2=300,\n",
    "                         filename='\"logger_zy.dat\"')\n",
    "\n",
    "logger_xy = instrument.add_component(\"logger_space_xy\", \"Union_logger_2D_space\",\n",
    "                                     before=master, RELATIVE=sample_position)\n",
    "logger_xy.set_parameters(D_direction_1='\"x\"', D1_min=-0.06, D1_max=0.07, n1=300,\n",
    "                         D_direction_2='\"y\"', D2_min=-0.07, D2_max=0.07, n2=300,\n",
    "                         filename='\"logger_xy.dat\"') \n",
    "\n",
    "logger_2DQ = instrument.add_component(\"logger_2DQ\", \"Union_logger_2DQ\", before=master)\n",
    "logger_2DQ.set_parameters(Q_direction_1 = '\"z\"', Q1_min = -8.0, Q1_max = 8.0, n1 = 500,\n",
    "                         Q_direction_2 = '\"x\"', Q2_min = -8.0, Q2_max = 8.0, n2 = 500,\n",
    "                         filename = '\"logger_2DQ.dat\"')\n",
    "\n",
    "logger_2DQ = instrument.copy_component(\"logger_2DQ_shell\", \"logger_2DQ\", before=master)\n",
    "logger_2DQ.set_parameters(filename = '\"logger_2DQ_Al.dat\"', target_geometry='\"shell\"')\n",
    "\n",
    "logger_2DQ = instrument.copy_component(\"logger_2DQ_Al_inc\", \"logger_2DQ\", before=master)\n",
    "logger_2DQ.set_parameters(filename = '\"logger_2DQ_Al_inc.dat\"', target_geometry='\"shell\"',\n",
    "                          target_process='\"Al_incoherent\"')\n",
    "\n",
    "logger_2DQ = instrument.copy_component(\"logger_2DQ_Al_pow\", \"logger_2DQ\", before=master)\n",
    "logger_2DQ.set_parameters(filename = '\"logger_2DQ_Al_pw.dat\"', target_geometry='\"shell\"',\n",
    "                          target_process='\"Al_powder\"')\n",
    "\n",
    "logger_2DQ = instrument.copy_component(\"logger_2DQ_Diamond\", \"logger_2DQ\", before=master)\n",
    "logger_2DQ.set_parameters(filename = '\"logger_2DQ_Diamond.dat\"', target_geometry='\"sphere\"')\n",
    "\n",
    "logger_2DQ = instrument.copy_component(\"logger_2DQ_Diamond_inc\", \"logger_2DQ\", before=master)\n",
    "logger_2DQ.set_parameters(filename = '\"logger_2DQ_Diamond_inc.dat\"', target_geometry='\"sphere\"',\n",
    "                          target_process='\"diamond_incoherent\"')\n",
    "\n",
    "logger_2DQ = instrument.copy_component(\"logger_2DQ_Diamond_single\", \"logger_2DQ\", before=master)\n",
    "logger_2DQ.set_parameters(filename = '\"logger_2DQ_Diamond_single.dat\"', target_geometry='\"sphere\"',\n",
    "                          target_process='\"diamond_crystal\"')\n",
    "\n",
    "instrument.add_declare_var(\"double\", \"t_min\")\n",
    "instrument.add_declare_var(\"double\", \"t_max\")\n",
    "\n",
    "instrument.append_initialize(\"t_min = (wavelength - wavelength_half_width)*(1.0 - 0.18 + 0.5)/(K2V*2*PI);\")\n",
    "instrument.append_initialize(\"t_max = (wavelength + wavelength_half_width)*(1.0 + 0.28 + 0.5)/(K2V*2*PI);\")\n",
    "\n",
    "instrument.add_declare_var(\"char\", \"options\", array=256)\n",
    "instrument.append_initialize('sprintf(options,\"banana, theta limits=[-180,180] bins=180, t limits=[%g %g] bins=300\",t_min,t_max);')\n",
    "\n",
    "banana_detector = instrument.add_component(\"banana_tof_detector\", \"Monitor_nD\")\n",
    "banana_detector.set_RELATIVE(sample_position)\n",
    "banana_detector.xwidth = 1\n",
    "banana_detector.yheight = 0.2\n",
    "banana_detector.restore_neutron = 1\n",
    "options = \"options\"\n",
    "banana_detector.options = options\n",
    "banana_detector.filename = '\"tof_b.dat\"'\n",
    "\n",
    "banana_detector = instrument.add_component(\"banana_detector\", \"Monitor_nD\")\n",
    "banana_detector.set_RELATIVE(sample_position)\n",
    "banana_detector.set_parameters(xwidth = 1.0, yheight = 0.2, filename='\"banana.dat\"', restore_neutron=1,\n",
    "                               options='\"banana, theta limits=[-180,180] bins=180\"')\n",
    "\n",
    "L_monitor = instrument.add_component(\"L_monitor\", \"L_monitor\")\n",
    "L_monitor.set_AT(0.3, RELATIVE=sample_position)\n",
    "L_monitor.set_parameters(xwidth=0.3, yheight=0.3,\n",
    "                         Lmin=\"wavelength - wavelength_half_width\",\n",
    "                         Lmax=\"wavelength + wavelength_half_width\",\n",
    "                         nL=300, filename='\"l_mon.dat\"', restore_neutron=1)"
   ]
  },
  {
   "cell_type": "code",
   "execution_count": null,
   "id": "arctic-planner",
   "metadata": {
    "slideshow": {
     "slide_type": "slide"
    }
   },
   "outputs": [],
   "source": [
    "instrument.show_diagram()"
   ]
  },
  {
   "cell_type": "markdown",
   "id": "enclosed-taylor",
   "metadata": {
    "slideshow": {
     "slide_type": "slide"
    }
   },
   "source": [
    "## Before adding a conditional\n",
    "It is good practice to have a copy of each logger the conditional will affect that is left unaffected to be able to compare. Some loggers are copied here for conditional!"
   ]
  },
  {
   "cell_type": "code",
   "execution_count": null,
   "id": "loved-arcade",
   "metadata": {},
   "outputs": [],
   "source": [
    "logger_2DQ = instrument.copy_component(\"logger_2DQ_con\", \"logger_2DQ\", after=\"logger_2DQ\")\n",
    "logger_2DQ.filename = '\"logger_2DQ_con.dat\"'\n",
    "\n",
    "logger_zx = instrument.copy_component(\"logger_space_zx_con\", \"logger_space_zx\",\n",
    "                                      after=\"logger_space_zx\", RELATIVE=sample_position)\n",
    "logger_zx.filename='\"logger_zx_con.dat\"'\n",
    "\n",
    "logger_zx = instrument.copy_component(\"logger_space_zx_1_con\", \"logger_space_zx_1\",\n",
    "                                      after=\"logger_space_zx_1\", RELATIVE=sample_position)\n",
    "logger_zx.filename='\"logger_zx_1_con.dat\"'\n",
    "\n",
    "logger_zx = instrument.copy_component(\"logger_space_zx_2_con\", \"logger_space_zx_2\",\n",
    "                                      after=\"logger_space_zx_2\", RELATIVE=sample_position)\n",
    "logger_zx.filename='\"logger_zx_2_con.dat\"'\n",
    "\n",
    "logger_zy = instrument.copy_component(\"logger_space_zy_con\", \"logger_space_zy\",\n",
    "                                      after=\"logger_space_zy\", RELATIVE=sample_position)\n",
    "logger_zy.filename='\"logger_zy_con.dat\"'\n",
    "\n",
    "logger_xy = instrument.copy_component(\"logger_space_xy_con\", \"logger_space_xy\",\n",
    "                                      after=\"logger_space_xy\", RELATIVE=sample_position)\n",
    "logger_xy.filename='\"logger_xy_con.dat\"'"
   ]
  },
  {
   "cell_type": "markdown",
   "id": "allied-establishment",
   "metadata": {
    "slideshow": {
     "slide_type": "slide"
    }
   },
   "source": [
    "### Adding a conditional\n",
    "We will add the Union_conditional_PSD component."
   ]
  },
  {
   "cell_type": "code",
   "execution_count": null,
   "id": "expanded-internship",
   "metadata": {},
   "outputs": [],
   "source": [
    "con_dir = instrument.add_component(\"conditional_direction\", \"Arm\", before=master)\n",
    "con_dir.set_AT(0, \"sample_position\")\n",
    "rot_y = instrument.add_parameter(\"conditional_angle\", value=0,\n",
    "                                 comment=\"Angle conditional PSD is placed at [deg]\")\n",
    "con_dir.set_ROTATED([0, rot_y, 0], \"sample_position\")\n",
    "\n",
    "instrument.add_parameter(\"conditional_mean_time\", value=0.0003, comment=\"Time center for conditional [s]\")\n",
    "instrument.add_parameter(\"conditional_spread_time\", value=0.00003, comment=\"Time spread for conditional [s]\")\n",
    "\n",
    "con = instrument.add_component(\"conditional\", \"Union_conditional_PSD\", before=master)\n",
    "con.set_parameters(xwidth=0.04, yheight=0.2,\n",
    "                   time_min=\"conditional_mean_time - 0.5*conditional_spread_time\",\n",
    "                   time_max=\"conditional_mean_time + 0.5*conditional_spread_time\",\n",
    "                   target_loggers='\"logger_2DQ_con,logger_space_zx_con,logger_space_zx_1_con,logger_space_zx_2_con,logger_space_zy_con,logger_space_xy_con\"')\n",
    "con.set_AT(banana_detector.xwidth/2, RELATIVE=con_dir)"
   ]
  },
  {
   "cell_type": "code",
   "execution_count": null,
   "id": "recognized-separate",
   "metadata": {
    "slideshow": {
     "slide_type": "slide"
    }
   },
   "outputs": [],
   "source": [
    "instrument.show_diagram()"
   ]
  },
  {
   "cell_type": "markdown",
   "id": "aerial-belly",
   "metadata": {
    "slideshow": {
     "slide_type": "slide"
    }
   },
   "source": [
    "### Limiting any monitor to conditionals for checking"
   ]
  },
  {
   "cell_type": "code",
   "execution_count": null,
   "id": "acoustic-genesis",
   "metadata": {},
   "outputs": [],
   "source": [
    "logger_2DQ.logger_conditional_extend_index = 1\n",
    "\n",
    "instrument.add_user_var(\"int\", \"conditional_flag\", comment=\"flag for conditional component\")\n",
    "master.append_EXTEND(\"conditional_flag = logger_conditional_extend_array[1];\")\n",
    "\n",
    "banana_con = instrument.copy_component(\"banana_tof_detector_con\", \"banana_tof_detector\",\n",
    "                                      after=\"banana_tof_detector\", RELATIVE=sample_position)\n",
    "banana_con.filename='\"banana_tof_con.dat\"'\n",
    "banana_con.set_WHEN(\"conditional_flag\")"
   ]
  },
  {
   "cell_type": "code",
   "execution_count": null,
   "id": "mysterious-installation",
   "metadata": {},
   "outputs": [],
   "source": [
    "%matplotlib widget\n",
    "import mcstasscript.jb_interface as ms_widget"
   ]
  },
  {
   "cell_type": "code",
   "execution_count": null,
   "id": "buried-negative",
   "metadata": {
    "scrolled": false,
    "slideshow": {
     "slide_type": "slide"
    }
   },
   "outputs": [],
   "source": [
    "ms_widget.show(instrument)"
   ]
  },
  {
   "cell_type": "markdown",
   "id": "forbidden-admission",
   "metadata": {
    "slideshow": {
     "slide_type": "slide"
    }
   },
   "source": [
    "### Using conditionals in animations"
   ]
  },
  {
   "cell_type": "code",
   "execution_count": null,
   "id": "legal-standing",
   "metadata": {},
   "outputs": [],
   "source": [
    "instrument.add_declare_var(\"double\", \"t_min_system\")\n",
    "instrument.add_declare_var(\"double\", \"t_max_system\")\n",
    "instrument.append_initialize(\"t_min_system = (wavelength - wavelength_half_width)*(1.0 - 0.071)/(K2V*2*PI);\")\n",
    "instrument.append_initialize(\"t_max_system = (wavelength + wavelength_half_width)*(1.0 + 0.28)/(K2V*2*PI);\")\n",
    "\n",
    "logger_zy = instrument.add_component(\"logger_2D_space_time_con\", \"Union_logger_2D_space_time\",\n",
    "                                     before=con, RELATIVE=sphere)\n",
    "logger_zy.set_parameters(D_direction_1='\"z\"', D1_min=-0.07, D1_max=0.07, n1=300,\n",
    "                         D_direction_2='\"y\"', D2_min=-0.07, D2_max=0.07, n2=300,\n",
    "                         time_bins=70, time_min=\"t_min_system\", time_max=\"t_max_system\",\n",
    "                         filename='\"logger_zy_time_con.dat\"')\n",
    "\n",
    "con.target_loggers='\"logger_2D_space_time_con,logger_2DQ_con,logger_space_zx_con,logger_space_zx_1_con,logger_space_zx_2_con,logger_space_zy_con,logger_space_xy_con\"'"
   ]
  },
  {
   "cell_type": "markdown",
   "id": "aquatic-ratio",
   "metadata": {
    "slideshow": {
     "slide_type": "slide"
    }
   },
   "source": [
    "### Run simulation"
   ]
  },
  {
   "cell_type": "code",
   "execution_count": null,
   "id": "victorian-beauty",
   "metadata": {},
   "outputs": [],
   "source": [
    "#instrument.set_parameters(diamond_phi=45, A3=1, wavelength=2.435, wavelength_half_width=0.03, \n",
    "#                          conditional_angle=-103, conditional_mean_time=0.000975, 3e-05)\n",
    "instrument.settings(ncount=5E7, mpi=6, force_compile=True)\n",
    "data = instrument.backengine()"
   ]
  },
  {
   "cell_type": "markdown",
   "id": "racial-thesis",
   "metadata": {
    "slideshow": {
     "slide_type": "slide"
    }
   },
   "source": [
    "### Make animation"
   ]
  },
  {
   "cell_type": "code",
   "execution_count": null,
   "id": "wrapped-benjamin",
   "metadata": {},
   "outputs": [],
   "source": [
    "ani_data = ms.name_search(\"logger_2D_space_time_con\", data)\n",
    "    \n",
    "ms.make_animation(ani_data, filename=\"animation_demo\", fps=3,\n",
    "                  log=True, colormap=\"Reds\", orders_of_mag=6, figsize=(8, 5))"
   ]
  },
  {
   "cell_type": "markdown",
   "id": "lucky-alfred",
   "metadata": {
    "slideshow": {
     "slide_type": "slide"
    }
   },
   "source": [
    "# Union overview\n",
    "In total there are 8 classes of Union components that can be linked together in order to perform the simulation.\n",
    "\n",
    "| Component class         | Links to                       | Purpose                                    |\n",
    "| :---                    |    :----                       |    :----                                   |\n",
    "| Process components      |                                | Describe scattering process                |\n",
    "| Union_make_material     | List of process components     | Collect process and absorption to material |\n",
    "| Geometry components     | Material definition            | Place a geometry with selected material    |\n",
    "| Logger components       | Optionally geometry / process  | Record scattering in Union system          |\n",
    "| Abs_logger components   | Optionally geometry / process  | Record absorption in Union system          |\n",
    "| Conditional components  | Logger or Abs_logger           | Place final condition on recording         |\n",
    "| Union_master            | Geometries (automatic linking) | Simulation engine                          |\n",
    "| Union_init / Union_stop |                                | Needed in McStas 3.X at start / end        |\n",
    "\n",
    "\n"
   ]
  },
  {
   "cell_type": "markdown",
   "id": "understood-cambodia",
   "metadata": {
    "slideshow": {
     "slide_type": "slide"
    }
   },
   "source": [
    "![alt](figures/power_point_figures/Slide13.png)"
   ]
  },
  {
   "cell_type": "markdown",
   "id": "worse-universal",
   "metadata": {
    "slideshow": {
     "slide_type": "slide"
    }
   },
   "source": [
    "## Conclusion\n",
    "The Union components is a powerful addition to McStas that allow complex simulations with simple tools. The advantages are:\n",
    "- Splits responsibility into geometry, physics and simulation engine\n",
    "- Modular physics description (expandable)\n",
    "- Allows overlapping geometry and hollow systems like cryostats\n",
    "- Full multiple scattering\n",
    "- Comprehensive logging tools\n",
    "- System for tracking interesting features (Conditional components)\n",
    "- Can be used to simulate detector systems\n",
    "\n",
    "Still to do:\n",
    "- Polarization not supported\n",
    "- Gravity not supported\n",
    "- Surface effects"
   ]
  },
  {
   "cell_type": "markdown",
   "id": "promotional-ranch",
   "metadata": {
    "slideshow": {
     "slide_type": "slide"
    }
   },
   "source": [
    "## Quiz and exercise\n",
    "Now its time for you to do a quiz about the Union components and use them to build an instrument. The quiz is called Union_quiz and is available in the McStasScript-notebooks. If only the solution is available, a git pull will be needed from the McStasScript-notebooks folder."
   ]
  }
 ],
 "metadata": {
  "celltoolbar": "Slideshow",
  "kernelspec": {
   "display_name": "Python 3",
   "language": "python",
   "name": "python3"
  },
  "language_info": {
   "codemirror_mode": {
    "name": "ipython",
    "version": 3
   },
   "file_extension": ".py",
   "mimetype": "text/x-python",
   "name": "python",
   "nbconvert_exporter": "python",
   "pygments_lexer": "ipython3",
   "version": "3.8.8"
  }
 },
 "nbformat": 4,
 "nbformat_minor": 5
}
