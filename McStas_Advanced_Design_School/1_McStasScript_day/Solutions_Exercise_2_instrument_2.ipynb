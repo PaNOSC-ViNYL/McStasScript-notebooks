{
 "cells": [
  {
   "cell_type": "code",
   "execution_count": null,
   "id": "contrary-portugal",
   "metadata": {},
   "outputs": [],
   "source": [
    "import mcstasscript as ms\n",
    "import load_quiz\n",
    "import instrument_2\n",
    "\n",
    "quiz = load_quiz.exercise_2()"
   ]
  },
  {
   "cell_type": "markdown",
   "id": "existing-leeds",
   "metadata": {},
   "source": [
    "# McStasScript exercise 2 mystery instrument 2\n",
    "In this sessions exercise there are three quiz notebooks, each about a mystery instrument object. The purpose is to teach how McStasScript can be used to investigate and understand an instrument in a different way than reading the code. Reading the source code will give you all the information, but when instruments gets larger it will take a significant amount of time. Try to answer all the questions without looking at the instrument code directly, though it is available in this folder. "
   ]
  },
  {
   "cell_type": "code",
   "execution_count": null,
   "id": "automatic-hacker",
   "metadata": {},
   "outputs": [],
   "source": [
    "instr = instrument_2.make_instrument() # Obtain mystery instrument object"
   ]
  },
  {
   "cell_type": "markdown",
   "id": "legendary-drinking",
   "metadata": {},
   "source": [
    "### Question 1\n",
    "What kind of instrument is described by the given instrument object?\n",
    "\n",
    "- A: Laue Camera\n",
    "- B: Triple Axis Spectrometer\n",
    "- C: Diffractometer on continuous source\n",
    "- D: Small Angle Neutron Scattering instrument\n",
    "- E: Time of Flight Diffractometer\n",
    "- F: Time of Flight Spectrometer"
   ]
  },
  {
   "cell_type": "code",
   "execution_count": null,
   "id": "selective-complexity",
   "metadata": {},
   "outputs": [],
   "source": [
    "# Use McStasScript help features to investigate the instrument\n",
    "instr.show_diagram()\n",
    "instr.show_parameters()"
   ]
  },
  {
   "cell_type": "code",
   "execution_count": null,
   "id": "statistical-internship",
   "metadata": {},
   "outputs": [],
   "source": [
    "quiz.instrument_2_question_1(\"E\")"
   ]
  },
  {
   "cell_type": "markdown",
   "id": "human-horizon",
   "metadata": {},
   "source": [
    "### Question 2\n",
    "What sample component is used?\n",
    "\n",
    "- A: Powder1\n",
    "- B: PowderN\n",
    "- C: SANS_spheres2\n",
    "- D: Phonon_simple\n",
    "- E: Single_crystal\n",
    "- F: Incoherent\n",
    "- G: Tunneling_sample"
   ]
  },
  {
   "cell_type": "code",
   "execution_count": null,
   "id": "stylish-needle",
   "metadata": {},
   "outputs": [],
   "source": [
    "# Use McStasScript features to investigate the instrument\n",
    "instr.get_component(\"Sample\")"
   ]
  },
  {
   "cell_type": "code",
   "execution_count": null,
   "id": "instant-wheat",
   "metadata": {},
   "outputs": [],
   "source": [
    "quiz.instrument_2_question_2(\"A\")"
   ]
  },
  {
   "cell_type": "markdown",
   "id": "involved-probe",
   "metadata": {},
   "source": [
    "### Question 3\n",
    "Does this instrument use any interesting McStas features?\n",
    "\n",
    "- A: GROUP\n",
    "- B: EXTEND\n",
    "- C: WHEN\n",
    "- D: JUMP\n",
    "- E: SPLIT\n",
    "- F: target_index"
   ]
  },
  {
   "cell_type": "code",
   "execution_count": null,
   "id": "resident-honduras",
   "metadata": {},
   "outputs": [],
   "source": [
    "instr.show_diagram()"
   ]
  },
  {
   "cell_type": "code",
   "execution_count": null,
   "id": "surgical-reminder",
   "metadata": {},
   "outputs": [],
   "source": [
    "quiz.instrument_2_question_3([\"B\", \"C\"])"
   ]
  },
  {
   "cell_type": "markdown",
   "id": "egyptian-vessel",
   "metadata": {},
   "source": [
    "### Diagnostics\n",
    "We want to investigate the timing of the chopper system, set up a diagnostics object and investigate the beam before the chopper, between the two choppers and after the last chopper. Then plot the time at these positions, try both a normal view and one with same_scale=True."
   ]
  },
  {
   "cell_type": "code",
   "execution_count": null,
   "id": "large-ridge",
   "metadata": {},
   "outputs": [],
   "source": [
    "# We set up the diagnostics tool and add the points\n",
    "diag = ms.Diagnostics(instr)\n",
    "diag.settings(suppress_output=True, ncount=5E6)\n",
    "\n",
    "diag.add_point(before=\"chopper\")\n",
    "diag.add_point(after=\"chopper\")\n",
    "diag.add_point(after=\"counter_chopper\")\n",
    "diag.run()"
   ]
  },
  {
   "cell_type": "code",
   "execution_count": null,
   "id": "preceding-interference",
   "metadata": {},
   "outputs": [],
   "source": [
    "diag.clear_views()\n",
    "diag.add_view(\"t\")\n",
    "diag.add_view(\"t\", same_scale=True)\n",
    "diag.add_view(\"t\", \"x\")\n",
    "diag.plot()"
   ]
  },
  {
   "cell_type": "markdown",
   "id": "actual-calculation",
   "metadata": {},
   "source": [
    "### Question 4\n",
    "What is the FWHM time width before the first chopper measured in seconds?"
   ]
  },
  {
   "cell_type": "code",
   "execution_count": null,
   "id": "settled-commodity",
   "metadata": {},
   "outputs": [],
   "source": [
    "quiz.instrument_2_question_4(0.0030)"
   ]
  },
  {
   "cell_type": "markdown",
   "id": "average-factory",
   "metadata": {},
   "source": [
    "### Question 5\n",
    "What is the FWHM time width between the choppers measured in seconds?"
   ]
  },
  {
   "cell_type": "code",
   "execution_count": null,
   "id": "acute-camcorder",
   "metadata": {},
   "outputs": [],
   "source": [
    "quiz.instrument_2_question_5(0.00089)"
   ]
  },
  {
   "cell_type": "markdown",
   "id": "korean-tunnel",
   "metadata": {},
   "source": [
    "### Question 6\n",
    "What is the FWHM time width after the first last measured in seconds?"
   ]
  },
  {
   "cell_type": "code",
   "execution_count": null,
   "id": "cellular-albany",
   "metadata": {},
   "outputs": [],
   "source": [
    "quiz.instrument_2_question_6(0.00038)"
   ]
  },
  {
   "cell_type": "markdown",
   "id": "prospective-stations",
   "metadata": {},
   "source": [
    "### Question 7\n",
    "Add a view to the diagnostics object that show the correlation between time and x position.\n",
    "What shape does the correlation have after both choppers?\n",
    "- A: A circle\n",
    "- B: A line\n",
    "- C: A square aligned with the coordinate system\n",
    "- D: A square rotated 45 deg\n",
    "- E: An oval"
   ]
  },
  {
   "cell_type": "code",
   "execution_count": null,
   "id": "nuclear-perspective",
   "metadata": {},
   "outputs": [],
   "source": [
    "quiz.instrument_2_question_7(\"D\")"
   ]
  },
  {
   "cell_type": "markdown",
   "id": "failing-attitude",
   "metadata": {},
   "source": [
    "# Run the instrument\n",
    "Try to run the instrument with the widget interface."
   ]
  },
  {
   "cell_type": "code",
   "execution_count": null,
   "id": "confidential-allocation",
   "metadata": {},
   "outputs": [],
   "source": [
    "import mcstasscript.jb_interface as ms_widget\n",
    "%matplotlib widget"
   ]
  },
  {
   "cell_type": "code",
   "execution_count": null,
   "id": "altered-chassis",
   "metadata": {},
   "outputs": [],
   "source": [
    "ms_widget.show(instr)"
   ]
  },
  {
   "cell_type": "markdown",
   "id": "abandoned-boundary",
   "metadata": {},
   "source": [
    "### Question 8\n",
    "On the TOFdet monitor the single peak of the sample can be seen, giving an indication of the resolution of the instrument at 90 deg. Which of these configurations provide the highest resolution?\n",
    "\n",
    "- A: Both choppers enabled and frequency_multiplier of 1\n",
    "- B: One chopper enabled and frequency_multiplier of 1\n",
    "- C: One chopper enabled and frequency_multiplier of 2"
   ]
  },
  {
   "cell_type": "code",
   "execution_count": null,
   "id": "cloudy-breakdown",
   "metadata": {},
   "outputs": [],
   "source": [
    "# Run the experiments with sufficient ncount and measure the peak width\n",
    "print(\"One chopper, frequency 2 FWHM   \", 7.413 - 7.285)\n",
    "print(\"Both choppers, frequency 1 FWHM \", 7.396 - 7.304)"
   ]
  },
  {
   "cell_type": "code",
   "execution_count": null,
   "id": "higher-staff",
   "metadata": {},
   "outputs": [],
   "source": [
    "quiz.instrument_2_question_8(\"A\")"
   ]
  },
  {
   "cell_type": "markdown",
   "id": "acquired-hollywood",
   "metadata": {},
   "source": [
    "### Question 9\n",
    "Replace the sample with a PowderN that use Na2Ca3Al2F14.laz as the reflection data but have the same physical shape and position as the current sample. Set d_phi to 12 again, this speeds up the simulation as rays are not scattered to positions above and below the detector. Answer with the instrument object."
   ]
  },
  {
   "cell_type": "code",
   "execution_count": null,
   "id": "administrative-monroe",
   "metadata": {},
   "outputs": [],
   "source": [
    "# Have a final look at the sample settings as they should be replicated\n",
    "print(instr.get_component(\"Sample\")) \n",
    "\n",
    "# Remove the sample from the instrument\n",
    "instr.remove_component(\"Sample\") "
   ]
  },
  {
   "cell_type": "code",
   "execution_count": null,
   "id": "painted-utility",
   "metadata": {},
   "outputs": [],
   "source": [
    " # Insert PowderN at the right spot\n",
    "sample = instr.add_component(\"Sample\", \"PowderN\", after=\"guide2\")\n",
    "\n",
    "# Set parameters, remember '\"\"' for the filename\n",
    "sample.set_parameters(radius=0.003, yheight=0.02, reflections='\"Na2Ca3Al2F14.laz\"', d_phi=12) \n",
    "\n",
    "# Set position as original\n",
    "sample.set_AT([0, 0, \"sample_position\"], RELATIVE=\"Source\")\n",
    "\n",
    "# Set same EXTEND section\n",
    "sample.append_EXTEND(\"if (!SCATTERED) ABSORB;\") "
   ]
  },
  {
   "cell_type": "code",
   "execution_count": null,
   "id": "measured-signature",
   "metadata": {},
   "outputs": [],
   "source": [
    "quiz.instrument_2_question_9(instr)"
   ]
  },
  {
   "cell_type": "markdown",
   "id": "impaired-assembly",
   "metadata": {},
   "source": [
    "## Run the instrument with the new sample\n",
    "Lets try to run the instrument again with the new sample"
   ]
  },
  {
   "cell_type": "code",
   "execution_count": null,
   "id": "prescription-thirty",
   "metadata": {
    "scrolled": false
   },
   "outputs": [],
   "source": [
    "ms_widget.show(instr)"
   ]
  },
  {
   "cell_type": "code",
   "execution_count": null,
   "id": "automated-spending",
   "metadata": {},
   "outputs": [],
   "source": []
  }
 ],
 "metadata": {
  "kernelspec": {
   "display_name": "Python 3",
   "language": "python",
   "name": "python3"
  },
  "language_info": {
   "codemirror_mode": {
    "name": "ipython",
    "version": 3
   },
   "file_extension": ".py",
   "mimetype": "text/x-python",
   "name": "python",
   "nbconvert_exporter": "python",
   "pygments_lexer": "ipython3",
   "version": "3.8.8"
  }
 },
 "nbformat": 4,
 "nbformat_minor": 5
}
