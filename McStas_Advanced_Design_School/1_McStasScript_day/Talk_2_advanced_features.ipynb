{
 "cells": [
  {
   "cell_type": "markdown",
   "id": "married-raising",
   "metadata": {
    "slideshow": {
     "slide_type": "slide"
    }
   },
   "source": [
    "# Advanced features in McStasScript\n",
    "Now that you have mastered reading and writing McStasScript instruments it is time to look at some of the more advanced features of McStasScript."
   ]
  },
  {
   "cell_type": "markdown",
   "id": "nervous-elite",
   "metadata": {
    "slideshow": {
     "slide_type": "slide"
    }
   },
   "source": [
    "## Use Python functions\n",
    "Structuring code in functions or even classes can be very helpful."
   ]
  },
  {
   "cell_type": "code",
   "execution_count": null,
   "id": "hindu-value",
   "metadata": {},
   "outputs": [],
   "source": [
    "import mcstasscript as ms\n",
    "    \n",
    "def make_instrument():\n",
    "    instrument = ms.McStas_instr(\"demo\", input_path=\"run_folder\")\n",
    "    instrument.settings(output_path=\"data_folder/talk_2\")\n",
    "    \n",
    "    src = instrument.add_component(\"Source\", \"Source_simple\")\n",
    "    src.set_parameters(xwidth=0.1, yheight=0.1, focus_xw=0.04, focus_yh=0.06, dist=2)\n",
    "    wavelength = instrument.add_parameter(\"wavelength\", value=3.0, comment=\"Wavelength center [AA]\")\n",
    "    wavelength_spread = instrument.add_parameter(\"wavelength_spread\", value=2.5, comment=\"Wavelength spread [AA]\")\n",
    "    src.lambda0 = wavelength\n",
    "    src.dlambda = wavelength_spread\n",
    "    \n",
    "    return instrument"
   ]
  },
  {
   "cell_type": "code",
   "execution_count": null,
   "id": "described-merchandise",
   "metadata": {},
   "outputs": [],
   "source": [
    "instrument = make_instrument()"
   ]
  },
  {
   "cell_type": "markdown",
   "id": "medium-debut",
   "metadata": {
    "slideshow": {
     "slide_type": "slide"
    }
   },
   "source": [
    "### Use function to add a section"
   ]
  },
  {
   "cell_type": "code",
   "execution_count": null,
   "id": "australian-round",
   "metadata": {},
   "outputs": [],
   "source": [
    "def add_monitors(instrument, name, xwidth=0.05, yheight=0.05):\n",
    "    mon_name = name + \"_monitor\"\n",
    "    \n",
    "    mon = instrument.add_component(mon_name, \"PSD_monitor\")\n",
    "    mon.set_parameters(xwidth=xwidth, yheight=yheight, restore_neutron=1,\n",
    "                       filename='\"' + mon_name + '.dat\"')\n",
    "    mon.set_AT(0.1, RELATIVE=\"PREVIOUS\")"
   ]
  },
  {
   "cell_type": "code",
   "execution_count": null,
   "id": "capital-amplifier",
   "metadata": {},
   "outputs": [],
   "source": [
    "add_monitors(instrument, \"source\", xwidth=0.12, yheight=0.12)\n",
    "instrument.show_components()"
   ]
  },
  {
   "cell_type": "markdown",
   "id": "apart-capitol",
   "metadata": {
    "slideshow": {
     "slide_type": "slide"
    }
   },
   "source": [
    "## Use for loops\n",
    "Simple for loops can save a lot of work, for example here with a curved guide."
   ]
  },
  {
   "cell_type": "code",
   "execution_count": null,
   "id": "musical-wesley",
   "metadata": {},
   "outputs": [],
   "source": [
    "source = instrument.get_component(\"Source\")\n",
    "last_element = source\n",
    "last_length = source.dist\n",
    "\n",
    "for index in range(8):\n",
    "    name = \"guide_\" + str(index)\n",
    "    guide = instrument.add_component(name, \"Guide_gravity\")\n",
    "    guide.set_parameters(l=0.5, m=3, w1=source.focus_xw, h1=source.focus_yh)\n",
    "    guide.set_AT(last_length, RELATIVE=last_element)\n",
    "    guide.set_ROTATED([0, 0.5, 0], RELATIVE=last_element)\n",
    "    \n",
    "    last_element = guide\n",
    "    last_length = guide.l + 0.005"
   ]
  },
  {
   "cell_type": "code",
   "execution_count": null,
   "id": "handmade-florida",
   "metadata": {},
   "outputs": [],
   "source": [
    "guide_end = instrument.add_component(\"guide_end\", \"Arm\")\n",
    "guide_end.set_AT(guide.l, RELATIVE=last_element)\n",
    "\n",
    "add_monitors(instrument, \"after_guide\", xwidth=0.06, yheight=0.08)"
   ]
  },
  {
   "cell_type": "markdown",
   "id": "biblical-person",
   "metadata": {
    "slideshow": {
     "slide_type": "slide"
    }
   },
   "source": [
    "### Show the instrument"
   ]
  },
  {
   "cell_type": "code",
   "execution_count": null,
   "id": "hawaiian-rating",
   "metadata": {},
   "outputs": [],
   "source": [
    "instrument.show_instrument()"
   ]
  },
  {
   "cell_type": "markdown",
   "id": "built-desktop",
   "metadata": {
    "slideshow": {
     "slide_type": "slide"
    }
   },
   "source": [
    "## Reader\n",
    "McStasScript has a system for reading a typical McStas instrument file and returning either a Python instrument object or even writing the python file. This system is not perfect, there are some features that can confuse it."
   ]
  },
  {
   "cell_type": "code",
   "execution_count": null,
   "id": "final-database",
   "metadata": {},
   "outputs": [],
   "source": [
    "# Create a reader object from file path\n",
    "instrument_reader = ms.McStas_file(\"PSI_DMC.instr\")\n",
    "\n",
    "# Make a clean instrument object\n",
    "instrument = ms.McStas_instr(\"DMC_read\", input_path=\"run_folder\")\n",
    "instrument.settings(output_path=\"data_folder/read_PSI_DMC\")\n",
    "\n",
    "# The reader can add the information to an instrument object\n",
    "instrument_reader.add_to_instr(instrument)\n",
    "\n",
    "instrument.show_parameters()"
   ]
  },
  {
   "cell_type": "markdown",
   "id": "occupational-failure",
   "metadata": {
    "slideshow": {
     "slide_type": "slide"
    }
   },
   "source": [
    "### Show read instrument geometry"
   ]
  },
  {
   "cell_type": "code",
   "execution_count": null,
   "id": "proof-poverty",
   "metadata": {},
   "outputs": [],
   "source": [
    "instrument.show_instrument()"
   ]
  },
  {
   "cell_type": "markdown",
   "id": "manual-landing",
   "metadata": {
    "slideshow": {
     "slide_type": "slide"
    }
   },
   "source": [
    "### Write Python file\n",
    "The written Python file is human readable, but does not quite follow the best practice. \n",
    "\n",
    "Can and will be improved in the future!"
   ]
  },
  {
   "cell_type": "code",
   "execution_count": null,
   "id": "christian-gather",
   "metadata": {},
   "outputs": [],
   "source": [
    "instrument_reader.write_python_file(\"PSI_DMC.py\", force=True)"
   ]
  },
  {
   "cell_type": "markdown",
   "id": "written-second",
   "metadata": {
    "slideshow": {
     "slide_type": "slide"
    }
   },
   "source": [
    "## Analysis mode of diagram"
   ]
  },
  {
   "cell_type": "code",
   "execution_count": null,
   "id": "appreciated-fifty",
   "metadata": {},
   "outputs": [],
   "source": [
    "instrument.show_diagram(analysis=True)"
   ]
  },
  {
   "cell_type": "code",
   "execution_count": null,
   "id": "quantitative-pocket",
   "metadata": {
    "slideshow": {
     "slide_type": "slide"
    }
   },
   "outputs": [],
   "source": [
    "source = instrument.get_component(\"source\")\n",
    "source.Lmin = instrument.add_parameter(\"Lmin\", value=1.0)\n",
    "source.Lmax = instrument.add_parameter(\"Lmax\", value=3.0)\n",
    "instrument.set_parameters(Lmin=0.5, wavelength=3, Lmax=4)"
   ]
  },
  {
   "cell_type": "code",
   "execution_count": null,
   "id": "professional-consolidation",
   "metadata": {},
   "outputs": [],
   "source": [
    "instrument.show_diagram(variable=\"l\", limits=[0.5, 4])"
   ]
  },
  {
   "cell_type": "markdown",
   "id": "excess-buffer",
   "metadata": {
    "slideshow": {
     "slide_type": "slide"
    }
   },
   "source": [
    "### Replace monochromator\n",
    "It seems the used monochromator component ignores higher order scattering, lets replace it."
   ]
  },
  {
   "cell_type": "code",
   "execution_count": null,
   "id": "toxic-drawing",
   "metadata": {
    "slideshow": {
     "slide_type": "-"
    }
   },
   "outputs": [],
   "source": [
    "instrument.get_component(\"foc_mono\")"
   ]
  },
  {
   "cell_type": "code",
   "execution_count": null,
   "id": "impossible-system",
   "metadata": {},
   "outputs": [],
   "source": [
    "instrument.remove_component(\"foc_mono\")\n",
    "mono = instrument.add_component(\"foc_mono\", \"Monochromator_curved\", after=\"sma\")\n",
    "mono.set_parameters(zwidth=0.05, yheight=0.025, gap=0.0005,\n",
    "                    NH=1, NV=5, mosaich=38, mosaicv=38, r0=0.7,\n",
    "                    Q=\"mono_q\", RV=\"RV\", RH=0)\n",
    "mono.set_AT(0, RELATIVE=\"sma\")"
   ]
  },
  {
   "cell_type": "markdown",
   "id": "unlimited-rebecca",
   "metadata": {
    "slideshow": {
     "slide_type": "slide"
    }
   },
   "source": [
    "### See the analysis with new monochromator component"
   ]
  },
  {
   "cell_type": "code",
   "execution_count": null,
   "id": "formal-memphis",
   "metadata": {
    "slideshow": {
     "slide_type": "-"
    }
   },
   "outputs": [],
   "source": [
    "instrument.set_parameters(Lmin=0.5, wavelength=3, Lmax=4)\n",
    "instrument.show_diagram(variable=\"l\", limits=[0.5, 4])"
   ]
  },
  {
   "cell_type": "markdown",
   "id": "composed-caution",
   "metadata": {
    "slideshow": {
     "slide_type": "slide"
    }
   },
   "source": [
    "# Available variables\n",
    "The *variable* keyword can take the following variables:\n",
    "\n",
    "| Axis string | Full name | Unit | Description |\n",
    "| --- | --- | --- | --- |\n",
    "| t | time | s | Particle time |\n",
    "| x | x position | m | Coordinate x of particle |\n",
    "| y | y position | m | Coordinate y of particle |\n",
    "| z | z position | m | Coordinate z of particle |\n",
    "| vx | x velocity | m/s | Velocity projected onto x |\n",
    "| vy | y velocity | m/s | Velocity projected onto y |\n",
    "| vz | z velocity | m/s | Velocity projected onto z |\n",
    "| l | lambda | AA | Wavelength |\n",
    "| e | energy | meV | Particle energy |\n",
    "| speed | speed | m/s | Speed (length of velocity vector) |\n",
    "| dx | x divergence | deg | Divergence from z axis along x axis |\n",
    "| dy | y divergence | deg | Divergence from z axis along y axis |"
   ]
  },
  {
   "cell_type": "code",
   "execution_count": null,
   "id": "leading-jewel",
   "metadata": {
    "slideshow": {
     "slide_type": "slide"
    }
   },
   "outputs": [],
   "source": [
    "instrument.set_parameters(Lmin=3.0, wavelength=3.1, Lmax=3.2)\n",
    "instrument.show_diagram(variable=\"t\")"
   ]
  },
  {
   "cell_type": "markdown",
   "id": "french-substance",
   "metadata": {
    "slideshow": {
     "slide_type": "slide"
    }
   },
   "source": [
    "## Diagnostics tool\n",
    "McStas instruments usually contain a large number of monitors. Usually only really needed when writing the instrument as debugging tool, but also often left in place in case they are needed again.\n",
    "\n",
    "McStasScript has an different way of handling diagnostics!"
   ]
  },
  {
   "cell_type": "code",
   "execution_count": null,
   "id": "virgin-exclusion",
   "metadata": {},
   "outputs": [],
   "source": [
    "diag = ms.Diagnostics(instrument)\n",
    "diag.settings(suppress_output=True, ncount=5E6)\n",
    "diag.set_parameters(Lmin=2.8, wavelength=3, Lmax=3.2)\n",
    "\n",
    "diag.add_point(before=\"guide1\")\n",
    "diag.add_point(after=\"window1\")\n",
    "diag.add_point(after=\"out1_slit\")\n",
    "diag.run()"
   ]
  },
  {
   "cell_type": "code",
   "execution_count": null,
   "id": "dress-stupid",
   "metadata": {},
   "outputs": [],
   "source": [
    "print(diag)"
   ]
  },
  {
   "cell_type": "markdown",
   "id": "miniature-wrist",
   "metadata": {
    "slideshow": {
     "slide_type": "slide"
    }
   },
   "source": [
    "### Views with diagnostics tool\n",
    "After a diagnostics run is performed, one can investigate different views by adding these."
   ]
  },
  {
   "cell_type": "code",
   "execution_count": null,
   "id": "interior-immunology",
   "metadata": {
    "slideshow": {
     "slide_type": "-"
    }
   },
   "outputs": [],
   "source": [
    "diag.clear_views()\n",
    "diag.add_view(\"l\")\n",
    "diag.add_view(\"l\", \"dx\")\n",
    "diag.add_view(\"x\", \"dx\")\n",
    "diag.plot()"
   ]
  },
  {
   "cell_type": "markdown",
   "id": "moving-coordination",
   "metadata": {
    "slideshow": {
     "slide_type": "slide"
    }
   },
   "source": [
    "## MCPL bridges\n",
    "McStas can dump the the beam to a MCPL file and pick up such a dump to continue in another instrument. This can be beneficial in several cases:\n",
    "- One part of the instrument is slow to run\n",
    "- Too many McStas components in one instrument file\n",
    "\n",
    "It takes some effort to do this, and especially to keep track of the dump files, but McStasScript has systems to make this easy!"
   ]
  },
  {
   "cell_type": "markdown",
   "id": "solar-yahoo",
   "metadata": {
    "slideshow": {
     "slide_type": "slide"
    }
   },
   "source": [
    "### Segmenting the DMC instrument"
   ]
  },
  {
   "cell_type": "code",
   "execution_count": null,
   "id": "posted-butterfly",
   "metadata": {
    "slideshow": {
     "slide_type": "-"
    }
   },
   "outputs": [],
   "source": [
    "instrument.show_diagram()"
   ]
  },
  {
   "cell_type": "markdown",
   "id": "smooth-malaysia",
   "metadata": {
    "slideshow": {
     "slide_type": "slide"
    }
   },
   "source": [
    "### Segment at window2\n",
    "Lets segment at the *window2* component, as no component after it refers to something before *window2*."
   ]
  },
  {
   "cell_type": "code",
   "execution_count": null,
   "id": "precise-viewer",
   "metadata": {},
   "outputs": [],
   "source": [
    "instrument.run_to(\"window2\")\n",
    "instrument.show_run_subset()"
   ]
  },
  {
   "cell_type": "code",
   "execution_count": null,
   "id": "nutritional-marker",
   "metadata": {},
   "outputs": [],
   "source": [
    "instrument.show_diagram()"
   ]
  },
  {
   "cell_type": "markdown",
   "id": "brilliant-reflection",
   "metadata": {
    "slideshow": {
     "slide_type": "slide"
    }
   },
   "source": [
    "### Creating a MCPL file\n",
    "Running the instrument in this state will still provide the usual data from monitors, but also the MCPL file describing the beam at that point."
   ]
  },
  {
   "cell_type": "code",
   "execution_count": null,
   "id": "recognized-sword",
   "metadata": {},
   "outputs": [],
   "source": [
    "instrument.settings(suppress_output=True)\n",
    "instrument.set_parameters(Lmin=0.8, wavelength=3, Lmax=4.0)\n",
    "data = instrument.backengine()\n",
    "print(data)"
   ]
  },
  {
   "cell_type": "markdown",
   "id": "frank-september",
   "metadata": {},
   "source": [
    "The instrument object keeps track of all the saved MCPL data, it can be shown with *show_dumps* and even persists when reloading a notebook as the database is written to disk and saved with the instrument name."
   ]
  },
  {
   "cell_type": "code",
   "execution_count": null,
   "id": "cleared-swedish",
   "metadata": {},
   "outputs": [],
   "source": [
    "instrument.show_dumps()"
   ]
  },
  {
   "cell_type": "markdown",
   "id": "potential-complaint",
   "metadata": {
    "slideshow": {
     "slide_type": "slide"
    }
   },
   "source": [
    "### Specifying run names\n",
    "One can specify a run name and insert a comment to make it easier to remember what the runs mean."
   ]
  },
  {
   "cell_type": "code",
   "execution_count": null,
   "id": "organic-excuse",
   "metadata": {
    "slideshow": {
     "slide_type": "-"
    }
   },
   "outputs": [],
   "source": [
    "instrument.set_parameters(Lmin=2.7, wavelength=2.9, Lmax=3.1)\n",
    "instrument.run_to(\"window2\", run_name=\"narrow_band\", comment=\"Demo run\")\n",
    "data = instrument.backengine()\n",
    "instrument.show_dumps()"
   ]
  },
  {
   "cell_type": "markdown",
   "id": "crucial-buffalo",
   "metadata": {
    "slideshow": {
     "slide_type": "slide"
    }
   },
   "source": [
    "One can view more details on a specific dump using *show_dump*"
   ]
  },
  {
   "cell_type": "code",
   "execution_count": null,
   "id": "departmental-capture",
   "metadata": {},
   "outputs": [],
   "source": [
    "instrument.show_dump(\"window2\", run_name=\"narrow_band\", tag=0)"
   ]
  },
  {
   "cell_type": "markdown",
   "id": "revised-enterprise",
   "metadata": {
    "slideshow": {
     "slide_type": "slide"
    }
   },
   "source": [
    "## Running from a beam dump"
   ]
  },
  {
   "cell_type": "code",
   "execution_count": null,
   "id": "saving-backup",
   "metadata": {},
   "outputs": [],
   "source": [
    "instrument.reset_run_points()\n",
    "instrument.run_from(\"window2\")\n",
    "instrument.show_run_subset()"
   ]
  },
  {
   "cell_type": "markdown",
   "id": "julian-spectrum",
   "metadata": {},
   "source": [
    "It is possible to adjust what run to load including tag and to set parameters for the *MCPL_output* component used instead of window2."
   ]
  },
  {
   "cell_type": "code",
   "execution_count": null,
   "id": "eastern-consumption",
   "metadata": {},
   "outputs": [],
   "source": [
    "instrument.run_from(\"window2\", run_name=\"narrow_band\", tag=0,\n",
    "                    repeat_count=2, E_smear=0.01)"
   ]
  },
  {
   "cell_type": "markdown",
   "id": "nutritional-ordinance",
   "metadata": {
    "slideshow": {
     "slide_type": "slide"
    }
   },
   "source": [
    "## Check the instrument diagram\n",
    "The instrument diagram now show the rest of the instrument."
   ]
  },
  {
   "cell_type": "code",
   "execution_count": null,
   "id": "christian-angola",
   "metadata": {},
   "outputs": [],
   "source": [
    "instrument.show_diagram()"
   ]
  },
  {
   "cell_type": "markdown",
   "id": "quiet-reynolds",
   "metadata": {
    "slideshow": {
     "slide_type": "slide"
    }
   },
   "source": [
    "## Run instrument and plot data"
   ]
  },
  {
   "cell_type": "code",
   "execution_count": null,
   "id": "manufactured-living",
   "metadata": {},
   "outputs": [],
   "source": [
    "instrument.set_parameters(wavelength=3)\n",
    "data = instrument.backengine()\n",
    "ms.make_sub_plot(data)"
   ]
  },
  {
   "cell_type": "markdown",
   "id": "nasty-disposition",
   "metadata": {
    "slideshow": {
     "slide_type": "slide"
    }
   },
   "source": [
    "# Summary\n",
    "McStasScript contains several powerful advanced features\n",
    "- Instrument reader for classic instrument files\n",
    "- Analysis mode for diagrams\n",
    "- Diagnostics tool\n",
    "- MCPL bridge with database\n",
    "\n",
    "We have also looked at how convenient it is to use functions and loops!"
   ]
  },
  {
   "cell_type": "markdown",
   "id": "heard-article",
   "metadata": {
    "slideshow": {
     "slide_type": "slide"
    }
   },
   "source": [
    "# Exercise 2\n",
    "You now know about many more McStasScript features and are ready for the next exercises!\n",
    "\n",
    "The next exercise sections is split into 3 notebooks, each concerning a mystery instrument object you should investigate using the McStasScript help features."
   ]
  }
 ],
 "metadata": {
  "celltoolbar": "Slideshow",
  "kernelspec": {
   "display_name": "Python 3",
   "language": "python",
   "name": "python3"
  },
  "language_info": {
   "codemirror_mode": {
    "name": "ipython",
    "version": 3
   },
   "file_extension": ".py",
   "mimetype": "text/x-python",
   "name": "python",
   "nbconvert_exporter": "python",
   "pygments_lexer": "ipython3",
   "version": "3.8.8"
  }
 },
 "nbformat": 4,
 "nbformat_minor": 5
}
