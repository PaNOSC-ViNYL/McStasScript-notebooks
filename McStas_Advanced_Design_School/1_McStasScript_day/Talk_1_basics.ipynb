{
 "cells": [
  {
   "cell_type": "markdown",
   "id": "separated-murder",
   "metadata": {
    "slideshow": {
     "slide_type": "slide"
    }
   },
   "source": [
    "# McStasScript\n",
    "McStasScript allows writing and running McStas simulations directly from python.\n",
    "\n",
    "Written by Mads Bertelsen while working at ESS DMSC.\n",
    "\n",
    "Funded by PaNOSC and a part of PaNOSC work package 5.\n",
    "\n",
    "Documentation online: https://mads-bertelsen.github.io\n",
    "\n",
    "### Installation\n",
    "McStasScript is open source and available here: https://github.com/PaNOSC-ViNYL/McStasScript\n",
    "\n",
    "Easy to install, install McStas as normal and then McStasScript can be installed with:\n",
    "```\n",
    "pip install McStasScript --upgrade\n",
    "```"
   ]
  },
  {
   "cell_type": "markdown",
   "id": "excess-radio",
   "metadata": {
    "slideshow": {
     "slide_type": "slide"
    }
   },
   "source": [
    "![normal](figures/Slide1.png)"
   ]
  },
  {
   "cell_type": "markdown",
   "id": "specialized-exclusion",
   "metadata": {
    "slideshow": {
     "slide_type": "slide"
    }
   },
   "source": [
    "![McStasScript](figures/Slide2.png)"
   ]
  },
  {
   "cell_type": "markdown",
   "id": "dense-aquarium",
   "metadata": {
    "slideshow": {
     "slide_type": "slide"
    }
   },
   "source": [
    "## Why move to Python?\n",
    "- McStas can still be used as usual, McStasScript is just an alternative\n",
    "- New generation of scientists are more likely to know Python\n",
    "- One language for writing the simulation and analysis of data\n",
    "\n",
    "## Why have a software layer that manages McStas things?\n",
    "- Provides powerful levels of abstraction (functions, for loops, ...)\n",
    "- Can in many cases find problems earlier than when running the instrument\n",
    "- Can host relevant McStas tools"
   ]
  },
  {
   "cell_type": "markdown",
   "id": "therapeutic-active",
   "metadata": {
    "slideshow": {
     "slide_type": "slide"
    }
   },
   "source": [
    "# Live demo of McStasScript\n",
    "Here we will set up an instrument simulation together and execute it from the slides!\n",
    "First we import the package."
   ]
  },
  {
   "cell_type": "code",
   "execution_count": null,
   "id": "organizational-comedy",
   "metadata": {
    "slideshow": {
     "slide_type": "-"
    }
   },
   "outputs": [],
   "source": [
    "import mcstasscript as ms"
   ]
  },
  {
   "cell_type": "markdown",
   "id": "chemical-application",
   "metadata": {
    "slideshow": {
     "slide_type": "slide"
    }
   },
   "source": [
    "## Configuration\n",
    "Before using McStasScript for the first time, it needs to be configured to find your McStas and/or McXtrace installation."
   ]
  },
  {
   "cell_type": "code",
   "execution_count": null,
   "id": "colonial-extraction",
   "metadata": {},
   "outputs": [],
   "source": [
    "configurator = ms.Configurator()\n",
    "configurator.set_mcrun_path(\"/Applications/McStas-2.7.1.app/Contents/Resources/mcstas/2.7.1/bin/\")\n",
    "configurator.set_mcstas_path(\"/Applications/McStas-2.7.1.app/Contents/Resources/mcstas/2.7.1\")\n",
    "print(configurator)"
   ]
  },
  {
   "cell_type": "markdown",
   "id": "cubic-belgium",
   "metadata": {
    "slideshow": {
     "slide_type": "slide"
    }
   },
   "source": [
    "## Create instrument objects\n",
    "The main class is the McStas_instr, used for creating instrument objects."
   ]
  },
  {
   "cell_type": "code",
   "execution_count": null,
   "id": "atomic-final",
   "metadata": {
    "slideshow": {
     "slide_type": "-"
    }
   },
   "outputs": [],
   "source": [
    "instrument = ms.McStas_instr(\"demo\", author=\"Mads Bertelsen\")"
   ]
  },
  {
   "cell_type": "markdown",
   "id": "civilian-record",
   "metadata": {
    "slideshow": {
     "slide_type": "slide"
    }
   },
   "source": [
    "## Help from the instrument object\n",
    "The instrument object knows about your available McStas components, and has help methods available."
   ]
  },
  {
   "cell_type": "code",
   "execution_count": null,
   "id": "revised-population",
   "metadata": {
    "slideshow": {
     "slide_type": "-"
    }
   },
   "outputs": [],
   "source": [
    "instrument.available_components()"
   ]
  },
  {
   "cell_type": "code",
   "execution_count": null,
   "id": "alternate-barrier",
   "metadata": {},
   "outputs": [],
   "source": [
    "instrument.available_components(\"sources\")"
   ]
  },
  {
   "cell_type": "code",
   "execution_count": null,
   "id": "complete-resistance",
   "metadata": {
    "slideshow": {
     "slide_type": "subslide"
    }
   },
   "outputs": [],
   "source": [
    "instrument.component_help(\"Moderator\")"
   ]
  },
  {
   "cell_type": "markdown",
   "id": "fewer-replacement",
   "metadata": {
    "slideshow": {
     "slide_type": "slide"
    }
   },
   "source": [
    "## Adding components\n",
    "McStas simulations rely on a sequence of components, these can be added to the instrument object with the *add_component* method. These return an instrument object that can be used to modify the component further."
   ]
  },
  {
   "cell_type": "code",
   "execution_count": null,
   "id": "pressed-moral",
   "metadata": {},
   "outputs": [],
   "source": [
    "src = instrument.add_component(\"source\", \"Source_div\")\n",
    "instrument.show_components()"
   ]
  },
  {
   "cell_type": "code",
   "execution_count": null,
   "id": "outside-labor",
   "metadata": {},
   "outputs": [],
   "source": [
    "print(src)"
   ]
  },
  {
   "cell_type": "markdown",
   "id": "advanced-remove",
   "metadata": {},
   "source": [
    "The component parameters become python attributes on the component object."
   ]
  },
  {
   "cell_type": "code",
   "execution_count": null,
   "id": "elementary-chester",
   "metadata": {},
   "outputs": [],
   "source": [
    "src.xwidth = 0.1\n",
    "src.yheight = 0.05\n",
    "src.focus_aw = 1.2\n",
    "src.focus_ah = 2.3\n",
    "src.set_parameters(xwidth=0.09, yheight=0.04)\n",
    "print(src)"
   ]
  },
  {
   "cell_type": "markdown",
   "id": "amino-numbers",
   "metadata": {
    "slideshow": {
     "slide_type": "slide"
    }
   },
   "source": [
    "Notice the attributes on component objects auto complete and wrong attributes are not allowed."
   ]
  },
  {
   "cell_type": "code",
   "execution_count": null,
   "id": "patient-millennium",
   "metadata": {},
   "outputs": [],
   "source": [
    "src.focus_ah = 2.2"
   ]
  },
  {
   "cell_type": "markdown",
   "id": "numerous-immunology",
   "metadata": {
    "slideshow": {
     "slide_type": "slide"
    }
   },
   "source": [
    "### All information about a component\n",
    "The *show_parameters* method is good for getting an overview of the current state of the component parameters, as it will also show the default values."
   ]
  },
  {
   "cell_type": "code",
   "execution_count": null,
   "id": "stuck-shape",
   "metadata": {
    "slideshow": {
     "slide_type": "-"
    }
   },
   "outputs": [],
   "source": [
    "src.show_parameters()"
   ]
  },
  {
   "cell_type": "markdown",
   "id": "monetary-absorption",
   "metadata": {
    "slideshow": {
     "slide_type": "slide"
    }
   },
   "source": [
    "## Add instrument parameters\n",
    "Its also possible to add instrument parameters, and these can be used directly when setting component parameters."
   ]
  },
  {
   "cell_type": "code",
   "execution_count": null,
   "id": "derived-extraction",
   "metadata": {},
   "outputs": [],
   "source": [
    "instrument.add_parameter(\"int\", \"order\", value=1, comment=\"Monochromator order, integer\")\n",
    "instrument.show_parameters()"
   ]
  },
  {
   "cell_type": "code",
   "execution_count": null,
   "id": "advanced-infrastructure",
   "metadata": {},
   "outputs": [],
   "source": [
    "src.lambda0 = instrument.add_parameter(\"wavelength\", value=2.0, comment=\"Wavelength in [Ang]\")\n",
    "src.dlambda = \"0.01*wavelength\"\n",
    "print(src)"
   ]
  },
  {
   "cell_type": "markdown",
   "id": "angry-article",
   "metadata": {
    "slideshow": {
     "slide_type": "slide"
    }
   },
   "source": [
    "### Setting component positions\n",
    "When creating a new component, one can specify its position and rotation. "
   ]
  },
  {
   "cell_type": "code",
   "execution_count": null,
   "id": "suited-situation",
   "metadata": {},
   "outputs": [],
   "source": [
    "guide = instrument.add_component(\"guide\", \"Guide_gravity\", AT=[0,0,1], RELATIVE=src)"
   ]
  },
  {
   "cell_type": "code",
   "execution_count": null,
   "id": "exclusive-finger",
   "metadata": {},
   "outputs": [],
   "source": [
    "guide.set_parameters(w1=0.05, h1=0.05, l=8.0, m=3.5, G=-9.82)\n",
    "print(guide)"
   ]
  },
  {
   "cell_type": "markdown",
   "id": "royal-script",
   "metadata": {},
   "source": [
    "One can always set the positon and rotation of component objects with the appropriate methods at a later point."
   ]
  },
  {
   "cell_type": "code",
   "execution_count": null,
   "id": "agreed-difficulty",
   "metadata": {},
   "outputs": [],
   "source": [
    "guide.set_AT([0, 0, 2], RELATIVE=\"source\")"
   ]
  },
  {
   "cell_type": "markdown",
   "id": "focal-microwave",
   "metadata": {
    "slideshow": {
     "slide_type": "slide"
    }
   },
   "source": [
    "### Adding initialize code\n",
    "Its possible to add lines of C code to the initialize section of the written McStas file, but its equally possible to just perform these calculations directly in python. Here I show how calculate rotation of a monochromator before we add such a component."
   ]
  },
  {
   "cell_type": "code",
   "execution_count": null,
   "id": "unavailable-brush",
   "metadata": {},
   "outputs": [],
   "source": [
    "instrument.add_declare_var(\"double\", \"mono_Q\", value=2*3.14159/1.714) # Q for Ge 311\n",
    "instrument.add_declare_var(\"double\", \"wavevector\")\n",
    "instrument.append_initialize(\"wavevector = 2.0*PI/wavelength;\")\n",
    "\n",
    "instrument.add_declare_var(\"double\", \"mono_rotation\")\n",
    "instrument.append_initialize(\"mono_rotation = asin(mono_Q/(2.0*wavevector))*RAD2DEG;\")"
   ]
  },
  {
   "cell_type": "code",
   "execution_count": null,
   "id": "engaging-jurisdiction",
   "metadata": {},
   "outputs": [],
   "source": [
    "instrument.show_variables()"
   ]
  },
  {
   "cell_type": "markdown",
   "id": "hundred-graphic",
   "metadata": {
    "slideshow": {
     "slide_type": "slide"
    }
   },
   "source": [
    "### Adding a monochromator\n",
    "We can now add a monochromator that use the calculated rotation."
   ]
  },
  {
   "cell_type": "code",
   "execution_count": null,
   "id": "coastal-marketplace",
   "metadata": {},
   "outputs": [],
   "source": [
    "mono = instrument.add_component(\"mono\", \"Monochromator_flat\")"
   ]
  },
  {
   "cell_type": "code",
   "execution_count": null,
   "id": "suspended-opening",
   "metadata": {},
   "outputs": [],
   "source": [
    "mono.set_parameters(zwidth=0.05, yheight=0.08, Q=\"mono_Q\")\n",
    "mono.set_AT([0, 0, guide.l + 0.5], RELATIVE=guide)\n",
    "mono.set_ROTATED([0, \"mono_rotation\", 0], RELATIVE=\"guide\")\n",
    "\n",
    "print(mono)"
   ]
  },
  {
   "cell_type": "markdown",
   "id": "julian-terrorism",
   "metadata": {
    "slideshow": {
     "slide_type": "-"
    }
   },
   "source": [
    "Need to set the beam direction to the direction of the scattered beam"
   ]
  },
  {
   "cell_type": "code",
   "execution_count": null,
   "id": "existing-jefferson",
   "metadata": {},
   "outputs": [],
   "source": [
    "beam_direction = instrument.add_component(\"beam_dir\", \"Arm\", AT_RELATIVE=mono)\n",
    "beam_direction.set_ROTATED([0, \"mono_rotation\", 0], RELATIVE=mono)"
   ]
  },
  {
   "cell_type": "markdown",
   "id": "reserved-jacksonville",
   "metadata": {
    "slideshow": {
     "slide_type": "slide"
    }
   },
   "source": [
    "### Adding a sample\n",
    "Now we can set up a simple powder sample to get some mildly interesting data."
   ]
  },
  {
   "cell_type": "code",
   "execution_count": null,
   "id": "liberal-belly",
   "metadata": {},
   "outputs": [],
   "source": [
    "sample = instrument.add_component(\"sample\", \"PowderN\", AT=[0,0,1.1], RELATIVE=\"beam_dir\")"
   ]
  },
  {
   "cell_type": "code",
   "execution_count": null,
   "id": "hearing-marker",
   "metadata": {},
   "outputs": [],
   "source": [
    "sample.radius = 0.015\n",
    "sample.yheight = 0.05\n",
    "sample.reflections = '\"Na2Ca3Al2F14.laz\"'\n",
    "print(sample)"
   ]
  },
  {
   "cell_type": "markdown",
   "id": "formal-breeding",
   "metadata": {
    "slideshow": {
     "slide_type": "slide"
    }
   },
   "source": [
    "### Adding a few monitors\n",
    "At the end we add a few monitors, a two theta banana detector and a transmission PSD."
   ]
  },
  {
   "cell_type": "code",
   "execution_count": null,
   "id": "double-officer",
   "metadata": {},
   "outputs": [],
   "source": [
    "banana = instrument.add_component(\"banana\", \"Monitor_nD\", RELATIVE=sample)\n",
    "banana.xwidth = 2.0\n",
    "banana.yheight = 0.3\n",
    "banana.restore_neutron = 1\n",
    "banana.filename = '\"banana.dat\"'\n",
    "banana.options = '\"theta limits=[5 175] bins=150, banana\"'\n",
    "\n",
    "mon = instrument.add_component(\"monitor\", \"PSD_monitor\")\n",
    "mon.nx = 100\n",
    "mon.ny = 100\n",
    "mon.filename = '\"psd.dat\"'\n",
    "mon.xwidth = 0.05\n",
    "mon.yheight = 0.08\n",
    "mon.restore_neutron = 1\n",
    "mon.set_AT([0,0,0.1], RELATIVE=sample)"
   ]
  },
  {
   "cell_type": "markdown",
   "id": "interstate-bracelet",
   "metadata": {
    "slideshow": {
     "slide_type": "slide"
    }
   },
   "source": [
    "### Checking our instrument object\n",
    "Before running our simulation we can check the contents of the instrument object and ensure its reasonable."
   ]
  },
  {
   "cell_type": "code",
   "execution_count": null,
   "id": "surprised-construction",
   "metadata": {},
   "outputs": [],
   "source": [
    "instrument.show_components()"
   ]
  },
  {
   "cell_type": "code",
   "execution_count": null,
   "id": "democratic-organ",
   "metadata": {},
   "outputs": [],
   "source": [
    "instrument.show_parameters()"
   ]
  },
  {
   "cell_type": "markdown",
   "id": "hollywood-challenge",
   "metadata": {
    "slideshow": {
     "slide_type": "slide"
    }
   },
   "source": [
    "### Instrument diagram\n",
    "Instrument diagram can be generated to provide an overview of the instrument."
   ]
  },
  {
   "cell_type": "code",
   "execution_count": null,
   "id": "catholic-gateway",
   "metadata": {},
   "outputs": [],
   "source": [
    "%matplotlib widget\n",
    "instrument.show_diagram()"
   ]
  },
  {
   "cell_type": "markdown",
   "id": "wanted-madonna",
   "metadata": {
    "slideshow": {
     "slide_type": "slide"
    }
   },
   "source": [
    "## Visualizing the instrument\n",
    "Can visualize the instrument directly from the notebook"
   ]
  },
  {
   "cell_type": "code",
   "execution_count": null,
   "id": "wrong-recipient",
   "metadata": {},
   "outputs": [],
   "source": [
    "instrument.show_instrument(width=1000,height=800)"
   ]
  },
  {
   "cell_type": "markdown",
   "id": "roman-marks",
   "metadata": {
    "slideshow": {
     "slide_type": "slide"
    }
   },
   "source": [
    "### Runnig our simulation\n",
    "Now we can run the simulation directly from python."
   ]
  },
  {
   "cell_type": "code",
   "execution_count": null,
   "id": "amateur-allen",
   "metadata": {},
   "outputs": [],
   "source": [
    "instrument.settings(ncount=5E6, output_path=\"data_folder/mcstas_basics\")\n",
    "instrument.set_parameters(wavelength=2.8)\n",
    "data = instrument.backengine()"
   ]
  },
  {
   "cell_type": "markdown",
   "id": "generous-spokesman",
   "metadata": {
    "slideshow": {
     "slide_type": "slide"
    }
   },
   "source": [
    "### Plotting the data\n",
    "The *backengine* method returns a data object that we can plot."
   ]
  },
  {
   "cell_type": "code",
   "execution_count": null,
   "id": "pediatric-frame",
   "metadata": {},
   "outputs": [],
   "source": [
    "print(data)"
   ]
  },
  {
   "cell_type": "code",
   "execution_count": null,
   "id": "swiss-first",
   "metadata": {},
   "outputs": [],
   "source": [
    "ms.make_sub_plot(data, fontsize=16, figsize=(15, 6))"
   ]
  },
  {
   "cell_type": "markdown",
   "id": "marine-simulation",
   "metadata": {
    "slideshow": {
     "slide_type": "slide"
    }
   },
   "source": [
    "### Plotting interface\n",
    "A widget interface is also available for plotting."
   ]
  },
  {
   "cell_type": "code",
   "execution_count": null,
   "id": "hydraulic-anatomy",
   "metadata": {},
   "outputs": [],
   "source": [
    "%matplotlib widget\n",
    "import mcstasscript.jb_interface as ms_widget\n",
    "ms_widget.show(data)"
   ]
  },
  {
   "cell_type": "markdown",
   "id": "automated-preference",
   "metadata": {
    "slideshow": {
     "slide_type": "slide"
    }
   },
   "source": [
    "### Simulation interface"
   ]
  },
  {
   "cell_type": "code",
   "execution_count": null,
   "id": "spatial-buddy",
   "metadata": {},
   "outputs": [],
   "source": [
    "ms_widget.show(instrument)"
   ]
  },
  {
   "cell_type": "markdown",
   "id": "improved-seller",
   "metadata": {
    "slideshow": {
     "slide_type": "slide"
    }
   },
   "source": [
    "### Setting plotting options\n",
    "Its also possible to adjust the way data is plotted, and these preferences are stored in the data object."
   ]
  },
  {
   "cell_type": "code",
   "execution_count": null,
   "id": "crude-chambers",
   "metadata": {},
   "outputs": [],
   "source": [
    "ms.name_plot_options(\"banana\", data, left_lim=90, right_lim=150)\n",
    "ms.name_plot_options(\"monitor\", data, log=True, orders_of_mag=3)\n",
    "ms.make_sub_plot(data, fontsize=12, figsize=(9, 4))"
   ]
  },
  {
   "cell_type": "markdown",
   "id": "printable-violin",
   "metadata": {
    "slideshow": {
     "slide_type": "slide"
    }
   },
   "source": [
    "### Access to the underlying data\n",
    "The underlying data is read from the McStas data files and imported as numpy arrays."
   ]
  },
  {
   "cell_type": "code",
   "execution_count": null,
   "id": "scheduled-retention",
   "metadata": {},
   "outputs": [],
   "source": [
    "import numpy as np\n",
    "banana = ms.name_search(\"banana\", data)\n",
    "print(banana)"
   ]
  },
  {
   "cell_type": "code",
   "execution_count": null,
   "id": "continuous-preserve",
   "metadata": {},
   "outputs": [],
   "source": [
    "print(banana.Intensity[1:10])"
   ]
  },
  {
   "cell_type": "markdown",
   "id": "thick-newsletter",
   "metadata": {
    "slideshow": {
     "slide_type": "slide"
    }
   },
   "source": [
    "### Plot with matplotlib"
   ]
  },
  {
   "cell_type": "code",
   "execution_count": null,
   "id": "harmful-likelihood",
   "metadata": {
    "slideshow": {
     "slide_type": "-"
    }
   },
   "outputs": [],
   "source": [
    "import matplotlib.pyplot as plt\n",
    "plt.figure(figsize=(7,4))\n",
    "plt.plot(banana.xaxis, banana.Intensity)\n",
    "plt.xlabel(\"Two theta [deg]\")\n",
    "plt.ylabel(\"Intensity [n/s/bin]\")\n",
    "plt.show()"
   ]
  },
  {
   "cell_type": "markdown",
   "id": "formed-request",
   "metadata": {
    "slideshow": {
     "slide_type": "slide"
    }
   },
   "source": [
    "## Changing the instrument\n",
    "The most common way to create the instrument is to add components in a sequence, but it is possible to insert a component in another position in the instrument. Lets add a slit and monitor between the monochromator and sample."
   ]
  },
  {
   "cell_type": "code",
   "execution_count": null,
   "id": "geological-lithuania",
   "metadata": {},
   "outputs": [],
   "source": [
    "instrument.show_diagram()"
   ]
  },
  {
   "cell_type": "markdown",
   "id": "pediatric-dietary",
   "metadata": {
    "slideshow": {
     "slide_type": "slide"
    }
   },
   "source": [
    "### Inserting a component before or after another\n",
    "When adding a component one can specify the before or after keyword to select the location."
   ]
  },
  {
   "cell_type": "code",
   "execution_count": null,
   "id": "swiss-money",
   "metadata": {},
   "outputs": [],
   "source": [
    "instrument.get_component(\"sample\")"
   ]
  },
  {
   "cell_type": "code",
   "execution_count": null,
   "id": "golden-maldives",
   "metadata": {},
   "outputs": [],
   "source": [
    "slit = instrument.add_component(\"sample_slit\", \"Slit\", before=\"sample\")\n",
    "slit.radius = 0.01\n",
    "slit.set_AT(1.0, RELATIVE=\"beam_dir\")\n",
    "\n",
    "mon = instrument.add_component(\"sample_monitor\", \"PSD_monitor\", after=slit)\n",
    "mon.set_parameters(xwidth=0.021, yheight=0.021,\n",
    "                   restore_neutron=1, filename='\"sample_psd\"')\n",
    "mon.set_AT([0,0,0.01], RELATIVE=slit)"
   ]
  },
  {
   "cell_type": "code",
   "execution_count": null,
   "id": "adjacent-float",
   "metadata": {},
   "outputs": [],
   "source": [
    "instrument.show_components()"
   ]
  },
  {
   "cell_type": "markdown",
   "id": "artistic-habitat",
   "metadata": {
    "slideshow": {
     "slide_type": "slide"
    }
   },
   "source": [
    "## Run with the slit"
   ]
  },
  {
   "cell_type": "code",
   "execution_count": null,
   "id": "dated-guess",
   "metadata": {},
   "outputs": [],
   "source": [
    "ms_widget.show(instrument)"
   ]
  },
  {
   "cell_type": "markdown",
   "id": "built-tennis",
   "metadata": {
    "slideshow": {
     "slide_type": "slide"
    }
   },
   "source": [
    "## Moving a component\n",
    "Components can be moved within the component sequence, for example we could switch the position of the monitor and slit."
   ]
  },
  {
   "cell_type": "code",
   "execution_count": null,
   "id": "great-receiver",
   "metadata": {},
   "outputs": [],
   "source": [
    "instrument.show_components()"
   ]
  },
  {
   "cell_type": "code",
   "execution_count": null,
   "id": "forced-desktop",
   "metadata": {},
   "outputs": [],
   "source": [
    "instrument.move_component(\"sample_slit\", after=\"sample_monitor\")"
   ]
  },
  {
   "cell_type": "markdown",
   "id": "improved-dominant",
   "metadata": {
    "slideshow": {
     "slide_type": "slide"
    }
   },
   "source": [
    "### Checking the instrument for errors\n",
    "Some operations checks for errors, for example moving a component, one can also do it manually and get the error message."
   ]
  },
  {
   "cell_type": "code",
   "execution_count": null,
   "id": "honest-soundtrack",
   "metadata": {
    "slideshow": {
     "slide_type": "-"
    }
   },
   "outputs": [],
   "source": [
    "try:\n",
    "    instrument.check_for_errors()\n",
    "except Exception as e:\n",
    "    print(e)"
   ]
  },
  {
   "cell_type": "markdown",
   "id": "photographic-excess",
   "metadata": {
    "slideshow": {
     "slide_type": "slide"
    }
   },
   "source": [
    "### Fixing the instrument"
   ]
  },
  {
   "cell_type": "code",
   "execution_count": null,
   "id": "rapid-network",
   "metadata": {},
   "outputs": [],
   "source": [
    "instrument.show_components()"
   ]
  },
  {
   "cell_type": "code",
   "execution_count": null,
   "id": "invisible-setting",
   "metadata": {},
   "outputs": [],
   "source": [
    "mon.set_AT(1.0, RELATIVE=\"beam_dir\")\n",
    "slit.set_AT(0.01, RELATIVE=mon)"
   ]
  },
  {
   "cell_type": "code",
   "execution_count": null,
   "id": "frozen-consumer",
   "metadata": {},
   "outputs": [],
   "source": [
    "try:\n",
    "    instrument.check_for_errors()\n",
    "except Exception as e:\n",
    "    print(e)"
   ]
  },
  {
   "cell_type": "markdown",
   "id": "wrong-acting",
   "metadata": {
    "slideshow": {
     "slide_type": "slide"
    }
   },
   "source": [
    "### Running the instrument to check\n",
    "The sample monitor is now in front of the slit and everything should be working again."
   ]
  },
  {
   "cell_type": "code",
   "execution_count": null,
   "id": "earned-aruba",
   "metadata": {
    "slideshow": {
     "slide_type": "-"
    }
   },
   "outputs": [],
   "source": [
    "ms_widget.show(instrument)"
   ]
  },
  {
   "cell_type": "markdown",
   "id": "cognitive-chapter",
   "metadata": {
    "slideshow": {
     "slide_type": "slide"
    }
   },
   "source": [
    "## Removing a component\n",
    "Use the *remove_component* to remove a component from the instrument."
   ]
  },
  {
   "cell_type": "code",
   "execution_count": null,
   "id": "subjective-height",
   "metadata": {},
   "outputs": [],
   "source": [
    "instrument.remove_component(slit)\n",
    "instrument.remove_component(\"sample_monitor\")\n",
    "ms_widget.show(instrument)"
   ]
  },
  {
   "cell_type": "markdown",
   "id": "handy-finnish",
   "metadata": {
    "slideshow": {
     "slide_type": "slide"
    }
   },
   "source": [
    "## Final remarks\n",
    "McStasScript provides a new way to use McStas from python!\n",
    "\n",
    "A full tutorial exist as Jupyter Notebooks, this presentation was a condensed version of the first part called McStas_basics.\n",
    "The tutorial covers both how to use McStasScript and the Union components.\n",
    "\n",
    "Documentaton and tutorials can be found here [https://mads-bertelsen.github.io](https://mads-bertelsen.github.io)"
   ]
  },
  {
   "cell_type": "markdown",
   "id": "industrial-edwards",
   "metadata": {
    "slideshow": {
     "slide_type": "slide"
    }
   },
   "source": [
    "## Exercise\n",
    "\n",
    "On the e-learning platform go to the jupyter lab and navigate to the McStas Advanved School day 1 directory, here you will find this talk as a jupyter notebook and todays exercises along with solutions. After this talk you are ready for exercise 1!"
   ]
  },
  {
   "cell_type": "code",
   "execution_count": null,
   "id": "aerial-booth",
   "metadata": {},
   "outputs": [],
   "source": []
  }
 ],
 "metadata": {
  "celltoolbar": "Slideshow",
  "kernelspec": {
   "display_name": "Python 3",
   "language": "python",
   "name": "python3"
  },
  "language_info": {
   "codemirror_mode": {
    "name": "ipython",
    "version": 3
   },
   "file_extension": ".py",
   "mimetype": "text/x-python",
   "name": "python",
   "nbconvert_exporter": "python",
   "pygments_lexer": "ipython3",
   "version": "3.8.8"
  }
 },
 "nbformat": 4,
 "nbformat_minor": 5
}
