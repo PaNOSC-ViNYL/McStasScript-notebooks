{
 "cells": [
  {
   "cell_type": "code",
   "execution_count": null,
   "id": "downtown-fountain",
   "metadata": {},
   "outputs": [],
   "source": [
    "import mcstasscript as ms\n",
    "import load_quiz\n",
    "import instrument_1\n",
    "\n",
    "quiz = load_quiz.exercise_2()"
   ]
  },
  {
   "cell_type": "markdown",
   "id": "industrial-creator",
   "metadata": {},
   "source": [
    "# McStasScript exercise 2 mystery instrument 1\n",
    "In this sessions exercise there are three quiz notebooks, each about a mystery instrument object. The purpose is to teach how McStasScript can be used to investigate and understand an instrument in a different way than reading the code. Reading the source code will give you all the information, but when instruments gets larger it will take a significant amount of time. Try to answer all the questions without looking at the instrument code directly, though it is available in this folder. "
   ]
  },
  {
   "cell_type": "code",
   "execution_count": null,
   "id": "collectible-departure",
   "metadata": {},
   "outputs": [],
   "source": [
    "instr = instrument_1.make_instrument() # Obtain mystery instrument object"
   ]
  },
  {
   "cell_type": "markdown",
   "id": "wireless-degree",
   "metadata": {},
   "source": [
    "### Question 1\n",
    "What kind of instrument is described by the given instrument object?\n",
    "\n",
    "- A: Laue Camera\n",
    "- B: Triple Axis Spectrometer\n",
    "- C: Diffractometer on continuous source\n",
    "- D: Small Angle Neutron Scattering instrument\n",
    "- E: Time of Flight Diffractometer\n",
    "- F: Time of Flight Spectrometer"
   ]
  },
  {
   "cell_type": "code",
   "execution_count": null,
   "id": "natural-azerbaijan",
   "metadata": {},
   "outputs": [],
   "source": [
    "# Use McStasScript help features to investigate the instrument\n",
    "instr.show_diagram()\n",
    "instr.show_parameters()"
   ]
  },
  {
   "cell_type": "code",
   "execution_count": null,
   "id": "raising-indonesian",
   "metadata": {},
   "outputs": [],
   "source": [
    "quiz.instrument_1_question_1(\"B\")"
   ]
  },
  {
   "cell_type": "markdown",
   "id": "demographic-video",
   "metadata": {},
   "source": [
    "### Question 2\n",
    "What sample component is used?\n",
    "\n",
    "- A: Powder1\n",
    "- B: PowderN\n",
    "- C: SANS_spheres2\n",
    "- D: Phonon_simple\n",
    "- E: Single_crystal\n",
    "- F: Incoherent\n",
    "- G: Tunneling_sample"
   ]
  },
  {
   "cell_type": "code",
   "execution_count": null,
   "id": "iraqi-cradle",
   "metadata": {},
   "outputs": [],
   "source": [
    "# Use McStasScript features to investigate the instrument\n",
    "instr.get_component(\"sample\")"
   ]
  },
  {
   "cell_type": "code",
   "execution_count": null,
   "id": "found-secretariat",
   "metadata": {},
   "outputs": [],
   "source": [
    "quiz.instrument_1_question_2(\"D\")"
   ]
  },
  {
   "cell_type": "markdown",
   "id": "royal-butter",
   "metadata": {},
   "source": [
    "### Question 3\n",
    "Does this instrument use any interesting McStas features?\n",
    "\n",
    "- A: GROUP\n",
    "- B: EXTEND\n",
    "- C: WHEN\n",
    "- D: JUMP\n",
    "- E: SPLIT\n",
    "- F: target_index"
   ]
  },
  {
   "cell_type": "code",
   "execution_count": null,
   "id": "vanilla-morning",
   "metadata": {},
   "outputs": [],
   "source": [
    "# Use McStasScript features to investigate the instrument\n",
    "instr.show_diagram()\n",
    "instr.show_parameters()"
   ]
  },
  {
   "cell_type": "code",
   "execution_count": null,
   "id": "partial-sheet",
   "metadata": {},
   "outputs": [],
   "source": [
    "quiz.instrument_1_question_3(\"F\")"
   ]
  },
  {
   "cell_type": "markdown",
   "id": "outside-favorite",
   "metadata": {},
   "source": [
    "### Question 4\n",
    "With the standard settings of the instrument, the sample emits neutrons with energies around two peaks, one of which is measured. What is the energy of the peak that is not measured?\n",
    "\n",
    "The default parameters are:\n",
    "- energy_i  = 10.0   [meV]\n",
    "- energy_f  = 8.0    [meV]\n",
    "- A3        = -43.3  [deg]\n",
    "- A4        = 72.69  [deg]"
   ]
  },
  {
   "cell_type": "code",
   "execution_count": null,
   "id": "threatened-garden",
   "metadata": {},
   "outputs": [],
   "source": [
    "# Use McStasScript diagnostics features to investigate the instrument\n",
    "instr.show_diagram(variable=\"e\") # View evolution of energy"
   ]
  },
  {
   "cell_type": "code",
   "execution_count": null,
   "id": "nominated-hazard",
   "metadata": {},
   "outputs": [],
   "source": [
    "# Use diagnostics tool to get a closer look\n",
    "diag = ms.Diagnostics(instr)\n",
    "diag.settings(suppress_output=True, ncount=5E6)\n",
    "\n",
    "diag.add_point(before=\"sample\")\n",
    "diag.add_point(after=\"slit_s_a\", rays=\"all\")\n",
    "diag.add_point(before=\"PSD\")\n",
    "diag.run()"
   ]
  },
  {
   "cell_type": "code",
   "execution_count": null,
   "id": "green-brooks",
   "metadata": {},
   "outputs": [],
   "source": [
    "diag.clear_views()\n",
    "diag.add_view(\"e\")\n",
    "diag.add_view(\"e\", \"dx\")\n",
    "diag.plot()"
   ]
  },
  {
   "cell_type": "code",
   "execution_count": null,
   "id": "automated-mentor",
   "metadata": {},
   "outputs": [],
   "source": [
    "quiz.instrument_1_question_4(16.0)"
   ]
  },
  {
   "cell_type": "markdown",
   "id": "flush-contemporary",
   "metadata": {},
   "source": [
    "# Run the instrument\n",
    "Try to run the instrument with the widget interface."
   ]
  },
  {
   "cell_type": "code",
   "execution_count": null,
   "id": "multiple-deficit",
   "metadata": {},
   "outputs": [],
   "source": [
    "import mcstasscript.jb_interface as ms_widget\n",
    "%matplotlib widget"
   ]
  },
  {
   "cell_type": "code",
   "execution_count": null,
   "id": "original-posting",
   "metadata": {},
   "outputs": [],
   "source": [
    "ms_widget.show(instr)"
   ]
  },
  {
   "cell_type": "code",
   "execution_count": null,
   "id": "several-lightning",
   "metadata": {},
   "outputs": [],
   "source": []
  }
 ],
 "metadata": {
  "kernelspec": {
   "display_name": "Python 3",
   "language": "python",
   "name": "python3"
  },
  "language_info": {
   "codemirror_mode": {
    "name": "ipython",
    "version": 3
   },
   "file_extension": ".py",
   "mimetype": "text/x-python",
   "name": "python",
   "nbconvert_exporter": "python",
   "pygments_lexer": "ipython3",
   "version": "3.8.8"
  }
 },
 "nbformat": 4,
 "nbformat_minor": 5
}
