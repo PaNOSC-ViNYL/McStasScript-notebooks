{
 "cells": [
  {
   "cell_type": "code",
   "execution_count": null,
   "id": "rubber-programming",
   "metadata": {},
   "outputs": [],
   "source": [
    "import load_quiz\n",
    "quiz = load_quiz.exercise_1()"
   ]
  },
  {
   "cell_type": "markdown",
   "id": "appointed-stage",
   "metadata": {},
   "source": [
    "# McStasScript e-learning quiz\n",
    "This notebook contains quiz questions meant to be completed after a lecture on the McStasScript package, but can be used without. Feel free to use the McStasScript documentation as an aid, it can be found at [https://mads-bertelsen.github.io](https://mads-bertelsen.github.io)\n",
    "\n",
    "The learning goals\n",
    "- Read McStasScript code\n",
    "    - Understand instrument object\n",
    "    - Understand component object\n",
    "- Use McStasScript help features\n",
    "    - Python help feature\n",
    "    - Help methods on instrument object    \n",
    "    - Help methods on component object\n",
    "- Write McStasScript code\n",
    "    - Create an instrument object\n",
    "    - Add components to own instrument object\n",
    "    - Modify component properties\n",
    "    - Perform simulation\n",
    "    - Plot data"
   ]
  },
  {
   "cell_type": "markdown",
   "id": "christian-haven",
   "metadata": {},
   "source": [
    "## Read McStasScript code\n",
    "The first step is to just be able to read McStasScript code and understand what it describes. The cell below contains some code, read it and answer the questions about it below."
   ]
  },
  {
   "cell_type": "code",
   "execution_count": null,
   "id": "persistent-julian",
   "metadata": {},
   "outputs": [],
   "source": [
    "import mcstasscript as ms\n",
    "instrument = ms.McStas_instr(\"demo_instrument\")\n",
    "\n",
    "source = instrument.add_component(\"Source\", \"Source_simple\")\n",
    "source.E0 = instrument.add_parameter(\"energy\", value=5, comment=\"Energy of source\")\n",
    "source.set_parameters(xwidth=0.1, yheight=0.1, dE=\"0.1*energy\",\n",
    "                      dist=2, focus_xw=0.03, focus_yh=0.03)\n",
    "\n",
    "guide = instrument.add_component(\"Guide\", \"Guide_gravity\")\n",
    "guide.set_AT([0, 0, source.dist], RELATIVE=source)\n",
    "guide.set_parameters(w1=source.focus_xw, h1=source.focus_yh, l=5, m=3)\n",
    "\n",
    "monitor = instrument.add_component(\"PSD\", \"PSD_monitor\")\n",
    "monitor.set_AT(guide.l + 0.5, RELATIVE=guide)\n",
    "monitor.set_parameters(xwidth=0.05, yheight=0.05, filename='\"psd.dat\"')"
   ]
  },
  {
   "cell_type": "markdown",
   "id": "handled-amsterdam",
   "metadata": {},
   "source": [
    "### Question 1\n",
    "How many components are inserted in the above instrument?"
   ]
  },
  {
   "cell_type": "code",
   "execution_count": null,
   "id": "aware-jewel",
   "metadata": {},
   "outputs": [],
   "source": [
    "quiz.question_1(3)"
   ]
  },
  {
   "cell_type": "markdown",
   "id": "stock-observer",
   "metadata": {},
   "source": [
    "### Question 2\n",
    "What is the distance between the source and monitor?"
   ]
  },
  {
   "cell_type": "code",
   "execution_count": null,
   "id": "innovative-harvest",
   "metadata": {},
   "outputs": [],
   "source": [
    "quiz.question_2(7.5)"
   ]
  },
  {
   "cell_type": "markdown",
   "id": "related-singing",
   "metadata": {},
   "source": [
    "### Question 3\n",
    "Select the one true statement among these:\n",
    "- A: The component objects know about the instrument\n",
    "- B: The instrument object contains component objects\n",
    "- C: The component objects need to be included in the instrument before simulation"
   ]
  },
  {
   "cell_type": "code",
   "execution_count": null,
   "id": "immune-idaho",
   "metadata": {},
   "outputs": [],
   "source": [
    "quiz.question_3(\"B\")"
   ]
  },
  {
   "cell_type": "markdown",
   "id": "atomic-psychology",
   "metadata": {},
   "source": [
    "## Use McStasScript help features\n",
    "\n",
    "McStasScript has a number of help features:\n",
    "- Through python features\n",
    "    - Help\n",
    "    - Print\n",
    "- Through instrument object\n",
    "    - available_components\n",
    "    - component_help (input name of component to get help on)\n",
    "    - show_parameters\n",
    "    - show_variables\n",
    "    - show_components\n",
    "    - show_diagram\n",
    "    - show_instrument\n",
    "    - show_instrument_file\n",
    "    - show_settings\n",
    "- Through component object\n",
    "    - show_parameters\n",
    "    \n",
    "Below are demonstrations of how to use a few of these on the instrument object made in the previous exercise. Play around with the help features to answer the questions below."
   ]
  },
  {
   "cell_type": "code",
   "execution_count": null,
   "id": "oriental-parking",
   "metadata": {},
   "outputs": [],
   "source": [
    "# Try more help calls"
   ]
  },
  {
   "cell_type": "code",
   "execution_count": null,
   "id": "regulated-chuck",
   "metadata": {},
   "outputs": [],
   "source": [
    "help(instrument.add_parameter) # Built in Python help on the add_parameter method"
   ]
  },
  {
   "cell_type": "code",
   "execution_count": null,
   "id": "first-patient",
   "metadata": {},
   "outputs": [],
   "source": [
    "instrument.show_components() # instrument help method to show the components in the instrument"
   ]
  },
  {
   "cell_type": "code",
   "execution_count": null,
   "id": "atlantic-iceland",
   "metadata": {},
   "outputs": [],
   "source": [
    "print(source) # Python print on a component object, here the source"
   ]
  },
  {
   "cell_type": "code",
   "execution_count": null,
   "id": "manual-application",
   "metadata": {},
   "outputs": [],
   "source": [
    "source.show_parameters() # show_parameters method on component object"
   ]
  },
  {
   "cell_type": "markdown",
   "id": "mineral-vinyl",
   "metadata": {},
   "source": [
    "### Question 4\n",
    "What information does the *show_parameters* method on the instrument object produce?\n",
    "- A: Show how to add parameters to the instrument\n",
    "- B: Show the component parameters with their current and default values\n",
    "- C: Show available McStas parameter types\n",
    "- D: Show the current instrument input parameters along with value and comment"
   ]
  },
  {
   "cell_type": "code",
   "execution_count": null,
   "id": "absent-warrant",
   "metadata": {},
   "outputs": [],
   "source": [
    "# Use the show_parameters method on the instrument object"
   ]
  },
  {
   "cell_type": "code",
   "execution_count": null,
   "id": "identical-smell",
   "metadata": {},
   "outputs": [],
   "source": [
    "quiz.question_4(\"D\")"
   ]
  },
  {
   "cell_type": "markdown",
   "id": "transparent-console",
   "metadata": {},
   "source": [
    "### Question 5\n",
    "How could you check the unit of a component parameter?\n",
    "- A: Print the component\n",
    "- B: Use *show_parameters* on a component object \n",
    "- C: Use the get_component() method on the instrument\n",
    "- D: Use component_help on the instrument with the component type name"
   ]
  },
  {
   "cell_type": "code",
   "execution_count": null,
   "id": "adjustable-enhancement",
   "metadata": {},
   "outputs": [],
   "source": [
    "quiz.question_5([\"A\", \"B\", \"D\"])"
   ]
  },
  {
   "cell_type": "markdown",
   "id": "novel-telephone",
   "metadata": {},
   "source": [
    "## Write McStasScript code\n",
    "Now that you have familiarized yourself a bit with McStasScript, it is time to try use it. The questions will guide you through building and running your first McStasScript instrument."
   ]
  },
  {
   "cell_type": "code",
   "execution_count": null,
   "id": "fifteen-steering",
   "metadata": {},
   "outputs": [],
   "source": [
    "del instrument, source, guide, monitor"
   ]
  },
  {
   "cell_type": "markdown",
   "id": "optional-framework",
   "metadata": {},
   "source": [
    "### Question 6\n",
    "Create a McStas instrument object, name it \"my_instrument\", and provide the instrument object as an answer to the next question."
   ]
  },
  {
   "cell_type": "code",
   "execution_count": null,
   "id": "entertaining-halifax",
   "metadata": {},
   "outputs": [],
   "source": [
    "# your code\n",
    "instrument = ms.McStas_instr(\"my_instrument\")"
   ]
  },
  {
   "cell_type": "code",
   "execution_count": null,
   "id": "split-defeat",
   "metadata": {},
   "outputs": [],
   "source": [
    "quiz.question_6(instrument)"
   ]
  },
  {
   "cell_type": "markdown",
   "id": "crucial-voice",
   "metadata": {},
   "source": [
    "### Question 7\n",
    "Add a 'Source_div' component to your instrument. Set the parameters as follows:\n",
    "- focus_aw and focus_ah to 1.0 deg\n",
    "- lambda0 to 1.2 Å\n",
    "- dlambdA to 0.1 Å\n",
    "- xwidth and yheight to 3.5 cm\n",
    "\n",
    "Provide the updated instrument object as the answer."
   ]
  },
  {
   "cell_type": "code",
   "execution_count": null,
   "id": "surprised-section",
   "metadata": {},
   "outputs": [],
   "source": [
    "# your code\n",
    "source = instrument.add_component(\"source\", \"Source_div\")\n",
    "source.set_parameters(focus_aw=1.0, focus_ah=1.0,\n",
    "                      lambda0=1.2, dlambda=0.1,\n",
    "                      xwidth=0.035, yheight=0.035)"
   ]
  },
  {
   "cell_type": "code",
   "execution_count": null,
   "id": "lesser-pastor",
   "metadata": {},
   "outputs": [],
   "source": [
    "quiz.question_7(instrument)"
   ]
  },
  {
   "cell_type": "markdown",
   "id": "parallel-angel",
   "metadata": {},
   "source": [
    "### Question 8\n",
    "Update your instrument to include a PowderN sample 1.0 m after the source. Use the source as the relative. The sample should have the following properties:\n",
    "- radius of 0.75 cm\n",
    "- yheight of 3.00 cm\n",
    "- reflections datafile Y2O3.laz"
   ]
  },
  {
   "cell_type": "code",
   "execution_count": null,
   "id": "exempt-cursor",
   "metadata": {},
   "outputs": [],
   "source": [
    "# your code\n",
    "sample = instrument.add_component(\"sample\", \"PowderN\")\n",
    "sample.set_parameters(radius=7.5E-3, yheight=3.0E-2, reflections='\"Y2O3.laz\"')\n",
    "sample.set_AT([0, 0, 1], RELATIVE=source)"
   ]
  },
  {
   "cell_type": "code",
   "execution_count": null,
   "id": "understanding-leather",
   "metadata": {},
   "outputs": [],
   "source": [
    "quiz.question_8(instrument)"
   ]
  },
  {
   "cell_type": "markdown",
   "id": "collaborative-course",
   "metadata": {},
   "source": [
    "### Question 9\n",
    "Place a PSD monitor relative to the sample, 40 cm in the beam direction. It should have the following properties:\n",
    "- width and height of 50 cm\n",
    "- the filename psd.dat\n",
    "- set restore_neutron to 1"
   ]
  },
  {
   "cell_type": "code",
   "execution_count": null,
   "id": "retained-festival",
   "metadata": {},
   "outputs": [],
   "source": [
    "# your code\n",
    "monitor = instrument.add_component(\"PSD\", \"PSD_monitor\")\n",
    "monitor.set_AT(0.4, RELATIVE=sample)\n",
    "monitor.set_parameters(xwidth=0.5, yheight=0.5, filename='\"psd.dat\"', restore_neutron=1)"
   ]
  },
  {
   "cell_type": "code",
   "execution_count": null,
   "id": "short-shepherd",
   "metadata": {},
   "outputs": [],
   "source": [
    "quiz.question_9(instrument)"
   ]
  },
  {
   "cell_type": "markdown",
   "id": "wooden-louisville",
   "metadata": {},
   "source": [
    "### Running the simulation\n",
    "The instrument you have built is now ready to produce some data. The below code runs the instrument, assuming you have called your instrument object *instrument*, otherwise uncomment the first line and provide your own instrument object.\n",
    "\n",
    "The *settings* method is used to set settings such as ncount, mpi, foldername and similar.\n",
    "\n",
    "The *backengine* method performs the simulation and returns a list of McStasData objects corresponding the the McStas output."
   ]
  },
  {
   "cell_type": "code",
   "execution_count": null,
   "id": "imperial-washington",
   "metadata": {
    "scrolled": false
   },
   "outputs": [],
   "source": [
    "#instrument = my_instrument_object\n",
    "\n",
    "instrument.settings(ncount=3E6)\n",
    "data = instrument.backengine()"
   ]
  },
  {
   "cell_type": "markdown",
   "id": "meaningful-circular",
   "metadata": {},
   "source": [
    "### Plotting the data\n",
    "The Python print function provides some information on the included data, but it can of course be plotted easily with *make_plot* or *make_sub_plot* as below. We use a log scale to show the powder rings."
   ]
  },
  {
   "cell_type": "code",
   "execution_count": null,
   "id": "native-monthly",
   "metadata": {},
   "outputs": [],
   "source": [
    "print(data)"
   ]
  },
  {
   "cell_type": "code",
   "execution_count": null,
   "id": "drawn-cache",
   "metadata": {},
   "outputs": [],
   "source": [
    "ms.make_plot(data, log=True)"
   ]
  },
  {
   "cell_type": "markdown",
   "id": "turned-month",
   "metadata": {},
   "source": [
    "### Question 10\n",
    "It is time to work with instrument parameters. These may not seem as useful in McStasScript as when working with mcgui or in the commandline, but they still have a number of advantages when used well.\n",
    "\n",
    "Modify your source object to use a parameter called \"wavelength\" for the center of the wavelength distribution and \"wavelength_half_spread\" for the half wavelength spread. These correspond directly to parameters in *Source_div*.\n",
    "\n",
    "Even though the component object is modified, the instrument file can still be given as the answer as it knows about all its components and their properties."
   ]
  },
  {
   "cell_type": "code",
   "execution_count": null,
   "id": "random-dubai",
   "metadata": {},
   "outputs": [],
   "source": [
    "# your code\n",
    "source.lambda0 = instrument.add_parameter(\"wavelength\", value=1.2, comment=\"Wavelength in [Å]\")\n",
    "source.dlambda = instrument.add_parameter(\"wavelength_half_spread\", value=0.1, comment=\"Half wavelength spread in [Å]\")"
   ]
  },
  {
   "cell_type": "code",
   "execution_count": null,
   "id": "steady-mumbai",
   "metadata": {},
   "outputs": [],
   "source": [
    "quiz.question_10(instrument)"
   ]
  },
  {
   "cell_type": "markdown",
   "id": "german-employment",
   "metadata": {},
   "source": [
    "### Running an instrument with parameters\n",
    "The instrument parameters can be displayed with *show_parameters* and set with *set_parameters* on the instrument. Running the instrument with the *backengine* method will use the current parameter values. "
   ]
  },
  {
   "cell_type": "code",
   "execution_count": null,
   "id": "plain-standing",
   "metadata": {},
   "outputs": [],
   "source": [
    "instrument.set_parameters(wavelength_half_spread=0.05)\n",
    "instrument.show_parameters()"
   ]
  },
  {
   "cell_type": "markdown",
   "id": "internal-explosion",
   "metadata": {},
   "source": [
    "McStasScript also contains a helpful widget system for running the simulation, it is shown below for your instrument. A box should appear with the text \"No data available yet\", if this doesn't happen rerun the cell. You can run the simulation with the run button, and will probably need to use the log option in the sidebar to see the results clearly."
   ]
  },
  {
   "cell_type": "code",
   "execution_count": null,
   "id": "radio-bankruptcy",
   "metadata": {},
   "outputs": [],
   "source": [
    "%matplotlib widget\n",
    "import mcstasscript.jb_interface as ms_widget\n",
    "ms_widget.show(instrument)"
   ]
  },
  {
   "cell_type": "markdown",
   "id": "everyday-regular",
   "metadata": {},
   "source": [
    "### Visualizing the instrument\n",
    "It is also possible to see the 3D model of the instrument like in mcdisplay. This will also use the current values of the instrument parameters."
   ]
  },
  {
   "cell_type": "code",
   "execution_count": null,
   "id": "stretch-major",
   "metadata": {},
   "outputs": [],
   "source": [
    "instrument.show_instrument()"
   ]
  },
  {
   "cell_type": "code",
   "execution_count": null,
   "id": "stainless-assessment",
   "metadata": {},
   "outputs": [],
   "source": []
  }
 ],
 "metadata": {
  "kernelspec": {
   "display_name": "Python 3",
   "language": "python",
   "name": "python3"
  },
  "language_info": {
   "codemirror_mode": {
    "name": "ipython",
    "version": 3
   },
   "file_extension": ".py",
   "mimetype": "text/x-python",
   "name": "python",
   "nbconvert_exporter": "python",
   "pygments_lexer": "ipython3",
   "version": "3.8.8"
  }
 },
 "nbformat": 4,
 "nbformat_minor": 5
}
