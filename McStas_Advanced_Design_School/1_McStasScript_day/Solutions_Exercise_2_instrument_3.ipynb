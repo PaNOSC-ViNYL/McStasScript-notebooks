{
 "cells": [
  {
   "cell_type": "code",
   "execution_count": null,
   "id": "contrary-portugal",
   "metadata": {},
   "outputs": [],
   "source": [
    "import mcstasscript as ms\n",
    "import load_quiz\n",
    "import instrument_3\n",
    "\n",
    "quiz = load_quiz.exercise_2()"
   ]
  },
  {
   "cell_type": "markdown",
   "id": "existing-leeds",
   "metadata": {},
   "source": [
    "# McStasScript exercise 2 mystery instrument 3\n",
    "In this sessions exercise there are three quiz notebooks, each about a mystery instrument object. The purpose is to teach how McStasScript can be used to investigate and understand an instrument in a different way than reading the code. Reading the source code will give you all the information, but when instruments gets larger it will take a significant amount of time. Try to answer all the questions without looking at the instrument code directly, though it is available in this folder. "
   ]
  },
  {
   "cell_type": "code",
   "execution_count": null,
   "id": "automatic-hacker",
   "metadata": {},
   "outputs": [],
   "source": [
    "instr = instrument_3.make_instrument() # Obtain mystery instrument object"
   ]
  },
  {
   "cell_type": "markdown",
   "id": "legendary-drinking",
   "metadata": {},
   "source": [
    "### Question 1\n",
    "What kind of instrument is described by the given instrument object?\n",
    "\n",
    "- A: Laue Camera\n",
    "- B: Triple Axis Spectrometer\n",
    "- C: Diffractometer on continuous source\n",
    "- D: Small Angle Neutron Scattering instrument\n",
    "- E: Time of Flight Diffractometer\n",
    "- F: Time of Flight Spectrometer"
   ]
  },
  {
   "cell_type": "code",
   "execution_count": null,
   "id": "selective-complexity",
   "metadata": {},
   "outputs": [],
   "source": [
    "# Use McStasScript help features to investigate the instrument\n",
    "instr.show_diagram()\n",
    "instr.show_parameters()"
   ]
  },
  {
   "cell_type": "code",
   "execution_count": null,
   "id": "statistical-internship",
   "metadata": {},
   "outputs": [],
   "source": [
    "quiz.instrument_3_question_1(\"D\")"
   ]
  },
  {
   "cell_type": "markdown",
   "id": "human-horizon",
   "metadata": {},
   "source": [
    "### Question 2\n",
    "What sample component is used?\n",
    "\n",
    "- A: Powder1\n",
    "- B: PowderN\n",
    "- C: SANS_spheres2\n",
    "- D: Phonon_simple\n",
    "- E: Single_crystal\n",
    "- F: Incoherent\n",
    "- G: Tunneling_sample"
   ]
  },
  {
   "cell_type": "code",
   "execution_count": null,
   "id": "stylish-needle",
   "metadata": {},
   "outputs": [],
   "source": [
    "# Use McStasScript features to investigate the instrument\n",
    "instr.get_component(\"sample_conventional\")"
   ]
  },
  {
   "cell_type": "code",
   "execution_count": null,
   "id": "instant-wheat",
   "metadata": {},
   "outputs": [],
   "source": [
    "quiz.instrument_3_question_2(\"C\")"
   ]
  },
  {
   "cell_type": "markdown",
   "id": "involved-probe",
   "metadata": {},
   "source": [
    "### Question 3\n",
    "Does this instrument use any interesting McStas features?\n",
    "\n",
    "- A: GROUP\n",
    "- B: EXTEND\n",
    "- C: WHEN\n",
    "- D: JUMP\n",
    "- E: SPLIT\n",
    "- F: target_index"
   ]
  },
  {
   "cell_type": "code",
   "execution_count": null,
   "id": "resident-honduras",
   "metadata": {},
   "outputs": [],
   "source": [
    "# Use McStasScript features to investigate the instrument\n",
    "instr.show_diagram()"
   ]
  },
  {
   "cell_type": "code",
   "execution_count": null,
   "id": "surgical-reminder",
   "metadata": {},
   "outputs": [],
   "source": [
    "quiz.instrument_3_question_3([\"B\", \"C\", \"E\"])"
   ]
  },
  {
   "cell_type": "markdown",
   "id": "acquired-hollywood",
   "metadata": {},
   "source": [
    "### Question 4\n",
    "This instrument does not have a guide, add a curved guide between the source and the collimator section with 10 segments of Guide_gravity components with m=2 and length 1.5 m. Each should be rotated 0.3 deg around the y axis relative to the former element and have a 1 cm gap to avoid overlap. Set the size of the guide to 3x3 cm^2 and start it 2 m from the source."
   ]
  },
  {
   "cell_type": "code",
   "execution_count": null,
   "id": "speaking-validation",
   "metadata": {},
   "outputs": [],
   "source": [
    "# Since we add a guide, it is necessary to update the focus parameters of the source\n",
    "source = instr.get_component(\"source\")\n",
    "source.set_parameters(focus_xw=0.03, focus_yh=0.03, dist=2)\n",
    "\n",
    "# Consider the source and the dist the first element in order to write a simple loop\n",
    "last_element = source\n",
    "last_length = source.dist\n",
    "\n",
    "for index in range(10):\n",
    "    name = \"guide_\" + str(index) # Create a unique name for each guide elemen\n",
    "    guide = instr.add_component(name, \"Guide_gravity\", before=\"coll1\") # Place each element before coll1\n",
    "    guide.set_parameters(l=1.5, m=2, w1=source.focus_xw, h1=source.focus_yh) # Set reasonable parameters\n",
    "    guide.set_AT(last_length, RELATIVE=last_element) # Set position \n",
    "    guide.set_ROTATED([0, 0.3, 0], RELATIVE=last_element) # Set rotation\n",
    "    \n",
    "    last_element = guide # save the last guide element for the next loop iteration\n",
    "    last_length = guide.l + 0.01 # save the length of this element for the next loop iteration\n",
    "    \n",
    "# Update the position of the collimation pinholes\n",
    "coll1 = instr.get_component(\"coll1\")\n",
    "coll1.set_AT(last_length + 3, RELATIVE=last_element)\n",
    "\n",
    "coll2 = instr.get_component(\"coll2\")\n",
    "coll2.set_AT(3, RELATIVE=coll1)"
   ]
  },
  {
   "cell_type": "code",
   "execution_count": null,
   "id": "revised-penalty",
   "metadata": {},
   "outputs": [],
   "source": [
    "quiz.instrument_3_question_4(instr)"
   ]
  },
  {
   "cell_type": "markdown",
   "id": "sought-trader",
   "metadata": {},
   "source": [
    "### Question 5\n",
    "The curved guide will introduce a wavelength cut off as neutrons with the lowest wavelengths can't be transported. Use the diagnostics features to find the wavelength where the transmission is half of the maximum."
   ]
  },
  {
   "cell_type": "code",
   "execution_count": null,
   "id": "hazardous-ownership",
   "metadata": {},
   "outputs": [],
   "source": [
    "# Lets see how the curved guide cuts off the lower wavelengths\n",
    "instr.set_parameters(wavelength=6, d_wavelength=5.9)\n",
    "instr.show_diagram(variable=\"l\")"
   ]
  },
  {
   "cell_type": "code",
   "execution_count": null,
   "id": "measured-signature",
   "metadata": {},
   "outputs": [],
   "source": [
    "# To get an accurate answer we use the diagnostics tool\n",
    "diag = ms.Diagnostics(instr)\n",
    "diag.settings(suppress_output=True, ncount=5E6)\n",
    "\n",
    "diag.add_point(before=\"guide_0\")\n",
    "diag.add_point(before=\"coll1\")\n",
    "diag.add_point(before=\"coll2\")\n",
    "diag.run()"
   ]
  },
  {
   "cell_type": "code",
   "execution_count": null,
   "id": "driven-alcohol",
   "metadata": {},
   "outputs": [],
   "source": [
    "diag.clear_views()\n",
    "# See wavelength and add lines for full and half intensity \n",
    "diag.add_view(\"l\", axis1_values=[3.7, 4.1], axis2_values=[380, 190])\n",
    "diag.add_view(\"l\", \"dx\")\n",
    "diag.plot()"
   ]
  },
  {
   "cell_type": "code",
   "execution_count": null,
   "id": "popular-migration",
   "metadata": {},
   "outputs": [],
   "source": [
    "quiz.instrument_3_question_5(4.0)"
   ]
  },
  {
   "cell_type": "markdown",
   "id": "treated-livestock",
   "metadata": {},
   "source": [
    "# Run the instrument\n",
    "Try to run the instrument with the widget interface."
   ]
  },
  {
   "cell_type": "code",
   "execution_count": null,
   "id": "processed-footwear",
   "metadata": {},
   "outputs": [],
   "source": [
    "import mcstasscript.jb_interface as ms_widget\n",
    "%matplotlib widget"
   ]
  },
  {
   "cell_type": "code",
   "execution_count": null,
   "id": "conditional-brown",
   "metadata": {},
   "outputs": [],
   "source": [
    "ms_widget.show(instr)"
   ]
  },
  {
   "cell_type": "markdown",
   "id": "thorough-harbor",
   "metadata": {},
   "source": [
    "## Using the MCPL bridge tool\n",
    "Next we try to use the MCPL bridge tool to run part of the simulation and dump the beam to a MCPL file."
   ]
  },
  {
   "cell_type": "markdown",
   "id": "promotional-writing",
   "metadata": {},
   "source": [
    "### Quetion 6\n",
    "Set the *run_to* point of the instrument to \"sample_position\" and provide the instrument object as the answer."
   ]
  },
  {
   "cell_type": "code",
   "execution_count": null,
   "id": "drawn-buying",
   "metadata": {},
   "outputs": [],
   "source": [
    "instr.run_to(\"sample_position\")\n",
    "instr.show_run_subset()\n",
    "instr.show_diagram()"
   ]
  },
  {
   "cell_type": "code",
   "execution_count": null,
   "id": "important-airport",
   "metadata": {},
   "outputs": [],
   "source": [
    "quiz.instrument_3_question_6(instr)"
   ]
  },
  {
   "cell_type": "markdown",
   "id": "dental-responsibility",
   "metadata": {},
   "source": [
    "### Question 7\n",
    "Set the number of rays to 2E7 and run the instrument using the backengine method. This will generate a beamdump which will be tracked by the persistent database linked to the instrument name."
   ]
  },
  {
   "cell_type": "code",
   "execution_count": null,
   "id": "angry-colombia",
   "metadata": {},
   "outputs": [],
   "source": [
    "instr.settings(suppress_output=True, ncount=1E7)\n",
    "instr.backengine()\n",
    "instr.show_dumps() # Show an overview over the created beam dumps"
   ]
  },
  {
   "cell_type": "code",
   "execution_count": null,
   "id": "motivated-float",
   "metadata": {},
   "outputs": [],
   "source": [
    "quiz.instrument_3_question_7(instr)"
   ]
  },
  {
   "cell_type": "markdown",
   "id": "indoor-makeup",
   "metadata": {},
   "source": [
    "### Question 8\n",
    "Set the instrument to run from the sample_position to the end of the instrument and give the instrument object as the answer. This will use the latest beamdump at the sample_position as a starting point for the simulation."
   ]
  },
  {
   "cell_type": "code",
   "execution_count": null,
   "id": "pursuant-glenn",
   "metadata": {},
   "outputs": [],
   "source": [
    "# First reset the run_to to the end of the instrument\n",
    "instr.run_to(None)\n",
    "# Then set run_from to sample_position to load the available beamdump\n",
    "instr.run_from(\"sample_position\")\n",
    "\n",
    "# Show the status of the instrument\n",
    "instr.show_run_subset()\n",
    "instr.show_diagram()"
   ]
  },
  {
   "cell_type": "code",
   "execution_count": null,
   "id": "distant-washington",
   "metadata": {},
   "outputs": [],
   "source": [
    "quiz.instrument_3_question_8(instr)"
   ]
  },
  {
   "cell_type": "markdown",
   "id": "choice-affairs",
   "metadata": {},
   "source": [
    "## Run the instrument from the beam dump\n",
    "Use the widget interface to run the instrument, notice that parameters that affect anything before the sample no longer has any effect, but the sample parameters still affect the outcome. The ncount can not be changed through the interface, as it uses all rays stored in the file. The simulation is also much faster as the guide and collimation is skipped."
   ]
  },
  {
   "cell_type": "code",
   "execution_count": null,
   "id": "authentic-kitty",
   "metadata": {},
   "outputs": [],
   "source": [
    "ms_widget.show(instr)"
   ]
  },
  {
   "cell_type": "code",
   "execution_count": null,
   "id": "forced-fusion",
   "metadata": {},
   "outputs": [],
   "source": []
  }
 ],
 "metadata": {
  "kernelspec": {
   "display_name": "Python 3",
   "language": "python",
   "name": "python3"
  },
  "language_info": {
   "codemirror_mode": {
    "name": "ipython",
    "version": 3
   },
   "file_extension": ".py",
   "mimetype": "text/x-python",
   "name": "python",
   "nbconvert_exporter": "python",
   "pygments_lexer": "ipython3",
   "version": "3.8.8"
  }
 },
 "nbformat": 4,
 "nbformat_minor": 5
}
