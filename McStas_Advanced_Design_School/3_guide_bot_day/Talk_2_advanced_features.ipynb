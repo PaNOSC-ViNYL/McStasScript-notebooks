{
 "cells": [
  {
   "cell_type": "markdown",
   "id": "devoted-mixer",
   "metadata": {
    "slideshow": {
     "slide_type": "slide"
    }
   },
   "source": [
    "# guide_bot\n",
    "\n",
    "One of the key goals with the guide_bot software is to scale from small problems to large problems without much difference in the user interface. In this talk we will see how additional computing resources easily can be put to use."
   ]
  },
  {
   "cell_type": "markdown",
   "id": "instructional-values",
   "metadata": {
    "slideshow": {
     "slide_type": "slide"
    }
   },
   "source": [
    "# Live demo of advanced features"
   ]
  },
  {
   "cell_type": "code",
   "execution_count": null,
   "id": "hollywood-newton",
   "metadata": {},
   "outputs": [],
   "source": [
    "import guide_bot as gb"
   ]
  },
  {
   "cell_type": "markdown",
   "id": "fifth-passage",
   "metadata": {
    "slideshow": {
     "slide_type": "slide"
    }
   },
   "source": [
    "## Describing the target\n",
    "Providing a list will perform independent optimization for all values in the list. Multiple list are considered independent dimensions, so two scanned parameters of N and M points would result in N*M simulations."
   ]
  },
  {
   "cell_type": "code",
   "execution_count": null,
   "id": "ordered-lewis",
   "metadata": {},
   "outputs": [],
   "source": [
    "target = gb.Target(width=0.01, height=0.01,\n",
    "                   div_horizontal=[0.6, 0.8, 1.0, 1.2, 1.4, 1.6, 1.8],\n",
    "                   div_vertical  =[0.6, 0.8, 1.0, 1.2, 1.4, 1.6, 1.8],\n",
    "                   min_wavelength=1.3, max_wavelength=2.5,\n",
    "                   instrument_length=160, target_guide_distance=0.5)"
   ]
  },
  {
   "cell_type": "markdown",
   "id": "embedded-burden",
   "metadata": {
    "slideshow": {
     "slide_type": "slide"
    }
   },
   "source": [
    "### Locking parameters"
   ]
  },
  {
   "cell_type": "code",
   "execution_count": null,
   "id": "engaged-unknown",
   "metadata": {},
   "outputs": [],
   "source": [
    "target.lock_parameters(\"div_horizontal\", \"div_vertical\")"
   ]
  },
  {
   "cell_type": "markdown",
   "id": "genuine-shanghai",
   "metadata": {
    "slideshow": {
     "slide_type": "-"
    }
   },
   "source": [
    "![alt](figures/powerpoint_figures/Slide07.png)"
   ]
  },
  {
   "cell_type": "markdown",
   "id": "trained-thunder",
   "metadata": {
    "slideshow": {
     "slide_type": "slide"
    }
   },
   "source": [
    "## Describing the source\n",
    "The parameters for the source can also be scanned."
   ]
  },
  {
   "cell_type": "code",
   "execution_count": null,
   "id": "civic-briefs",
   "metadata": {},
   "outputs": [],
   "source": [
    "moderator = gb.Moderator(name=\"fom_moderator\", width=0.07, height=[0.01, 0.03, 0.05, 0.07], guide_start=2.0)"
   ]
  },
  {
   "cell_type": "markdown",
   "id": "automated-kinase",
   "metadata": {
    "slideshow": {
     "slide_type": "-"
    }
   },
   "source": [
    "\n",
    "Like with the target it is possible to lock these parameters too."
   ]
  },
  {
   "cell_type": "markdown",
   "id": "imperial-japanese",
   "metadata": {
    "slideshow": {
     "slide_type": "slide"
    }
   },
   "source": [
    "### Describing additional sources\n",
    "It is possible to define additional sources which the optimized guide will be analyzed on."
   ]
  },
  {
   "cell_type": "code",
   "execution_count": null,
   "id": "improved-scout",
   "metadata": {},
   "outputs": [],
   "source": [
    "ESS_moderator = gb.ESS_Butterfly(name=\"ESS_Butterfly\", width=0.06, height=0.03, guide_start=2.0)"
   ]
  },
  {
   "cell_type": "markdown",
   "id": "induced-principal",
   "metadata": {
    "slideshow": {
     "slide_type": "slide"
    }
   },
   "source": [
    "### Including analysis moderators in project\n",
    "The analysis_moderator keyword argument is used to add these extra sources to the project, if there are several add them as a list."
   ]
  },
  {
   "cell_type": "code",
   "execution_count": null,
   "id": "different-forward",
   "metadata": {},
   "outputs": [],
   "source": [
    "settings = {\"maxiter\": 2, \"swarmsize\": 2, \"minstep\": 2E-4,\n",
    "            \"ncount\": 1E6, \"ncount_analysis\": 1E6, \"logfile\": True}\n",
    "\n",
    "project = gb.Project(name=\"advanced_project_test\", target=target, moderator=moderator,\n",
    "                     settings=settings, analysis_moderators=ESS_moderator)"
   ]
  },
  {
   "cell_type": "markdown",
   "id": "molecular-reply",
   "metadata": {
    "slideshow": {
     "slide_type": "slide"
    }
   },
   "source": [
    "## Line of sight\n",
    "![alt](figures/powerpoint_figures/Slide08.png)"
   ]
  },
  {
   "cell_type": "markdown",
   "id": "referenced-carbon",
   "metadata": {
    "slideshow": {
     "slide_type": "slide"
    }
   },
   "source": [
    "### Controlling line of sight\n",
    "Line of sight through a guide can be limited with los_sections that tell guide_bot to eliminate line of sight. This can be done with distance from source, here line of sight is broken between 2 m from source and 120 m from source. A line of sight section needs a line of sight breaker, currently curved guide or kink."
   ]
  },
  {
   "cell_type": "code",
   "execution_count": null,
   "id": "computational-photography",
   "metadata": {},
   "outputs": [],
   "source": [
    "guide = project.new_guide(name=\"CSCE_simple_los\")\n",
    "guide += gb.Straight(name=\"Straight\", m=3)\n",
    "guide += gb.Curved(name=\"Curved\", m=4, bend=\"right\", length=[3,12])\n",
    "guide += gb.Elliptic(name=\"Transport\", m=4)\n",
    "\n",
    "guide.add_los_section(2, 120)\n",
    "guide.print_los_sections()"
   ]
  },
  {
   "cell_type": "markdown",
   "id": "underlying-contamination",
   "metadata": {
    "slideshow": {
     "slide_type": "slide"
    }
   },
   "source": [
    "### ElementPoint\n",
    "It is also possible to specify points within elements using the ElementPoint class and one of the following options.\n",
    "- from_start [m]\n",
    "- from_end [m]\n",
    "- fraction [1]"
   ]
  },
  {
   "cell_type": "code",
   "execution_count": null,
   "id": "integral-frontier",
   "metadata": {},
   "outputs": [],
   "source": [
    "guide = project.new_guide(name=\"CSCE_complex_los\")\n",
    "guide += gb.Straight(name=\"Straight\", m=3)\n",
    "guide += gb.Curved(name=\"Curved\", m=4, bend=\"right\", length=[3,12])\n",
    "guide += gb.Elliptic(name=\"Transport\", m=4)\n",
    "\n",
    "guide.add_los_section(gb.ElementPoint(\"Straight\", from_start=2.0),\n",
    "                      gb.ElementPoint(\"Transport\", from_end=20))\n",
    "\n",
    "guide.print_los_sections()"
   ]
  },
  {
   "cell_type": "markdown",
   "id": "passive-kennedy",
   "metadata": {
    "slideshow": {
     "slide_type": "slide"
    }
   },
   "source": [
    "### Technical limit: no overlapping los sections\n",
    "Multiple sections that do not overlap are okay!"
   ]
  },
  {
   "cell_type": "code",
   "execution_count": null,
   "id": "judicial-level",
   "metadata": {},
   "outputs": [],
   "source": [
    "guide = project.new_guide(name=\"SCCE\")\n",
    "\n",
    "guide += gb.Straight(name=\"Extraction\", m=3)\n",
    "guide += gb.Curved(name=\"Curved1\", m=4, bend=\"down\", length=[3,12], start_point=[4, 8])\n",
    "guide += gb.Curved(name=\"Curved2\", m=4, bend=\"up\", length=[3,12])\n",
    "guide += gb.Elliptic(name=\"Transport\", m=4)\n",
    "\n",
    "# Los section\n",
    "guide.add_los_section(gb.ElementPoint(\"Extraction\", from_start=0.0), gb.ElementPoint(\"Curved1\", from_end=0.0))\n",
    "guide.add_los_section(gb.ElementPoint(\"Curved2\", from_start=0.0), gb.ElementPoint(\"Transport\", from_end=0.0))"
   ]
  },
  {
   "cell_type": "markdown",
   "id": "attempted-trout",
   "metadata": {
    "slideshow": {
     "slide_type": "slide"
    }
   },
   "source": [
    "### Can link angles to continue straight"
   ]
  },
  {
   "cell_type": "code",
   "execution_count": null,
   "id": "introductory-transport",
   "metadata": {},
   "outputs": [],
   "source": [
    "guide = project.new_guide(name=\"SCCE\")\n",
    "\n",
    "guide += gb.Straight(name=\"Extraction\", m=3)\n",
    "guide += gb.Curved(name=\"Curved1\", m=4, bend=\"down\", length=[3,12], start_point=[4, 8])\n",
    "guide += gb.Curved(name=\"Curved2\", m=4, bend=\"up\", length=[3,12])\n",
    "guide += gb.Elliptic(name=\"Transport\", m=4)\n",
    "\n",
    "# Los section\n",
    "guide.add_los_section(gb.ElementPoint(\"Extraction\", from_start=0.0), gb.ElementPoint(\"Curved1\", from_end=0.0))\n",
    "guide.add_los_section(gb.ElementPoint(\"Curved2\", from_start=0.0), gb.ElementPoint(\"Transport\", from_end=0.0))\n",
    "\n",
    "# Link the two los breakers\n",
    "curved1 = guide.get_element(\"Curved1\")\n",
    "curved2 = guide.get_element(\"Curved2\")\n",
    "curved2.angular_diversion = curved1.angular_diversion"
   ]
  },
  {
   "cell_type": "markdown",
   "id": "magnetic-excerpt",
   "metadata": {
    "slideshow": {
     "slide_type": "slide"
    }
   },
   "source": [
    "## Little Python lession: lambda  keyword"
   ]
  },
  {
   "cell_type": "code",
   "execution_count": null,
   "id": "likely-context",
   "metadata": {},
   "outputs": [],
   "source": [
    "def add_two(x, y):\n",
    "    return x + y\n",
    "\n",
    "add_two(10, 2)"
   ]
  },
  {
   "cell_type": "code",
   "execution_count": null,
   "id": "incoming-workshop",
   "metadata": {},
   "outputs": [],
   "source": [
    "add_two_copy = add_two\n",
    "add_two_copy(2, 3)"
   ]
  },
  {
   "cell_type": "code",
   "execution_count": null,
   "id": "pregnant-complex",
   "metadata": {},
   "outputs": [],
   "source": [
    "add_two_lambda = lambda x, y : x + y\n",
    "add_two_lambda(3, 10)"
   ]
  },
  {
   "cell_type": "markdown",
   "id": "eight-alpha",
   "metadata": {
    "slideshow": {
     "slide_type": "slide"
    }
   },
   "source": [
    "## User defined parameters\n",
    "The parameters given to each parameter in a guide module can be a number, an interval with list syntax or a user defined parameter. The user defined parameters provide the most control!\n",
    "\n",
    "- FixedInstrumentParameter\n",
    "- RelativeFreeInstrumentParameter\n",
    "- DependentInstrumentParameter"
   ]
  },
  {
   "cell_type": "markdown",
   "id": "weighted-montreal",
   "metadata": {
    "slideshow": {
     "slide_type": "slide"
    }
   },
   "source": [
    "### Fixed parameters\n",
    "Fixed parameters are simple, they have a name and a value."
   ]
  },
  {
   "cell_type": "code",
   "execution_count": null,
   "id": "genetic-estate",
   "metadata": {},
   "outputs": [],
   "source": [
    "small_axis = gb.FixedInstrumentParameter(\"small_axis\", 0.1)\n",
    "pi = gb.FixedInstrumentParameter(\"pi\", 3.14159)"
   ]
  },
  {
   "cell_type": "markdown",
   "id": "chinese-decrease",
   "metadata": {
    "slideshow": {
     "slide_type": "slide"
    }
   },
   "source": [
    "### Free parameters\n",
    "The free parameters have a static interval given at the start, but can have dynamic limits and illegal intervals."
   ]
  },
  {
   "cell_type": "code",
   "execution_count": null,
   "id": "premier-treatment",
   "metadata": {},
   "outputs": [],
   "source": [
    "guide_width = gb.RelativeFreeInstrumentParameter(\"guide_width\", 0.03, 0.10)\n",
    "guide_height = gb.RelativeFreeInstrumentParameter(\"guide_width\", 0.03, 0.15)\n",
    "\n",
    "# guide height will now be larger than guide_width!\n",
    "guide_height.add_lower_dynamic(guide_width, lambda x : x)\n",
    "\n",
    "# guide height will now be pi larger than guide_width!\n",
    "guide_height.add_lower_dynamic(guide_width, lambda x, a : a*x, constants=[pi]) "
   ]
  },
  {
   "cell_type": "markdown",
   "id": "dynamic-packet",
   "metadata": {
    "slideshow": {
     "slide_type": "slide"
    }
   },
   "source": [
    "![alt](figures/powerpoint_figures/Slide09.png)"
   ]
  },
  {
   "cell_type": "markdown",
   "id": "standard-wrist",
   "metadata": {
    "slideshow": {
     "slide_type": "slide"
    }
   },
   "source": [
    "![alt](figures/powerpoint_figures/Slide10.png)"
   ]
  },
  {
   "cell_type": "markdown",
   "id": "talented-bulgaria",
   "metadata": {
    "slideshow": {
     "slide_type": "slide"
    }
   },
   "source": [
    "### Dependent parameters\n",
    "These can be calculated from one or more other parameters, these can be free, fixed or other dependents."
   ]
  },
  {
   "cell_type": "code",
   "execution_count": null,
   "id": "respective-japanese",
   "metadata": {},
   "outputs": [],
   "source": [
    "guide_width = gb.RelativeFreeInstrumentParameter(\"guide_width\", 0.03, 0.15)\n",
    "guide_height = gb.DependentInstrumentParameter(\"guide_height\", guide_width, lambda x : 1.2*x)"
   ]
  },
  {
   "cell_type": "markdown",
   "id": "desperate-spread",
   "metadata": {
    "slideshow": {
     "slide_type": "slide"
    }
   },
   "source": [
    "### Usage example"
   ]
  },
  {
   "cell_type": "code",
   "execution_count": null,
   "id": "still-engine",
   "metadata": {},
   "outputs": [],
   "source": [
    "guide = project.new_guide(name=\"Balistic_straight\")\n",
    "\n",
    "guide_width = gb.RelativeFreeInstrumentParameter(\"guide_width\", 0.03, 0.15)\n",
    "guide_height = gb.RelativeFreeInstrumentParameter(\"guide_height\", 0.04, 0.15)\n",
    "\n",
    "guide += gb.Elliptic(name=\"defocusing\", m=4,\n",
    "                     end_width=guide_width, end_height=guide_height,\n",
    "                     minor_axis_x=guide_width, minor_axis_y=guide_height)\n",
    "guide += gb.Straight(name=\"transport\", m=3, start_width=guide_width, start_height=guide_height,\n",
    "                     end_width=guide_width, end_height=guide_height, length=[70, 140])\n",
    "guide += gb.Elliptic(name=\"focusing\", m=4, start_width=guide_width, start_height=guide_height,\n",
    "                     minor_axis_x=guide_width, minor_axis_y=guide_height)"
   ]
  },
  {
   "attachments": {},
   "cell_type": "markdown",
   "id": "royal-server",
   "metadata": {
    "slideshow": {
     "slide_type": "slide"
    }
   },
   "source": [
    "![alt](figures/controlled_guide.png)"
   ]
  },
  {
   "cell_type": "markdown",
   "id": "stretch-chassis",
   "metadata": {
    "slideshow": {
     "slide_type": "slide"
    }
   },
   "source": [
    "## Running with cluster\n",
    "Big projects should not be executed on a laptop, but on a high performance computer. With guide_bot one needs a configuration file for the cluster that has guide_bot and McStas installed. In those cases McStas is not necessary on the local machine! "
   ]
  },
  {
   "cell_type": "code",
   "execution_count": null,
   "id": "desperate-indie",
   "metadata": {
    "scrolled": false
   },
   "outputs": [],
   "source": [
    "from guide_bot.cluster import SLURM\n",
    "DMSC = SLURM.ClusterSLURM(cluster_name=\"DMSC\")\n",
    "\n",
    "project.write(cluster=DMSC)"
   ]
  },
  {
   "cell_type": "markdown",
   "id": "vertical-founder",
   "metadata": {},
   "source": [
    "Write the project to disk, send it to a cluster and run the launch_all command, then every guide is optimized in parallel."
   ]
  },
  {
   "cell_type": "markdown",
   "id": "worst-equivalent",
   "metadata": {
    "slideshow": {
     "slide_type": "slide"
    }
   },
   "source": [
    "## Visualization\n",
    "In addition to the plot_guide and plot_any_monitor widgets there are 4 additional widgets:\n",
    "- compare_monitors\n",
    "- compare_monitors_scan\n",
    "- compare_moderators\n",
    "- plot_sum\n",
    "\n",
    "Demo in different notebook!"
   ]
  },
  {
   "cell_type": "markdown",
   "id": "level-david",
   "metadata": {
    "slideshow": {
     "slide_type": "slide"
    }
   },
   "source": [
    "## Conclusion\n",
    "guide_bot is still under development, but is already a powerful tool for guide design. The crucial detail is that the user interface keeps simple tasks simple, yet scales to more advanced tasks in an elegant way.\n",
    "\n",
    "Provides the tools to design thousands of guides and to find the best option among them."
   ]
  }
 ],
 "metadata": {
  "celltoolbar": "Slideshow",
  "kernelspec": {
   "display_name": "Python 3",
   "language": "python",
   "name": "python3"
  },
  "language_info": {
   "codemirror_mode": {
    "name": "ipython",
    "version": 3
   },
   "file_extension": ".py",
   "mimetype": "text/x-python",
   "name": "python",
   "nbconvert_exporter": "python",
   "pygments_lexer": "ipython3",
   "version": "3.8.8"
  }
 },
 "nbformat": 4,
 "nbformat_minor": 5
}
