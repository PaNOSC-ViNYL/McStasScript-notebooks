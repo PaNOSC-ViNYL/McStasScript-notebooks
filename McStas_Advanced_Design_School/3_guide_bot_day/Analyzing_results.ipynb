{
 "cells": [
  {
   "cell_type": "markdown",
   "id": "broadband-fancy",
   "metadata": {},
   "source": [
    "# Loading and visualizing guide_bot data\n",
    "This notebook demonstrate how to load a guide_bot dataset and how to visualize it."
   ]
  },
  {
   "cell_type": "code",
   "execution_count": null,
   "id": "accessible-theater",
   "metadata": {},
   "outputs": [],
   "source": [
    "%matplotlib widget\n",
    "import guide_bot as gb"
   ]
  },
  {
   "cell_type": "markdown",
   "id": "suburban-provincial",
   "metadata": {},
   "source": [
    "First create a result object by providing the path to a guide_bot project where at least some optimizations have been completed."
   ]
  },
  {
   "cell_type": "code",
   "execution_count": null,
   "id": "reduced-celebration",
   "metadata": {},
   "outputs": [],
   "source": [
    "results = gb.Results(\"path/to/results\") # Provide the path to your porject folder"
   ]
  },
  {
   "cell_type": "markdown",
   "id": "israeli-pickup",
   "metadata": {},
   "source": [
    "We return to the results object that can show the status of all the contained runs."
   ]
  },
  {
   "cell_type": "code",
   "execution_count": null,
   "id": "regional-helicopter",
   "metadata": {},
   "outputs": [],
   "source": [
    "results.show_status()"
   ]
  },
  {
   "cell_type": "markdown",
   "id": "naval-lebanon",
   "metadata": {},
   "source": [
    "The results object can provide widgets for exploring the data. This is the main way to browse guide_bot data, but it is important to know that the individual datasets can be retrieved, which will be shown below.\n",
    "\n",
    "First we have the plot_guide widget. All iterations of the optimization can be displayed, and are ordered from worst to best performance."
   ]
  },
  {
   "cell_type": "code",
   "execution_count": null,
   "id": "adjacent-cookbook",
   "metadata": {
    "scrolled": false
   },
   "outputs": [],
   "source": [
    "results.plot_guide()"
   ]
  },
  {
   "cell_type": "markdown",
   "id": "instructional-parker",
   "metadata": {},
   "source": [
    "Next is a widget for plotting any monitor."
   ]
  },
  {
   "cell_type": "code",
   "execution_count": null,
   "id": "posted-equation",
   "metadata": {
    "scrolled": false
   },
   "outputs": [],
   "source": [
    "results.plot_any_monitor()"
   ]
  },
  {
   "cell_type": "markdown",
   "id": "choice-exclusion",
   "metadata": {},
   "source": [
    "Then a widget to compare 1D monitors across different guides."
   ]
  },
  {
   "cell_type": "code",
   "execution_count": null,
   "id": "breeding-penny",
   "metadata": {},
   "outputs": [],
   "source": [
    "results.compare_monitors()"
   ]
  },
  {
   "cell_type": "markdown",
   "id": "skilled-collection",
   "metadata": {},
   "source": [
    "Then a widget to show all results from a single guide along a scan dimension. This will only work if a scan was made in the loaded project."
   ]
  },
  {
   "cell_type": "code",
   "execution_count": null,
   "id": "perfect-justice",
   "metadata": {},
   "outputs": [],
   "source": [
    "results.compare_monitors_scan()"
   ]
  },
  {
   "cell_type": "markdown",
   "id": "legal-samoa",
   "metadata": {},
   "source": [
    "It is also possible to compare sources."
   ]
  },
  {
   "cell_type": "code",
   "execution_count": null,
   "id": "metropolitan-casino",
   "metadata": {},
   "outputs": [],
   "source": [
    "results.compare_moderators()"
   ]
  },
  {
   "cell_type": "markdown",
   "id": "quick-immune",
   "metadata": {},
   "source": [
    "Finally there is a widget for exploring the scan as a sum of monitor output, collapsing 1D and 2D data to points for a broad overview along scanned dimensions. Again this will only work when a scan is performed for the loaded project."
   ]
  },
  {
   "cell_type": "code",
   "execution_count": null,
   "id": "obvious-nothing",
   "metadata": {
    "scrolled": false
   },
   "outputs": [],
   "source": [
    "results.plot_sum()"
   ]
  },
  {
   "cell_type": "markdown",
   "id": "alpha-genius",
   "metadata": {},
   "source": [
    "## Syntax for retrieving data\n",
    "The results object contains information about the simulated guides, scan and moderator. The next few cells demonstrate how this information can be retrieved."
   ]
  },
  {
   "cell_type": "code",
   "execution_count": null,
   "id": "meaning-shepherd",
   "metadata": {},
   "outputs": [],
   "source": [
    "guide_names = results.get_guide_names()\n",
    "guide_pick = guide_names[0]\n",
    "guide_names"
   ]
  },
  {
   "cell_type": "code",
   "execution_count": null,
   "id": "innocent-airfare",
   "metadata": {},
   "outputs": [],
   "source": [
    "mod_names = results.get_moderators()\n",
    "mod_pick = mod_names[0]\n",
    "mod_names"
   ]
  },
  {
   "cell_type": "code",
   "execution_count": null,
   "id": "registered-gravity",
   "metadata": {},
   "outputs": [],
   "source": [
    "scan_shape = results.get_shape()\n",
    "scan_pick = (0,) * len(scan_shape)\n",
    "scan_shape"
   ]
  },
  {
   "cell_type": "code",
   "execution_count": null,
   "id": "mediterranean-hayes",
   "metadata": {},
   "outputs": [],
   "source": [
    "results.show_scan()"
   ]
  },
  {
   "cell_type": "markdown",
   "id": "better-istanbul",
   "metadata": {},
   "source": [
    "We have picked a guide, scan point and moderator, and with this we can see what data is available for this combination."
   ]
  },
  {
   "cell_type": "code",
   "execution_count": null,
   "id": "seven-refund",
   "metadata": {},
   "outputs": [],
   "source": [
    "results.overview.data[guide_pick][scan_pick][mod_pick].show_runs()"
   ]
  },
  {
   "cell_type": "markdown",
   "id": "polar-mainland",
   "metadata": {},
   "source": [
    "For each of these runs we can see what monitors were used in the that run with *get_monitor_list*."
   ]
  },
  {
   "cell_type": "code",
   "execution_count": null,
   "id": "virtual-picking",
   "metadata": {},
   "outputs": [],
   "source": [
    "results.overview.data[guide_pick][scan_pick][mod_pick].runs[\"fom_wavelength_band\"].get_monitor_list()"
   ]
  },
  {
   "cell_type": "markdown",
   "id": "excess-prayer",
   "metadata": {},
   "source": [
    "Here we get a specific dataset in the McStasScript format."
   ]
  },
  {
   "cell_type": "code",
   "execution_count": null,
   "id": "judicial-hurricane",
   "metadata": {},
   "outputs": [],
   "source": [
    "results.overview.data[guide_pick][scan_pick][mod_pick].runs[\"fom_wavelength_band\"].get_data(\"Lambda\")"
   ]
  },
  {
   "cell_type": "markdown",
   "id": "given-coating",
   "metadata": {},
   "source": [
    "There is even information on the monitors, here the size is shown."
   ]
  },
  {
   "cell_type": "code",
   "execution_count": null,
   "id": "maritime-share",
   "metadata": {},
   "outputs": [],
   "source": [
    "results.overview.data[guide_pick][scan_pick][mod_pick].runs[\"fom_wavelength_band\"].monitor_info[\"psd_lin_horizontal_brill\"][\"size\"]"
   ]
  },
  {
   "cell_type": "markdown",
   "id": "empirical-stopping",
   "metadata": {},
   "source": [
    "It is possible to show a detailed overview of the optimization of a certain guide, here we use \"main\" as the moderator name to show the main optimization."
   ]
  },
  {
   "cell_type": "code",
   "execution_count": null,
   "id": "standard-shift",
   "metadata": {},
   "outputs": [],
   "source": [
    "results.overview.get_log_plotter(guide_pick, scan_pick, \"main\").plot_overview()"
   ]
  },
  {
   "cell_type": "markdown",
   "id": "genuine-table",
   "metadata": {},
   "source": [
    "If one wants to dig further into an optimization, the log_plotter object can be retrieved that contain many methods for plotting the results for that particular guide. Here the correlations between parameters is shown, the color of the dots correspond to the figure of merit for that simulation, blue correspond to the best figure of merit."
   ]
  },
  {
   "cell_type": "code",
   "execution_count": null,
   "id": "loving-there",
   "metadata": {},
   "outputs": [],
   "source": [
    "log_plotter = results.overview.get_log_plotter(guide_pick, scan_pick, \"main\")\n",
    "log_plotter.plot_all_correlations(figsize=(8,10), category=\"horizontal\")\n",
    "log_plotter.plot_all_correlations(figsize=(8,10), category=\"vertical\")\n",
    "log_plotter.plot_all_correlations(figsize=(8,10), category=\"start_point\")"
   ]
  },
  {
   "cell_type": "code",
   "execution_count": null,
   "id": "confidential-programmer",
   "metadata": {},
   "outputs": [],
   "source": [
    "log_plotter.plot_best_guide()"
   ]
  },
  {
   "cell_type": "code",
   "execution_count": null,
   "id": "ranking-agenda",
   "metadata": {},
   "outputs": [],
   "source": [
    "results.overview.plot_fom_overview(guide=guide_pick)"
   ]
  },
  {
   "cell_type": "code",
   "execution_count": null,
   "id": "approved-german",
   "metadata": {},
   "outputs": [],
   "source": [
    "results.overview.plot_fom_overview()"
   ]
  },
  {
   "cell_type": "code",
   "execution_count": null,
   "id": "built-powell",
   "metadata": {},
   "outputs": [],
   "source": []
  },
  {
   "cell_type": "code",
   "execution_count": null,
   "id": "creative-script",
   "metadata": {},
   "outputs": [],
   "source": []
  },
  {
   "cell_type": "code",
   "execution_count": null,
   "id": "brutal-motion",
   "metadata": {},
   "outputs": [],
   "source": []
  }
 ],
 "metadata": {
  "kernelspec": {
   "display_name": "Python 3",
   "language": "python",
   "name": "python3"
  },
  "language_info": {
   "codemirror_mode": {
    "name": "ipython",
    "version": 3
   },
   "file_extension": ".py",
   "mimetype": "text/x-python",
   "name": "python",
   "nbconvert_exporter": "python",
   "pygments_lexer": "ipython3",
   "version": "3.8.8"
  }
 },
 "nbformat": 4,
 "nbformat_minor": 5
}
