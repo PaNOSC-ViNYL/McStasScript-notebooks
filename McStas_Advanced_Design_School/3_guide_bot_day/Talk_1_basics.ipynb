{
 "cells": [
  {
   "cell_type": "markdown",
   "id": "ranging-nurse",
   "metadata": {
    "slideshow": {
     "slide_type": "slide"
    }
   },
   "source": [
    "# guide_bot\n",
    "\n",
    "Guide design is a difficult task as we don't have analytical tools that can predict what shape would be best. Currently we rely on numerical optimizations of ray-tracing simulations such as McStas.\n",
    "\n",
    "For each new idea we need a significant effort to write a simulation, connect it to a numerical optimizer and investigate the results.\n",
    "\n",
    "guide_bot is a piece of software that attempts to simplify this greatly.\n",
    "\n",
    "Was written by Mads Bertelsen as a master project at University of Copenhagen. It is now being rewritten by Mads Bertelsen as part of the HighNESS EU project."
   ]
  },
  {
   "cell_type": "markdown",
   "id": "competent-garage",
   "metadata": {
    "slideshow": {
     "slide_type": "slide"
    }
   },
   "source": [
    "![alt](figures/powerpoint_figures/Slide01.png)"
   ]
  },
  {
   "cell_type": "markdown",
   "id": "ruled-knitting",
   "metadata": {
    "slideshow": {
     "slide_type": "slide"
    }
   },
   "source": [
    "## Guides use super mirrors to transport neutrons\n",
    "![alt](figures/powerpoint_figures/Slide02.png)"
   ]
  },
  {
   "cell_type": "markdown",
   "id": "limiting-helmet",
   "metadata": {
    "slideshow": {
     "slide_type": "slide"
    }
   },
   "source": [
    "## MATLAB guide_bot\n",
    "- Developed 2013-2015\n",
    "- Allows guide design without knowing any McStas\n",
    "- MATLAB code (requires license)\n",
    "- Difficult to install\n",
    "- Used to select moderator at ESS\n",
    "- Designed guides for BIFROST, HEIMDAL, PSI CAMEA, PSI FOCUS\n",
    "- Used at NIST in the USA\n",
    "- Was expanded to handle coating optimization by Martin Olsen"
   ]
  },
  {
   "cell_type": "markdown",
   "id": "sealed-secret",
   "metadata": {
    "slideshow": {
     "slide_type": "slide"
    }
   },
   "source": [
    "![alt](figures/powerpoint_figures/Slide05.png)"
   ]
  },
  {
   "cell_type": "markdown",
   "id": "bored-latest",
   "metadata": {
    "slideshow": {
     "slide_type": "slide"
    }
   },
   "source": [
    "## Python guide_bot\n",
    "- Currently being developed\n",
    "- Uses McStasScript as dependency\n",
    "- More flexible and scalable\n",
    "- Much easier to install\n",
    "\n",
    "### Install newest version on e-learning platform\n",
    "Open the terminal and type:\n",
    "```\n",
    "pip install guide_bot --upgrade --user\n",
    "```"
   ]
  },
  {
   "cell_type": "markdown",
   "id": "precious-bishop",
   "metadata": {
    "slideshow": {
     "slide_type": "slide"
    }
   },
   "source": [
    "# Demo of guide_bot"
   ]
  },
  {
   "cell_type": "code",
   "execution_count": null,
   "id": "hungry-diving",
   "metadata": {},
   "outputs": [],
   "source": [
    "import guide_bot as gb"
   ]
  },
  {
   "cell_type": "markdown",
   "id": "blessed-ranking",
   "metadata": {
    "slideshow": {
     "slide_type": "slide"
    }
   },
   "source": [
    "### Describe target for beam\n",
    "Often describing the sample at a time of flight instrument, or monochromator at continuous source. "
   ]
  },
  {
   "cell_type": "markdown",
   "id": "clean-clinic",
   "metadata": {},
   "source": [
    "![alt](figures/powerpoint_figures/Slide03.png)"
   ]
  },
  {
   "cell_type": "markdown",
   "id": "thousand-leather",
   "metadata": {
    "slideshow": {
     "slide_type": "slide"
    }
   },
   "source": [
    "### Describe target for beam\n",
    "Inserting this into guide_bot takes the following form. Adding instrument length and guide - target distance."
   ]
  },
  {
   "cell_type": "code",
   "execution_count": null,
   "id": "cooperative-motor",
   "metadata": {},
   "outputs": [],
   "source": [
    "target = gb.Target(width=0.01, height=0.02,\n",
    "                   div_horizontal=0.75, div_vertical=1.2,\n",
    "                   min_wavelength=1.5, max_wavelength=3.0,\n",
    "                   instrument_length=60, target_guide_distance=0.5)"
   ]
  },
  {
   "cell_type": "markdown",
   "id": "under-paper",
   "metadata": {
    "slideshow": {
     "slide_type": "slide"
    }
   },
   "source": [
    "### Optimizing for brilliance transfer\n",
    "![alt](figures/powerpoint_figures/Slide04.png)"
   ]
  },
  {
   "cell_type": "markdown",
   "id": "regulation-advance",
   "metadata": {
    "slideshow": {
     "slide_type": "slide"
    }
   },
   "source": [
    "### Describe the neutron source\n",
    "![alt](figures/powerpoint_figures/Slide06.png)"
   ]
  },
  {
   "cell_type": "markdown",
   "id": "normal-mills",
   "metadata": {
    "slideshow": {
     "slide_type": "slide"
    }
   },
   "source": [
    "### Description in guide_bot"
   ]
  },
  {
   "cell_type": "code",
   "execution_count": null,
   "id": "inappropriate-quebec",
   "metadata": {},
   "outputs": [],
   "source": [
    "moderator = gb.Moderator(name=\"fom_moderator\", width=0.1, height=0.05, guide_start=2.0)"
   ]
  },
  {
   "cell_type": "markdown",
   "id": "directed-tunisia",
   "metadata": {
    "slideshow": {
     "slide_type": "slide"
    }
   },
   "source": [
    "### Create a guide_bot project\n",
    "- Settings:\n",
    "    - settings for optimizer\n",
    "    - settings for McStas simulations\n",
    "    \n",
    "- Collects target and moderator\n",
    "- Provides name which will be used as folder name!"
   ]
  },
  {
   "cell_type": "code",
   "execution_count": null,
   "id": "universal-slope",
   "metadata": {},
   "outputs": [],
   "source": [
    "settings = {\"maxiter\": 5, \"swarmsize\": 3, \"minstep\": 2E-4,\n",
    "            \"ncount\": 1E6, \"ncount_analysis\": 3E6, \"logfile\": True}\n",
    "\n",
    "project = gb.Project(name=\"simple_project\", target=target, moderator=moderator, settings=settings)"
   ]
  },
  {
   "cell_type": "markdown",
   "id": "supposed-shelter",
   "metadata": {
    "slideshow": {
     "slide_type": "slide"
    }
   },
   "source": [
    "### Settings\n",
    "| Element          | Explanation                                                     |\n",
    "| :---             |    :----                                                        |\n",
    "| maxiter          | Maximum number of iterations (of each swarm particle)           |\n",
    "| swarmsize        | Number of swarm particles                                       |\n",
    "| minstep          | Minimum allowed step (probably in normalized parameters)        |\n",
    "| ncount           | Number of rays for optimization                                 |\n",
    "| ncount_analysis  | Number of rays for analysis                                     |\n",
    "| logfile          | Whether to write a log file, always keep this to True!          |\n",
    "\n",
    "Uses pyswarm for optimization [https://pythonhosted.org/pyswarm/](https://pythonhosted.org/pyswarm/), all options are available through settings, only the most important ones mentioned above."
   ]
  },
  {
   "cell_type": "markdown",
   "id": "personal-bennett",
   "metadata": {
    "slideshow": {
     "slide_type": "slide"
    }
   },
   "source": [
    "### Add a guide\n",
    "One can add as many guides to a project as desired. Request a guide object from project and build on it."
   ]
  },
  {
   "cell_type": "code",
   "execution_count": null,
   "id": "prompt-license",
   "metadata": {},
   "outputs": [],
   "source": [
    "guide = project.new_guide(name=\"simplest_guide\")\n",
    "guide += gb.Straight(name=\"long_guide\", m=4)"
   ]
  },
  {
   "cell_type": "markdown",
   "id": "instructional-iraqi",
   "metadata": {
    "slideshow": {
     "slide_type": "slide"
    }
   },
   "source": [
    "### Look at guide object"
   ]
  },
  {
   "cell_type": "code",
   "execution_count": null,
   "id": "uniform-thought",
   "metadata": {},
   "outputs": [],
   "source": [
    "print(guide)"
   ]
  },
  {
   "cell_type": "markdown",
   "id": "secret-cooperation",
   "metadata": {
    "slideshow": {
     "slide_type": "slide"
    }
   },
   "source": [
    "## Available elements\n",
    "New elements are easy to add, more are in development!\n",
    "\n",
    "| Element    | Explanation                                                     |\n",
    "| :---       |    :----                                                        |\n",
    "| Straight   | Straight mirrors, can have different start and end dimensions   |\n",
    "| Elliptic   | Elliptic guide element                                          |\n",
    "| Gap        | Gap in the guide (no mirrors or cut of at start or end)         |\n",
    "| Slit       | Gap in the guide (no mirrors, cut off at start)                 |\n",
    "| Kink       | Gap with change of direction at end                             |\n",
    "| Curved     | Curved guide, same dimensions at start and end (no gravity)     |"
   ]
  },
  {
   "cell_type": "markdown",
   "id": "maritime-runner",
   "metadata": {
    "slideshow": {
     "slide_type": "slide"
    }
   },
   "source": [
    "### Element options\n",
    "All elements in guide_bot have the following options.\n",
    "\n",
    "| Parameter    | Unit  | Explanation                                                     |\n",
    "| :---         | :---  |    :----                                                        |\n",
    "| length       | [m]   | Length of the guide element                                     |\n",
    "| start_point  | [m]   | Distance from source to start of element (measured along guide) |\n",
    "| start_width  | [m]   | Width of element at the start                                   |\n",
    "| start_height | [m]   | Height of element at the start                                  |\n",
    "| end_width    | [m]   | Width of the element at the end                                 |\n",
    "| end_height   | [m]   | Height of the element at the end                                |\n",
    "\n",
    "Each of them can be:\n",
    "- Left unset (guide_bot will select reasonable range for optimization)\n",
    "- Have a fixed value given\n",
    "- Have a range given (None for either end makes guide_bot choose that end)"
   ]
  },
  {
   "cell_type": "markdown",
   "id": "touched-sentence",
   "metadata": {
    "slideshow": {
     "slide_type": "slide"
    }
   },
   "source": [
    "### Add another guide"
   ]
  },
  {
   "cell_type": "code",
   "execution_count": null,
   "id": "proof-number",
   "metadata": {},
   "outputs": [],
   "source": [
    "guide = project.new_guide(name=\"Elliptic_guide\")\n",
    "guide += gb.Elliptic(name=\"Transport\", m=4, start_width=[0.01, 0.04])"
   ]
  },
  {
   "cell_type": "markdown",
   "id": "front-arlington",
   "metadata": {
    "slideshow": {
     "slide_type": "slide"
    }
   },
   "source": [
    "### Multiple elements in a guide\n",
    "![alt](figures/guide_elements.png)"
   ]
  },
  {
   "cell_type": "markdown",
   "id": "medical-salon",
   "metadata": {
    "slideshow": {
     "slide_type": "slide"
    }
   },
   "source": [
    "### And yet another guide"
   ]
  },
  {
   "cell_type": "code",
   "execution_count": null,
   "id": "corresponding-indication",
   "metadata": {},
   "outputs": [],
   "source": [
    "guide = project.new_guide(name=\"Combined_guide\")\n",
    "guide += gb.Elliptic(name=\"Extraction\", m=4)\n",
    "guide += gb.Gap(name=\"Chopper_gap\", start_point=[6.3, 6.8], length=0.1)\n",
    "guide += gb.Elliptic(name=\"Transport\", m=4)"
   ]
  },
  {
   "cell_type": "markdown",
   "id": "sacred-characteristic",
   "metadata": {
    "slideshow": {
     "slide_type": "slide"
    }
   },
   "source": [
    "### View project\n",
    "These guides are all remembered by the project object."
   ]
  },
  {
   "cell_type": "code",
   "execution_count": null,
   "id": "hollow-brown",
   "metadata": {},
   "outputs": [],
   "source": [
    "print(project)"
   ]
  },
  {
   "cell_type": "markdown",
   "id": "lucky-decade",
   "metadata": {
    "slideshow": {
     "slide_type": "slide"
    }
   },
   "source": [
    "### Write project\n",
    "The project needs to be written to disk in order to execute simulations.\n"
   ]
  },
  {
   "cell_type": "code",
   "execution_count": null,
   "id": "psychological-greece",
   "metadata": {},
   "outputs": [],
   "source": [
    "project.write()"
   ]
  },
  {
   "cell_type": "markdown",
   "id": "personal-processor",
   "metadata": {},
   "source": [
    "This creates a folder on in the current work directory with all the code to optimize the described guides for the selected source and beam target parameters!"
   ]
  },
  {
   "cell_type": "markdown",
   "id": "authorized-heather",
   "metadata": {
    "slideshow": {
     "slide_type": "slide"
    }
   },
   "source": [
    "### A look at the project folder"
   ]
  },
  {
   "cell_type": "code",
   "execution_count": null,
   "id": "accurate-north",
   "metadata": {},
   "outputs": [],
   "source": [
    "ls"
   ]
  },
  {
   "cell_type": "markdown",
   "id": "strong-delicious",
   "metadata": {
    "slideshow": {
     "slide_type": "slide"
    }
   },
   "source": [
    "## Run the simulation\n",
    "The simulation tasks are stored as 'pickled' python objects that are executed with gb.RunFromFile."
   ]
  },
  {
   "cell_type": "code",
   "execution_count": null,
   "id": "olympic-filling",
   "metadata": {},
   "outputs": [],
   "source": [
    "import os\n",
    "cpath = os.getcwd()\n",
    "os.chdir(os.path.join(cpath, \"simple_project\", \"Elliptic_guide\"))\n",
    "gb.RunFromFile(\"Elliptic_guide.plk\")"
   ]
  },
  {
   "cell_type": "markdown",
   "id": "express-spending",
   "metadata": {
    "slideshow": {
     "slide_type": "slide"
    }
   },
   "source": [
    "## View the results\n",
    "After a guide_bot run is complete, you can view the results by making a results object."
   ]
  },
  {
   "cell_type": "code",
   "execution_count": null,
   "id": "italian-tackle",
   "metadata": {},
   "outputs": [],
   "source": [
    "results = gb.Results(project.name) # Provide path to project folder"
   ]
  },
  {
   "cell_type": "code",
   "execution_count": null,
   "id": "tender-blink",
   "metadata": {
    "slideshow": {
     "slide_type": "slide"
    }
   },
   "outputs": [],
   "source": [
    "%matplotlib widget\n",
    "results.plot_guide()"
   ]
  },
  {
   "cell_type": "code",
   "execution_count": null,
   "id": "sensitive-granny",
   "metadata": {
    "slideshow": {
     "slide_type": "slide"
    }
   },
   "outputs": [],
   "source": [
    "results.plot_any_monitor()"
   ]
  },
  {
   "cell_type": "markdown",
   "id": "reported-capitol",
   "metadata": {},
   "source": [
    "## Conclusion\n",
    "Simple steps to perform guide optimization.\n",
    "- Define a target beam\n",
    "- Define a source\n",
    "- Create a project\n",
    "- Add any number of guides\n",
    "- Write project to disk\n",
    "- Run project\n",
    "- Look at results\n",
    "\n",
    "No need to know McStas, McStasScript. Just basic Python."
   ]
  }
 ],
 "metadata": {
  "celltoolbar": "Slideshow",
  "kernelspec": {
   "display_name": "Python 3",
   "language": "python",
   "name": "python3"
  },
  "language_info": {
   "codemirror_mode": {
    "name": "ipython",
    "version": 3
   },
   "file_extension": ".py",
   "mimetype": "text/x-python",
   "name": "python",
   "nbconvert_exporter": "python",
   "pygments_lexer": "ipython3",
   "version": "3.8.8"
  }
 },
 "nbformat": 4,
 "nbformat_minor": 5
}
