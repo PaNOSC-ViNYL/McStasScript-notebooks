{
 "cells": [
  {
   "cell_type": "code",
   "execution_count": null,
   "id": "rubber-programming",
   "metadata": {},
   "outputs": [],
   "source": [
    "import quizlib\n",
    "quiz = quizlib.UnionQuiz()"
   ]
  },
  {
   "cell_type": "markdown",
   "id": "appointed-stage",
   "metadata": {},
   "source": [
    "# Union e-learning quiz\n",
    "This notebook contains quiz questions meant to be completed after a lecture on the Union components, but can be used without. Feel free to use the McStasScript documentation as an aid, it can be found at [https://mads-bertelsen.github.io](https://mads-bertelsen.github.io), help on the Union components can be found in the tutorial section. The later parts of this quiz will use McStasScript as the interface to McStas, so it is suggested to do the McStasScript quiz first unless already familiar McStasScript. \n",
    "\n",
    "The learning goals\n",
    "- Advantages of Union components\n",
    "    - Understand in what situations the Union components are applicable\n",
    "    - Understand the limitations\n",
    "- Different Union component classes\n",
    "    - Know the purpose of each Union component class\n",
    "        - Process\n",
    "        - Material\n",
    "        - Geometry\n",
    "        - Logger\n",
    "        - Abs_logger\n",
    "        - Conditional\n",
    "        - Master\n",
    "    - Understand how they work together\n",
    "    - Understand priority system for geometry\n",
    "- Write Union code\n",
    "    - Define physical processes\n",
    "    - Create materials\n",
    "    - Describe a geometry\n",
    "    - Log scattering with logger component\n",
    "    - Include Union_master component\n",
    "    - Perform simulation"
   ]
  },
  {
   "cell_type": "markdown",
   "id": "filled-greeting",
   "metadata": {},
   "source": [
    "## When to use the Union components\n",
    "The first two questions relate to strengths and weaknesses of the Union components.\n",
    "\n",
    "### Question 1\n",
    "Which of the following is *not* a good reason to use Union components:\n",
    "- A: Want to describe complex geometry\n",
    "- B: Combination of physical processes in one geometry\n",
    "- C: Multiple scattering between geometries / processes\n",
    "- D: Model detector systems\n",
    "- E: Logging of scattering\n",
    "- F: Logging of absorption\n",
    "- G: Gravity support\n",
    "- H: Tracking of features in data"
   ]
  },
  {
   "cell_type": "code",
   "execution_count": null,
   "id": "greater-background",
   "metadata": {},
   "outputs": [],
   "source": [
    "quiz.question_1(\"G\")"
   ]
  },
  {
   "cell_type": "markdown",
   "id": "miniature-southwest",
   "metadata": {},
   "source": [
    "### Question 2\n",
    "Select the important limitation to remember when using Union components.\n",
    "\n",
    "- A: No perfectly overlapping edges\n",
    "- B: Maximum 10 geometries\n",
    "- C: Maximum 5 processes in a material\n",
    "- D: One Union system per instrument"
   ]
  },
  {
   "cell_type": "code",
   "execution_count": null,
   "id": "expired-location",
   "metadata": {},
   "outputs": [],
   "source": [
    "quiz.question_2(\"A\")"
   ]
  },
  {
   "cell_type": "markdown",
   "id": "balanced-hearing",
   "metadata": {},
   "source": [
    "## Classes of Union components\n",
    "The next questions relate to the different classes of Union components. Most of these classes contain several components, but some only have a single. Each class have a different responsibility to perform, and are quite similar within one class. For example in the geometry class there are components describing spheres, cylinders, boxes and cones.\n",
    "\n",
    "### Question 3\n",
    "What does a process component do?\n",
    "\n",
    "- A: Describes a number of scattering mechanisms\n",
    "- B: Describes a scattering process\n",
    "- C: Describes absorption"
   ]
  },
  {
   "cell_type": "code",
   "execution_count": null,
   "id": "geological-denial",
   "metadata": {},
   "outputs": [],
   "source": [
    "quiz.question_3(\"B\")"
   ]
  },
  {
   "cell_type": "markdown",
   "id": "indonesian-treaty",
   "metadata": {},
   "source": [
    "### Question 4\n",
    "Which statement about a material in Union is true? (created by Union_make_material)\n",
    "\n",
    "- A: Connects any single process to a absorption description\n",
    "- B: Collects a number of processes and absorption description\n",
    "- C: Materials are not user defined\n",
    "- D: The position and rotation of material components are important"
   ]
  },
  {
   "cell_type": "code",
   "execution_count": null,
   "id": "athletic-guest",
   "metadata": {},
   "outputs": [],
   "source": [
    "quiz.question_4(\"B\")"
   ]
  },
  {
   "cell_type": "markdown",
   "id": "surprising-tours",
   "metadata": {},
   "source": [
    "### Question 5\n",
    "Which statement about geometry components below is true?\n",
    "\n",
    "- A: Geometry components can take multiple material definitions\n",
    "- B: Geometry components are optional for running a Union simulation\n",
    "- C: The position and rotation of geometry components are important\n",
    "- D: The geometry component performs the simulation"
   ]
  },
  {
   "cell_type": "code",
   "execution_count": null,
   "id": "aggressive-scanning",
   "metadata": {},
   "outputs": [],
   "source": [
    "quiz.question_5(\"C\")"
   ]
  },
  {
   "cell_type": "markdown",
   "id": "insured-hopkins",
   "metadata": {},
   "source": [
    "### Question 6\n",
    "What is the responsibility of a logger component?\n",
    "\n",
    "- A: A logger records absorbed intensity\n",
    "- B: A logger records scattering intensity\n",
    "- C: A logger records the final state of the ray\n",
    "- D: A logger always records positions"
   ]
  },
  {
   "cell_type": "code",
   "execution_count": null,
   "id": "processed-tourist",
   "metadata": {},
   "outputs": [],
   "source": [
    "quiz.question_6(\"B\")"
   ]
  },
  {
   "cell_type": "markdown",
   "id": "several-german",
   "metadata": {},
   "source": [
    "### Question 7\n",
    "What is the responsibility of an abs_logger component?\n",
    "\n",
    "- A: An abs_logger records the final weight of each ray\n",
    "- B: An abs_logger needs to be connected to a specific geometry\n",
    "- C: An abs_logger records scattering intensity\n",
    "- D: An abs_logger records absorbed intensity"
   ]
  },
  {
   "cell_type": "code",
   "execution_count": null,
   "id": "cross-translator",
   "metadata": {},
   "outputs": [],
   "source": [
    "quiz.question_7(\"D\")"
   ]
  },
  {
   "cell_type": "markdown",
   "id": "humanitarian-knock",
   "metadata": {},
   "source": [
    "### Question 8\n",
    "What is the purpose of a conditional component?\n",
    "\n",
    "- A: A conditional component decides when a geometry is simulated\n",
    "- B: A conditional component can affect exactly one other component\n",
    "- C: A conditional component imposes a condition on logger or abs_logger components\n",
    "- D: A conditional component is required to perform a simulation with Union components"
   ]
  },
  {
   "cell_type": "code",
   "execution_count": null,
   "id": "meaningful-sussex",
   "metadata": {},
   "outputs": [],
   "source": [
    "quiz.question_8(\"C\")"
   ]
  },
  {
   "cell_type": "markdown",
   "id": "neither-postcard",
   "metadata": {},
   "source": [
    "### Question 9\n",
    "Select the true statement about the Union_master component.\n",
    "\n",
    "- A: There can only be one master component in an instrument\n",
    "- B: A Union_master component is required to perform a simulation with Union components\n",
    "- C: All Union components in an instrument file are simulated in a single master component\n",
    "- D: The Union_master needs to be placed on a Union geometry"
   ]
  },
  {
   "cell_type": "code",
   "execution_count": null,
   "id": "magnetic-mother",
   "metadata": {},
   "outputs": [],
   "source": [
    "quiz.question_9(\"B\")"
   ]
  },
  {
   "cell_type": "markdown",
   "id": "enclosed-affair",
   "metadata": {},
   "source": [
    "### Question 10\n",
    "Which statement about geometry priorities is true?\n",
    "\n",
    "- A: The geometry with highest priority decides what material to be simulated\n",
    "- B: The geometry with lowest priority decides what material to be simulated\n",
    "- C: The priority of a geometry decides how likely it is a ray scatters from it"
   ]
  },
  {
   "cell_type": "code",
   "execution_count": null,
   "id": "periodic-tribute",
   "metadata": {},
   "outputs": [],
   "source": [
    "quiz.question_10(\"A\")"
   ]
  },
  {
   "cell_type": "markdown",
   "id": "conservative-mounting",
   "metadata": {},
   "source": [
    "## Writing an instrument that use Union components\n",
    "In the next section you will write a McStas simulation using the Union components. This will be achieved over many questions to provide feedback on each small step of the overall assignment.\n",
    "\n",
    "### Question 11\n",
    "Create a McStas instrument object with a incoherent process describing aluminium.\n",
    "- cross section of 4*0.0082 barns per unit cell\n",
    "- unit cell volume of 66.4 Å^3"
   ]
  },
  {
   "cell_type": "code",
   "execution_count": null,
   "id": "employed-incident",
   "metadata": {},
   "outputs": [],
   "source": [
    "import mcstasscript as ms"
   ]
  },
  {
   "cell_type": "code",
   "execution_count": null,
   "id": "liberal-transaction",
   "metadata": {},
   "outputs": [],
   "source": [
    "# Your code here\n",
    "# instrument = ms.McStas_instr ...\n",
    "\n",
    "instrument = ms.McStas_instr(\"demo_instrument\")\n",
    "\n",
    "Al_inc = instrument.add_component(\"Al_inc\", \"Incoherent_process\")\n",
    "Al_inc.sigma = 4*0.0082 # 4 atoms per unit cell\n",
    "Al_inc.unit_cell_volume = 66.4\n",
    "\n",
    "quiz.question_11(instrument)"
   ]
  },
  {
   "cell_type": "markdown",
   "id": "latest-signal",
   "metadata": {},
   "source": [
    "### Question 12\n",
    "Add a powder process corresponding to aluminium.\n",
    "- the McStas installation contains the datafile Al.laz"
   ]
  },
  {
   "cell_type": "code",
   "execution_count": null,
   "id": "australian-lightning",
   "metadata": {},
   "outputs": [],
   "source": [
    "# Your code here\n",
    "Al_pow = instrument.add_component(\"Al_pow\", \"Powder_process\")\n",
    "Al_pow.reflections = '\"Al.laz\"'"
   ]
  },
  {
   "cell_type": "code",
   "execution_count": null,
   "id": "protected-clearing",
   "metadata": {},
   "outputs": [],
   "source": [
    "quiz.question_12(instrument)"
   ]
  },
  {
   "cell_type": "markdown",
   "id": "helpful-purpose",
   "metadata": {},
   "source": [
    "### Question 13\n",
    "Create an aluminium material from the two defined processes.\n",
    "- The inverse penetration depth for absorption of Al is $100 \\cdot 4 \\cdot 0.231 /66.4$ 1/m # barns [m^2 E-28]*Å^3 [m^3 E-30]=[m E-2]"
   ]
  },
  {
   "cell_type": "code",
   "execution_count": null,
   "id": "modified-dallas",
   "metadata": {},
   "outputs": [],
   "source": [
    "# Your code here\n",
    "Al = instrument.add_component(\"Al\", \"Union_make_material\")\n",
    "Al.process_string = '\"Al_inc,Al_pow\"'\n",
    "Al.my_absorption = 100*4*0.231/66.4 # barns [m^2 E-28]*Å^3 [m^3 E-30]=[m E-2]"
   ]
  },
  {
   "cell_type": "code",
   "execution_count": null,
   "id": "infectious-bryan",
   "metadata": {},
   "outputs": [],
   "source": [
    "quiz.question_13(instrument)"
   ]
  },
  {
   "cell_type": "markdown",
   "id": "loved-coach",
   "metadata": {},
   "source": [
    "You now have a material definition! We will use this later when describing the sample holder. We will also need a single crystal material, some of the code for creating that is provided below. If your instrument object is not called instrument, uncomment the second line and provide your instrument object."
   ]
  },
  {
   "cell_type": "code",
   "execution_count": null,
   "id": "lonely-gothic",
   "metadata": {},
   "outputs": [],
   "source": [
    "# This code assumes your instrument object is called 'instrument'\n",
    "# instrument = my_instrument_object ...\n",
    "\n",
    "sample_inc = instrument.add_component(\"Sample_inc\", \"Incoherent_process\")\n",
    "sample_inc.sigma = 100*2.105/173.28\n",
    "sample_inc.unit_cell_volume = 173.28\n",
    "\n",
    "sample_crystal = instrument.add_component(\"Sample_crystal\", \"Single_crystal_process\")\n",
    "sample_crystal.set_parameters(reflections='\"YBaCuO.lau\"', mosaic=15, packing_factor=0.5,\n",
    "                              ax=3.8186, by=3.886, cz=11.6777)\n",
    "\n",
    "instrument.add_parameter(\"twin_x\", value=0, comment=\"twinning rotation around x axis [deg]\")\n",
    "instrument.add_parameter(\"twin_y\", value=0, comment=\"twinning rotation around y axis [deg]\")\n",
    "instrument.add_parameter(\"twin_z\", value=0, comment=\"twinning rotation around z axis [deg]\")"
   ]
  },
  {
   "cell_type": "markdown",
   "id": "centered-attribute",
   "metadata": {},
   "source": [
    "### Question 14\n",
    "We would like to simulate a twinned crystal, and for that we need to create an additional Single_crystal process exactly like the one above, but rotated slightly. Although process components completely ignores their given position, their roration can be used to set the orientation like one would rotate a normal component in McStas. Use the three defined parameters *twin_x*, *twin_y* and *twin_z* to define the rotation of the copied process.\n",
    "\n",
    "Create a material using the Sample_inc, Sample_crystal and the process you added. The inverse penetration depth from absorption should be set to $\\frac{100 \\cdot 14.82 \\text{b}}{173.28~\\text{AA}^3}$ 1/m. The factor 100 originates from barn being $10^{-28}$ m$^2$ while $Å^3$ is $10^{-30}$ m$^3$, resulting in a factor 10$^2$ to reach units of 1/m."
   ]
  },
  {
   "cell_type": "code",
   "execution_count": null,
   "id": "sustainable-latex",
   "metadata": {},
   "outputs": [],
   "source": [
    "# Your code here\n",
    "sample_crystal_twin = instrument.add_component(\"Sample_crystal_twin\", \"Single_crystal_process\")\n",
    "sample_crystal_twin.set_parameters(reflections='\"YBaCuO.lau\"', mosaic=15, packing_factor=0.5)\n",
    "sample_crystal_twin.set_parameters(ax=3.8186, by=3.886, cz=11.6777)\n",
    "sample_crystal_twin.set_ROTATED([\"twin_x\", \"twin_y\", \"twin_z\"])\n",
    "\n",
    "sample = instrument.add_component(\"Sample\", \"Union_make_material\")\n",
    "sample.process_string = '\"Sample_inc,Sample_crystal,Sample_crystal_twin\"'\n",
    "sample.my_absorption = \"100*14.82/173.28\""
   ]
  },
  {
   "cell_type": "code",
   "execution_count": null,
   "id": "residential-twelve",
   "metadata": {},
   "outputs": [],
   "source": [
    "quiz.question_14(instrument)"
   ]
  },
  {
   "cell_type": "markdown",
   "id": "industrial-mississippi",
   "metadata": {},
   "source": [
    "### Question 15\n",
    "Next we make a model of a laue camera, starting with the source. We will use Source_simple with the following parameters:\n",
    "- width of 1 cm\n",
    "- height of 3.5 cm\n",
    "- focus window of 7 by 10 mm$^2$ at 1 m distance\n",
    "- wavelength band of 4.5 Å with half width 4.0 Å\n",
    "- flux of 1E13 "
   ]
  },
  {
   "cell_type": "code",
   "execution_count": null,
   "id": "sitting-processing",
   "metadata": {},
   "outputs": [],
   "source": [
    "# Your code here\n",
    "source = instrument.add_component(\"source\", \"Source_simple\")\n",
    "source.set_parameters(xwidth=0.01, yheight=0.035,\n",
    "                      focus_xw=7.0E-3, focus_yh=1E-2, dist=1,\n",
    "                      lambda0=4.5, dlambda=4.0, flux=1E13)"
   ]
  },
  {
   "cell_type": "code",
   "execution_count": null,
   "id": "entitled-chicken",
   "metadata": {},
   "outputs": [],
   "source": [
    "quiz.question_15(instrument)"
   ]
  },
  {
   "cell_type": "markdown",
   "id": "intimate-humanitarian",
   "metadata": {},
   "source": [
    "### Question 16\n",
    "Next we add two geometries, the twinned sample and an aluminium holder. The sample should be a small cylinder with the sample material placed relative to the source and 1 m after. The dimensions should be 3 mm radius and 1 cm height.\n",
    "\n",
    "The aluminum holder should be a box that use the aluminium material defined earlier and be placed so that it is overlapping the sample slightly and holds the sample from either the left or right side (+/- x). In the overlapping region, the sample should be simulated, imagine a little groove was cut into the aluminium that the sample rests in."
   ]
  },
  {
   "cell_type": "code",
   "execution_count": null,
   "id": "stretch-collection",
   "metadata": {},
   "outputs": [],
   "source": [
    "# Your code here\n",
    "sample_geometry = instrument.add_component(\"sample_geometry\", \"Union_cylinder\")\n",
    "sample_geometry.set_parameters(radius=3E-3, yheight=1E-2,\n",
    "                               material_string='\"Sample\"', priority=100)\n",
    "sample_geometry.set_AT([0,0,1], RELATIVE=source)\n",
    "\n",
    "sample_holder = instrument.add_component(\"holder\", \"Union_box\")\n",
    "sample_holder.set_parameters(xwidth=2E-3, yheight=5E-2, zdepth=1E-2,\n",
    "                             priority=50, material_string='\"Al\"')\n",
    "sample_holder.set_AT([3.8E-3, 1.8E-2, 0], RELATIVE=sample_geometry)"
   ]
  },
  {
   "cell_type": "code",
   "execution_count": null,
   "id": "drawn-bermuda",
   "metadata": {},
   "outputs": [],
   "source": [
    "quiz.question_16(instrument)"
   ]
  },
  {
   "cell_type": "markdown",
   "id": "backed-yugoslavia",
   "metadata": {},
   "source": [
    "To visualize the geometry a logger component is added, here for the *zx* plane."
   ]
  },
  {
   "cell_type": "code",
   "execution_count": null,
   "id": "healthy-sociology",
   "metadata": {},
   "outputs": [],
   "source": [
    "logger_zx = instrument.add_component(\"logger_space_zx\", \"Union_logger_2D_space\")\n",
    "logger_zx.set_parameters(D_direction_1='\"z\"', D1_min=-0.01, D1_max=0.01, n1=300,\n",
    "                         D_direction_2='\"x\"', D2_min=-0.01, D2_max=0.01, n2=300,\n",
    "                         filename='\"logger_zx.dat\"')"
   ]
  },
  {
   "cell_type": "markdown",
   "id": "guided-vertical",
   "metadata": {},
   "source": [
    "### Question 17\n",
    "Use *set_RELATIVE* to place the logger at the same position as your sample. \n",
    "\n",
    "\n",
    "Add two copies of the logger with *zy* and *xy* as the directions and use the same placement."
   ]
  },
  {
   "cell_type": "code",
   "execution_count": null,
   "id": "formal-ranking",
   "metadata": {},
   "outputs": [],
   "source": [
    "# Your code here\n",
    "logger_zx.set_RELATIVE(sample_geometry)\n",
    "\n",
    "logger_zy = instrument.add_component(\"logger_space_zy\", \"Union_logger_2D_space\",\n",
    "                                     RELATIVE=sample_geometry)\n",
    "logger_zy.set_parameters(D_direction_1='\"z\"', D1_min=-0.01, D1_max=0.01, n1=300,\n",
    "                         D_direction_2='\"y\"', D2_min=-0.01, D2_max=0.01, n2=300,\n",
    "                         filename='\"logger_zy.dat\"')\n",
    "\n",
    "logger_xy = instrument.add_component(\"logger_space_xy\", \"Union_logger_2D_space\",\n",
    "                                     RELATIVE=sample_geometry)\n",
    "logger_xy.set_parameters(D_direction_1='\"x\"', D1_min=-0.01, D1_max=0.01, n1=300,\n",
    "                         D_direction_2='\"y\"', D2_min=-0.01, D2_max=0.01, n2=300,\n",
    "                         filename='\"logger_xy.dat\"') "
   ]
  },
  {
   "cell_type": "code",
   "execution_count": null,
   "id": "liberal-pantyhose",
   "metadata": {},
   "outputs": [],
   "source": [
    "quiz.question_17(instrument)"
   ]
  },
  {
   "cell_type": "markdown",
   "id": "found-sierra",
   "metadata": {},
   "source": [
    "### Question 18\n",
    "Update your instrument to include a Union_master component."
   ]
  },
  {
   "cell_type": "code",
   "execution_count": null,
   "id": "popular-symbol",
   "metadata": {},
   "outputs": [],
   "source": [
    "# Your code here\n",
    "instrument.add_component(\"master\", \"Union_master\")"
   ]
  },
  {
   "cell_type": "code",
   "execution_count": null,
   "id": "heavy-album",
   "metadata": {},
   "outputs": [],
   "source": [
    "quiz.question_18(instrument)"
   ]
  },
  {
   "cell_type": "markdown",
   "id": "micro-opposition",
   "metadata": {},
   "source": [
    "Since this tutorial is about the Union components, the monitors are added here to save some time."
   ]
  },
  {
   "cell_type": "code",
   "execution_count": null,
   "id": "human-madison",
   "metadata": {},
   "outputs": [],
   "source": [
    "# sample_object = ... # Provide the name of your sample object here\n",
    "\n",
    "sample_object = sample_geometry\n",
    "monitor = instrument.add_component(\"sphere_PSD\", \"PSD_monitor_4PI\")\n",
    "monitor.set_AT(0, RELATIVE=sample_object)\n",
    "monitor.set_parameters(radius=0.5, filename='\"psd_4PI.dat\"', restore_neutron=1, nx=360, ny=180)\n",
    "\n",
    "monitor = instrument.add_component(\"PSD\", \"PSD_monitor\")\n",
    "monitor.set_AT(0.3, RELATIVE=sample_object)\n",
    "monitor.set_parameters(xwidth=0.8, yheight=0.8, nx=300, ny=300,\n",
    "                       filename='\"psd.dat\"', restore_neutron=1)\n",
    "\n",
    "L_monitor = instrument.add_component(\"L_monitor\", \"L_monitor\")\n",
    "L_monitor.set_AT(0.3, RELATIVE=sample_object)\n",
    "L_monitor.set_parameters(xwidth=0.8, yheight=0.8, Lmin=0.5, Lmax=8.5, nL=300,\n",
    "                       filename='\"l_mon.dat\"', restore_neutron=1)"
   ]
  },
  {
   "cell_type": "markdown",
   "id": "printable-philosophy",
   "metadata": {},
   "source": [
    "### Understanding the constructed instrument\n",
    "Before running simulations, lets take a look at the instrument object with the *show_diagram* method. The green lines denote connections between Union components. It should be clear that each process is used in a material, and that each geometry uses a material definition. The dashed arrow show which geometries are picked up by the *Union_master* component."
   ]
  },
  {
   "cell_type": "code",
   "execution_count": null,
   "id": "excited-hello",
   "metadata": {},
   "outputs": [],
   "source": [
    "instrument.show_diagram()"
   ]
  },
  {
   "cell_type": "markdown",
   "id": "sharp-brush",
   "metadata": {},
   "source": [
    "## Performing a simulation with Union components\n",
    "Now that you have prepared the instrument we can start to use it for simulations. Run the simulation with at least 5E6 neutrons."
   ]
  },
  {
   "cell_type": "code",
   "execution_count": null,
   "id": "italic-amount",
   "metadata": {},
   "outputs": [],
   "source": [
    "%matplotlib widget\n",
    "import mcstasscript.jb_interface as ms_widget\n",
    "ms_widget.show(instrument)"
   ]
  },
  {
   "cell_type": "markdown",
   "id": "insured-spelling",
   "metadata": {},
   "source": [
    "### Question 19\n",
    "How large does the *twin_x* parameter have to be before the results change significantly on the PSD monitor?"
   ]
  },
  {
   "cell_type": "code",
   "execution_count": null,
   "id": "charged-badge",
   "metadata": {},
   "outputs": [],
   "source": [
    "quiz.question_19(0.605) # clear seperation of peaks at 0.8 deg, allowed interval 0.6 to 1.2"
   ]
  },
  {
   "cell_type": "markdown",
   "id": "suffering-coast",
   "metadata": {},
   "source": [
    "### Question 20\n",
    "Which of the three twin angles have the least impact on the results on the L_monitor? It is assumed the other two are kept close to 0.\n",
    "- A: twin_x\n",
    "- B: twin_y\n",
    "- C: twin_z"
   ]
  },
  {
   "cell_type": "code",
   "execution_count": null,
   "id": "transsexual-perspective",
   "metadata": {},
   "outputs": [],
   "source": [
    "quiz.question_20(\"C\")"
   ]
  },
  {
   "cell_type": "markdown",
   "id": "tender-simulation",
   "metadata": {},
   "source": [
    "### Wavelength control\n",
    "In the next cell we will add controls over the wavelength range of the source. Supply your source object."
   ]
  },
  {
   "cell_type": "code",
   "execution_count": null,
   "id": "dependent-phase",
   "metadata": {},
   "outputs": [],
   "source": [
    "# source = my_source_object\n",
    "source.lambda0 = instrument.add_parameter(\"wavelength_center\", value=4.5,\n",
    "                                          comment=\"Center of wavelength range [Å]\")\n",
    "source.dlambda = instrument.add_parameter(\"wavelength_half_width\", value=4.0,\n",
    "                                          comment=\"Half width of wavelength interval [Å]\")\n",
    "\n",
    "# Updating Lmonitor as well\n",
    "L_monitor.Lmin = \"wavelength_center - wavelength_half_width\"\n",
    "L_monitor.Lmax = \"wavelength_center + wavelength_half_width\""
   ]
  },
  {
   "cell_type": "code",
   "execution_count": null,
   "id": "higher-parliament",
   "metadata": {},
   "outputs": [],
   "source": [
    "ms_widget.show(instrument)"
   ]
  },
  {
   "cell_type": "markdown",
   "id": "liquid-valve",
   "metadata": {},
   "source": [
    "### Question 21\n",
    "Use the L_monitor data to select peaks to investigate with a narrow wavelength band around them.\n",
    "\n",
    "In the question below, enter the center of the wavelength range selected and the number of aluminium bragg peaks visible in returned data."
   ]
  },
  {
   "cell_type": "code",
   "execution_count": null,
   "id": "fundamental-hardwood",
   "metadata": {},
   "outputs": [],
   "source": [
    "quiz.question_21(7.84, 0)"
   ]
  },
  {
   "cell_type": "markdown",
   "id": "virgin-entertainment",
   "metadata": {},
   "source": [
    "### Solution for question 21\n",
    "- 2.55 +/- 0.1 : 2 forward 1 backward for Al, bragg peak hits sample holder on side\n",
    "- 3.55 +/- 0.1 : 2 backward for Al, Bragg peak hits side and Al backscatters to crystal, creating line segments\n",
    "- 3.86 +/- 0.1 : 2 backward for Al, Bragg peak hits side and Al backscatters to crystal, creating line segments\n",
    "- 7.84 +/- 0.1 : 0 peaks for Al, perfect back scattering from sample"
   ]
  },
  {
   "cell_type": "code",
   "execution_count": null,
   "id": "running-reservoir",
   "metadata": {},
   "outputs": [],
   "source": []
  }
 ],
 "metadata": {
  "kernelspec": {
   "display_name": "Python 3",
   "language": "python",
   "name": "python3"
  },
  "language_info": {
   "codemirror_mode": {
    "name": "ipython",
    "version": 3
   },
   "file_extension": ".py",
   "mimetype": "text/x-python",
   "name": "python",
   "nbconvert_exporter": "python",
   "pygments_lexer": "ipython3",
   "version": "3.8.8"
  }
 },
 "nbformat": 4,
 "nbformat_minor": 5
}
