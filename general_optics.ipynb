{
 "cells": [
  {
   "cell_type": "markdown",
   "id": "center-heater",
   "metadata": {},
   "source": [
    "# General rectangular guides in McStasScript\n",
    "This notebook shows how to create neutron guides from arbitrary python functions from many rectangular segments. It uses McStasScript to create the instrument and a function to add the optics."
   ]
  },
  {
   "cell_type": "code",
   "execution_count": null,
   "id": "local-serve",
   "metadata": {},
   "outputs": [],
   "source": [
    "import mcstasscript as ms\n",
    "import numpy as np"
   ]
  },
  {
   "cell_type": "markdown",
   "id": "acute-monthly",
   "metadata": {},
   "source": [
    "This functions adds the optics given:\n",
    "- instrument object: McStasScript instrument object\n",
    "- name: str\n",
    "- point_array: numpy array describing segment start and end points\n",
    "- m_array: float or numpy array with m coatings for each segment, length one less than point_array\n",
    "- reference: reference to place guide relative too, default ABSOLUTE\n",
    "- width: python function describing the width of the guide as a function of point_array distance\n",
    "- height: python function describing the height\n",
    "- top: python function describing top (overwritten by height)\n",
    "- left: python function describing left side (overwritten by width)\n",
    "- right: python function describing right side (overwritten by width)\n",
    "- bottom: python function describing bottom (overwritten by height)\n",
    "\n",
    "This input scheme allows the user to choose between giving width or left/right side depending on whether the guide is symetric or not."
   ]
  },
  {
   "cell_type": "code",
   "execution_count": null,
   "id": "incorporate-arkansas",
   "metadata": {},
   "outputs": [],
   "source": [
    "def add_optics(instrument, name, point_array, m_array, reference=\"ABSOLUTE\", width=None, height=None,\n",
    "               top=None, left=None, right=None, bottom=None):\n",
    "    \n",
    "    if width is not None:\n",
    "        # If this is given, overwrite left / right\n",
    "        left = lambda z : -0.5*width(z)\n",
    "        right = lambda z : 0.5*width(z)\n",
    "\n",
    "    if height is not None:\n",
    "        # If this is given, overwrite top / bottom\n",
    "        top = lambda z : 0.5*height(z)\n",
    "        bottom = lambda z : -0.5*height(z)\n",
    "        \n",
    "    # Ensure sufficient information is given by the user\n",
    "    if top is None  or left is None or right is None or bottom is None:\n",
    "        raise ValueError(\"Not sufficient input to construct optics.\")\n",
    "    \n",
    "    # If m_array is just a number, create the appropriate array\n",
    "    if isinstance(m_array, (float, int)):\n",
    "        m_array = m_array*np.ones(len(point_array) - 1)\n",
    "        \n",
    "    # Produce arrays with start and end points, each shorter than the point_array, now corresponding to segments\n",
    "    point_array_starts = point_array[0:-1]\n",
    "    point_array_ends = point_array[1:]\n",
    "    \n",
    "    # Width corresponds to x in mcstas, but rotations around y\n",
    "    start_mid_xs = 0.5*(left(point_array_starts) + right(point_array_starts))\n",
    "    end_mid_xs = 0.5*(left(point_array_ends) + right(point_array_ends))\n",
    "    rotation_ys = np.arctan((start_mid_xs - end_mid_xs)/(point_array_ends-point_array_starts))*180/np.pi\n",
    "    rotation_ys = np.append(rotation_ys, 0)\n",
    "    start_widths = right(point_array_starts) - left(point_array_starts)\n",
    "    end_widths = right(point_array_ends) - left(point_array_ends)\n",
    "\n",
    "    # Heights corresponds to y in mcstas, but rotations around x\n",
    "    start_mid_ys = 0.5*(top(point_array_starts) + bottom(point_array_starts))        \n",
    "    end_mid_ys = 0.5*(top(point_array_ends) + bottom(point_array_ends))\n",
    "    rotation_xs = np.arctan((start_mid_ys - end_mid_ys)/(point_array_ends-point_array_starts))*180/np.pi\n",
    "    rotation_xs = np.append(rotation_xs, 0)\n",
    "    start_heights = top(point_array_starts) - bottom(point_array_starts)\n",
    "    end_heights = top(point_array_ends) - bottom(point_array_ends)\n",
    "\n",
    "    # Add segments\n",
    "    for index in range(len(point_array_starts)):    \n",
    "        start = point_array_starts[index]\n",
    "        end = point_array_ends[index]\n",
    "        \n",
    "        start_mid_x = start_mid_xs[index]\n",
    "        end_mid_x = end_mid_xs[index]\n",
    "        rotation_y = rotation_ys[index]\n",
    "        next_rotation_y = rotation_ys[index+1]        \n",
    "        effective_rotation_y = next_rotation_y - rotation_y        \n",
    "        start_width = start_widths[index]\n",
    "        end_width = end_widths[index]\n",
    "\n",
    "        start_mid_y = start_mid_ys[index]\n",
    "        end_mid_y = end_mid_ys[index]\n",
    "        rotation_x = rotation_xs[index]\n",
    "        next_rotation_x = rotation_xs[index+1]\n",
    "        effective_rotation_x = next_rotation_x - rotation_x\n",
    "        start_height = start_heights[index]\n",
    "        end_height = end_heights[index]\n",
    "        \n",
    "        length = end - start        \n",
    "        assert length > 0\n",
    "\n",
    "        # Calculate a safe distance to avoid having mirrors overlapping in corners due to rotation\n",
    "        safe_distance_x = start_height*np.sin(effective_rotation_x*np.pi/180)\n",
    "        safe_distance_y = start_width*np.sin(effective_rotation_y*np.pi/180)\n",
    "        safe_distance = np.max([safe_distance_x, safe_distance_y])\n",
    "        \n",
    "        assert safe_distance < length\n",
    "                \n",
    "        # Add Guide_gravity component to instrument file\n",
    "        comp = instrument.add_component(f\"general_optics_{name}_{index}\", \"Guide_gravity\")\n",
    "        comp.set_parameters(w1=start_width, w2=end_width, h1=start_height, h2=end_height,\n",
    "                            l=length-safe_distance-1E-6, m=m_array[index])\n",
    "        comp.set_AT([start_mid_x, start_mid_y, start], RELATIVE=reference)\n",
    "        comp.set_ROTATED([rotation_x, -rotation_y, 0], RELATIVE=reference)"
   ]
  },
  {
   "cell_type": "markdown",
   "id": "moving-quest",
   "metadata": {},
   "source": [
    "## Create the McStas instrument\n",
    "A McStasScript instrument is made to demonstrate the new functionality. First we create the instrument object."
   ]
  },
  {
   "cell_type": "code",
   "execution_count": null,
   "id": "destroyed-chambers",
   "metadata": {},
   "outputs": [],
   "source": [
    "instrument = ms.McStas_instr(\"optics\")"
   ]
  },
  {
   "cell_type": "markdown",
   "id": "friendly-librarian",
   "metadata": {},
   "source": [
    "Next we add a simple source"
   ]
  },
  {
   "cell_type": "code",
   "execution_count": null,
   "id": "constitutional-landscape",
   "metadata": {},
   "outputs": [],
   "source": [
    "source = instrument.add_component(\"source\", \"Source_simple\")\n",
    "source.set_parameters(xwidth=0.1, yheight=0.1, lambda0=5.0, dlambda=2.0)"
   ]
  },
  {
   "cell_type": "markdown",
   "id": "underlying-times",
   "metadata": {},
   "source": [
    "Define the input for the *add_optics* function:\n",
    "- Array with start points, here from 2 to 8 m from the source\n",
    "- Side function with sinus wave to create an interesting shape\n",
    "- Translated version to be the other side\n",
    "\n",
    "It is important that the functions can take and return a numpy array."
   ]
  },
  {
   "cell_type": "code",
   "execution_count": null,
   "id": "short-jonathan",
   "metadata": {},
   "outputs": [],
   "source": [
    "points = np.linspace(2, 10, 8*5+1)\n",
    "\n",
    "def side_function(z):\n",
    "    repetition_length = 8.0\n",
    "    offset = 2.0\n",
    "    return 0.01 + 0.05*np.sin((z-offset)*2*np.pi/repetition_length)\n",
    "\n",
    "def negative_side_function(z):\n",
    "    return side_function(z) - 0.02 # width of guide\n",
    "\n",
    "add_optics(instrument=instrument, name=\"wiggle\", point_array=points, m_array=4.0,\n",
    "           left=negative_side_function, right=side_function, bottom=negative_side_function, top=side_function)\n",
    "\n",
    "focus_x = abs(negative_side_function(points[0]) - side_function(points[0]))\n",
    "focus_y = abs(negative_side_function(points[0]) - side_function(points[0]))\n",
    "# Set focusing parameters of source to aim at the first element\n",
    "source.set_parameters(focus_xw=focus_x, focus_yh=focus_y, target_index=1)"
   ]
  },
  {
   "cell_type": "markdown",
   "id": "threaded-directory",
   "metadata": {},
   "source": [
    "Show instrument to ensure that the geomery is as desired."
   ]
  },
  {
   "cell_type": "code",
   "execution_count": null,
   "id": "charming-quality",
   "metadata": {},
   "outputs": [],
   "source": [
    "instrument.show_instrument()"
   ]
  },
  {
   "cell_type": "markdown",
   "id": "documented-paintball",
   "metadata": {},
   "source": [
    "Add a simple monitor after the element to see the transported beam."
   ]
  },
  {
   "cell_type": "code",
   "execution_count": null,
   "id": "modern-biography",
   "metadata": {},
   "outputs": [],
   "source": [
    "psd = instrument.add_component(\"PSD\", \"PSD_monitor\")\n",
    "psd.set_parameters(xwidth=0.1, yheight=0.1, nx=200, ny=200, filename='\"PSD.dat\"')\n",
    "psd.set_AT([0, 0, points[-1]+0.5])"
   ]
  },
  {
   "cell_type": "markdown",
   "id": "otherwise-fruit",
   "metadata": {},
   "source": [
    "Run a simulation with the *backengine* method."
   ]
  },
  {
   "cell_type": "code",
   "execution_count": null,
   "id": "filled-saturday",
   "metadata": {},
   "outputs": [],
   "source": [
    "instrument.settings(5*1E6)\n",
    "data = instrument.backengine()"
   ]
  },
  {
   "cell_type": "markdown",
   "id": "numerical-therapist",
   "metadata": {},
   "source": [
    "Plot the resulting data to see the beam could be transferred through the guide."
   ]
  },
  {
   "cell_type": "code",
   "execution_count": null,
   "id": "streaming-trinity",
   "metadata": {},
   "outputs": [],
   "source": [
    "ms.make_sub_plot(data)"
   ]
  },
  {
   "cell_type": "code",
   "execution_count": null,
   "id": "purple-brother",
   "metadata": {},
   "outputs": [],
   "source": []
  }
 ],
 "metadata": {
  "kernelspec": {
   "display_name": "Python 3",
   "language": "python",
   "name": "python3"
  },
  "language_info": {
   "codemirror_mode": {
    "name": "ipython",
    "version": 3
   },
   "file_extension": ".py",
   "mimetype": "text/x-python",
   "name": "python",
   "nbconvert_exporter": "python",
   "pygments_lexer": "ipython3",
   "version": "3.8.8"
  }
 },
 "nbformat": 4,
 "nbformat_minor": 5
}
