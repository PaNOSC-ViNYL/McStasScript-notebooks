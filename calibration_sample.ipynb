{
 "cells": [
  {
   "cell_type": "markdown",
   "metadata": {},
   "source": [
    "### Demonstration of McStasScript\n",
    "Here the McStasScript Python McStas API is demonstrated by creating a small simulation with an imaging calibration sample. A python function is defined in order to ease the task of adding the many materials, and a for loop is used for arranging the smaller cylinders which are embedded in a larger Aluminium cylinder. This demonstration will use widgets to control the simulation."
   ]
  },
  {
   "cell_type": "code",
   "execution_count": 1,
   "metadata": {},
   "outputs": [],
   "source": [
    "import math\n",
    "%matplotlib widget\n",
    "\n",
    "# Import McstasScript\n",
    "import mcstasscript as ms\n",
    "\n",
    "# Create a McStas instrument\n",
    "instr = ms.McStas_instr(\"calibration_sample\", author = \"Mads Bertelsen\", origin = \"ESS DMSC\")"
   ]
  },
  {
   "cell_type": "markdown",
   "metadata": {},
   "source": [
    "### Adding powder material definitions\n",
    "Here we will be adding a few powder material definitions, and it is thus easier to create a small python function for the task. Normally the syntax would be like this for each material:\n",
    "\n",
    "```\n",
    "Al_inc = instr.add_component(\"Al_inc\",\"Incoherent_process\")\n",
    "Al_pow = instr.add_component(\"Al_pow\",\"Powder_process\")\n",
    "Al_inc.sigma = 4*0.0082 # Incoherent cross section in Barns\n",
    "Al_inc.unit_cell_volume = 66.4 # Unit cell volume in AA^3\n",
    "Al_pow.reflections = '\"Al.laz\"' # Data file with powder lines\n",
    "Al.my_absorption = 100*4*0.231/66.4 # Inverse penetration depth in 1/m\n",
    "Al.process_string = '\"Al_inc,Al_pow\"' # Make a material with aluminium incoherent and aluminium powder\n",
    "``` "
   ]
  },
  {
   "cell_type": "code",
   "execution_count": 2,
   "metadata": {},
   "outputs": [],
   "source": [
    "def add_union_powder(name, data_name, sigma_inc, sigma_abs, unit_V, instr):\n",
    "    \"\"\"\n",
    "    This function adds a Union material with incoherent scattering and powder lines\n",
    "    \"\"\"\n",
    "    material_incoherent = instr.add_component(name + \"_inc\", \"Incoherent_process\")\n",
    "    material_incoherent.sigma = sigma_inc\n",
    "    material_incoherent.unit_cell_volume = unit_V\n",
    "    material_powder = instr.add_component(name + \"_pow\", \"Powder_process\")\n",
    "    material_powder.reflections = '\"' + data_name + '\"'  # Need quotes when describing a filename\n",
    "    material = instr.add_component(name,\"Union_make_material\")\n",
    "    material.my_absorption = 100.0*sigma_abs/unit_V\n",
    "    material.process_string = '\"' + name + \"_inc,\" + name + \"_pow\" + '\"'\n",
    "    \n",
    "# Add a number of standard powders to our instrument (datafiles included with McStas)\n",
    "add_union_powder(\"Al\", \"Al.laz\", 4*0.0082, 4*0.231, 66.4, instr)\n",
    "add_union_powder(\"Cu\", \"Cu.laz\", 4*0.55, 4*3.78, 47.24, instr)\n",
    "add_union_powder(\"Ni\", \"Ni.laz\", 4*5.2, 4*4.49, 43.76, instr)\n",
    "add_union_powder(\"Ti\", \"Ti.laz\", 2*2.87, 2*6.09, 35.33, instr)\n",
    "add_union_powder(\"Pb\", \"Pb.laz\", 4*0.003, 4*0.17, 121.29, instr)\n",
    "add_union_powder(\"Fe\", \"Fe.laz\", 2*0.4, 2*2.56, 24.04, instr)"
   ]
  },
  {
   "cell_type": "markdown",
   "metadata": {},
   "source": [
    "### Describing a simple instrument\n",
    "Now we start describing an instrument, we start with the source. We would like to control the energy and energy spread at run time, so this will be described using input parameters. These are added with the *add_parameter* method, which return a ParameterVariable object that can be used to refer to this variable."
   ]
  },
  {
   "cell_type": "code",
   "execution_count": 3,
   "metadata": {},
   "outputs": [],
   "source": [
    "# Since we want to change the energy and energy range at run time, we add these as instrument parameters\n",
    "energy = instr.add_parameter(\"energy\", value=10, comment=\"[meV] Energy of source\")\n",
    "delta_energy = instr.add_parameter(\"delta_energy\", value=8, comment=\"[meV] Energy spread of source\")\n",
    "\n",
    "# Add a source to the McStas instrument\n",
    "src = instr.add_component(\"source\", \"Source_div\")\n",
    "src.set_parameters(xwidth=0.11, yheight=0.11, focus_aw=0.1, focus_ah=0.1, flux=1E13, E0=energy, dE=delta_energy)"
   ]
  },
  {
   "cell_type": "markdown",
   "metadata": {},
   "source": [
    "The source will illuminate the sample directly, but we may want to rotate the sample in its place. We define rotations around vertical and horizontal as further input parameters, and set up a few arms to act as reference points."
   ]
  },
  {
   "cell_type": "code",
   "execution_count": 4,
   "metadata": {},
   "outputs": [],
   "source": [
    "# Now we want to set a position and rotation of our sample\n",
    "# The rotation should be adjustable, so we add instrument parameters for controling the rotation\n",
    "rot_y = instr.add_parameter(\"rotation_y\", value=180, comment=\"[deg] Rotation around vertical\")\n",
    "rot_x = instr.add_parameter(\"rotation_x\", value=0, comment=\"[deg] Rotation around horizontal\")"
   ]
  },
  {
   "cell_type": "code",
   "execution_count": 5,
   "metadata": {},
   "outputs": [],
   "source": [
    "# We add arms at the sample position, and a second arm with the correct rotation\n",
    "sample_pos = instr.add_component(\"sample_pos\", \"Arm\", AT=[0, 0, 1], AT_RELATIVE=src)\n",
    "sample_arm = instr.add_component(\"sample_arm\", \"Arm\", AT=[0, 0, 0], AT_RELATIVE=sample_pos)\n",
    "sample_arm.set_ROTATED([rot_x, rot_y, 0], RELATIVE=sample_pos)"
   ]
  },
  {
   "cell_type": "markdown",
   "metadata": {},
   "source": [
    "### Adding the sample\n",
    "The aim is to create a simple calibration sample which is made from cylinders of different materials embedded in a larger cylinder. To do so, we will need the McStas Union_cylinder component, so lets get a bit of help on its parameters."
   ]
  },
  {
   "cell_type": "code",
   "execution_count": 6,
   "metadata": {},
   "outputs": [
    {
     "name": "stdout",
     "output_type": "stream",
     "text": [
      " ___ Help Union_cylinder ____________________________________________________________\n",
      "|\u001b[1moptional parameter\u001b[0m|\u001b[1m\u001b[4mrequired parameter\u001b[0m\u001b[0m|\u001b[1m\u001b[94mdefault value\u001b[0m\u001b[0m|\u001b[1m\u001b[92muser specified value\u001b[0m\u001b[0m|\n",
      "\u001b[1mmaterial_string\u001b[0m = \u001b[1m\u001b[94m0\u001b[0m\u001b[0m [] // material name of this volume, defined using \n",
      "                          Union_make_material \n",
      "\u001b[4m\u001b[1mpriority\u001b[0m\u001b[0m [1] // priotiry of the volume (can not be the same as another volume) \n",
      "                A high priority is on top of low. \n",
      "\u001b[4m\u001b[1mradius\u001b[0m\u001b[0m [m] // Outer radius volume in (x,z) plane\n",
      "\u001b[4m\u001b[1myheight\u001b[0m\u001b[0m [m] // Cylinder height in (y) direction\n",
      "\u001b[1mvisualize\u001b[0m = \u001b[1m\u001b[94m1.0\u001b[0m\u001b[0m [1] // set to 0 if you wish to hide this geometry in mcdisplay\n",
      "\u001b[1mtarget_index\u001b[0m = \u001b[1m\u001b[94m0\u001b[0m\u001b[0m [1] // Relative index of component to focus at, e.g. next is +1\n",
      "\u001b[1mtarget_x\u001b[0m = \u001b[1m\u001b[94m0.0\u001b[0m\u001b[0m [m]\n",
      "\u001b[1mtarget_y\u001b[0m = \u001b[1m\u001b[94m0.0\u001b[0m\u001b[0m [m] // Position of target to focus at\n",
      "\u001b[1mtarget_z\u001b[0m = \u001b[1m\u001b[94m0.0\u001b[0m\u001b[0m [m]\n",
      "\u001b[1mfocus_aw\u001b[0m = \u001b[1m\u001b[94m0.0\u001b[0m\u001b[0m [deg] // horiz. angular dimension of a rectangular area\n",
      "\u001b[1mfocus_ah\u001b[0m = \u001b[1m\u001b[94m0.0\u001b[0m\u001b[0m [deg] // vert. angular dimension of a rectangular area\n",
      "\u001b[1mfocus_xw\u001b[0m = \u001b[1m\u001b[94m0.0\u001b[0m\u001b[0m [m] // horiz. dimension of a rectangular area\n",
      "\u001b[1mfocus_xh\u001b[0m = \u001b[1m\u001b[94m0.0\u001b[0m\u001b[0m [m] // vert. dimension of a rectangular area\n",
      "\u001b[1mfocus_r\u001b[0m = \u001b[1m\u001b[94m0.0\u001b[0m\u001b[0m [m] // focusing on circle with this radius\n",
      "\u001b[1mp_interact\u001b[0m = \u001b[1m\u001b[94m0.0\u001b[0m\u001b[0m [1] // probability to interact with this geometry [0-1]\n",
      "\u001b[1mmask_string\u001b[0m = \u001b[1m\u001b[94m0\u001b[0m\u001b[0m [] // Comma seperated list of geometry names which this \n",
      "                      geometry should mask \n",
      "\u001b[1mmask_setting\u001b[0m = \u001b[1m\u001b[94m0\u001b[0m\u001b[0m [] // \"All\" or \"Any\", should the masked volume be simulated \n",
      "                       when the ray is in just one mask, or all. \n",
      "\u001b[1mnumber_of_activations\u001b[0m = \u001b[1m\u001b[94m1.0\u001b[0m\u001b[0m [1] // Number of subsequent Union_master components \n",
      "                                   that will simulate this geometry \n",
      "-------------------------------------------------------------------------------------\n"
     ]
    }
   ],
   "source": [
    "instr.component_help(\"Union_cylinder\")"
   ]
  },
  {
   "cell_type": "code",
   "execution_count": 7,
   "metadata": {},
   "outputs": [
    {
     "name": "stdout",
     "output_type": "stream",
     "text": [
      "COMPONENT base_cyl = Union_cylinder\n",
      "  \u001b[1mmaterial_string\u001b[0m = \u001b[1m\u001b[92m\"Al\"\u001b[0m\u001b[0m []\n",
      "  \u001b[1mpriority\u001b[0m = \u001b[1m\u001b[92m100\u001b[0m\u001b[0m [1]\n",
      "  \u001b[1mradius\u001b[0m = \u001b[1m\u001b[92m0.04\u001b[0m\u001b[0m [m]\n",
      "  \u001b[1myheight\u001b[0m = \u001b[1m\u001b[92m0.02\u001b[0m\u001b[0m [m]\n",
      "AT [0, 0, 0] RELATIVE sample_arm\n"
     ]
    }
   ],
   "source": [
    "# We add the large aluminium base that contains samples of the remaining materials\n",
    "base_cyl = instr.add_component(\"base_cyl\",\"Union_cylinder\", RELATIVE=sample_arm)\n",
    "base_cyl.set_parameters(radius=0.04, yheight=0.02, priority=100, material_string='\"Al\"')\n",
    "print(base_cyl)"
   ]
  },
  {
   "cell_type": "markdown",
   "metadata": {},
   "source": [
    "Next the internal cylinders are added. We use a small python for loop to add a cylinder of each material in succession. We add an additional sample with material chosen by the user from a list of our defined materials."
   ]
  },
  {
   "cell_type": "code",
   "execution_count": 8,
   "metadata": {},
   "outputs": [],
   "source": [
    "# We define a string containing the names of the materials we wish to add\n",
    "instr.add_parameter(\"string\", \"material\", value='\"Pb\"',\n",
    "                    comment=\"Material choice for extra material sample\",\n",
    "                    options=['\"Cu\"', '\"Ni\"', '\"Ti\"', '\"Pb\"', '\"Fe\"', '\"Al\"'])\n",
    "\n",
    "sample_strings = [\"Cu\", \"Ni\", \"Ti\", \"Pb\", \"Fe\", \"material\"]"
   ]
  },
  {
   "cell_type": "code",
   "execution_count": 9,
   "metadata": {},
   "outputs": [],
   "source": [
    "# Here we write a for loop that adds a small cylinder of this material inside the large Al cylinder\n",
    "angle_seperation = 36\n",
    "distance_from_center = 0.03\n",
    "sample_radius = 0.007\n",
    "counter = 0\n",
    "for sample_string in sample_strings:\n",
    "    x_position = distance_from_center * math.cos(counter*angle_seperation*3.14159/180)\n",
    "    x_position = round(x_position, 5) # round to 4 digits for easier printing\n",
    "    z_position = distance_from_center * math.sin(counter*angle_seperation*3.14159/180)\n",
    "    z_position = round(z_position, 5) # round to 4 digits for easier printing\n",
    "    this_sample = instr.add_component(sample_string + \"_cyl\", \"Union_cylinder\",\n",
    "                                      AT=[x_position, 0, z_position], RELATIVE=base_cyl)\n",
    "    this_sample.radius = sample_radius;\n",
    "    this_sample.yheight = 0.019; # yheight must be different from base_cyl\n",
    "    this_sample.priority = 150 + counter; # ensure higher priority than base\n",
    "    if sample_string != \"material\":\n",
    "        this_sample.material_string = '\"' + sample_string + '\"'\n",
    "    else:\n",
    "        # The user selectable material is a parameter, where the remaining are treated as strings.\n",
    "        this_sample.material_string = sample_string\n",
    "    counter = counter + 1"
   ]
  },
  {
   "cell_type": "markdown",
   "metadata": {},
   "source": [
    "### Union Loggers for seeing scattering intensity in the sample\n",
    "Now that the sample has been defined, a few loggers are added to investigate where neutrons are scattered within the sample."
   ]
  },
  {
   "cell_type": "code",
   "execution_count": 10,
   "metadata": {},
   "outputs": [],
   "source": [
    "# A few Union loggers are set up for display of the scattering locations\n",
    "space_2D_zx = instr.add_component(\"logger_space_zx_all\", \"Union_logger_2D_space\", AT_RELATIVE=sample_pos)\n",
    "space_2D_zx.set_parameters(filename='\"space_zx.dat\"',\n",
    "                           D_direction_1='\"z\"', n1=1000, D1_min=-0.05, D1_max=0.05,\n",
    "                           D_direction_2='\"x\"', n2=1000, D2_min=-0.05, D2_max=0.05)\n",
    "\n",
    "space_2D_zy = instr.add_component(\"logger_space_zy_all\", \"Union_logger_2D_space\", AT_RELATIVE=sample_pos)\n",
    "space_2D_zy.set_parameters(filename='\"space_zy.dat\"',\n",
    "                           D_direction_1='\"z\"', n1=1000, D1_min=-0.05, D1_max=0.05,\n",
    "                           D_direction_2='\"y\"', n2=1000, D2_min=-0.05, D2_max=0.05)\n",
    "\n",
    "space_2D_zy = instr.add_component(\"logger_space_xy_all\", \"Union_logger_2D_space\", AT_RELATIVE=sample_pos)\n",
    "space_2D_zy.set_parameters(filename='\"space_xy.dat\"',\n",
    "                           D_direction_1='\"x\"', n1=1000, D1_min=-0.05, D1_max=0.05,\n",
    "                           D_direction_2='\"y\"', n2=1000, D2_min=-0.05, D2_max=0.05)"
   ]
  },
  {
   "cell_type": "markdown",
   "metadata": {},
   "source": [
    "### The Union master component\n",
    "The Union master component is what will do the simulation of the collected calibration sample. It takes all the material information and physical volumes that we have described, and runs a simulation with full multiple scattering."
   ]
  },
  {
   "cell_type": "code",
   "execution_count": 11,
   "metadata": {},
   "outputs": [],
   "source": [
    "master = instr.add_component(\"calibration_sample\", \"Union_master\", AT_relative=sample_pos)"
   ]
  },
  {
   "cell_type": "markdown",
   "metadata": {},
   "source": [
    "### McStas monitors\n",
    "At the end we add a few McStas monitors to view the transmitted beam, including a PSD / energy monitor to see the Bragg edges of the different materials. Notice in the EPSD monitor we use the input parameters in a small C expression to calculate the minimum and maximum energy simulated by the source."
   ]
  },
  {
   "cell_type": "code",
   "execution_count": 12,
   "metadata": {},
   "outputs": [],
   "source": [
    "# Add position sensitive detector for transmission measurement\n",
    "PSD = instr.add_component(\"PSD\", \"PSD_monitor\", AT=[0,0,1], RELATIVE=sample_pos) \n",
    "PSD.set_parameters(filename='\"PSD.dat\"', xwidth=0.1, yheight=0.1, nx=200, ny=200, restore_neutron=1)"
   ]
  },
  {
   "cell_type": "code",
   "execution_count": 13,
   "metadata": {},
   "outputs": [],
   "source": [
    "# Adds 1D position sensitive detector for transmission measurement\n",
    "PSD = instr.add_component(\"PSDlin\", \"PSDlin_monitor\", AT=[0,0,1], RELATIVE=sample_pos) \n",
    "PSD.set_parameters(filename='\"PSDlin.dat\"', xwidth=0.1, yheight=0.1, nx=200, restore_neutron=1)"
   ]
  },
  {
   "cell_type": "code",
   "execution_count": 14,
   "metadata": {},
   "outputs": [],
   "source": [
    "# Add energy position monitor to see Bragg edges\n",
    "EPSD = instr.add_component(\"EPSD\", \"EPSD_monitor\", RELATIVE=PSD)\n",
    "EPSD.set_parameters(filename='\"EPSD.dat\"', xwidth=0.1, yheight=0.02, nE=300, nx=200, restore_neutron=1,\n",
    "                    Emin=\"energy - delta_energy\", Emax=\"energy + delta_energy\")"
   ]
  },
  {
   "cell_type": "markdown",
   "metadata": {},
   "source": [
    "### Last check \n",
    "Before running the McStas simulation we do a last check to see that the McStas instrument looks as we expect. First the components are listed with their locations and rotations, then the available parameters are shown."
   ]
  },
  {
   "cell_type": "code",
   "execution_count": 15,
   "metadata": {
    "scrolled": false
   },
   "outputs": [
    {
     "name": "stdout",
     "output_type": "stream",
     "text": [
      "Al_inc              Incoherent_process    AT      (0, 0, 0)                   ABSOLUTE           \n",
      "Al_pow              Powder_process        AT      (0, 0, 0)                   ABSOLUTE           \n",
      "Al                  Union_make_material   AT      (0, 0, 0)                   ABSOLUTE           \n",
      "Cu_inc              Incoherent_process    AT      (0, 0, 0)                   ABSOLUTE           \n",
      "Cu_pow              Powder_process        AT      (0, 0, 0)                   ABSOLUTE           \n",
      "Cu                  Union_make_material   AT      (0, 0, 0)                   ABSOLUTE           \n",
      "Ni_inc              Incoherent_process    AT      (0, 0, 0)                   ABSOLUTE           \n",
      "Ni_pow              Powder_process        AT      (0, 0, 0)                   ABSOLUTE           \n",
      "Ni                  Union_make_material   AT      (0, 0, 0)                   ABSOLUTE           \n",
      "Ti_inc              Incoherent_process    AT      (0, 0, 0)                   ABSOLUTE           \n",
      "Ti_pow              Powder_process        AT      (0, 0, 0)                   ABSOLUTE           \n",
      "Ti                  Union_make_material   AT      (0, 0, 0)                   ABSOLUTE           \n",
      "Pb_inc              Incoherent_process    AT      (0, 0, 0)                   ABSOLUTE           \n",
      "Pb_pow              Powder_process        AT      (0, 0, 0)                   ABSOLUTE           \n",
      "Pb                  Union_make_material   AT      (0, 0, 0)                   ABSOLUTE           \n",
      "Fe_inc              Incoherent_process    AT      (0, 0, 0)                   ABSOLUTE           \n",
      "Fe_pow              Powder_process        AT      (0, 0, 0)                   ABSOLUTE           \n",
      "Fe                  Union_make_material   AT      (0, 0, 0)                   ABSOLUTE           \n",
      "source              Source_div            AT      (0, 0, 0)                   ABSOLUTE           \n",
      "sample_pos          Arm                   AT      (0, 0, 1)                   RELATIVE source    \n",
      "sample_arm          Arm                   AT      (0, 0, 0)                   RELATIVE sample_pos \n",
      "                                          ROTATED (rotation_x, rotation_y, 0) RELATIVE sample_pos\n",
      "base_cyl            Union_cylinder        AT      (0, 0, 0)                   RELATIVE sample_arm\n",
      "Cu_cyl              Union_cylinder        AT      (0.03, 0, 0.0)              RELATIVE base_cyl  \n",
      "Ni_cyl              Union_cylinder        AT      (0.02427, 0, 0.01763)       RELATIVE base_cyl  \n",
      "Ti_cyl              Union_cylinder        AT      (0.00927, 0, 0.02853)       RELATIVE base_cyl  \n",
      "Pb_cyl              Union_cylinder        AT      (-0.00927, 0, 0.02853)      RELATIVE base_cyl  \n",
      "Fe_cyl              Union_cylinder        AT      (-0.02427, 0, 0.01763)      RELATIVE base_cyl  \n",
      "material_cyl        Union_cylinder        AT      (-0.03, 0, 0.0)             RELATIVE base_cyl  \n",
      "logger_space_zx_all Union_logger_2D_space AT      (0, 0, 0)                   RELATIVE sample_pos\n",
      "logger_space_zy_all Union_logger_2D_space AT      (0, 0, 0)                   RELATIVE sample_pos\n",
      "logger_space_xy_all Union_logger_2D_space AT      (0, 0, 0)                   RELATIVE sample_pos\n",
      "calibration_sample  Union_master          AT      (0, 0, 0)                   ABSOLUTE           \n",
      "PSD                 PSD_monitor           AT      (0, 0, 1)                   RELATIVE sample_pos\n",
      "PSDlin              PSDlin_monitor        AT      (0, 0, 1)                   RELATIVE sample_pos\n",
      "EPSD                EPSD_monitor          AT      (0, 0, 0)                   RELATIVE PSDlin    \n"
     ]
    }
   ],
   "source": [
    "instr.print_components(line_length=117) # Show nice overview"
   ]
  },
  {
   "cell_type": "markdown",
   "metadata": {},
   "source": [
    "### Running the simulation\n",
    "The simulation can now be performed from the Jupyter Notebook using the widget interface."
   ]
  },
  {
   "cell_type": "code",
   "execution_count": 16,
   "metadata": {},
   "outputs": [
    {
     "data": {
      "application/vnd.jupyter.widget-view+json": {
       "model_id": "49496bd5fca147568507c2e46e83bbb5",
       "version_major": 2,
       "version_minor": 0
      },
      "text/plain": [
       "VBox(children=(VBox(children=(HBox(children=(Label(value='energy', layout=Layout(height='32px', width='15%')),…"
      ]
     },
     "metadata": {},
     "output_type": "display_data"
    }
   ],
   "source": [
    "instr.interface()"
   ]
  },
  {
   "cell_type": "code",
   "execution_count": 17,
   "metadata": {
    "scrolled": false
   },
   "outputs": [
    {
     "data": {
      "text/html": [
       "\n",
       "        <iframe\n",
       "            width=\"800\"\n",
       "            height=\"450\"\n",
       "            src=\"./calibration_sample_mcdisplay/index.html\"\n",
       "            frameborder=\"0\"\n",
       "            allowfullscreen\n",
       "        ></iframe>\n",
       "        "
      ],
      "text/plain": [
       "<IPython.lib.display.IFrame at 0x7fd44255c8b0>"
      ]
     },
     "execution_count": 17,
     "metadata": {},
     "output_type": "execute_result"
    }
   ],
   "source": [
    "instr.show_instrument()"
   ]
  },
  {
   "cell_type": "markdown",
   "metadata": {},
   "source": [
    "### Getting data from the widget simulation\n",
    "It is possible to grab the latest data produced by the widget simulation. Run these cells after a simulation has been performed with the above widget."
   ]
  },
  {
   "cell_type": "code",
   "execution_count": 21,
   "metadata": {},
   "outputs": [],
   "source": [
    "data = instr.get_interface_data()"
   ]
  },
  {
   "cell_type": "code",
   "execution_count": 22,
   "metadata": {},
   "outputs": [
    {
     "data": {
      "application/vnd.jupyter.widget-view+json": {
       "model_id": "82067d65ef4242dbb8edb61cd4258f21",
       "version_major": 2,
       "version_minor": 0
      },
      "text/plain": [
       "Canvas(toolbar=Toolbar(toolitems=[('Home', 'Reset original view', 'home', 'home'), ('Back', 'Back to previous …"
      ]
     },
     "metadata": {},
     "output_type": "display_data"
    },
    {
     "name": "stdout",
     "output_type": "stream",
     "text": [
      "Plotting data with name EPSD\n"
     ]
    }
   ],
   "source": [
    "if len(data) != 0:\n",
    "    EPSD_data = ms.name_search(\"EPSD\", data)\n",
    "    ms.make_plot(EPSD_data, figsize=(9,6))"
   ]
  },
  {
   "cell_type": "markdown",
   "metadata": {},
   "source": [
    "### Using plotting interface without simulation interface\n",
    "The plotting interface can be used for existing datasets."
   ]
  },
  {
   "cell_type": "code",
   "execution_count": 23,
   "metadata": {},
   "outputs": [
    {
     "data": {
      "application/vnd.jupyter.widget-view+json": {
       "model_id": "81a2d4f387a5405894f41c144d99bef2",
       "version_major": 2,
       "version_minor": 0
      },
      "text/plain": [
       "HBox(children=(Output(layout=Layout(width='75%')), VBox(children=(Label(value='Choose monitor'), Dropdown(layo…"
      ]
     },
     "metadata": {},
     "output_type": "display_data"
    }
   ],
   "source": [
    "ms.interface(data)"
   ]
  },
  {
   "cell_type": "code",
   "execution_count": null,
   "metadata": {},
   "outputs": [],
   "source": []
  }
 ],
 "metadata": {
  "kernelspec": {
   "display_name": "Python 3",
   "language": "python",
   "name": "python3"
  },
  "language_info": {
   "codemirror_mode": {
    "name": "ipython",
    "version": 3
   },
   "file_extension": ".py",
   "mimetype": "text/x-python",
   "name": "python",
   "nbconvert_exporter": "python",
   "pygments_lexer": "ipython3",
   "version": "3.8.8"
  }
 },
 "nbformat": 4,
 "nbformat_minor": 2
}
