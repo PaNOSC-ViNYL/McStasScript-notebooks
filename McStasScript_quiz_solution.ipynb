{
 "cells": [
  {
   "cell_type": "code",
   "execution_count": 1,
   "id": "rubber-programming",
   "metadata": {},
   "outputs": [],
   "source": [
    "import quizlib\n",
    "quiz = quizlib.McStasScriptQuiz()"
   ]
  },
  {
   "cell_type": "markdown",
   "id": "appointed-stage",
   "metadata": {},
   "source": [
    "# McStasScript e-learning quiz\n",
    "This notebook contains quiz questions meant to be completed after a lecture on the McStasScript package, but can be used without. Feel free to use the McStasScript documentation as an aid, it can be found at [https://mads-bertelsen.github.io](https://mads-bertelsen.github.io)\n",
    "\n",
    "The learning goals\n",
    "- Read McStasScript code\n",
    "    - Understand instrument object\n",
    "    - Understand component object\n",
    "- Use McStasScript help features\n",
    "    - Python help feature\n",
    "    - Help methods on instrument object    \n",
    "    - Help methods on component object\n",
    "- Write McStasScript code\n",
    "    - Create an instrument object\n",
    "    - Add components to own instrument object\n",
    "    - Modify component properties\n",
    "    - Perform simulation\n",
    "    - Plot data"
   ]
  },
  {
   "cell_type": "markdown",
   "id": "christian-haven",
   "metadata": {},
   "source": [
    "## Read McStasScript code\n",
    "The first step is to just be able to read McStasScript code and understand what it describes. The cell below contains some code, read it and answer the questions about it below."
   ]
  },
  {
   "cell_type": "code",
   "execution_count": 2,
   "id": "persistent-julian",
   "metadata": {},
   "outputs": [],
   "source": [
    "import mcstasscript as ms\n",
    "instrument = ms.McStas_instr(\"demo_instrument\")\n",
    "\n",
    "source = instrument.add_component(\"Source\", \"Source_simple\")\n",
    "source.E0 = instrument.add_parameter(\"energy\", value=5, comment=\"Energy of source\")\n",
    "source.set_parameters(xwidth=0.1, yheight=0.1, dE=\"0.1*energy\",\n",
    "                      dist=2, focus_xw=0.03, focus_yh=0.03)\n",
    "\n",
    "guide = instrument.add_component(\"Guide\", \"Guide_gravity\")\n",
    "guide.set_AT([0, 0, source.dist], RELATIVE=source)\n",
    "guide.set_parameters(w1=source.focus_xw, h1=source.focus_yh, l=5, m=3)\n",
    "\n",
    "monitor = instrument.add_component(\"PSD\", \"PSD_monitor\")\n",
    "monitor.set_AT(guide.l + 0.5, RELATIVE=guide)\n",
    "monitor.set_parameters(xwidth=0.05, yheight=0.05, filename='\"psd.dat\"')"
   ]
  },
  {
   "cell_type": "markdown",
   "id": "handled-amsterdam",
   "metadata": {},
   "source": [
    "### Question 1\n",
    "How many components are inserted in the above instrument?"
   ]
  },
  {
   "cell_type": "code",
   "execution_count": 3,
   "id": "aware-jewel",
   "metadata": {},
   "outputs": [
    {
     "name": "stdout",
     "output_type": "stream",
     "text": [
      "\u001b[1m\u001b[92mCorrect!\u001b[0m\u001b[0m\n"
     ]
    }
   ],
   "source": [
    "quiz.question_1(3)"
   ]
  },
  {
   "cell_type": "markdown",
   "id": "stock-observer",
   "metadata": {},
   "source": [
    "### Question 2\n",
    "What is the distance between the source and monitor?"
   ]
  },
  {
   "cell_type": "code",
   "execution_count": 4,
   "id": "innovative-harvest",
   "metadata": {},
   "outputs": [
    {
     "name": "stdout",
     "output_type": "stream",
     "text": [
      "\u001b[1m\u001b[92mCorrect!\u001b[0m\u001b[0m\n"
     ]
    }
   ],
   "source": [
    "quiz.question_2(7.5)"
   ]
  },
  {
   "cell_type": "markdown",
   "id": "related-singing",
   "metadata": {},
   "source": [
    "### Question 3\n",
    "Select the one true statement among these:\n",
    "- A: The component objects know about the instrument\n",
    "- B: The instrument object contains component objects\n",
    "- C: The component objects need to be included in the instrument before simulation"
   ]
  },
  {
   "cell_type": "code",
   "execution_count": 5,
   "id": "immune-idaho",
   "metadata": {},
   "outputs": [
    {
     "name": "stdout",
     "output_type": "stream",
     "text": [
      "\u001b[1m\u001b[92mCorrect!\u001b[0m\u001b[0m\n",
      "Yes, the instrument contains all the defined components.\n"
     ]
    }
   ],
   "source": [
    "quiz.question_3(\"B\")"
   ]
  },
  {
   "cell_type": "markdown",
   "id": "atomic-psychology",
   "metadata": {},
   "source": [
    "## Use McStasScript help features\n",
    "\n",
    "McStasScript has a number of help features:\n",
    "- Through python features\n",
    "    - Help\n",
    "    - Print\n",
    "- Through instrument object\n",
    "    - available_components\n",
    "    - component_help (input name of component to get help on)\n",
    "    - show_parameters\n",
    "    - show_variables\n",
    "    - show_components\n",
    "    - show_diagram\n",
    "    - show_instrument\n",
    "    - show_instrument_file\n",
    "    - show_settings\n",
    "- Through component object\n",
    "    - show_parameters\n",
    "    \n",
    "Below are demonstrations of how to use a few of these on the instrument object made in the previous exercise. Play around with the help features to answer the questions below."
   ]
  },
  {
   "cell_type": "code",
   "execution_count": 6,
   "id": "regulated-chuck",
   "metadata": {},
   "outputs": [
    {
     "name": "stdout",
     "output_type": "stream",
     "text": [
      "Help on method add_parameter in module mcstasscript.interface.instr:\n",
      "\n",
      "add_parameter(*args, **kwargs) method of mcstasscript.interface.instr.McStas_instr instance\n",
      "    Method for adding input parameter to instrument\n",
      "    \n",
      "    Type does not need to be specified, McStas considers that a floating\n",
      "    point value with the type 'double'. Uses libpyvinyl Parameter object.\n",
      "    \n",
      "    Examples\n",
      "    --------\n",
      "    Creates a parameter with name wavelength and associated comment\n",
      "    add_parameter(\"wavelength\", comment=\"wavelength in [AA]\")\n",
      "    \n",
      "    Creates a parameter with name A3 and default value\n",
      "    add_parameter(\"A3\", value=30, comment=\"A3 angle in [deg]\")\n",
      "    \n",
      "    Creates a parameter with type string and name sample_name\n",
      "    add_parameter(\"string\", \"sample_name\")\n",
      "    \n",
      "    Parameters\n",
      "    ----------\n",
      "    \n",
      "    (optional) parameter type : str\n",
      "        type of input parameter, double, int, string\n",
      "    \n",
      "    parameter name : str\n",
      "        name of parameter\n",
      "    \n",
      "    keyword arguments\n",
      "        value : float, int or str\n",
      "            Default value of parameter\n",
      "    \n",
      "        unit : str\n",
      "            Unit to be displayed\n",
      "    \n",
      "        comment : str\n",
      "            Comment displayed next to declaration of parameter\n",
      "    \n",
      "        options : list or value\n",
      "            list or value of allowed values for this parameter\n",
      "\n"
     ]
    }
   ],
   "source": [
    "help(instrument.add_parameter) # Built in Python help on the add_parameter method"
   ]
  },
  {
   "cell_type": "code",
   "execution_count": 7,
   "id": "first-patient",
   "metadata": {},
   "outputs": [
    {
     "name": "stdout",
     "output_type": "stream",
     "text": [
      "Source Source_simple AT (0, 0, 0)   ABSOLUTE       \n",
      "Guide  Guide_gravity AT (0, 0, 2)   RELATIVE Source\n",
      "PSD    PSD_monitor   AT (0, 0, 5.5) RELATIVE Guide \n"
     ]
    }
   ],
   "source": [
    "instrument.show_components() # instrument help method to show the components in the instrument"
   ]
  },
  {
   "cell_type": "code",
   "execution_count": 8,
   "id": "atlantic-iceland",
   "metadata": {},
   "outputs": [
    {
     "name": "stdout",
     "output_type": "stream",
     "text": [
      "COMPONENT Source = Source_simple\n",
      "  \u001b[1myheight\u001b[0m = \u001b[1m\u001b[92m0.1\u001b[0m\u001b[0m [m]\n",
      "  \u001b[1mxwidth\u001b[0m = \u001b[1m\u001b[92m0.1\u001b[0m\u001b[0m [m]\n",
      "  \u001b[1mdist\u001b[0m = \u001b[1m\u001b[92m2\u001b[0m\u001b[0m [m]\n",
      "  \u001b[1mfocus_xw\u001b[0m = \u001b[1m\u001b[92m0.03\u001b[0m\u001b[0m [m]\n",
      "  \u001b[1mfocus_yh\u001b[0m = \u001b[1m\u001b[92m0.03\u001b[0m\u001b[0m [m]\n",
      "  \u001b[1mE0\u001b[0m = \u001b[1m\u001b[92menergy\u001b[0m\u001b[0m [meV]\n",
      "  \u001b[1mdE\u001b[0m = \u001b[1m\u001b[92m0.1*energy\u001b[0m\u001b[0m [meV]\n",
      "AT [0, 0, 0] ABSOLUTE\n"
     ]
    }
   ],
   "source": [
    "print(source) # Python print on a component object, here the source"
   ]
  },
  {
   "cell_type": "code",
   "execution_count": 9,
   "id": "manual-application",
   "metadata": {},
   "outputs": [
    {
     "name": "stdout",
     "output_type": "stream",
     "text": [
      " ___ Help Source_simple _____________________________________________________________\n",
      "|\u001b[1moptional parameter\u001b[0m|\u001b[1m\u001b[4mrequired parameter\u001b[0m\u001b[0m|\u001b[1m\u001b[94mdefault value\u001b[0m\u001b[0m|\u001b[1m\u001b[92muser specified value\u001b[0m\u001b[0m|\n",
      "\u001b[1mradius\u001b[0m = \u001b[1m\u001b[94m0.1\u001b[0m\u001b[0m [m] // Radius of circle in (x,y,0) plane where neutrons are \n",
      "                    generated. \n",
      "\u001b[1myheight\u001b[0m = \u001b[1m\u001b[92m0.1\u001b[0m\u001b[0m [m] // Height of rectangle in (x,y,0) plane where neutrons are \n",
      "                     generated. \n",
      "\u001b[1mxwidth\u001b[0m = \u001b[1m\u001b[92m0.1\u001b[0m\u001b[0m [m] // Width of rectangle in (x,y,0) plane where neutrons are \n",
      "                    generated. \n",
      "\u001b[1mdist\u001b[0m = \u001b[1m\u001b[92m2\u001b[0m\u001b[0m [m] // Distance to target along z axis.\n",
      "\u001b[1mfocus_xw\u001b[0m = \u001b[1m\u001b[92m0.03\u001b[0m\u001b[0m [m] // Width of target\n",
      "\u001b[1mfocus_yh\u001b[0m = \u001b[1m\u001b[92m0.03\u001b[0m\u001b[0m [m] // Height of target\n",
      "\u001b[1mE0\u001b[0m = \u001b[1m\u001b[92menergy\u001b[0m\u001b[0m [meV] // Mean energy of neutrons.\n",
      "\u001b[1mdE\u001b[0m = \u001b[1m\u001b[92m0.1*energy\u001b[0m\u001b[0m [meV] // Energy half spread of neutrons (flat or gaussian \n",
      "                         sigma). \n",
      "\u001b[1mlambda0\u001b[0m = \u001b[1m\u001b[94m0.0\u001b[0m\u001b[0m [AA] // Mean wavelength of neutrons.\n",
      "\u001b[1mdlambda\u001b[0m = \u001b[1m\u001b[94m0.0\u001b[0m\u001b[0m [AA] // Wavelength half spread of neutrons.\n",
      "\u001b[1mflux\u001b[0m = \u001b[1m\u001b[94m1.0\u001b[0m\u001b[0m [1/(s*cm**2*st*energy unit)] // flux per energy unit, Angs or meV if \n",
      "                                           flux=0, the source emits 1 in 4*PI whole \n",
      "                                           space. \n",
      "\u001b[1mgauss\u001b[0m = \u001b[1m\u001b[94m0.0\u001b[0m\u001b[0m [1] // Gaussian (1) or Flat (0) energy/wavelength distribution\n",
      "\u001b[1mtarget_index\u001b[0m = \u001b[1m\u001b[94m1\u001b[0m\u001b[0m [1] // relative index of component to focus at, e.g. next is \n",
      "                        +1 this is used to compute 'dist' automatically. \n",
      "-------------------------------------------------------------------------------------\n"
     ]
    }
   ],
   "source": [
    "source.show_parameters() # show_parameters method on component object"
   ]
  },
  {
   "cell_type": "code",
   "execution_count": 10,
   "id": "oriental-parking",
   "metadata": {},
   "outputs": [],
   "source": [
    "# Try more help calls"
   ]
  },
  {
   "cell_type": "markdown",
   "id": "mineral-vinyl",
   "metadata": {},
   "source": [
    "### Question 4\n",
    "What information does the *show_parameters* method on the instrument object produce?\n",
    "- A: Show how to add parameters to the instrument\n",
    "- B: Show the component parameters with their current and default values\n",
    "- C: Show available McStas parameter types\n",
    "- D: Show the current instrument input parameters along with value and comment"
   ]
  },
  {
   "cell_type": "code",
   "execution_count": 11,
   "id": "absent-warrant",
   "metadata": {},
   "outputs": [],
   "source": [
    "# Use the show_parameters method on the instrument object"
   ]
  },
  {
   "cell_type": "code",
   "execution_count": 12,
   "id": "identical-smell",
   "metadata": {},
   "outputs": [
    {
     "name": "stdout",
     "output_type": "stream",
     "text": [
      "\u001b[1m\u001b[92mCorrect!\u001b[0m\u001b[0m\n"
     ]
    }
   ],
   "source": [
    "quiz.question_4(\"D\")"
   ]
  },
  {
   "cell_type": "markdown",
   "id": "transparent-console",
   "metadata": {},
   "source": [
    "### Question 5\n",
    "How could you check the unit of a component parameter?\n",
    "- A: Print the component\n",
    "- B: Use *show_parameters* on a component object \n",
    "- C: Use the get_component() method on the instrument\n",
    "- D: Use component_help on the instrument with the component type name"
   ]
  },
  {
   "cell_type": "code",
   "execution_count": 13,
   "id": "adjustable-enhancement",
   "metadata": {},
   "outputs": [
    {
     "name": "stdout",
     "output_type": "stream",
     "text": [
      "\u001b[1m\u001b[92mCorrect!\u001b[0m\u001b[0m\n",
      "That would work if the parameter of interest has been specified.\n",
      "\u001b[1m\u001b[92mCorrect!\u001b[0m\u001b[0m\n",
      "This is the best option, it shows all available parameters and their units.\n",
      "\u001b[1m\u001b[92mCorrect!\u001b[0m\u001b[0m\n",
      "This would work and be the preferred option if you don't have a component object\n",
      "of that type.\n"
     ]
    }
   ],
   "source": [
    "quiz.question_5([\"A\", \"B\", \"D\"])"
   ]
  },
  {
   "cell_type": "markdown",
   "id": "novel-telephone",
   "metadata": {},
   "source": [
    "## Write McStasScript code\n",
    "Now that you have familiarized yourself a bit with McStasScript, it is time to try use it. The questions will guide you through building and running your first McStasScript instrument."
   ]
  },
  {
   "cell_type": "code",
   "execution_count": 14,
   "id": "fifteen-steering",
   "metadata": {},
   "outputs": [],
   "source": [
    "del instrument, source, guide, monitor"
   ]
  },
  {
   "cell_type": "markdown",
   "id": "optional-framework",
   "metadata": {},
   "source": [
    "### Question 6\n",
    "Provide a McStas instrument object, name it \"my_instrument\"."
   ]
  },
  {
   "cell_type": "code",
   "execution_count": 15,
   "id": "entertaining-halifax",
   "metadata": {},
   "outputs": [
    {
     "name": "stdout",
     "output_type": "stream",
     "text": [
      "\u001b[1m\u001b[92mCorrect!\u001b[0m\u001b[0m\n",
      "The object is of the right type and its properties are as expected.\n"
     ]
    }
   ],
   "source": [
    "# your code\n",
    "instrument = ms.McStas_instr(\"my_instrument\")\n",
    "\n",
    "quiz.question_6(instrument)"
   ]
  },
  {
   "cell_type": "markdown",
   "id": "crucial-voice",
   "metadata": {},
   "source": [
    "### Question 7\n",
    "Add a 'Source_div' component to your instrument. Set the parameters as follows:\n",
    "- focus_aw and focus_ah to 1.0 deg\n",
    "- lambda0 to 1.2 Å\n",
    "- dlambdA to 0.1 Å\n",
    "- xwidth and yheight to 3.5 cm\n",
    "\n",
    "Provide the updated instrument object as the answer."
   ]
  },
  {
   "cell_type": "code",
   "execution_count": 16,
   "id": "surprised-section",
   "metadata": {},
   "outputs": [],
   "source": [
    "# your code\n",
    "source = instrument.add_component(\"source\", \"Source_div\")\n",
    "source.set_parameters(focus_aw=1.0, focus_ah=1.0,\n",
    "                      lambda0=1.2, dlambda=0.1,\n",
    "                      xwidth=0.035, yheight=0.035)"
   ]
  },
  {
   "cell_type": "code",
   "execution_count": 17,
   "id": "lesser-pastor",
   "metadata": {},
   "outputs": [
    {
     "name": "stdout",
     "output_type": "stream",
     "text": [
      "\u001b[1m\u001b[92mCorrect!\u001b[0m\u001b[0m\n",
      "The Source_div source was found with the right parameters.\n"
     ]
    }
   ],
   "source": [
    "quiz.question_7(instrument)"
   ]
  },
  {
   "cell_type": "markdown",
   "id": "parallel-angel",
   "metadata": {},
   "source": [
    "### Question 8\n",
    "Update your instrument to include a PowderN sample 1.0 m after the source. Use the source as the relative. The sample should have the following properties:\n",
    "- radius of 0.75 cm\n",
    "- yheight of 3.00 cm\n",
    "- reflections datafile Y2O3.laz"
   ]
  },
  {
   "cell_type": "code",
   "execution_count": 18,
   "id": "exempt-cursor",
   "metadata": {},
   "outputs": [],
   "source": [
    "# your code\n",
    "sample = instrument.add_component(\"sample\", \"PowderN\")\n",
    "sample.set_parameters(radius=7.5E-3, yheight=3.0E-2, reflections='\"Y2O3.laz\"')\n",
    "sample.set_AT([0, 0, 1], RELATIVE=source)"
   ]
  },
  {
   "cell_type": "code",
   "execution_count": 19,
   "id": "understanding-leather",
   "metadata": {},
   "outputs": [
    {
     "name": "stdout",
     "output_type": "stream",
     "text": [
      "\u001b[1m\u001b[92mCorrect!\u001b[0m\u001b[0m\n",
      "The powderN component was found with the right parameters and position.\n"
     ]
    }
   ],
   "source": [
    "quiz.question_8(instrument)"
   ]
  },
  {
   "cell_type": "markdown",
   "id": "collaborative-course",
   "metadata": {},
   "source": [
    "### Question 9\n",
    "Place a PSD monitor relative to the sample, 40 cm in the beam direction. It should have the following properties:\n",
    "- width and height of 50 cm\n",
    "- the filename psd.dat\n",
    "- set restore_neutron to 1"
   ]
  },
  {
   "cell_type": "code",
   "execution_count": 20,
   "id": "retained-festival",
   "metadata": {},
   "outputs": [],
   "source": [
    "# your code\n",
    "monitor = instrument.add_component(\"PSD\", \"PSD_monitor\")\n",
    "monitor.set_AT(0.4, RELATIVE=sample)\n",
    "monitor.set_parameters(xwidth=0.5, yheight=0.5, filename='\"psd.dat\"', restore_neutron=1)"
   ]
  },
  {
   "cell_type": "code",
   "execution_count": 21,
   "id": "short-shepherd",
   "metadata": {},
   "outputs": [
    {
     "name": "stdout",
     "output_type": "stream",
     "text": [
      "\u001b[1m\u001b[92mCorrect!\u001b[0m\u001b[0m\n",
      "The PSD_monitor component was found with the right parameters and position.\n"
     ]
    }
   ],
   "source": [
    "quiz.question_9(instrument)"
   ]
  },
  {
   "cell_type": "markdown",
   "id": "wooden-louisville",
   "metadata": {},
   "source": [
    "### Running the simulation\n",
    "The instrument you have built is now ready to produce some data. The below code runs the instrument, assuming you have called your instrument object *instrument*, otherwise uncomment the first line and provide your own instrument object.\n",
    "\n",
    "The *settings* method is used to set settings such as ncount, mpi, foldername and similar.\n",
    "\n",
    "The *backengine* method performs the simulation and returns a list of McStasData objects corresponding the the McStas output."
   ]
  },
  {
   "cell_type": "code",
   "execution_count": 22,
   "id": "imperial-washington",
   "metadata": {
    "scrolled": false
   },
   "outputs": [
    {
     "name": "stdout",
     "output_type": "stream",
     "text": [
      "INFO: Using directory: \"/Users/madsbertelsen/PaNOSC/McStasScript/github/McStasScript-notebooks/my_instrument_data_3\"\n",
      "INFO: Regenerating c-file: my_instrument.c\n",
      "CFLAGS=\n",
      "INFO: Recompiling: ./my_instrument.out\n",
      "mccode-r.c:2837:3: warning: expression result unused [-Wunused-value]\n",
      "  *t0;\n",
      "  ^~~\n",
      "1 warning generated.\n",
      "INFO: ===\n",
      "Warning: 577152 events were removed in Component[3] PSD=PSD_monitor()\n",
      "         (negative time, miss next components, rounding errors, Nan, Inf).\n",
      "INFO: Placing instr file copy my_instrument.instr in dataset /Users/madsbertelsen/PaNOSC/McStasScript/github/McStasScript-notebooks/my_instrument_data_3\n",
      "\n",
      "Instrument parameters for my_instrument (my_instrument.instr)\n",
      "Opening input file '/Applications/McStas-2.7.1.app/Contents/Resources/mcstas/2.7.1//data/Y2O3.laz' (Table_Read_Offset)\n",
      "Table from file 'Y2O3.laz' (block 1) is 871 x 18 (x=2:21), constant step. interpolation: linear\n",
      "  '# TITLE *-Y2O3-[IA3-] Baldinozzi, G.;Berar, J.F.;Calvarin, G.[1998];# CELL  ...'\n",
      "PowderN: sample: Reading 871 rows from Y2O3.laz\n",
      "PowderN: sample: Read 871 reflections from file 'Y2O3.laz'\n",
      "PowderN: sample: Vc=1192.3 [Angs] sigma_abs=40.96 [barn] sigma_inc=4.832 [barn] reflections=Y2O3.laz\n",
      "Detector: PSD_I=0.000675889 PSD_ERR=6.68814e-07 PSD_N=2.1143e+06 \"psd.dat\"\n",
      "PowderN: sample: Info: you may highly improve the computation efficiency by using\n",
      "    SPLIT 494 COMPONENT sample=PowderN(...)\n",
      "  in the instrument description my_instrument.instr.\n",
      "loading system configuration\n",
      "\n"
     ]
    }
   ],
   "source": [
    "#instrument = my_instrument_object\n",
    "\n",
    "instrument.settings(ncount=3E6)\n",
    "data = instrument.backengine()"
   ]
  },
  {
   "cell_type": "markdown",
   "id": "meaningful-circular",
   "metadata": {},
   "source": [
    "### Plotting the data\n",
    "The Python print function provides some information on the included data, but it can of course be plotted easily with *make_plot* or *make_sub_plot* as below. We use a log scale to show the powder rings."
   ]
  },
  {
   "cell_type": "code",
   "execution_count": 23,
   "id": "native-monthly",
   "metadata": {},
   "outputs": [
    {
     "name": "stdout",
     "output_type": "stream",
     "text": [
      "[\n",
      "McStasData: PSD type: 2D  I:0.000675889 E:6.68814e-07 N:2.1143e+06]\n"
     ]
    }
   ],
   "source": [
    "print(data)"
   ]
  },
  {
   "cell_type": "code",
   "execution_count": 24,
   "id": "drawn-cache",
   "metadata": {},
   "outputs": [
    {
     "name": "stdout",
     "output_type": "stream",
     "text": [
      "Plotting data with name PSD\n"
     ]
    },
    {
     "data": {
      "image/png": "[encoded data removed]",
      "text/plain": [
       "<Figure size 936x504 with 2 Axes>"
      ]
     },
     "metadata": {
      "needs_background": "light"
     },
     "output_type": "display_data"
    }
   ],
   "source": [
    "ms.make_plot(data, log=True)"
   ]
  },
  {
   "cell_type": "markdown",
   "id": "turned-month",
   "metadata": {},
   "source": [
    "### Question 10\n",
    "It is time to work with instrument parameters. These may not seem as useful in McStasScript as when working with mcgui or in the commandline, but they still have a number of advantages when used well.\n",
    "\n",
    "Modify your source object to use a parameter called \"wavelength\" for the center of the wavelength distribution and \"wavelength_half_spread\" for the half wavelength spread. These correspond directly to parameters in *Source_div*.\n",
    "\n",
    "Even though the component object is modified, the instrument file can still be given as the answer as it knows about all its components and their properties."
   ]
  },
  {
   "cell_type": "code",
   "execution_count": 25,
   "id": "random-dubai",
   "metadata": {},
   "outputs": [],
   "source": [
    "# your code\n",
    "source.lambda0 = instrument.add_parameter(\"wavelength\", value=1.2, comment=\"Wavelength in [Å]\")\n",
    "source.dlambda = instrument.add_parameter(\"wavelength_half_spread\", value=0.1, comment=\"Half wavelength spread in [Å]\")"
   ]
  },
  {
   "cell_type": "code",
   "execution_count": 26,
   "id": "steady-mumbai",
   "metadata": {},
   "outputs": [
    {
     "name": "stdout",
     "output_type": "stream",
     "text": [
      "\u001b[1m\u001b[92mCorrect!\u001b[0m\u001b[0m\n",
      "All parameters were correctly defined and assigned!\n"
     ]
    }
   ],
   "source": [
    "quiz.question_10(instrument)"
   ]
  },
  {
   "cell_type": "markdown",
   "id": "german-employment",
   "metadata": {},
   "source": [
    "### Running an instrument with parameters\n",
    "The instrument parameters can be displayed with *show_parameters* and set with *set_parameters* on the instrument. Running the instrument with the *backengine* method will use the current parameter values. "
   ]
  },
  {
   "cell_type": "code",
   "execution_count": 27,
   "id": "plain-standing",
   "metadata": {},
   "outputs": [
    {
     "name": "stdout",
     "output_type": "stream",
     "text": [
      " wavelength              = 1.2   // Wavelength in [Å]\n",
      " wavelength_half_spread  = 0.05  // Half wavelength spread in [Å]\n"
     ]
    }
   ],
   "source": [
    "instrument.set_parameters(wavelength_half_spread=0.05)\n",
    "instrument.show_parameters()"
   ]
  },
  {
   "cell_type": "markdown",
   "id": "internal-explosion",
   "metadata": {},
   "source": [
    "McStasScript also contains a helpful widget system for running the simulation, it is shown below for your instrument. A box should appear with the text \"No data available yet\", if this doesn't happen rerun the cell. You can run the simulation with the run button, and will probably need to use the log option in the sidebar to see the results clearly."
   ]
  },
  {
   "cell_type": "code",
   "execution_count": 28,
   "id": "radio-bankruptcy",
   "metadata": {},
   "outputs": [
    {
     "data": {
      "application/vnd.jupyter.widget-view+json": {
       "model_id": "c20e65f094b04b43b64de91cd80882bc",
       "version_major": 2,
       "version_minor": 0
      },
      "text/plain": [
       "VBox(children=(VBox(children=(HBox(children=(Label(value='wavelength', layout=Layout(height='32px', width='15%…"
      ]
     },
     "metadata": {},
     "output_type": "display_data"
    }
   ],
   "source": [
    "%matplotlib widget\n",
    "import mcstasscript.jb_interface as ms_widget\n",
    "ms_widget.show(instrument)"
   ]
  },
  {
   "cell_type": "markdown",
   "id": "everyday-regular",
   "metadata": {},
   "source": [
    "### Visualizing the instrument\n",
    "It is also possible to see the 3D model of the instrument like in mcdisplay. This will also use the current values of the instrument parameters."
   ]
  },
  {
   "cell_type": "code",
   "execution_count": 29,
   "id": "stretch-major",
   "metadata": {},
   "outputs": [
    {
     "data": {
      "text/html": [
       "\n",
       "        <iframe\n",
       "            width=\"800\"\n",
       "            height=\"450\"\n",
       "            src=\"./my_instrument_mcdisplay_0/index.html\"\n",
       "            frameborder=\"0\"\n",
       "            allowfullscreen\n",
       "        ></iframe>\n",
       "        "
      ],
      "text/plain": [
       "<IPython.lib.display.IFrame at 0x7fc6b876f220>"
      ]
     },
     "execution_count": 29,
     "metadata": {},
     "output_type": "execute_result"
    }
   ],
   "source": [
    "instrument.show_instrument()"
   ]
  },
  {
   "cell_type": "code",
   "execution_count": null,
   "id": "stainless-assessment",
   "metadata": {},
   "outputs": [],
   "source": []
  }
 ],
 "metadata": {
  "kernelspec": {
   "display_name": "Python 3",
   "language": "python",
   "name": "python3"
  },
  "language_info": {
   "codemirror_mode": {
    "name": "ipython",
    "version": 3
   },
   "file_extension": ".py",
   "mimetype": "text/x-python",
   "name": "python",
   "nbconvert_exporter": "python",
   "pygments_lexer": "ipython3",
   "version": "3.8.8"
  }
 },
 "nbformat": 4,
 "nbformat_minor": 5
}
